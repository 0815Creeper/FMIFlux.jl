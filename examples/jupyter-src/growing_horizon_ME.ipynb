{
 "cells": [
  {
   "attachments": {},
   "cell_type": "markdown",
   "metadata": {},
   "source": [
    "# ME-NeuralFMUs using Growing Horizon\n",
    "Tutorial by Johannes Stoljar, Tobias Thummerer\n",
    "\n",
    "*Last edit: 08.11.2023*\n",
    "\n",
    "## LICENSE\n"
   ]
  },
  {
   "cell_type": "code",
   "execution_count": 1,
   "metadata": {
    "execution": {
     "iopub.execute_input": "2024-04-19T11:38:23.843000Z",
     "iopub.status.busy": "2024-04-19T11:38:23.374000Z",
     "iopub.status.idle": "2024-04-19T11:38:24.077000Z",
     "shell.execute_reply": "2024-04-19T11:38:23.999000Z"
    }
   },
   "outputs": [],
   "source": [
    "# Copyright (c) 2021 Tobias Thummerer, Lars Mikelsons, Johannes Stoljar\n",
    "# Licensed under the MIT license. \n",
    "# See LICENSE (https://github.com/thummeto/FMIFlux.jl/blob/main/LICENSE) file in the project root for details."
   ]
  },
  {
   "attachments": {},
   "cell_type": "markdown",
   "metadata": {},
   "source": [
    "## Motivation\n",
    "The Julia Package *FMIFlux.jl* is motivated by the application of hybrid modeling. This package enables the user to integrate his simulation model between neural networks (NeuralFMU). For this, the simulation model must be exported as FMU (functional mock-up unit), which corresponds to a widely used standard. The big advantage of hybrid modeling with artificial neural networks is, that effects that are difficult to model (because they might be unknown) can be easily learned by the neural networks. For this purpose, the NeuralFMU is trained with measurement data containing the not modeled physical effect. The final product is a simulation model including the originally not modeled effects. Another big advantage of the NeuralFMU is that it works with little data, because the FMU already contains the characteristic functionality of the simulation and only the missing effects are added.\n",
    "\n",
    "NeuralFMUs do not need to be as easy as in this example. Basically a NeuralFMU can combine different ANN topologies that manipulate any FMU-input (system state, system inputs, time) and any FMU-output (system state derivative, system outputs, other system variables). However, for this example a NeuralFMU topology as shown in the following picture is used.\n",
    "\n",
    "![NeuralFMU.svg](https://github.com/thummeto/FMIFlux.jl/blob/main/docs/src/examples/img/NeuralFMU.svg?raw=true)\n",
    "\n",
    "*NeuralFMU (ME) from* [[1]](#Source).\n",
    "\n",
    "## Introduction to the example\n",
    "In this example, simplified modeling of a one-dimensional spring pendulum (without friction) is compared to a model of the same system that includes a nonlinear friction model. The FMU with the simplified model will be named *simpleFMU* in the following and the model with the friction will be named *fricFMU*. At the beginning, the actual state of both simulations is shown, whereby clear deviations can be seen in the graphs. The *fricFMU* serves as a reference graph. The *simpleFMU* is then integrated into a NeuralFMU architecture and a training of the entire network is performed. After the training the final state is compared again to the *fircFMU*. It can be clearly seen that by using the NeuralFMU, learning of the friction process has taken place.  \n",
    "\n",
    "\n",
    "## Target group\n",
    "The example is primarily intended for users who work in the field of first principle and/or hybrid modeling and are further interested in hybrid model building. The example wants to show how simple it is to combine FMUs with machine learning and to illustrate the advantages of this approach.\n",
    "\n",
    "\n",
    "## Other formats\n",
    "Besides, this [Jupyter Notebook](https://github.com/thummeto/FMIFlux.jl/blob/examples/examples/src/growing_horizon_ME.ipynb) there is also a [Julia file](https://github.com/thummeto/FMIFlux.jl/blob/examples/examples/src/growing_horizon_ME.jl) with the same name, which contains only the code cells and for the documentation there is a [Markdown file](https://github.com/thummeto/FMIFlux.jl/blob/examples/examples/src/growing_horizon_ME.md) corresponding to the notebook.  \n",
    "\n",
    "\n",
    "## Getting started\n",
    "\n",
    "### Installation prerequisites\n",
    "|     | Description                       | Command                   | \n",
    "|:----|:----------------------------------|:--------------------------|\n",
    "| 1.  | Enter Package Manager via         | ]                         |\n",
    "| 2.  | Install FMI via                   | add FMI                   | \n",
    "| 3.  | Install FMIFlux via               | add FMIFlux               | \n",
    "| 4.  | Install FMIZoo via                | add FMIZoo                |  \n",
    "| 5.  | Install Plots via                 | add Plots                 | \n",
    "| 6.  | Install Random via                | add Random                | "
   ]
  },
  {
   "cell_type": "markdown",
   "metadata": {},
   "source": [
    "## Code section\n",
    "\n",
    "To run the example, the previously installed packages must be included. "
   ]
  },
  {
   "cell_type": "code",
   "execution_count": 2,
   "metadata": {
    "execution": {
     "iopub.execute_input": "2024-04-19T11:38:24.077000Z",
     "iopub.status.busy": "2024-04-19T11:38:24.077000Z",
     "iopub.status.idle": "2024-04-19T11:40:35.784000Z",
     "shell.execute_reply": "2024-04-19T11:40:35.784000Z"
    },
    "scrolled": false
   },
   "outputs": [
    {
     "name": "stderr",
     "output_type": "stream",
     "text": [
      "\u001b[33m\u001b[1m┌ \u001b[22m\u001b[39m\u001b[33m\u001b[1mWarning: \u001b[22m\u001b[39mError requiring `Enzyme` from `LinearSolve`\n",
      "\u001b[33m\u001b[1m│ \u001b[22m\u001b[39m  exception =\n",
      "\u001b[33m\u001b[1m│ \u001b[22m\u001b[39m   LoadError: ArgumentError: Package LinearSolve does not have Enzyme in its dependencies:\n",
      "\u001b[33m\u001b[1m│ \u001b[22m\u001b[39m   - You may have a partially installed environment. Try `Pkg.instantiate()`\n",
      "\u001b[33m\u001b[1m│ \u001b[22m\u001b[39m     to ensure all packages in the environment are installed.\n",
      "\u001b[33m\u001b[1m│ \u001b[22m\u001b[39m   - Or, if you have LinearSolve checked out for development and have\n",
      "\u001b[33m\u001b[1m│ \u001b[22m\u001b[39m     added Enzyme as a dependency but haven't updated your primary\n",
      "\u001b[33m\u001b[1m│ \u001b[22m\u001b[39m     environment's manifest file, try `Pkg.resolve()`.\n",
      "\u001b[33m\u001b[1m│ \u001b[22m\u001b[39m   - Otherwise you may need to report an issue with LinearSolve\n",
      "\u001b[33m\u001b[1m│ \u001b[22m\u001b[39m   Stacktrace:\n",
      "\u001b[33m\u001b[1m│ \u001b[22m\u001b[39m     [1] \u001b[0m\u001b[1mmacro expansion\u001b[22m\n",
      "\u001b[33m\u001b[1m│ \u001b[22m\u001b[39m   \u001b[90m    @ \u001b[39m\u001b[90m.\\\u001b[39m\u001b[90m\u001b[4mloading.jl:1167\u001b[24m\u001b[39m\u001b[90m [inlined]\u001b[39m\n",
      "\u001b[33m\u001b[1m│ \u001b[22m\u001b[39m     [2] \u001b[0m\u001b[1mmacro expansion\u001b[22m\n",
      "\u001b[33m\u001b[1m│ \u001b[22m\u001b[39m   \u001b[90m    @ \u001b[39m\u001b[90m.\\\u001b[39m\u001b[90m\u001b[4mlock.jl:223\u001b[24m\u001b[39m\u001b[90m [inlined]\u001b[39m\n",
      "\u001b[33m\u001b[1m│ \u001b[22m\u001b[39m     [3] \u001b[0m\u001b[1mrequire\u001b[22m\u001b[0m\u001b[1m(\u001b[22m\u001b[90minto\u001b[39m::\u001b[0mModule, \u001b[90mmod\u001b[39m::\u001b[0mSymbol\u001b[0m\u001b[1m)\u001b[22m\n",
      "\u001b[33m\u001b[1m│ \u001b[22m\u001b[39m   \u001b[90m    @ \u001b[39m\u001b[90mBase\u001b[39m \u001b[90m.\\\u001b[39m\u001b[90m\u001b[4mloading.jl:1144\u001b[24m\u001b[39m\n",
      "\u001b[33m\u001b[1m│ \u001b[22m\u001b[39m     [4] \u001b[0m\u001b[1minclude\u001b[22m\u001b[0m\u001b[1m(\u001b[22m\u001b[90mmod\u001b[39m::\u001b[0mModule, \u001b[90m_path\u001b[39m::\u001b[0mString\u001b[0m\u001b[1m)\u001b[22m\n",
      "\u001b[33m\u001b[1m│ \u001b[22m\u001b[39m   \u001b[90m    @ \u001b[39m\u001b[90mBase\u001b[39m \u001b[90m.\\\u001b[39m\u001b[90m\u001b[4mBase.jl:419\u001b[24m\u001b[39m\n",
      "\u001b[33m\u001b[1m│ \u001b[22m\u001b[39m     [5] \u001b[0m\u001b[1minclude\u001b[22m\u001b[0m\u001b[1m(\u001b[22m\u001b[90mx\u001b[39m::\u001b[0mString\u001b[0m\u001b[1m)\u001b[22m\n",
      "\u001b[33m\u001b[1m│ \u001b[22m\u001b[39m   \u001b[90m    @ \u001b[39m\u001b[35mLinearSolve\u001b[39m \u001b[90mC:\\Users\\runneradmin\\.julia\\packages\\LinearSolve\\qCLK7\\src\\\u001b[39m\u001b[90m\u001b[4mLinearSolve.jl:1\u001b[24m\u001b[39m\n",
      "\u001b[33m\u001b[1m│ \u001b[22m\u001b[39m     [6] \u001b[0m\u001b[1mmacro expansion\u001b[22m\n",
      "\u001b[33m\u001b[1m│ \u001b[22m\u001b[39m   \u001b[90m    @ \u001b[39m\u001b[90mC:\\Users\\runneradmin\\.julia\\packages\\Requires\\Z8rfN\\src\\\u001b[39m\u001b[90m\u001b[4mRequires.jl:40\u001b[24m\u001b[39m\u001b[90m [inlined]\u001b[39m\n",
      "\u001b[33m\u001b[1m│ \u001b[22m\u001b[39m     [7] top-level scope\n",
      "\u001b[33m\u001b[1m│ \u001b[22m\u001b[39m   \u001b[90m    @ \u001b[39m\u001b[90mC:\\Users\\runneradmin\\.julia\\packages\\LinearSolve\\qCLK7\\src\\\u001b[39m\u001b[90m\u001b[4minit.jl:16\u001b[24m\u001b[39m\n",
      "\u001b[33m\u001b[1m│ \u001b[22m\u001b[39m     [8] \u001b[0m\u001b[1meval\u001b[22m\n",
      "\u001b[33m\u001b[1m│ \u001b[22m\u001b[39m   \u001b[90m    @ \u001b[39m\u001b[90m.\\\u001b[39m\u001b[90m\u001b[4mboot.jl:368\u001b[24m\u001b[39m\u001b[90m [inlined]\u001b[39m\n",
      "\u001b[33m\u001b[1m│ \u001b[22m\u001b[39m     [9] \u001b[0m\u001b[1meval\u001b[22m\n",
      "\u001b[33m\u001b[1m│ \u001b[22m\u001b[39m   \u001b[90m    @ \u001b[39m\u001b[90mC:\\Users\\runneradmin\\.julia\\packages\\LinearSolve\\qCLK7\\src\\\u001b[39m\u001b[90m\u001b[4mLinearSolve.jl:1\u001b[24m\u001b[39m\u001b[90m [inlined]\u001b[39m\n",
      "\u001b[33m\u001b[1m│ \u001b[22m\u001b[39m    [10] \u001b[0m\u001b[1m(::LinearSolve.var\"#88#97\")\u001b[22m\u001b[0m\u001b[1m(\u001b[22m\u001b[0m\u001b[1m)\u001b[22m\n",
      "\u001b[33m\u001b[1m│ \u001b[22m\u001b[39m   \u001b[90m    @ \u001b[39m\u001b[35mLinearSolve\u001b[39m \u001b[90mC:\\Users\\runneradmin\\.julia\\packages\\Requires\\Z8rfN\\src\\\u001b[39m\u001b[90m\u001b[4mrequire.jl:101\u001b[24m\u001b[39m\n",
      "\u001b[33m\u001b[1m│ \u001b[22m\u001b[39m    [11] \u001b[0m\u001b[1mmacro expansion\u001b[22m\n",
      "\u001b[33m\u001b[1m│ \u001b[22m\u001b[39m   \u001b[90m    @ \u001b[39m\u001b[90m\u001b[4mtiming.jl:382\u001b[24m\u001b[39m\u001b[90m [inlined]\u001b[39m\n",
      "\u001b[33m\u001b[1m│ \u001b[22m\u001b[39m    [12] \u001b[0m\u001b[1merr\u001b[22m\u001b[0m\u001b[1m(\u001b[22m\u001b[90mf\u001b[39m::\u001b[0mAny, \u001b[90mlistener\u001b[39m::\u001b[0mModule, \u001b[90mmodname\u001b[39m::\u001b[0mString, \u001b[90mfile\u001b[39m::\u001b[0mString, \u001b[90mline\u001b[39m::\u001b[0mAny\u001b[0m\u001b[1m)\u001b[22m\n",
      "\u001b[33m\u001b[1m│ \u001b[22m\u001b[39m   \u001b[90m    @ \u001b[39m\u001b[36mRequires\u001b[39m \u001b[90mC:\\Users\\runneradmin\\.julia\\packages\\Requires\\Z8rfN\\src\\\u001b[39m\u001b[90m\u001b[4mrequire.jl:47\u001b[24m\u001b[39m\n",
      "\u001b[33m\u001b[1m│ \u001b[22m\u001b[39m    [13] \u001b[0m\u001b[1m(::LinearSolve.var\"#87#96\")\u001b[22m\u001b[0m\u001b[1m(\u001b[22m\u001b[0m\u001b[1m)\u001b[22m\n",
      "\u001b[33m\u001b[1m│ \u001b[22m\u001b[39m   \u001b[90m    @ \u001b[39m\u001b[35mLinearSolve\u001b[39m \u001b[90mC:\\Users\\runneradmin\\.julia\\packages\\Requires\\Z8rfN\\src\\\u001b[39m\u001b[90m\u001b[4mrequire.jl:100\u001b[24m\u001b[39m\n",
      "\u001b[33m\u001b[1m│ \u001b[22m\u001b[39m    [14] \u001b[0m\u001b[1mwithpath\u001b[22m\u001b[0m\u001b[1m(\u001b[22m\u001b[90mf\u001b[39m::\u001b[0mAny, \u001b[90mpath\u001b[39m::\u001b[0mString\u001b[0m\u001b[1m)\u001b[22m\n",
      "\u001b[33m\u001b[1m│ \u001b[22m\u001b[39m   \u001b[90m    @ \u001b[39m\u001b[36mRequires\u001b[39m \u001b[90mC:\\Users\\runneradmin\\.julia\\packages\\Requires\\Z8rfN\\src\\\u001b[39m\u001b[90m\u001b[4mrequire.jl:37\u001b[24m\u001b[39m\n",
      "\u001b[33m\u001b[1m│ \u001b[22m\u001b[39m    [15] \u001b[0m\u001b[1m(::LinearSolve.var\"#86#95\")\u001b[22m\u001b[0m\u001b[1m(\u001b[22m\u001b[0m\u001b[1m)\u001b[22m\n",
      "\u001b[33m\u001b[1m│ \u001b[22m\u001b[39m   \u001b[90m    @ \u001b[39m\u001b[35mLinearSolve\u001b[39m \u001b[90mC:\\Users\\runneradmin\\.julia\\packages\\Requires\\Z8rfN\\src\\\u001b[39m\u001b[90m\u001b[4mrequire.jl:99\u001b[24m\u001b[39m\n",
      "\u001b[33m\u001b[1m│ \u001b[22m\u001b[39m    [16] \u001b[0m\u001b[1m#invokelatest#2\u001b[22m\n",
      "\u001b[33m\u001b[1m│ \u001b[22m\u001b[39m   \u001b[90m    @ \u001b[39m\u001b[90m.\\\u001b[39m\u001b[90m\u001b[4messentials.jl:729\u001b[24m\u001b[39m\u001b[90m [inlined]\u001b[39m\n",
      "\u001b[33m\u001b[1m│ \u001b[22m\u001b[39m    [17] \u001b[0m\u001b[1minvokelatest\u001b[22m\n",
      "\u001b[33m\u001b[1m│ \u001b[22m\u001b[39m   \u001b[90m    @ \u001b[39m\u001b[90m.\\\u001b[39m\u001b[90m\u001b[4messentials.jl:726\u001b[24m\u001b[39m\u001b[90m [inlined]\u001b[39m\n",
      "\u001b[33m\u001b[1m│ \u001b[22m\u001b[39m    [18] \u001b[0m\u001b[1mforeach\u001b[22m\u001b[0m\u001b[1m(\u001b[22m\u001b[90mf\u001b[39m::\u001b[0mtypeof(Base.invokelatest), \u001b[90mitr\u001b[39m::\u001b[0mVector\u001b[90m{Function}\u001b[39m\u001b[0m\u001b[1m)\u001b[22m\n",
      "\u001b[33m\u001b[1m│ \u001b[22m\u001b[39m   \u001b[90m    @ \u001b[39m\u001b[90mBase\u001b[39m \u001b[90m.\\\u001b[39m\u001b[90m\u001b[4mabstractarray.jl:2774\u001b[24m\u001b[39m\n",
      "\u001b[33m\u001b[1m│ \u001b[22m\u001b[39m    [19] \u001b[0m\u001b[1mloadpkg\u001b[22m\u001b[0m\u001b[1m(\u001b[22m\u001b[90mpkg\u001b[39m::\u001b[0mBase.PkgId\u001b[0m\u001b[1m)\u001b[22m\n",
      "\u001b[33m\u001b[1m│ \u001b[22m\u001b[39m   \u001b[90m    @ \u001b[39m\u001b[36mRequires\u001b[39m \u001b[90mC:\\Users\\runneradmin\\.julia\\packages\\Requires\\Z8rfN\\src\\\u001b[39m\u001b[90m\u001b[4mrequire.jl:27\u001b[24m\u001b[39m\n",
      "\u001b[33m\u001b[1m│ \u001b[22m\u001b[39m    [20] \u001b[0m\u001b[1m#invokelatest#2\u001b[22m\n",
      "\u001b[33m\u001b[1m│ \u001b[22m\u001b[39m   \u001b[90m    @ \u001b[39m\u001b[90m.\\\u001b[39m\u001b[90m\u001b[4messentials.jl:729\u001b[24m\u001b[39m\u001b[90m [inlined]\u001b[39m\n",
      "\u001b[33m\u001b[1m│ \u001b[22m\u001b[39m    [21] \u001b[0m\u001b[1minvokelatest\u001b[22m\n",
      "\u001b[33m\u001b[1m│ \u001b[22m\u001b[39m   \u001b[90m    @ \u001b[39m\u001b[90m.\\\u001b[39m\u001b[90m\u001b[4messentials.jl:726\u001b[24m\u001b[39m\u001b[90m [inlined]\u001b[39m\n",
      "\u001b[33m\u001b[1m│ \u001b[22m\u001b[39m    [22] \u001b[0m\u001b[1mrun_package_callbacks\u001b[22m\u001b[0m\u001b[1m(\u001b[22m\u001b[90mmodkey\u001b[39m::\u001b[0mBase.PkgId\u001b[0m\u001b[1m)\u001b[22m\n",
      "\u001b[33m\u001b[1m│ \u001b[22m\u001b[39m   \u001b[90m    @ \u001b[39m\u001b[90mBase\u001b[39m \u001b[90m.\\\u001b[39m\u001b[90m\u001b[4mloading.jl:869\u001b[24m\u001b[39m\n",
      "\u001b[33m\u001b[1m│ \u001b[22m\u001b[39m    [23] \u001b[0m\u001b[1m_tryrequire_from_serialized\u001b[22m\u001b[0m\u001b[1m(\u001b[22m\u001b[90mmodkey\u001b[39m::\u001b[0mBase.PkgId, \u001b[90mpath\u001b[39m::\u001b[0mString, \u001b[90msourcepath\u001b[39m::\u001b[0mString, \u001b[90mdepmods\u001b[39m::\u001b[0mVector\u001b[90m{Any}\u001b[39m\u001b[0m\u001b[1m)\u001b[22m\n",
      "\u001b[33m\u001b[1m│ \u001b[22m\u001b[39m   \u001b[90m    @ \u001b[39m\u001b[90mBase\u001b[39m \u001b[90m.\\\u001b[39m\u001b[90m\u001b[4mloading.jl:944\u001b[24m\u001b[39m\n",
      "\u001b[33m\u001b[1m│ \u001b[22m\u001b[39m    [24] \u001b[0m\u001b[1m_require_search_from_serialized\u001b[22m\u001b[0m\u001b[1m(\u001b[22m\u001b[90mpkg\u001b[39m::\u001b[0mBase.PkgId, \u001b[90msourcepath\u001b[39m::\u001b[0mString, \u001b[90mbuild_id\u001b[39m::\u001b[0mUInt64\u001b[0m\u001b[1m)\u001b[22m\n",
      "\u001b[33m\u001b[1m│ \u001b[22m\u001b[39m   \u001b[90m    @ \u001b[39m\u001b[90mBase\u001b[39m \u001b[90m.\\\u001b[39m\u001b[90m\u001b[4mloading.jl:1028\u001b[24m\u001b[39m\n",
      "\u001b[33m\u001b[1m│ \u001b[22m\u001b[39m    [25] \u001b[0m\u001b[1m_require\u001b[22m\u001b[0m\u001b[1m(\u001b[22m\u001b[90mpkg\u001b[39m::\u001b[0mBase.PkgId\u001b[0m\u001b[1m)\u001b[22m\n",
      "\u001b[33m\u001b[1m│ \u001b[22m\u001b[39m   \u001b[90m    @ \u001b[39m\u001b[90mBase\u001b[39m \u001b[90m.\\\u001b[39m\u001b[90m\u001b[4mloading.jl:1315\u001b[24m\u001b[39m\n",
      "\u001b[33m\u001b[1m│ \u001b[22m\u001b[39m    [26] \u001b[0m\u001b[1m_require_prelocked\u001b[22m\u001b[0m\u001b[1m(\u001b[22m\u001b[90muuidkey\u001b[39m::\u001b[0mBase.PkgId\u001b[0m\u001b[1m)\u001b[22m\n",
      "\u001b[33m\u001b[1m│ \u001b[22m\u001b[39m   \u001b[90m    @ \u001b[39m\u001b[90mBase\u001b[39m \u001b[90m.\\\u001b[39m\u001b[90m\u001b[4mloading.jl:1200\u001b[24m\u001b[39m\n",
      "\u001b[33m\u001b[1m│ \u001b[22m\u001b[39m    [27] \u001b[0m\u001b[1mmacro expansion\u001b[22m\n",
      "\u001b[33m\u001b[1m│ \u001b[22m\u001b[39m   \u001b[90m    @ \u001b[39m\u001b[90m.\\\u001b[39m\u001b[90m\u001b[4mloading.jl:1180\u001b[24m\u001b[39m\u001b[90m [inlined]\u001b[39m\n",
      "\u001b[33m\u001b[1m│ \u001b[22m\u001b[39m    [28] \u001b[0m\u001b[1mmacro expansion\u001b[22m\n",
      "\u001b[33m\u001b[1m│ \u001b[22m\u001b[39m   \u001b[90m    @ \u001b[39m\u001b[90m.\\\u001b[39m\u001b[90m\u001b[4mlock.jl:223\u001b[24m\u001b[39m\u001b[90m [inlined]\u001b[39m\n",
      "\u001b[33m\u001b[1m│ \u001b[22m\u001b[39m    [29] \u001b[0m\u001b[1mrequire\u001b[22m\u001b[0m\u001b[1m(\u001b[22m\u001b[90minto\u001b[39m::\u001b[0mModule, \u001b[90mmod\u001b[39m::\u001b[0mSymbol\u001b[0m\u001b[1m)\u001b[22m\n",
      "\u001b[33m\u001b[1m│ \u001b[22m\u001b[39m   \u001b[90m    @ \u001b[39m\u001b[90mBase\u001b[39m \u001b[90m.\\\u001b[39m\u001b[90m\u001b[4mloading.jl:1144\u001b[24m\u001b[39m\n",
      "\u001b[33m\u001b[1m│ \u001b[22m\u001b[39m    [30] \u001b[0m\u001b[1meval\u001b[22m\n",
      "\u001b[33m\u001b[1m│ \u001b[22m\u001b[39m   \u001b[90m    @ \u001b[39m\u001b[90m.\\\u001b[39m\u001b[90m\u001b[4mboot.jl:368\u001b[24m\u001b[39m\u001b[90m [inlined]\u001b[39m\n",
      "\u001b[33m\u001b[1m│ \u001b[22m\u001b[39m    [31] \u001b[0m\u001b[1minclude_string\u001b[22m\u001b[0m\u001b[1m(\u001b[22m\u001b[90mmapexpr\u001b[39m::\u001b[0mtypeof(REPL.softscope), \u001b[90mmod\u001b[39m::\u001b[0mModule, \u001b[90mcode\u001b[39m::\u001b[0mString, \u001b[90mfilename\u001b[39m::\u001b[0mString\u001b[0m\u001b[1m)\u001b[22m\n",
      "\u001b[33m\u001b[1m│ \u001b[22m\u001b[39m   \u001b[90m    @ \u001b[39m\u001b[90mBase\u001b[39m \u001b[90m.\\\u001b[39m\u001b[90m\u001b[4mloading.jl:1428\u001b[24m\u001b[39m\n",
      "\u001b[33m\u001b[1m│ \u001b[22m\u001b[39m    [32] \u001b[0m\u001b[1msoftscope_include_string\u001b[22m\u001b[0m\u001b[1m(\u001b[22m\u001b[90mm\u001b[39m::\u001b[0mModule, \u001b[90mcode\u001b[39m::\u001b[0mString, \u001b[90mfilename\u001b[39m::\u001b[0mString\u001b[0m\u001b[1m)\u001b[22m\n",
      "\u001b[33m\u001b[1m│ \u001b[22m\u001b[39m   \u001b[90m    @ \u001b[39m\u001b[32mSoftGlobalScope\u001b[39m \u001b[90mC:\\Users\\runneradmin\\.julia\\packages\\SoftGlobalScope\\u4UzH\\src\\\u001b[39m\u001b[90m\u001b[4mSoftGlobalScope.jl:65\u001b[24m\u001b[39m\n",
      "\u001b[33m\u001b[1m│ \u001b[22m\u001b[39m    [33] \u001b[0m\u001b[1mexecute_request\u001b[22m\u001b[0m\u001b[1m(\u001b[22m\u001b[90msocket\u001b[39m::\u001b[0mZMQ.Socket, \u001b[90mmsg\u001b[39m::\u001b[0mIJulia.Msg\u001b[0m\u001b[1m)\u001b[22m\n",
      "\u001b[33m\u001b[1m│ \u001b[22m\u001b[39m   \u001b[90m    @ \u001b[39m\u001b[33mIJulia\u001b[39m \u001b[90mC:\\Users\\runneradmin\\.julia\\packages\\IJulia\\Vo51o\\src\\\u001b[39m\u001b[90m\u001b[4mexecute_request.jl:67\u001b[24m\u001b[39m\n",
      "\u001b[33m\u001b[1m│ \u001b[22m\u001b[39m    [34] \u001b[0m\u001b[1m#invokelatest#2\u001b[22m\n",
      "\u001b[33m\u001b[1m│ \u001b[22m\u001b[39m   \u001b[90m    @ \u001b[39m\u001b[90m.\\\u001b[39m\u001b[90m\u001b[4messentials.jl:729\u001b[24m\u001b[39m\u001b[90m [inlined]\u001b[39m\n",
      "\u001b[33m\u001b[1m│ \u001b[22m\u001b[39m    [35] \u001b[0m\u001b[1minvokelatest\u001b[22m\n",
      "\u001b[33m\u001b[1m│ \u001b[22m\u001b[39m   \u001b[90m    @ \u001b[39m\u001b[90m.\\\u001b[39m\u001b[90m\u001b[4messentials.jl:726\u001b[24m\u001b[39m\u001b[90m [inlined]\u001b[39m\n",
      "\u001b[33m\u001b[1m│ \u001b[22m\u001b[39m    [36] \u001b[0m\u001b[1meventloop\u001b[22m\u001b[0m\u001b[1m(\u001b[22m\u001b[90msocket\u001b[39m::\u001b[0mZMQ.Socket\u001b[0m\u001b[1m)\u001b[22m\n",
      "\u001b[33m\u001b[1m│ \u001b[22m\u001b[39m   \u001b[90m    @ \u001b[39m\u001b[33mIJulia\u001b[39m \u001b[90mC:\\Users\\runneradmin\\.julia\\packages\\IJulia\\Vo51o\\src\\\u001b[39m\u001b[90m\u001b[4meventloop.jl:8\u001b[24m\u001b[39m\n",
      "\u001b[33m\u001b[1m│ \u001b[22m\u001b[39m    [37] \u001b[0m\u001b[1m(::IJulia.var\"#15#18\")\u001b[22m\u001b[0m\u001b[1m(\u001b[22m\u001b[0m\u001b[1m)\u001b[22m\n",
      "\u001b[33m\u001b[1m│ \u001b[22m\u001b[39m   \u001b[90m    @ \u001b[39m\u001b[33mIJulia\u001b[39m \u001b[90m.\\\u001b[39m\u001b[90m\u001b[4mtask.jl:484\u001b[24m\u001b[39m\n",
      "\u001b[33m\u001b[1m│ \u001b[22m\u001b[39m   in expression starting at C:\\Users\\runneradmin\\.julia\\packages\\LinearSolve\\qCLK7\\ext\\LinearSolveEnzymeExt.jl:1\n",
      "\u001b[33m\u001b[1m└ \u001b[22m\u001b[39m\u001b[90m@ Requires C:\\Users\\runneradmin\\.julia\\packages\\Requires\\Z8rfN\\src\\require.jl:51\u001b[39m\n"
     ]
    }
   ],
   "source": [
    "# imports\n",
    "using FMI\n",
    "using FMI.FMIImport: fmi2StringToValueReference, fmi2ValueReference, fmi2Real\n",
    "using FMIFlux\n",
    "using FMIFlux.Flux\n",
    "using FMIZoo\n",
    "using FMI.DifferentialEquations: Tsit5\n",
    "using Statistics: mean, std\n",
    "using Plots\n",
    "\n",
    "# set seed\n",
    "import Random\n",
    "Random.seed!(1234);"
   ]
  },
  {
   "attachments": {},
   "cell_type": "markdown",
   "metadata": {},
   "source": [
    "After importing the packages, the path to the *Functional Mock-up Units* (FMUs) is set. The FMU is a model exported meeting the *Functional Mock-up Interface* (FMI) Standard. The FMI is a free standard ([fmi-standard.org](http://fmi-standard.org/)) that defines a container and an interface to exchange dynamic models using a combination of XML files, binaries and C code zipped into a single file. \n",
    "\n",
    "The object-orientated structure of the *SpringPendulum1D* (*simpleFMU*) can be seen in the following graphic and corresponds to a simple modeling.\n",
    "\n",
    "![svg](https://github.com/thummeto/FMIFlux.jl/blob/main/docs/src/examples/img/SpringPendulum1D.svg?raw=true)\n",
    "\n",
    "In contrast, the model *SpringFrictionPendulum1D* (*fricFMU*) is somewhat more accurate, because it includes a friction component. \n",
    "\n",
    "![svg](https://github.com/thummeto/FMIFlux.jl/blob/main/docs/src/examples/img/SpringFrictionPendulum1D.svg?raw=true)"
   ]
  },
  {
   "cell_type": "markdown",
   "metadata": {},
   "source": [
    "Next, the start time and end time of the simulation are set. Finally, a step size is specified to store the results of the simulation at these time steps."
   ]
  },
  {
   "cell_type": "code",
   "execution_count": 3,
   "metadata": {
    "execution": {
     "iopub.execute_input": "2024-04-19T11:40:36.034000Z",
     "iopub.status.busy": "2024-04-19T11:40:35.800000Z",
     "iopub.status.idle": "2024-04-19T11:40:38.755000Z",
     "shell.execute_reply": "2024-04-19T11:40:38.755000Z"
    },
    "scrolled": false
   },
   "outputs": [
    {
     "data": {
      "text/plain": [
       "51-element Vector{Float64}:\n",
       " 0.0\n",
       " 0.1\n",
       " 0.2\n",
       " 0.3\n",
       " 0.4\n",
       " 0.5\n",
       " 0.6\n",
       " 0.7\n",
       " 0.8\n",
       " 0.9\n",
       " 1.0\n",
       " 1.1\n",
       " 1.2\n",
       " ⋮\n",
       " 3.9\n",
       " 4.0\n",
       " 4.1\n",
       " 4.2\n",
       " 4.3\n",
       " 4.4\n",
       " 4.5\n",
       " 4.6\n",
       " 4.7\n",
       " 4.8\n",
       " 4.9\n",
       " 5.0"
      ]
     },
     "execution_count": 3,
     "metadata": {},
     "output_type": "execute_result"
    }
   ],
   "source": [
    "tStart = 0.0\n",
    "tStep = 0.1\n",
    "tStop = 5.0\n",
    "tSave = collect(tStart:tStep:tStop)"
   ]
  },
  {
   "cell_type": "markdown",
   "metadata": {},
   "source": [
    "### *fricFMU*\n",
    "\n",
    "In the next lines of code the FMU of the *fricFMU* model from *FMIZoo.jl* is loaded and the information about the FMU is shown."
   ]
  },
  {
   "cell_type": "code",
   "execution_count": 4,
   "metadata": {
    "execution": {
     "iopub.execute_input": "2024-04-19T11:40:38.755000Z",
     "iopub.status.busy": "2024-04-19T11:40:38.755000Z",
     "iopub.status.idle": "2024-04-19T11:40:44.758000Z",
     "shell.execute_reply": "2024-04-19T11:40:44.758000Z"
    },
    "scrolled": false
   },
   "outputs": [
    {
     "name": "stdout",
     "output_type": "stream",
     "text": [
      "#################### Begin information for FMU ####################\n",
      "\tModel name:\t\t\tSpringFrictionPendulum1D\n",
      "\tFMI-Version:\t\t\t2.0\n",
      "\tGUID:\t\t\t\t{2e178ad3-5e9b-48ec-a7b2-baa5669efc0c}\n",
      "\tGeneration tool:\t\tDymola Version 2022x (64-bit), 2021-10-08\n",
      "\tGeneration time:\t\t2022-05-19T06:54:12Z\n",
      "\tVar. naming conv.:\t\tstructured\n",
      "\tEvent indicators:\t\t24\n",
      "\tInputs:\t\t\t\t0\n",
      "\tOutputs:\t\t\t0\n",
      "\tStates:\t\t\t\t2\n",
      "\t\t33554432 [\"mass.s\"]\n",
      "\t\t33554433 [\"mass.v\", \"mass.v_relfric\"]\n",
      "\tSupports Co-Simulation:\t\ttrue\n",
      "\t\tModel identifier:\tSpringFrictionPendulum1D\n",
      "\t\tGet/Set State:\t\ttrue\n",
      "\t\tSerialize State:\ttrue\n",
      "\t\tDir. Derivatives:\ttrue\n",
      "\t\tVar. com. steps:\ttrue\n",
      "\t\tInput interpol.:\ttrue\n",
      "\t\tMax order out. der.:\t1\n",
      "\tSupports Model-Exchange:\ttrue\n",
      "\t\tModel identifier:\tSpringFrictionPendulum1D\n",
      "\t\tGet/Set State:\t\ttrue\n",
      "\t\tSerialize State:\ttrue\n",
      "\t\tDir. Derivatives:\ttrue\n",
      "##################### End information for FMU #####################\n"
     ]
    }
   ],
   "source": [
    "fricFMU = fmiLoad(\"SpringFrictionPendulum1D\", \"Dymola\", \"2022x\")\n",
    "fmiInfo(fricFMU)"
   ]
  },
  {
   "cell_type": "markdown",
   "metadata": {},
   "source": [
    "In the function fmiSimulate() the *fricFMU* is simulated, still specifying the start and end time, the parameters and which variables are recorded. After the simulation is finished the result of the *fricFMU* can be plotted. This plot also serves as a reference for the other model (*simpleFMU*)."
   ]
  },
  {
   "cell_type": "code",
   "execution_count": 5,
   "metadata": {
    "execution": {
     "iopub.execute_input": "2024-04-19T11:40:44.758000Z",
     "iopub.status.busy": "2024-04-19T11:40:44.758000Z",
     "iopub.status.idle": "2024-04-19T11:41:30.959000Z",
     "shell.execute_reply": "2024-04-19T11:41:30.959000Z"
    },
    "scrolled": false
   },
   "outputs": [
    {
     "name": "stderr",
     "output_type": "stream",
     "text": [
      "\r",
      "\u001b[34mSimulating CS-FMU ...   0%|█                             |  ETA: N/A\u001b[39m"
     ]
    },
    {
     "name": "stderr",
     "output_type": "stream",
     "text": [
      "\r",
      "\u001b[34mSimulating CS-FMU ... 100%|██████████████████████████████| Time: 0:00:02\u001b[39m\n"
     ]
    },
    {
     "data": {
      "image/svg+xml": [
       "<?xml version=\"1.0\" encoding=\"utf-8\"?>\n",
       "<svg xmlns=\"http://www.w3.org/2000/svg\" xmlns:xlink=\"http://www.w3.org/1999/xlink\" width=\"600\" height=\"400\" viewBox=\"0 0 2400 1600\">\n",
       "<defs>\n",
       "  <clipPath id=\"clip950\">\n",
       "    <rect x=\"0\" y=\"0\" width=\"2400\" height=\"1600\"/>\n",
       "  </clipPath>\n",
       "</defs>\n",
       "<path clip-path=\"url(#clip950)\" d=\"M0 1600 L2400 1600 L2400 0 L0 0  Z\" fill=\"#ffffff\" fill-rule=\"evenodd\" fill-opacity=\"1\"/>\n",
       "<defs>\n",
       "  <clipPath id=\"clip951\">\n",
       "    <rect x=\"480\" y=\"0\" width=\"1681\" height=\"1600\"/>\n",
       "  </clipPath>\n",
       "</defs>\n",
       "<path clip-path=\"url(#clip950)\" d=\"M149.191 1423.18 L2352.76 1423.18 L2352.76 47.2441 L149.191 47.2441  Z\" fill=\"#ffffff\" fill-rule=\"evenodd\" fill-opacity=\"1\"/>\n",
       "<defs>\n",
       "  <clipPath id=\"clip952\">\n",
       "    <rect x=\"149\" y=\"47\" width=\"2205\" height=\"1377\"/>\n",
       "  </clipPath>\n",
       "</defs>\n",
       "<polyline clip-path=\"url(#clip952)\" style=\"stroke:#000000; stroke-linecap:round; stroke-linejoin:round; stroke-width:2; stroke-opacity:0.1; fill:none\" points=\"211.556,1423.18 211.556,47.2441 \"/>\n",
       "<polyline clip-path=\"url(#clip952)\" style=\"stroke:#000000; stroke-linecap:round; stroke-linejoin:round; stroke-width:2; stroke-opacity:0.1; fill:none\" points=\"627.323,1423.18 627.323,47.2441 \"/>\n",
       "<polyline clip-path=\"url(#clip952)\" style=\"stroke:#000000; stroke-linecap:round; stroke-linejoin:round; stroke-width:2; stroke-opacity:0.1; fill:none\" points=\"1043.09,1423.18 1043.09,47.2441 \"/>\n",
       "<polyline clip-path=\"url(#clip952)\" style=\"stroke:#000000; stroke-linecap:round; stroke-linejoin:round; stroke-width:2; stroke-opacity:0.1; fill:none\" points=\"1458.86,1423.18 1458.86,47.2441 \"/>\n",
       "<polyline clip-path=\"url(#clip952)\" style=\"stroke:#000000; stroke-linecap:round; stroke-linejoin:round; stroke-width:2; stroke-opacity:0.1; fill:none\" points=\"1874.62,1423.18 1874.62,47.2441 \"/>\n",
       "<polyline clip-path=\"url(#clip952)\" style=\"stroke:#000000; stroke-linecap:round; stroke-linejoin:round; stroke-width:2; stroke-opacity:0.1; fill:none\" points=\"2290.39,1423.18 2290.39,47.2441 \"/>\n",
       "<polyline clip-path=\"url(#clip950)\" style=\"stroke:#000000; stroke-linecap:round; stroke-linejoin:round; stroke-width:4; stroke-opacity:1; fill:none\" points=\"149.191,1423.18 2352.76,1423.18 \"/>\n",
       "<polyline clip-path=\"url(#clip950)\" style=\"stroke:#000000; stroke-linecap:round; stroke-linejoin:round; stroke-width:4; stroke-opacity:1; fill:none\" points=\"211.556,1423.18 211.556,1404.28 \"/>\n",
       "<polyline clip-path=\"url(#clip950)\" style=\"stroke:#000000; stroke-linecap:round; stroke-linejoin:round; stroke-width:4; stroke-opacity:1; fill:none\" points=\"627.323,1423.18 627.323,1404.28 \"/>\n",
       "<polyline clip-path=\"url(#clip950)\" style=\"stroke:#000000; stroke-linecap:round; stroke-linejoin:round; stroke-width:4; stroke-opacity:1; fill:none\" points=\"1043.09,1423.18 1043.09,1404.28 \"/>\n",
       "<polyline clip-path=\"url(#clip950)\" style=\"stroke:#000000; stroke-linecap:round; stroke-linejoin:round; stroke-width:4; stroke-opacity:1; fill:none\" points=\"1458.86,1423.18 1458.86,1404.28 \"/>\n",
       "<polyline clip-path=\"url(#clip950)\" style=\"stroke:#000000; stroke-linecap:round; stroke-linejoin:round; stroke-width:4; stroke-opacity:1; fill:none\" points=\"1874.62,1423.18 1874.62,1404.28 \"/>\n",
       "<polyline clip-path=\"url(#clip950)\" style=\"stroke:#000000; stroke-linecap:round; stroke-linejoin:round; stroke-width:4; stroke-opacity:1; fill:none\" points=\"2290.39,1423.18 2290.39,1404.28 \"/>\n",
       "<path clip-path=\"url(#clip950)\" d=\"M211.556 1454.1 Q207.945 1454.1 206.116 1457.66 Q204.311 1461.2 204.311 1468.33 Q204.311 1475.44 206.116 1479.01 Q207.945 1482.55 211.556 1482.55 Q215.19 1482.55 216.996 1479.01 Q218.824 1475.44 218.824 1468.33 Q218.824 1461.2 216.996 1457.66 Q215.19 1454.1 211.556 1454.1 M211.556 1450.39 Q217.366 1450.39 220.422 1455 Q223.5 1459.58 223.5 1468.33 Q223.5 1477.06 220.422 1481.67 Q217.366 1486.25 211.556 1486.25 Q205.746 1486.25 202.667 1481.67 Q199.612 1477.06 199.612 1468.33 Q199.612 1459.58 202.667 1455 Q205.746 1450.39 211.556 1450.39 Z\" fill=\"#000000\" fill-rule=\"nonzero\" fill-opacity=\"1\" /><path clip-path=\"url(#clip950)\" d=\"M617.705 1481.64 L625.344 1481.64 L625.344 1455.28 L617.034 1456.95 L617.034 1452.69 L625.297 1451.02 L629.973 1451.02 L629.973 1481.64 L637.612 1481.64 L637.612 1485.58 L617.705 1485.58 L617.705 1481.64 Z\" fill=\"#000000\" fill-rule=\"nonzero\" fill-opacity=\"1\" /><path clip-path=\"url(#clip950)\" d=\"M1037.74 1481.64 L1054.06 1481.64 L1054.06 1485.58 L1032.12 1485.58 L1032.12 1481.64 Q1034.78 1478.89 1039.36 1474.26 Q1043.97 1469.61 1045.15 1468.27 Q1047.4 1465.74 1048.28 1464.01 Q1049.18 1462.25 1049.18 1460.56 Q1049.18 1457.8 1047.23 1456.07 Q1045.31 1454.33 1042.21 1454.33 Q1040.01 1454.33 1037.56 1455.09 Q1035.13 1455.86 1032.35 1457.41 L1032.35 1452.69 Q1035.17 1451.55 1037.63 1450.97 Q1040.08 1450.39 1042.12 1450.39 Q1047.49 1450.39 1050.68 1453.08 Q1053.88 1455.77 1053.88 1460.26 Q1053.88 1462.39 1053.07 1464.31 Q1052.28 1466.2 1050.17 1468.8 Q1049.59 1469.47 1046.49 1472.69 Q1043.39 1475.88 1037.74 1481.64 Z\" fill=\"#000000\" fill-rule=\"nonzero\" fill-opacity=\"1\" /><path clip-path=\"url(#clip950)\" d=\"M1463.1 1466.95 Q1466.46 1467.66 1468.34 1469.93 Q1470.23 1472.2 1470.23 1475.53 Q1470.23 1480.65 1466.72 1483.45 Q1463.2 1486.25 1456.72 1486.25 Q1454.54 1486.25 1452.22 1485.81 Q1449.93 1485.39 1447.48 1484.54 L1447.48 1480.02 Q1449.42 1481.16 1451.74 1481.74 Q1454.05 1482.32 1456.58 1482.32 Q1460.97 1482.32 1463.27 1480.58 Q1465.58 1478.84 1465.58 1475.53 Q1465.58 1472.48 1463.43 1470.77 Q1461.3 1469.03 1457.48 1469.03 L1453.45 1469.03 L1453.45 1465.19 L1457.66 1465.19 Q1461.11 1465.19 1462.94 1463.82 Q1464.77 1462.43 1464.77 1459.84 Q1464.77 1457.18 1462.87 1455.77 Q1461 1454.33 1457.48 1454.33 Q1455.56 1454.33 1453.36 1454.75 Q1451.16 1455.16 1448.52 1456.04 L1448.52 1451.88 Q1451.18 1451.14 1453.5 1450.77 Q1455.84 1450.39 1457.9 1450.39 Q1463.22 1450.39 1466.32 1452.83 Q1469.42 1455.23 1469.42 1459.35 Q1469.42 1462.22 1467.78 1464.21 Q1466.14 1466.18 1463.1 1466.95 Z\" fill=\"#000000\" fill-rule=\"nonzero\" fill-opacity=\"1\" /><path clip-path=\"url(#clip950)\" d=\"M1877.63 1455.09 L1865.83 1473.54 L1877.63 1473.54 L1877.63 1455.09 M1876.41 1451.02 L1882.29 1451.02 L1882.29 1473.54 L1887.22 1473.54 L1887.22 1477.43 L1882.29 1477.43 L1882.29 1485.58 L1877.63 1485.58 L1877.63 1477.43 L1862.03 1477.43 L1862.03 1472.92 L1876.41 1451.02 Z\" fill=\"#000000\" fill-rule=\"nonzero\" fill-opacity=\"1\" /><path clip-path=\"url(#clip950)\" d=\"M2280.67 1451.02 L2299.03 1451.02 L2299.03 1454.96 L2284.95 1454.96 L2284.95 1463.43 Q2285.97 1463.08 2286.99 1462.92 Q2288.01 1462.73 2289.03 1462.73 Q2294.81 1462.73 2298.19 1465.9 Q2301.57 1469.08 2301.57 1474.49 Q2301.57 1480.07 2298.1 1483.17 Q2294.63 1486.25 2288.31 1486.25 Q2286.13 1486.25 2283.86 1485.88 Q2281.62 1485.51 2279.21 1484.77 L2279.21 1480.07 Q2281.29 1481.2 2283.52 1481.76 Q2285.74 1482.32 2288.21 1482.32 Q2292.22 1482.32 2294.56 1480.21 Q2296.9 1478.1 2296.9 1474.49 Q2296.9 1470.88 2294.56 1468.77 Q2292.22 1466.67 2288.21 1466.67 Q2286.34 1466.67 2284.46 1467.08 Q2282.61 1467.5 2280.67 1468.38 L2280.67 1451.02 Z\" fill=\"#000000\" fill-rule=\"nonzero\" fill-opacity=\"1\" /><path clip-path=\"url(#clip950)\" d=\"M1199.28 1522.27 L1199.28 1532.4 L1211.35 1532.4 L1211.35 1536.95 L1199.28 1536.95 L1199.28 1556.3 Q1199.28 1560.66 1200.46 1561.9 Q1201.67 1563.14 1205.33 1563.14 L1211.35 1563.14 L1211.35 1568.04 L1205.33 1568.04 Q1198.55 1568.04 1195.97 1565.53 Q1193.4 1562.98 1193.4 1556.3 L1193.4 1536.95 L1189.1 1536.95 L1189.1 1532.4 L1193.4 1532.4 L1193.4 1522.27 L1199.28 1522.27 Z\" fill=\"#000000\" fill-rule=\"nonzero\" fill-opacity=\"1\" /><path clip-path=\"url(#clip950)\" d=\"M1239.23 1518.52 L1252.72 1518.52 L1252.72 1523.07 L1245.09 1523.07 L1245.09 1572.09 L1252.72 1572.09 L1252.72 1576.64 L1239.23 1576.64 L1239.23 1518.52 Z\" fill=\"#000000\" fill-rule=\"nonzero\" fill-opacity=\"1\" /><path clip-path=\"url(#clip950)\" d=\"M1287.93 1533.45 L1287.93 1538.98 Q1285.44 1537.71 1282.77 1537.07 Q1280.1 1536.44 1277.23 1536.44 Q1272.87 1536.44 1270.68 1537.77 Q1268.51 1539.11 1268.51 1541.79 Q1268.51 1543.82 1270.07 1545 Q1271.63 1546.15 1276.34 1547.2 L1278.35 1547.64 Q1284.58 1548.98 1287.19 1551.43 Q1289.84 1553.85 1289.84 1558.21 Q1289.84 1563.17 1285.89 1566.07 Q1281.97 1568.97 1275.1 1568.97 Q1272.23 1568.97 1269.12 1568.39 Q1266.03 1567.85 1262.59 1566.74 L1262.59 1560.69 Q1265.84 1562.38 1268.99 1563.24 Q1272.14 1564.07 1275.23 1564.07 Q1279.36 1564.07 1281.59 1562.66 Q1283.82 1561.23 1283.82 1558.65 Q1283.82 1556.27 1282.2 1554.99 Q1280.61 1553.72 1275.16 1552.54 L1273.13 1552.07 Q1267.68 1550.92 1265.26 1548.56 Q1262.85 1546.18 1262.85 1542.04 Q1262.85 1537.01 1266.41 1534.27 Q1269.98 1531.54 1276.53 1531.54 Q1279.78 1531.54 1282.64 1532.01 Q1285.51 1532.49 1287.93 1533.45 Z\" fill=\"#000000\" fill-rule=\"nonzero\" fill-opacity=\"1\" /><path clip-path=\"url(#clip950)\" d=\"M1312.85 1518.52 L1312.85 1576.64 L1299.35 1576.64 L1299.35 1572.09 L1306.96 1572.09 L1306.96 1523.07 L1299.35 1523.07 L1299.35 1518.52 L1312.85 1518.52 Z\" fill=\"#000000\" fill-rule=\"nonzero\" fill-opacity=\"1\" /><polyline clip-path=\"url(#clip952)\" style=\"stroke:#000000; stroke-linecap:round; stroke-linejoin:round; stroke-width:2; stroke-opacity:0.1; fill:none\" points=\"149.191,1307.23 2352.76,1307.23 \"/>\n",
       "<polyline clip-path=\"url(#clip952)\" style=\"stroke:#000000; stroke-linecap:round; stroke-linejoin:round; stroke-width:2; stroke-opacity:0.1; fill:none\" points=\"149.191,1013.06 2352.76,1013.06 \"/>\n",
       "<polyline clip-path=\"url(#clip952)\" style=\"stroke:#000000; stroke-linecap:round; stroke-linejoin:round; stroke-width:2; stroke-opacity:0.1; fill:none\" points=\"149.191,718.889 2352.76,718.889 \"/>\n",
       "<polyline clip-path=\"url(#clip952)\" style=\"stroke:#000000; stroke-linecap:round; stroke-linejoin:round; stroke-width:2; stroke-opacity:0.1; fill:none\" points=\"149.191,424.721 2352.76,424.721 \"/>\n",
       "<polyline clip-path=\"url(#clip952)\" style=\"stroke:#000000; stroke-linecap:round; stroke-linejoin:round; stroke-width:2; stroke-opacity:0.1; fill:none\" points=\"149.191,130.552 2352.76,130.552 \"/>\n",
       "<polyline clip-path=\"url(#clip950)\" style=\"stroke:#000000; stroke-linecap:round; stroke-linejoin:round; stroke-width:4; stroke-opacity:1; fill:none\" points=\"149.191,1423.18 149.191,47.2441 \"/>\n",
       "<polyline clip-path=\"url(#clip950)\" style=\"stroke:#000000; stroke-linecap:round; stroke-linejoin:round; stroke-width:4; stroke-opacity:1; fill:none\" points=\"149.191,1307.23 168.089,1307.23 \"/>\n",
       "<polyline clip-path=\"url(#clip950)\" style=\"stroke:#000000; stroke-linecap:round; stroke-linejoin:round; stroke-width:4; stroke-opacity:1; fill:none\" points=\"149.191,1013.06 168.089,1013.06 \"/>\n",
       "<polyline clip-path=\"url(#clip950)\" style=\"stroke:#000000; stroke-linecap:round; stroke-linejoin:round; stroke-width:4; stroke-opacity:1; fill:none\" points=\"149.191,718.889 168.089,718.889 \"/>\n",
       "<polyline clip-path=\"url(#clip950)\" style=\"stroke:#000000; stroke-linecap:round; stroke-linejoin:round; stroke-width:4; stroke-opacity:1; fill:none\" points=\"149.191,424.721 168.089,424.721 \"/>\n",
       "<polyline clip-path=\"url(#clip950)\" style=\"stroke:#000000; stroke-linecap:round; stroke-linejoin:round; stroke-width:4; stroke-opacity:1; fill:none\" points=\"149.191,130.552 168.089,130.552 \"/>\n",
       "<path clip-path=\"url(#clip950)\" d=\"M50.9921 1307.68 L80.6679 1307.68 L80.6679 1311.61 L50.9921 1311.61 L50.9921 1307.68 Z\" fill=\"#000000\" fill-rule=\"nonzero\" fill-opacity=\"1\" /><path clip-path=\"url(#clip950)\" d=\"M103.608 1294.02 L91.8021 1312.47 L103.608 1312.47 L103.608 1294.02 M102.381 1289.95 L108.26 1289.95 L108.26 1312.47 L113.191 1312.47 L113.191 1316.36 L108.26 1316.36 L108.26 1324.51 L103.608 1324.51 L103.608 1316.36 L88.0058 1316.36 L88.0058 1311.84 L102.381 1289.95 Z\" fill=\"#000000\" fill-rule=\"nonzero\" fill-opacity=\"1\" /><path clip-path=\"url(#clip950)\" d=\"M53.0754 1013.51 L82.7512 1013.51 L82.7512 1017.44 L53.0754 1017.44 L53.0754 1013.51 Z\" fill=\"#000000\" fill-rule=\"nonzero\" fill-opacity=\"1\" /><path clip-path=\"url(#clip950)\" d=\"M96.8715 1026.4 L113.191 1026.4 L113.191 1030.34 L91.2465 1030.34 L91.2465 1026.4 Q93.9086 1023.65 98.4919 1019.02 Q103.098 1014.37 104.279 1013.02 Q106.524 1010.5 107.404 1008.76 Q108.307 1007 108.307 1005.31 Q108.307 1002.56 106.362 1000.82 Q104.441 999.087 101.339 999.087 Q99.14 999.087 96.6863 999.851 Q94.2558 1000.62 91.478 1002.17 L91.478 997.444 Q94.3021 996.31 96.7558 995.731 Q99.2095 995.152 101.246 995.152 Q106.617 995.152 109.811 997.837 Q113.006 1000.52 113.006 1005.01 Q113.006 1007.14 112.196 1009.06 Q111.408 1010.96 109.302 1013.55 Q108.723 1014.23 105.621 1017.44 Q102.52 1020.64 96.8715 1026.4 Z\" fill=\"#000000\" fill-rule=\"nonzero\" fill-opacity=\"1\" /><path clip-path=\"url(#clip950)\" d=\"M101.246 704.688 Q97.6354 704.688 95.8067 708.252 Q94.0012 711.794 94.0012 718.924 Q94.0012 726.03 95.8067 729.595 Q97.6354 733.137 101.246 733.137 Q104.881 733.137 106.686 729.595 Q108.515 726.03 108.515 718.924 Q108.515 711.794 106.686 708.252 Q104.881 704.688 101.246 704.688 M101.246 700.984 Q107.057 700.984 110.112 705.59 Q113.191 710.174 113.191 718.924 Q113.191 727.651 110.112 732.257 Q107.057 736.84 101.246 736.84 Q95.4363 736.84 92.3576 732.257 Q89.3021 727.651 89.3021 718.924 Q89.3021 710.174 92.3576 705.59 Q95.4363 700.984 101.246 700.984 Z\" fill=\"#000000\" fill-rule=\"nonzero\" fill-opacity=\"1\" /><path clip-path=\"url(#clip950)\" d=\"M96.8715 438.066 L113.191 438.066 L113.191 442.001 L91.2465 442.001 L91.2465 438.066 Q93.9086 435.311 98.4919 430.681 Q103.098 426.029 104.279 424.686 Q106.524 422.163 107.404 420.427 Q108.307 418.668 108.307 416.978 Q108.307 414.223 106.362 412.487 Q104.441 410.751 101.339 410.751 Q99.14 410.751 96.6863 411.515 Q94.2558 412.279 91.478 413.83 L91.478 409.107 Q94.3021 407.973 96.7558 407.394 Q99.2095 406.816 101.246 406.816 Q106.617 406.816 109.811 409.501 Q113.006 412.186 113.006 416.677 Q113.006 418.806 112.196 420.728 Q111.408 422.626 109.302 425.218 Q108.723 425.89 105.621 429.107 Q102.52 432.302 96.8715 438.066 Z\" fill=\"#000000\" fill-rule=\"nonzero\" fill-opacity=\"1\" /><path clip-path=\"url(#clip950)\" d=\"M103.608 117.347 L91.8021 135.795 L103.608 135.795 L103.608 117.347 M102.381 113.272 L108.26 113.272 L108.26 135.795 L113.191 135.795 L113.191 139.684 L108.26 139.684 L108.26 147.832 L103.608 147.832 L103.608 139.684 L88.0058 139.684 L88.0058 135.17 L102.381 113.272 Z\" fill=\"#000000\" fill-rule=\"nonzero\" fill-opacity=\"1\" /><polyline clip-path=\"url(#clip952)\" style=\"stroke:#009af9; stroke-linecap:round; stroke-linejoin:round; stroke-width:4; stroke-opacity:1; fill:none\" points=\"211.556,645.347 253.133,642.165 294.709,632.742 336.286,617.853 377.863,598.92 419.439,577.781 461.016,556.534 502.593,537.313 544.17,522.04 585.746,512.277 627.323,509.15 668.9,512.112 710.476,520.228 752.053,532.859 793.63,548.825 835.206,566.562 876.783,584.315 918.36,600.318 959.936,612.964 1001.51,620.934 1043.09,623.265 1084.67,620.711 1126.24,614.106 1167.82,603.953 1209.4,591.183 1250.97,577.033 1292.55,562.888 1334.13,550.164 1375.7,540.165 1417.28,533.963 1458.86,532.321 1500.43,534.273 1542.01,539.087 1583.59,546.423 1625.16,555.638 1666.74,565.865 1708.32,576.098 1749.89,585.313 1791.47,592.555 1833.05,597.022 1874.62,598.136 1916.2,597.023 1957.78,594.359 1999.35,590.306 2040.93,585.2 2082.51,579.495 2124.08,573.744 2165.66,568.526 2207.24,564.396 2248.81,561.838 2290.39,561.185 \"/>\n",
       "<polyline clip-path=\"url(#clip952)\" style=\"stroke:#e26f46; stroke-linecap:round; stroke-linejoin:round; stroke-width:4; stroke-opacity:1; fill:none\" points=\"211.556,718.889 253.133,655.223 294.709,595.313 336.286,546.767 377.863,515.004 419.439,503.416 461.016,513.271 502.593,543.602 544.17,591.553 585.746,652.963 627.323,722.126 668.9,774.863 710.476,824.379 752.053,864.398 793.63,890.332 835.206,899.371 876.783,890.515 918.36,864.537 959.936,823.765 1001.51,771.579 1043.09,714.091 1084.67,672.68 1126.24,633.798 1167.82,602.326 1209.4,581.961 1250.97,574.982 1292.55,582.3 1334.13,603.374 1375.7,636.405 1417.28,678.746 1458.86,723.727 1500.43,752.995 1542.01,780.591 1583.59,803.103 1625.16,817.828 1666.74,822.974 1708.32,817.807 1749.89,802.603 1791.47,778.517 1833.05,747.354 1874.62,715.711 1916.2,699.898 1957.78,684.837 1999.35,672.311 2040.93,663.854 2082.51,660.582 2124.08,663.057 2165.66,671.299 2207.24,684.799 2248.81,702.62 2290.39,718.889 \"/>\n",
       "<polyline clip-path=\"url(#clip952)\" style=\"stroke:#3da44d; stroke-linecap:round; stroke-linejoin:round; stroke-width:4; stroke-opacity:1; fill:none\" points=\"211.556,93.7814 253.133,86.1857 294.709,166.17 336.286,310.866 377.863,499.297 419.439,710.6 461.016,923.139 502.593,1116.12 544.17,1272.7 585.746,1384.24 627.323,1238.12 668.9,1241.89 710.476,1175.09 752.053,1054.13 793.63,896.2 835.206,719.206 876.783,541.311 918.36,379.555 959.936,247.614 1001.51,152.267 1043.09,310.191 1084.67,308.138 1126.24,360.024 1167.82,455.076 1209.4,580.148 1250.97,720.966 1292.55,863.136 1334.13,993.13 1375.7,1100.14 1417.28,1178.69 1458.86,1007.86 1500.43,1009.48 1542.01,974.429 1583.59,908.322 1625.16,819.686 1666.74,718.455 1708.32,615.078 1749.89,519.288 1791.47,438.946 1833.05,378.586 1874.62,562.943 1916.2,561.235 1957.78,578.109 1999.35,612.01 2040.93,659.256 2082.51,714.952 2124.08,773.481 2165.66,829.334 2207.24,877.71 2248.81,915.086 2290.39,718.889 \"/>\n",
       "<polyline clip-path=\"url(#clip952)\" style=\"stroke:#c271d2; stroke-linecap:round; stroke-linejoin:round; stroke-width:4; stroke-opacity:1; fill:none\" points=\"211.556,608.576 253.133,647.991 294.709,662.238 336.286,666.431 377.863,667.326 419.439,667.417 461.016,667.347 502.593,666.571 544.17,662.732 585.746,648.815 627.323,826.198 668.9,792.813 710.476,778.456 752.053,773.104 793.63,771.379 835.206,771.004 876.783,771.37 918.36,773.092 959.936,778.572 1001.51,794.218 1043.09,612.981 1084.67,640.575 1126.24,654.741 1167.82,661.217 1209.4,663.845 1250.97,664.53 1292.55,663.809 1334.13,661.053 1375.7,654.037 1417.28,637.504 1458.86,824.761 1500.43,803.617 1542.01,790.526 1583.59,783.271 1625.16,779.761 1666.74,778.724 1708.32,779.766 1749.89,783.406 1791.47,791.331 1833.05,807.022 1874.62,611.527 1916.2,624.363 1957.78,634.13 1999.35,640.752 2040.93,644.57 2082.51,645.921 2124.08,644.905 2165.66,641.235 2207.24,634.152 2248.81,622.358 2290.39,825.084 \"/>\n",
       "<path clip-path=\"url(#clip950)\" d=\"M1415.15 1377.32 L2279.3 1377.32 L2279.3 1118.12 L1415.15 1118.12  Z\" fill=\"#ffffff\" fill-rule=\"evenodd\" fill-opacity=\"1\"/>\n",
       "<polyline clip-path=\"url(#clip950)\" style=\"stroke:#000000; stroke-linecap:round; stroke-linejoin:round; stroke-width:4; stroke-opacity:1; fill:none\" points=\"1415.15,1377.32 2279.3,1377.32 2279.3,1118.12 1415.15,1118.12 1415.15,1377.32 \"/>\n",
       "<polyline clip-path=\"url(#clip950)\" style=\"stroke:#009af9; stroke-linecap:round; stroke-linejoin:round; stroke-width:4; stroke-opacity:1; fill:none\" points=\"1439.64,1169.96 1586.54,1169.96 \"/>\n",
       "<path clip-path=\"url(#clip950)\" d=\"M1631.37 1166.29 Q1632.97 1163.42 1635.19 1162.05 Q1637.42 1160.68 1640.42 1160.68 Q1644.48 1160.68 1646.67 1163.53 Q1648.87 1166.36 1648.87 1171.59 L1648.87 1187.24 L1644.59 1187.24 L1644.59 1171.73 Q1644.59 1168 1643.27 1166.19 Q1641.95 1164.39 1639.24 1164.39 Q1635.93 1164.39 1634.01 1166.59 Q1632.09 1168.79 1632.09 1172.58 L1632.09 1187.24 L1627.81 1187.24 L1627.81 1171.73 Q1627.81 1167.98 1626.49 1166.19 Q1625.17 1164.39 1622.42 1164.39 Q1619.15 1164.39 1617.23 1166.61 Q1615.31 1168.81 1615.31 1172.58 L1615.31 1187.24 L1611.03 1187.24 L1611.03 1161.31 L1615.31 1161.31 L1615.31 1165.34 Q1616.77 1162.95 1618.8 1161.82 Q1620.84 1160.68 1623.64 1160.68 Q1626.47 1160.68 1628.43 1162.12 Q1630.42 1163.55 1631.37 1166.29 Z\" fill=\"#000000\" fill-rule=\"nonzero\" fill-opacity=\"1\" /><path clip-path=\"url(#clip950)\" d=\"M1669.15 1174.2 Q1663.99 1174.2 1662 1175.38 Q1660.01 1176.56 1660.01 1179.41 Q1660.01 1181.68 1661.49 1183.02 Q1662.99 1184.34 1665.56 1184.34 Q1669.11 1184.34 1671.23 1181.84 Q1673.39 1179.32 1673.39 1175.15 L1673.39 1174.2 L1669.15 1174.2 M1677.65 1172.44 L1677.65 1187.24 L1673.39 1187.24 L1673.39 1183.3 Q1671.93 1185.66 1669.75 1186.8 Q1667.58 1187.91 1664.43 1187.91 Q1660.45 1187.91 1658.09 1185.68 Q1655.75 1183.44 1655.75 1179.69 Q1655.75 1175.31 1658.67 1173.09 Q1661.61 1170.87 1667.42 1170.87 L1673.39 1170.87 L1673.39 1170.45 Q1673.39 1167.51 1671.44 1165.92 Q1669.52 1164.3 1666.03 1164.3 Q1663.8 1164.3 1661.7 1164.83 Q1659.59 1165.36 1657.65 1166.43 L1657.65 1162.49 Q1659.98 1161.59 1662.18 1161.15 Q1664.38 1160.68 1666.47 1160.68 Q1672.09 1160.68 1674.87 1163.6 Q1677.65 1166.52 1677.65 1172.44 Z\" fill=\"#000000\" fill-rule=\"nonzero\" fill-opacity=\"1\" /><path clip-path=\"url(#clip950)\" d=\"M1702.95 1162.07 L1702.95 1166.1 Q1701.14 1165.18 1699.2 1164.71 Q1697.25 1164.25 1695.17 1164.25 Q1692 1164.25 1690.4 1165.22 Q1688.83 1166.19 1688.83 1168.14 Q1688.83 1169.62 1689.96 1170.48 Q1691.1 1171.31 1694.52 1172.07 L1695.98 1172.4 Q1700.52 1173.37 1702.42 1175.15 Q1704.34 1176.91 1704.34 1180.08 Q1704.34 1183.69 1701.47 1185.8 Q1698.62 1187.91 1693.62 1187.91 Q1691.54 1187.91 1689.27 1187.49 Q1687.02 1187.1 1684.52 1186.29 L1684.52 1181.89 Q1686.88 1183.11 1689.17 1183.74 Q1691.47 1184.34 1693.71 1184.34 Q1696.72 1184.34 1698.34 1183.32 Q1699.96 1182.28 1699.96 1180.41 Q1699.96 1178.67 1698.78 1177.74 Q1697.62 1176.82 1693.67 1175.96 L1692.18 1175.62 Q1688.23 1174.78 1686.47 1173.07 Q1684.71 1171.33 1684.71 1168.32 Q1684.71 1164.67 1687.3 1162.68 Q1689.89 1160.68 1694.66 1160.68 Q1697.02 1160.68 1699.11 1161.03 Q1701.19 1161.38 1702.95 1162.07 Z\" fill=\"#000000\" fill-rule=\"nonzero\" fill-opacity=\"1\" /><path clip-path=\"url(#clip950)\" d=\"M1727.65 1162.07 L1727.65 1166.1 Q1725.84 1165.18 1723.9 1164.71 Q1721.95 1164.25 1719.87 1164.25 Q1716.7 1164.25 1715.1 1165.22 Q1713.53 1166.19 1713.53 1168.14 Q1713.53 1169.62 1714.66 1170.48 Q1715.79 1171.31 1719.22 1172.07 L1720.68 1172.4 Q1725.22 1173.37 1727.11 1175.15 Q1729.04 1176.91 1729.04 1180.08 Q1729.04 1183.69 1726.17 1185.8 Q1723.32 1187.91 1718.32 1187.91 Q1716.23 1187.91 1713.97 1187.49 Q1711.72 1187.1 1709.22 1186.29 L1709.22 1181.89 Q1711.58 1183.11 1713.87 1183.74 Q1716.17 1184.34 1718.41 1184.34 Q1721.42 1184.34 1723.04 1183.32 Q1724.66 1182.28 1724.66 1180.41 Q1724.66 1178.67 1723.48 1177.74 Q1722.32 1176.82 1718.36 1175.96 L1716.88 1175.62 Q1712.92 1174.78 1711.17 1173.07 Q1709.41 1171.33 1709.41 1168.32 Q1709.41 1164.67 1712 1162.68 Q1714.59 1160.68 1719.36 1160.68 Q1721.72 1160.68 1723.8 1161.03 Q1725.89 1161.38 1727.65 1162.07 Z\" fill=\"#000000\" fill-rule=\"nonzero\" fill-opacity=\"1\" /><path clip-path=\"url(#clip950)\" d=\"M1736.42 1181.36 L1741.3 1181.36 L1741.3 1187.24 L1736.42 1187.24 L1736.42 1181.36 Z\" fill=\"#000000\" fill-rule=\"nonzero\" fill-opacity=\"1\" /><path clip-path=\"url(#clip950)\" d=\"M1767.41 1162.07 L1767.41 1166.1 Q1765.61 1165.18 1763.66 1164.71 Q1761.72 1164.25 1759.64 1164.25 Q1756.47 1164.25 1754.87 1165.22 Q1753.29 1166.19 1753.29 1168.14 Q1753.29 1169.62 1754.43 1170.48 Q1755.56 1171.31 1758.99 1172.07 L1760.45 1172.4 Q1764.98 1173.37 1766.88 1175.15 Q1768.8 1176.91 1768.8 1180.08 Q1768.8 1183.69 1765.93 1185.8 Q1763.09 1187.91 1758.09 1187.91 Q1756 1187.91 1753.73 1187.49 Q1751.49 1187.1 1748.99 1186.29 L1748.99 1181.89 Q1751.35 1183.11 1753.64 1183.74 Q1755.93 1184.34 1758.18 1184.34 Q1761.19 1184.34 1762.81 1183.32 Q1764.43 1182.28 1764.43 1180.41 Q1764.43 1178.67 1763.25 1177.74 Q1762.09 1176.82 1758.13 1175.96 L1756.65 1175.62 Q1752.69 1174.78 1750.93 1173.07 Q1749.17 1171.33 1749.17 1168.32 Q1749.17 1164.67 1751.77 1162.68 Q1754.36 1160.68 1759.13 1160.68 Q1761.49 1160.68 1763.57 1161.03 Q1765.66 1161.38 1767.41 1162.07 Z\" fill=\"#000000\" fill-rule=\"nonzero\" fill-opacity=\"1\" /><path clip-path=\"url(#clip950)\" d=\"M1800.89 1151.26 Q1797.79 1156.59 1796.28 1161.8 Q1794.78 1167 1794.78 1172.35 Q1794.78 1177.7 1796.28 1182.95 Q1797.81 1188.18 1800.89 1193.49 L1797.18 1193.49 Q1793.71 1188.05 1791.97 1182.79 Q1790.26 1177.54 1790.26 1172.35 Q1790.26 1167.19 1791.97 1161.96 Q1793.69 1156.73 1797.18 1151.26 L1800.89 1151.26 Z\" fill=\"#000000\" fill-rule=\"nonzero\" fill-opacity=\"1\" /><path clip-path=\"url(#clip950)\" d=\"M1823.92 1168.6 Q1827.28 1169.32 1829.15 1171.59 Q1831.05 1173.86 1831.05 1177.19 Q1831.05 1182.3 1827.53 1185.11 Q1824.01 1187.91 1817.53 1187.91 Q1815.35 1187.91 1813.04 1187.47 Q1810.75 1187.05 1808.29 1186.19 L1808.29 1181.68 Q1810.24 1182.81 1812.55 1183.39 Q1814.87 1183.97 1817.39 1183.97 Q1821.79 1183.97 1824.08 1182.24 Q1826.4 1180.5 1826.4 1177.19 Q1826.4 1174.13 1824.24 1172.42 Q1822.11 1170.68 1818.29 1170.68 L1814.27 1170.68 L1814.27 1166.84 L1818.48 1166.84 Q1821.93 1166.84 1823.76 1165.48 Q1825.59 1164.09 1825.59 1161.49 Q1825.59 1158.83 1823.69 1157.42 Q1821.81 1155.99 1818.29 1155.99 Q1816.37 1155.99 1814.17 1156.4 Q1811.97 1156.82 1809.34 1157.7 L1809.34 1153.53 Q1812 1152.79 1814.31 1152.42 Q1816.65 1152.05 1818.71 1152.05 Q1824.03 1152.05 1827.14 1154.48 Q1830.24 1156.89 1830.24 1161.01 Q1830.24 1163.88 1828.6 1165.87 Q1826.95 1167.84 1823.92 1168.6 Z\" fill=\"#000000\" fill-rule=\"nonzero\" fill-opacity=\"1\" /><path clip-path=\"url(#clip950)\" d=\"M1854.08 1168.6 Q1857.44 1169.32 1859.31 1171.59 Q1861.21 1173.86 1861.21 1177.19 Q1861.21 1182.3 1857.69 1185.11 Q1854.17 1187.91 1847.69 1187.91 Q1845.52 1187.91 1843.2 1187.47 Q1840.91 1187.05 1838.46 1186.19 L1838.46 1181.68 Q1840.4 1182.81 1842.72 1183.39 Q1845.03 1183.97 1847.55 1183.97 Q1851.95 1183.97 1854.24 1182.24 Q1856.56 1180.5 1856.56 1177.19 Q1856.56 1174.13 1854.41 1172.42 Q1852.28 1170.68 1848.46 1170.68 L1844.43 1170.68 L1844.43 1166.84 L1848.64 1166.84 Q1852.09 1166.84 1853.92 1165.48 Q1855.75 1164.09 1855.75 1161.49 Q1855.75 1158.83 1853.85 1157.42 Q1851.97 1155.99 1848.46 1155.99 Q1846.53 1155.99 1844.34 1156.4 Q1842.14 1156.82 1839.5 1157.7 L1839.5 1153.53 Q1842.16 1152.79 1844.47 1152.42 Q1846.81 1152.05 1848.87 1152.05 Q1854.2 1152.05 1857.3 1154.48 Q1860.4 1156.89 1860.4 1161.01 Q1860.4 1163.88 1858.76 1165.87 Q1857.11 1167.84 1854.08 1168.6 Z\" fill=\"#000000\" fill-rule=\"nonzero\" fill-opacity=\"1\" /><path clip-path=\"url(#clip950)\" d=\"M1870.12 1152.68 L1888.48 1152.68 L1888.48 1156.61 L1874.41 1156.61 L1874.41 1165.08 Q1875.42 1164.74 1876.44 1164.57 Q1877.46 1164.39 1878.48 1164.39 Q1884.27 1164.39 1887.65 1167.56 Q1891.03 1170.73 1891.03 1176.15 Q1891.03 1181.73 1887.55 1184.83 Q1884.08 1187.91 1877.76 1187.91 Q1875.59 1187.91 1873.32 1187.54 Q1871.07 1187.17 1868.66 1186.43 L1868.66 1181.73 Q1870.75 1182.86 1872.97 1183.42 Q1875.19 1183.97 1877.67 1183.97 Q1881.67 1183.97 1884.01 1181.86 Q1886.35 1179.76 1886.35 1176.15 Q1886.35 1172.54 1884.01 1170.43 Q1881.67 1168.32 1877.67 1168.32 Q1875.79 1168.32 1873.92 1168.74 Q1872.07 1169.16 1870.12 1170.04 L1870.12 1152.68 Z\" fill=\"#000000\" fill-rule=\"nonzero\" fill-opacity=\"1\" /><path clip-path=\"url(#clip950)\" d=\"M1900.28 1152.68 L1918.64 1152.68 L1918.64 1156.61 L1904.57 1156.61 L1904.57 1165.08 Q1905.59 1164.74 1906.6 1164.57 Q1907.62 1164.39 1908.64 1164.39 Q1914.43 1164.39 1917.81 1167.56 Q1921.19 1170.73 1921.19 1176.15 Q1921.19 1181.73 1917.72 1184.83 Q1914.24 1187.91 1907.92 1187.91 Q1905.75 1187.91 1903.48 1187.54 Q1901.23 1187.17 1898.83 1186.43 L1898.83 1181.73 Q1900.91 1182.86 1903.13 1183.42 Q1905.35 1183.97 1907.83 1183.97 Q1911.84 1183.97 1914.17 1181.86 Q1916.51 1179.76 1916.51 1176.15 Q1916.51 1172.54 1914.17 1170.43 Q1911.84 1168.32 1907.83 1168.32 Q1905.96 1168.32 1904.08 1168.74 Q1902.23 1169.16 1900.28 1170.04 L1900.28 1152.68 Z\" fill=\"#000000\" fill-rule=\"nonzero\" fill-opacity=\"1\" /><path clip-path=\"url(#clip950)\" d=\"M1943.25 1156.75 L1931.44 1175.2 L1943.25 1175.2 L1943.25 1156.75 M1942.02 1152.68 L1947.9 1152.68 L1947.9 1175.2 L1952.83 1175.2 L1952.83 1179.09 L1947.9 1179.09 L1947.9 1187.24 L1943.25 1187.24 L1943.25 1179.09 L1927.65 1179.09 L1927.65 1174.57 L1942.02 1152.68 Z\" fill=\"#000000\" fill-rule=\"nonzero\" fill-opacity=\"1\" /><path clip-path=\"url(#clip950)\" d=\"M1973.41 1156.75 L1961.6 1175.2 L1973.41 1175.2 L1973.41 1156.75 M1972.18 1152.68 L1978.06 1152.68 L1978.06 1175.2 L1982.99 1175.2 L1982.99 1179.09 L1978.06 1179.09 L1978.06 1187.24 L1973.41 1187.24 L1973.41 1179.09 L1957.81 1179.09 L1957.81 1174.57 L1972.18 1152.68 Z\" fill=\"#000000\" fill-rule=\"nonzero\" fill-opacity=\"1\" /><path clip-path=\"url(#clip950)\" d=\"M2004.89 1168.6 Q2008.25 1169.32 2010.12 1171.59 Q2012.02 1173.86 2012.02 1177.19 Q2012.02 1182.3 2008.5 1185.11 Q2004.98 1187.91 1998.5 1187.91 Q1996.33 1187.91 1994.01 1187.47 Q1991.72 1187.05 1989.27 1186.19 L1989.27 1181.68 Q1991.21 1182.81 1993.52 1183.39 Q1995.84 1183.97 1998.36 1183.97 Q2002.76 1183.97 2005.05 1182.24 Q2007.37 1180.5 2007.37 1177.19 Q2007.37 1174.13 2005.21 1172.42 Q2003.08 1170.68 1999.27 1170.68 L1995.24 1170.68 L1995.24 1166.84 L1999.45 1166.84 Q2002.9 1166.84 2004.73 1165.48 Q2006.56 1164.09 2006.56 1161.49 Q2006.56 1158.83 2004.66 1157.42 Q2002.78 1155.99 1999.27 1155.99 Q1997.34 1155.99 1995.15 1156.4 Q1992.95 1156.82 1990.31 1157.7 L1990.31 1153.53 Q1992.97 1152.79 1995.28 1152.42 Q1997.62 1152.05 1999.68 1152.05 Q2005.01 1152.05 2008.11 1154.48 Q2011.21 1156.89 2011.21 1161.01 Q2011.21 1163.88 2009.57 1165.87 Q2007.92 1167.84 2004.89 1168.6 Z\" fill=\"#000000\" fill-rule=\"nonzero\" fill-opacity=\"1\" /><path clip-path=\"url(#clip950)\" d=\"M2024.91 1183.3 L2041.23 1183.3 L2041.23 1187.24 L2019.29 1187.24 L2019.29 1183.3 Q2021.95 1180.55 2026.53 1175.92 Q2031.14 1171.26 2032.32 1169.92 Q2034.57 1167.4 2035.45 1165.66 Q2036.35 1163.9 2036.35 1162.21 Q2036.35 1159.46 2034.4 1157.72 Q2032.48 1155.99 2029.38 1155.99 Q2027.18 1155.99 2024.73 1156.75 Q2022.3 1157.51 2019.52 1159.06 L2019.52 1154.34 Q2022.34 1153.21 2024.8 1152.63 Q2027.25 1152.05 2029.29 1152.05 Q2034.66 1152.05 2037.85 1154.74 Q2041.05 1157.42 2041.05 1161.91 Q2041.05 1164.04 2040.24 1165.96 Q2039.45 1167.86 2037.34 1170.45 Q2036.77 1171.12 2033.66 1174.34 Q2030.56 1177.54 2024.91 1183.3 Z\" fill=\"#000000\" fill-rule=\"nonzero\" fill-opacity=\"1\" /><path clip-path=\"url(#clip950)\" d=\"M2049.77 1151.26 L2053.48 1151.26 Q2056.95 1156.73 2058.66 1161.96 Q2060.4 1167.19 2060.4 1172.35 Q2060.4 1177.54 2058.66 1182.79 Q2056.95 1188.05 2053.48 1193.49 L2049.77 1193.49 Q2052.85 1188.18 2054.36 1182.95 Q2055.89 1177.7 2055.89 1172.35 Q2055.89 1167 2054.36 1161.8 Q2052.85 1156.59 2049.77 1151.26 Z\" fill=\"#000000\" fill-rule=\"nonzero\" fill-opacity=\"1\" /><polyline clip-path=\"url(#clip950)\" style=\"stroke:#e26f46; stroke-linecap:round; stroke-linejoin:round; stroke-width:4; stroke-opacity:1; fill:none\" points=\"1439.64,1221.8 1586.54,1221.8 \"/>\n",
       "<path clip-path=\"url(#clip950)\" d=\"M1631.37 1218.13 Q1632.97 1215.26 1635.19 1213.89 Q1637.42 1212.52 1640.42 1212.52 Q1644.48 1212.52 1646.67 1215.37 Q1648.87 1218.2 1648.87 1223.43 L1648.87 1239.08 L1644.59 1239.08 L1644.59 1223.57 Q1644.59 1219.84 1643.27 1218.03 Q1641.95 1216.23 1639.24 1216.23 Q1635.93 1216.23 1634.01 1218.43 Q1632.09 1220.63 1632.09 1224.42 L1632.09 1239.08 L1627.81 1239.08 L1627.81 1223.57 Q1627.81 1219.82 1626.49 1218.03 Q1625.17 1216.23 1622.42 1216.23 Q1619.15 1216.23 1617.23 1218.45 Q1615.31 1220.65 1615.31 1224.42 L1615.31 1239.08 L1611.03 1239.08 L1611.03 1213.15 L1615.31 1213.15 L1615.31 1217.18 Q1616.77 1214.79 1618.8 1213.66 Q1620.84 1212.52 1623.64 1212.52 Q1626.47 1212.52 1628.43 1213.96 Q1630.42 1215.39 1631.37 1218.13 Z\" fill=\"#000000\" fill-rule=\"nonzero\" fill-opacity=\"1\" /><path clip-path=\"url(#clip950)\" d=\"M1669.15 1226.04 Q1663.99 1226.04 1662 1227.22 Q1660.01 1228.4 1660.01 1231.25 Q1660.01 1233.52 1661.49 1234.86 Q1662.99 1236.18 1665.56 1236.18 Q1669.11 1236.18 1671.23 1233.68 Q1673.39 1231.16 1673.39 1226.99 L1673.39 1226.04 L1669.15 1226.04 M1677.65 1224.28 L1677.65 1239.08 L1673.39 1239.08 L1673.39 1235.14 Q1671.93 1237.5 1669.75 1238.64 Q1667.58 1239.75 1664.43 1239.75 Q1660.45 1239.75 1658.09 1237.52 Q1655.75 1235.28 1655.75 1231.53 Q1655.75 1227.15 1658.67 1224.93 Q1661.61 1222.71 1667.42 1222.71 L1673.39 1222.71 L1673.39 1222.29 Q1673.39 1219.35 1671.44 1217.76 Q1669.52 1216.14 1666.03 1216.14 Q1663.8 1216.14 1661.7 1216.67 Q1659.59 1217.2 1657.65 1218.27 L1657.65 1214.33 Q1659.98 1213.43 1662.18 1212.99 Q1664.38 1212.52 1666.47 1212.52 Q1672.09 1212.52 1674.87 1215.44 Q1677.65 1218.36 1677.65 1224.28 Z\" fill=\"#000000\" fill-rule=\"nonzero\" fill-opacity=\"1\" /><path clip-path=\"url(#clip950)\" d=\"M1702.95 1213.91 L1702.95 1217.94 Q1701.14 1217.02 1699.2 1216.55 Q1697.25 1216.09 1695.17 1216.09 Q1692 1216.09 1690.4 1217.06 Q1688.83 1218.03 1688.83 1219.98 Q1688.83 1221.46 1689.96 1222.32 Q1691.1 1223.15 1694.52 1223.91 L1695.98 1224.24 Q1700.52 1225.21 1702.42 1226.99 Q1704.34 1228.75 1704.34 1231.92 Q1704.34 1235.53 1701.47 1237.64 Q1698.62 1239.75 1693.62 1239.75 Q1691.54 1239.75 1689.27 1239.33 Q1687.02 1238.94 1684.52 1238.13 L1684.52 1233.73 Q1686.88 1234.95 1689.17 1235.58 Q1691.47 1236.18 1693.71 1236.18 Q1696.72 1236.18 1698.34 1235.16 Q1699.96 1234.12 1699.96 1232.25 Q1699.96 1230.51 1698.78 1229.58 Q1697.62 1228.66 1693.67 1227.8 L1692.18 1227.46 Q1688.23 1226.62 1686.47 1224.91 Q1684.71 1223.17 1684.71 1220.16 Q1684.71 1216.51 1687.3 1214.52 Q1689.89 1212.52 1694.66 1212.52 Q1697.02 1212.52 1699.11 1212.87 Q1701.19 1213.22 1702.95 1213.91 Z\" fill=\"#000000\" fill-rule=\"nonzero\" fill-opacity=\"1\" /><path clip-path=\"url(#clip950)\" d=\"M1727.65 1213.91 L1727.65 1217.94 Q1725.84 1217.02 1723.9 1216.55 Q1721.95 1216.09 1719.87 1216.09 Q1716.7 1216.09 1715.1 1217.06 Q1713.53 1218.03 1713.53 1219.98 Q1713.53 1221.46 1714.66 1222.32 Q1715.79 1223.15 1719.22 1223.91 L1720.68 1224.24 Q1725.22 1225.21 1727.11 1226.99 Q1729.04 1228.75 1729.04 1231.92 Q1729.04 1235.53 1726.17 1237.64 Q1723.32 1239.75 1718.32 1239.75 Q1716.23 1239.75 1713.97 1239.33 Q1711.72 1238.94 1709.22 1238.13 L1709.22 1233.73 Q1711.58 1234.95 1713.87 1235.58 Q1716.17 1236.18 1718.41 1236.18 Q1721.42 1236.18 1723.04 1235.16 Q1724.66 1234.12 1724.66 1232.25 Q1724.66 1230.51 1723.48 1229.58 Q1722.32 1228.66 1718.36 1227.8 L1716.88 1227.46 Q1712.92 1226.62 1711.17 1224.91 Q1709.41 1223.17 1709.41 1220.16 Q1709.41 1216.51 1712 1214.52 Q1714.59 1212.52 1719.36 1212.52 Q1721.72 1212.52 1723.8 1212.87 Q1725.89 1213.22 1727.65 1213.91 Z\" fill=\"#000000\" fill-rule=\"nonzero\" fill-opacity=\"1\" /><path clip-path=\"url(#clip950)\" d=\"M1736.42 1233.2 L1741.3 1233.2 L1741.3 1239.08 L1736.42 1239.08 L1736.42 1233.2 Z\" fill=\"#000000\" fill-rule=\"nonzero\" fill-opacity=\"1\" /><path clip-path=\"url(#clip950)\" d=\"M1747.83 1213.15 L1752.35 1213.15 L1760.45 1234.91 L1768.55 1213.15 L1773.06 1213.15 L1763.34 1239.08 L1757.55 1239.08 L1747.83 1213.15 Z\" fill=\"#000000\" fill-rule=\"nonzero\" fill-opacity=\"1\" /><path clip-path=\"url(#clip950)\" d=\"M1804.24 1203.1 Q1801.14 1208.43 1799.64 1213.64 Q1798.13 1218.84 1798.13 1224.19 Q1798.13 1229.54 1799.64 1234.79 Q1801.16 1240.02 1804.24 1245.33 L1800.54 1245.33 Q1797.07 1239.89 1795.33 1234.63 Q1793.62 1229.38 1793.62 1224.19 Q1793.62 1219.03 1795.33 1213.8 Q1797.04 1208.57 1800.54 1203.1 L1804.24 1203.1 Z\" fill=\"#000000\" fill-rule=\"nonzero\" fill-opacity=\"1\" /><path clip-path=\"url(#clip950)\" d=\"M1827.28 1220.44 Q1830.63 1221.16 1832.51 1223.43 Q1834.41 1225.7 1834.41 1229.03 Q1834.41 1234.14 1830.89 1236.95 Q1827.37 1239.75 1820.89 1239.75 Q1818.71 1239.75 1816.4 1239.31 Q1814.1 1238.89 1811.65 1238.03 L1811.65 1233.52 Q1813.6 1234.65 1815.91 1235.23 Q1818.22 1235.81 1820.75 1235.81 Q1825.15 1235.81 1827.44 1234.08 Q1829.75 1232.34 1829.75 1229.03 Q1829.75 1225.97 1827.6 1224.26 Q1825.47 1222.52 1821.65 1222.52 L1817.62 1222.52 L1817.62 1218.68 L1821.84 1218.68 Q1825.28 1218.68 1827.11 1217.32 Q1828.94 1215.93 1828.94 1213.33 Q1828.94 1210.67 1827.04 1209.26 Q1825.17 1207.83 1821.65 1207.83 Q1819.73 1207.83 1817.53 1208.24 Q1815.33 1208.66 1812.69 1209.54 L1812.69 1205.37 Q1815.35 1204.63 1817.67 1204.26 Q1820.01 1203.89 1822.07 1203.89 Q1827.39 1203.89 1830.49 1206.32 Q1833.6 1208.73 1833.6 1212.85 Q1833.6 1215.72 1831.95 1217.71 Q1830.31 1219.68 1827.28 1220.44 Z\" fill=\"#000000\" fill-rule=\"nonzero\" fill-opacity=\"1\" /><path clip-path=\"url(#clip950)\" d=\"M1857.44 1220.44 Q1860.79 1221.16 1862.67 1223.43 Q1864.57 1225.7 1864.57 1229.03 Q1864.57 1234.14 1861.05 1236.95 Q1857.53 1239.75 1851.05 1239.75 Q1848.87 1239.75 1846.56 1239.31 Q1844.27 1238.89 1841.81 1238.03 L1841.81 1233.52 Q1843.76 1234.65 1846.07 1235.23 Q1848.39 1235.81 1850.91 1235.81 Q1855.31 1235.81 1857.6 1234.08 Q1859.91 1232.34 1859.91 1229.03 Q1859.91 1225.97 1857.76 1224.26 Q1855.63 1222.52 1851.81 1222.52 L1847.78 1222.52 L1847.78 1218.68 L1852 1218.68 Q1855.45 1218.68 1857.28 1217.32 Q1859.1 1215.93 1859.1 1213.33 Q1859.1 1210.67 1857.21 1209.26 Q1855.33 1207.83 1851.81 1207.83 Q1849.89 1207.83 1847.69 1208.24 Q1845.49 1208.66 1842.85 1209.54 L1842.85 1205.37 Q1845.52 1204.63 1847.83 1204.26 Q1850.17 1203.89 1852.23 1203.89 Q1857.55 1203.89 1860.66 1206.32 Q1863.76 1208.73 1863.76 1212.85 Q1863.76 1215.72 1862.11 1217.71 Q1860.47 1219.68 1857.44 1220.44 Z\" fill=\"#000000\" fill-rule=\"nonzero\" fill-opacity=\"1\" /><path clip-path=\"url(#clip950)\" d=\"M1873.48 1204.52 L1891.84 1204.52 L1891.84 1208.45 L1877.76 1208.45 L1877.76 1216.92 Q1878.78 1216.58 1879.8 1216.41 Q1880.82 1216.23 1881.84 1216.23 Q1887.62 1216.23 1891 1219.4 Q1894.38 1222.57 1894.38 1227.99 Q1894.38 1233.57 1890.91 1236.67 Q1887.44 1239.75 1881.12 1239.75 Q1878.94 1239.75 1876.67 1239.38 Q1874.43 1239.01 1872.02 1238.27 L1872.02 1233.57 Q1874.1 1234.7 1876.33 1235.26 Q1878.55 1235.81 1881.03 1235.81 Q1885.03 1235.81 1887.37 1233.7 Q1889.71 1231.6 1889.71 1227.99 Q1889.71 1224.38 1887.37 1222.27 Q1885.03 1220.16 1881.03 1220.16 Q1879.15 1220.16 1877.28 1220.58 Q1875.42 1221 1873.48 1221.88 L1873.48 1204.52 Z\" fill=\"#000000\" fill-rule=\"nonzero\" fill-opacity=\"1\" /><path clip-path=\"url(#clip950)\" d=\"M1903.64 1204.52 L1922 1204.52 L1922 1208.45 L1907.92 1208.45 L1907.92 1216.92 Q1908.94 1216.58 1909.96 1216.41 Q1910.98 1216.23 1912 1216.23 Q1917.78 1216.23 1921.16 1219.4 Q1924.54 1222.57 1924.54 1227.99 Q1924.54 1233.57 1921.07 1236.67 Q1917.6 1239.75 1911.28 1239.75 Q1909.1 1239.75 1906.84 1239.38 Q1904.59 1239.01 1902.18 1238.27 L1902.18 1233.57 Q1904.27 1234.7 1906.49 1235.26 Q1908.71 1235.81 1911.19 1235.81 Q1915.19 1235.81 1917.53 1233.7 Q1919.87 1231.6 1919.87 1227.99 Q1919.87 1224.38 1917.53 1222.27 Q1915.19 1220.16 1911.19 1220.16 Q1909.31 1220.16 1907.44 1220.58 Q1905.59 1221 1903.64 1221.88 L1903.64 1204.52 Z\" fill=\"#000000\" fill-rule=\"nonzero\" fill-opacity=\"1\" /><path clip-path=\"url(#clip950)\" d=\"M1946.6 1208.59 L1934.8 1227.04 L1946.6 1227.04 L1946.6 1208.59 M1945.38 1204.52 L1951.26 1204.52 L1951.26 1227.04 L1956.19 1227.04 L1956.19 1230.93 L1951.26 1230.93 L1951.26 1239.08 L1946.6 1239.08 L1946.6 1230.93 L1931 1230.93 L1931 1226.41 L1945.38 1204.52 Z\" fill=\"#000000\" fill-rule=\"nonzero\" fill-opacity=\"1\" /><path clip-path=\"url(#clip950)\" d=\"M1976.77 1208.59 L1964.96 1227.04 L1976.77 1227.04 L1976.77 1208.59 M1975.54 1204.52 L1981.42 1204.52 L1981.42 1227.04 L1986.35 1227.04 L1986.35 1230.93 L1981.42 1230.93 L1981.42 1239.08 L1976.77 1239.08 L1976.77 1230.93 L1961.16 1230.93 L1961.16 1226.41 L1975.54 1204.52 Z\" fill=\"#000000\" fill-rule=\"nonzero\" fill-opacity=\"1\" /><path clip-path=\"url(#clip950)\" d=\"M2008.25 1220.44 Q2011.6 1221.16 2013.48 1223.43 Q2015.38 1225.7 2015.38 1229.03 Q2015.38 1234.14 2011.86 1236.95 Q2008.34 1239.75 2001.86 1239.75 Q1999.68 1239.75 1997.37 1239.31 Q1995.08 1238.89 1992.62 1238.03 L1992.62 1233.52 Q1994.57 1234.65 1996.88 1235.23 Q1999.2 1235.81 2001.72 1235.81 Q2006.12 1235.81 2008.41 1234.08 Q2010.72 1232.34 2010.72 1229.03 Q2010.72 1225.97 2008.57 1224.26 Q2006.44 1222.52 2002.62 1222.52 L1998.59 1222.52 L1998.59 1218.68 L2002.81 1218.68 Q2006.26 1218.68 2008.08 1217.32 Q2009.91 1215.93 2009.91 1213.33 Q2009.91 1210.67 2008.02 1209.26 Q2006.14 1207.83 2002.62 1207.83 Q2000.7 1207.83 1998.5 1208.24 Q1996.3 1208.66 1993.66 1209.54 L1993.66 1205.37 Q1996.33 1204.63 1998.64 1204.26 Q2000.98 1203.89 2003.04 1203.89 Q2008.36 1203.89 2011.46 1206.32 Q2014.57 1208.73 2014.57 1212.85 Q2014.57 1215.72 2012.92 1217.71 Q2011.28 1219.68 2008.25 1220.44 Z\" fill=\"#000000\" fill-rule=\"nonzero\" fill-opacity=\"1\" /><path clip-path=\"url(#clip950)\" d=\"M2038.41 1220.44 Q2041.77 1221.16 2043.64 1223.43 Q2045.54 1225.7 2045.54 1229.03 Q2045.54 1234.14 2042.02 1236.95 Q2038.5 1239.75 2032.02 1239.75 Q2029.84 1239.75 2027.53 1239.31 Q2025.24 1238.89 2022.78 1238.03 L2022.78 1233.52 Q2024.73 1234.65 2027.04 1235.23 Q2029.36 1235.81 2031.88 1235.81 Q2036.28 1235.81 2038.57 1234.08 Q2040.89 1232.34 2040.89 1229.03 Q2040.89 1225.97 2038.73 1224.26 Q2036.6 1222.52 2032.78 1222.52 L2028.76 1222.52 L2028.76 1218.68 L2032.97 1218.68 Q2036.42 1218.68 2038.25 1217.32 Q2040.08 1215.93 2040.08 1213.33 Q2040.08 1210.67 2038.18 1209.26 Q2036.3 1207.83 2032.78 1207.83 Q2030.86 1207.83 2028.66 1208.24 Q2026.46 1208.66 2023.83 1209.54 L2023.83 1205.37 Q2026.49 1204.63 2028.8 1204.26 Q2031.14 1203.89 2033.2 1203.89 Q2038.52 1203.89 2041.63 1206.32 Q2044.73 1208.73 2044.73 1212.85 Q2044.73 1215.72 2043.08 1217.71 Q2041.44 1219.68 2038.41 1220.44 Z\" fill=\"#000000\" fill-rule=\"nonzero\" fill-opacity=\"1\" /><path clip-path=\"url(#clip950)\" d=\"M2053.13 1203.1 L2056.83 1203.1 Q2060.31 1208.57 2062.02 1213.8 Q2063.76 1219.03 2063.76 1224.19 Q2063.76 1229.38 2062.02 1234.63 Q2060.31 1239.89 2056.83 1245.33 L2053.13 1245.33 Q2056.21 1240.02 2057.71 1234.79 Q2059.24 1229.54 2059.24 1224.19 Q2059.24 1218.84 2057.71 1213.64 Q2056.21 1208.43 2053.13 1203.1 Z\" fill=\"#000000\" fill-rule=\"nonzero\" fill-opacity=\"1\" /><polyline clip-path=\"url(#clip950)\" style=\"stroke:#3da44d; stroke-linecap:round; stroke-linejoin:round; stroke-width:4; stroke-opacity:1; fill:none\" points=\"1439.64,1273.64 1586.54,1273.64 \"/>\n",
       "<path clip-path=\"url(#clip950)\" d=\"M1631.37 1269.97 Q1632.97 1267.1 1635.19 1265.73 Q1637.42 1264.36 1640.42 1264.36 Q1644.48 1264.36 1646.67 1267.21 Q1648.87 1270.04 1648.87 1275.27 L1648.87 1290.92 L1644.59 1290.92 L1644.59 1275.41 Q1644.59 1271.68 1643.27 1269.87 Q1641.95 1268.07 1639.24 1268.07 Q1635.93 1268.07 1634.01 1270.27 Q1632.09 1272.47 1632.09 1276.26 L1632.09 1290.92 L1627.81 1290.92 L1627.81 1275.41 Q1627.81 1271.66 1626.49 1269.87 Q1625.17 1268.07 1622.42 1268.07 Q1619.15 1268.07 1617.23 1270.29 Q1615.31 1272.49 1615.31 1276.26 L1615.31 1290.92 L1611.03 1290.92 L1611.03 1264.99 L1615.31 1264.99 L1615.31 1269.02 Q1616.77 1266.63 1618.8 1265.5 Q1620.84 1264.36 1623.64 1264.36 Q1626.47 1264.36 1628.43 1265.8 Q1630.42 1267.23 1631.37 1269.97 Z\" fill=\"#000000\" fill-rule=\"nonzero\" fill-opacity=\"1\" /><path clip-path=\"url(#clip950)\" d=\"M1669.15 1277.88 Q1663.99 1277.88 1662 1279.06 Q1660.01 1280.24 1660.01 1283.09 Q1660.01 1285.36 1661.49 1286.7 Q1662.99 1288.02 1665.56 1288.02 Q1669.11 1288.02 1671.23 1285.52 Q1673.39 1283 1673.39 1278.83 L1673.39 1277.88 L1669.15 1277.88 M1677.65 1276.12 L1677.65 1290.92 L1673.39 1290.92 L1673.39 1286.98 Q1671.93 1289.34 1669.75 1290.48 Q1667.58 1291.59 1664.43 1291.59 Q1660.45 1291.59 1658.09 1289.36 Q1655.75 1287.12 1655.75 1283.37 Q1655.75 1278.99 1658.67 1276.77 Q1661.61 1274.55 1667.42 1274.55 L1673.39 1274.55 L1673.39 1274.13 Q1673.39 1271.19 1671.44 1269.6 Q1669.52 1267.98 1666.03 1267.98 Q1663.8 1267.98 1661.7 1268.51 Q1659.59 1269.04 1657.65 1270.11 L1657.65 1266.17 Q1659.98 1265.27 1662.18 1264.83 Q1664.38 1264.36 1666.47 1264.36 Q1672.09 1264.36 1674.87 1267.28 Q1677.65 1270.2 1677.65 1276.12 Z\" fill=\"#000000\" fill-rule=\"nonzero\" fill-opacity=\"1\" /><path clip-path=\"url(#clip950)\" d=\"M1702.95 1265.75 L1702.95 1269.78 Q1701.14 1268.86 1699.2 1268.39 Q1697.25 1267.93 1695.17 1267.93 Q1692 1267.93 1690.4 1268.9 Q1688.83 1269.87 1688.83 1271.82 Q1688.83 1273.3 1689.96 1274.16 Q1691.1 1274.99 1694.52 1275.75 L1695.98 1276.08 Q1700.52 1277.05 1702.42 1278.83 Q1704.34 1280.59 1704.34 1283.76 Q1704.34 1287.37 1701.47 1289.48 Q1698.62 1291.59 1693.62 1291.59 Q1691.54 1291.59 1689.27 1291.17 Q1687.02 1290.78 1684.52 1289.97 L1684.52 1285.57 Q1686.88 1286.79 1689.17 1287.42 Q1691.47 1288.02 1693.71 1288.02 Q1696.72 1288.02 1698.34 1287 Q1699.96 1285.96 1699.96 1284.09 Q1699.96 1282.35 1698.78 1281.42 Q1697.62 1280.5 1693.67 1279.64 L1692.18 1279.3 Q1688.23 1278.46 1686.47 1276.75 Q1684.71 1275.01 1684.71 1272 Q1684.71 1268.35 1687.3 1266.36 Q1689.89 1264.36 1694.66 1264.36 Q1697.02 1264.36 1699.11 1264.71 Q1701.19 1265.06 1702.95 1265.75 Z\" fill=\"#000000\" fill-rule=\"nonzero\" fill-opacity=\"1\" /><path clip-path=\"url(#clip950)\" d=\"M1727.65 1265.75 L1727.65 1269.78 Q1725.84 1268.86 1723.9 1268.39 Q1721.95 1267.93 1719.87 1267.93 Q1716.7 1267.93 1715.1 1268.9 Q1713.53 1269.87 1713.53 1271.82 Q1713.53 1273.3 1714.66 1274.16 Q1715.79 1274.99 1719.22 1275.75 L1720.68 1276.08 Q1725.22 1277.05 1727.11 1278.83 Q1729.04 1280.59 1729.04 1283.76 Q1729.04 1287.37 1726.17 1289.48 Q1723.32 1291.59 1718.32 1291.59 Q1716.23 1291.59 1713.97 1291.17 Q1711.72 1290.78 1709.22 1289.97 L1709.22 1285.57 Q1711.58 1286.79 1713.87 1287.42 Q1716.17 1288.02 1718.41 1288.02 Q1721.42 1288.02 1723.04 1287 Q1724.66 1285.96 1724.66 1284.09 Q1724.66 1282.35 1723.48 1281.42 Q1722.32 1280.5 1718.36 1279.64 L1716.88 1279.3 Q1712.92 1278.46 1711.17 1276.75 Q1709.41 1275.01 1709.41 1272 Q1709.41 1268.35 1712 1266.36 Q1714.59 1264.36 1719.36 1264.36 Q1721.72 1264.36 1723.8 1264.71 Q1725.89 1265.06 1727.65 1265.75 Z\" fill=\"#000000\" fill-rule=\"nonzero\" fill-opacity=\"1\" /><path clip-path=\"url(#clip950)\" d=\"M1736.42 1285.04 L1741.3 1285.04 L1741.3 1290.92 L1736.42 1290.92 L1736.42 1285.04 Z\" fill=\"#000000\" fill-rule=\"nonzero\" fill-opacity=\"1\" /><path clip-path=\"url(#clip950)\" d=\"M1762.67 1277.88 Q1757.51 1277.88 1755.52 1279.06 Q1753.53 1280.24 1753.53 1283.09 Q1753.53 1285.36 1755.01 1286.7 Q1756.51 1288.02 1759.08 1288.02 Q1762.62 1288.02 1764.75 1285.52 Q1766.91 1283 1766.91 1278.83 L1766.91 1277.88 L1762.67 1277.88 M1771.16 1276.12 L1771.16 1290.92 L1766.91 1290.92 L1766.91 1286.98 Q1765.45 1289.34 1763.27 1290.48 Q1761.1 1291.59 1757.95 1291.59 Q1753.97 1291.59 1751.6 1289.36 Q1749.27 1287.12 1749.27 1283.37 Q1749.27 1278.99 1752.18 1276.77 Q1755.12 1274.55 1760.93 1274.55 L1766.91 1274.55 L1766.91 1274.13 Q1766.91 1271.19 1764.96 1269.6 Q1763.04 1267.98 1759.54 1267.98 Q1757.32 1267.98 1755.22 1268.51 Q1753.11 1269.04 1751.16 1270.11 L1751.16 1266.17 Q1753.5 1265.27 1755.7 1264.83 Q1757.9 1264.36 1759.98 1264.36 Q1765.61 1264.36 1768.39 1267.28 Q1771.16 1270.2 1771.16 1276.12 Z\" fill=\"#000000\" fill-rule=\"nonzero\" fill-opacity=\"1\" /><path clip-path=\"url(#clip950)\" d=\"M1799.64 1298.79 L1799.64 1302.1 L1775.01 1302.1 L1775.01 1298.79 L1799.64 1298.79 Z\" fill=\"#000000\" fill-rule=\"nonzero\" fill-opacity=\"1\" /><path clip-path=\"url(#clip950)\" d=\"M1818.66 1268.97 Q1817.95 1268.55 1817.09 1268.37 Q1816.26 1268.16 1815.24 1268.16 Q1811.63 1268.16 1809.68 1270.52 Q1807.76 1272.86 1807.76 1277.26 L1807.76 1290.92 L1803.48 1290.92 L1803.48 1264.99 L1807.76 1264.99 L1807.76 1269.02 Q1809.1 1266.66 1811.26 1265.52 Q1813.41 1264.36 1816.49 1264.36 Q1816.93 1264.36 1817.46 1264.43 Q1817.99 1264.48 1818.64 1264.6 L1818.66 1268.97 Z\" fill=\"#000000\" fill-rule=\"nonzero\" fill-opacity=\"1\" /><path clip-path=\"url(#clip950)\" d=\"M1844.27 1276.89 L1844.27 1278.97 L1824.68 1278.97 Q1824.96 1283.37 1827.32 1285.68 Q1829.71 1287.98 1833.94 1287.98 Q1836.4 1287.98 1838.69 1287.37 Q1841 1286.77 1843.27 1285.57 L1843.27 1289.6 Q1840.98 1290.57 1838.57 1291.08 Q1836.16 1291.59 1833.69 1291.59 Q1827.48 1291.59 1823.85 1287.98 Q1820.24 1284.36 1820.24 1278.21 Q1820.24 1271.84 1823.66 1268.11 Q1827.11 1264.36 1832.95 1264.36 Q1838.18 1264.36 1841.21 1267.74 Q1844.27 1271.1 1844.27 1276.89 M1840.01 1275.64 Q1839.96 1272.14 1838.04 1270.06 Q1836.14 1267.98 1832.99 1267.98 Q1829.43 1267.98 1827.28 1269.99 Q1825.15 1272 1824.82 1275.66 L1840.01 1275.64 Z\" fill=\"#000000\" fill-rule=\"nonzero\" fill-opacity=\"1\" /><path clip-path=\"url(#clip950)\" d=\"M1851.26 1254.9 L1855.52 1254.9 L1855.52 1290.92 L1851.26 1290.92 L1851.26 1254.9 Z\" fill=\"#000000\" fill-rule=\"nonzero\" fill-opacity=\"1\" /><path clip-path=\"url(#clip950)\" d=\"M1877.55 1254.9 L1877.55 1258.44 L1873.48 1258.44 Q1871.19 1258.44 1870.28 1259.36 Q1869.41 1260.29 1869.41 1262.7 L1869.41 1264.99 L1876.42 1264.99 L1876.42 1268.3 L1869.41 1268.3 L1869.41 1290.92 L1865.12 1290.92 L1865.12 1268.3 L1861.05 1268.3 L1861.05 1264.99 L1865.12 1264.99 L1865.12 1263.18 Q1865.12 1258.86 1867.14 1256.89 Q1869.15 1254.9 1873.53 1254.9 L1877.55 1254.9 Z\" fill=\"#000000\" fill-rule=\"nonzero\" fill-opacity=\"1\" /><path clip-path=\"url(#clip950)\" d=\"M1896.14 1268.97 Q1895.42 1268.55 1894.57 1268.37 Q1893.73 1268.16 1892.72 1268.16 Q1889.1 1268.16 1887.16 1270.52 Q1885.24 1272.86 1885.24 1277.26 L1885.24 1290.92 L1880.96 1290.92 L1880.96 1264.99 L1885.24 1264.99 L1885.24 1269.02 Q1886.58 1266.66 1888.73 1265.52 Q1890.89 1264.36 1893.97 1264.36 Q1894.4 1264.36 1894.94 1264.43 Q1895.47 1264.48 1896.12 1264.6 L1896.14 1268.97 Z\" fill=\"#000000\" fill-rule=\"nonzero\" fill-opacity=\"1\" /><path clip-path=\"url(#clip950)\" d=\"M1900.61 1264.99 L1904.87 1264.99 L1904.87 1290.92 L1900.61 1290.92 L1900.61 1264.99 M1900.61 1254.9 L1904.87 1254.9 L1904.87 1260.29 L1900.61 1260.29 L1900.61 1254.9 Z\" fill=\"#000000\" fill-rule=\"nonzero\" fill-opacity=\"1\" /><path clip-path=\"url(#clip950)\" d=\"M1932.44 1265.98 L1932.44 1269.97 Q1930.63 1268.97 1928.8 1268.48 Q1927 1267.98 1925.15 1267.98 Q1921 1267.98 1918.71 1270.61 Q1916.42 1273.23 1916.42 1277.98 Q1916.42 1282.72 1918.71 1285.36 Q1921 1287.98 1925.15 1287.98 Q1927 1287.98 1928.8 1287.49 Q1930.63 1286.98 1932.44 1285.98 L1932.44 1289.92 Q1930.65 1290.75 1928.73 1291.17 Q1926.84 1291.59 1924.68 1291.59 Q1918.83 1291.59 1915.38 1287.91 Q1911.93 1284.23 1911.93 1277.98 Q1911.93 1271.63 1915.4 1268 Q1918.9 1264.36 1924.96 1264.36 Q1926.93 1264.36 1928.8 1264.78 Q1930.68 1265.17 1932.44 1265.98 Z\" fill=\"#000000\" fill-rule=\"nonzero\" fill-opacity=\"1\" /><path clip-path=\"url(#clip950)\" d=\"M1965.15 1254.94 Q1962.04 1260.27 1960.54 1265.48 Q1959.03 1270.68 1959.03 1276.03 Q1959.03 1281.38 1960.54 1286.63 Q1962.07 1291.86 1965.15 1297.17 L1961.44 1297.17 Q1957.97 1291.73 1956.23 1286.47 Q1954.52 1281.22 1954.52 1276.03 Q1954.52 1270.87 1956.23 1265.64 Q1957.95 1260.41 1961.44 1254.94 L1965.15 1254.94 Z\" fill=\"#000000\" fill-rule=\"nonzero\" fill-opacity=\"1\" /><path clip-path=\"url(#clip950)\" d=\"M1974.06 1256.36 L1992.41 1256.36 L1992.41 1260.29 L1978.34 1260.29 L1978.34 1268.76 Q1979.36 1268.42 1980.38 1268.25 Q1981.4 1268.07 1982.41 1268.07 Q1988.2 1268.07 1991.58 1271.24 Q1994.96 1274.41 1994.96 1279.83 Q1994.96 1285.41 1991.49 1288.51 Q1988.02 1291.59 1981.7 1291.59 Q1979.52 1291.59 1977.25 1291.22 Q1975.01 1290.85 1972.6 1290.11 L1972.6 1285.41 Q1974.68 1286.54 1976.9 1287.1 Q1979.13 1287.65 1981.6 1287.65 Q1985.61 1287.65 1987.95 1285.54 Q1990.28 1283.44 1990.28 1279.83 Q1990.28 1276.22 1987.95 1274.11 Q1985.61 1272 1981.6 1272 Q1979.73 1272 1977.85 1272.42 Q1976 1272.84 1974.06 1273.72 L1974.06 1256.36 Z\" fill=\"#000000\" fill-rule=\"nonzero\" fill-opacity=\"1\" /><path clip-path=\"url(#clip950)\" d=\"M2014.17 1274.5 Q2010.84 1274.5 2008.92 1276.29 Q2007.02 1278.07 2007.02 1281.19 Q2007.02 1284.32 2008.92 1286.1 Q2010.84 1287.88 2014.17 1287.88 Q2017.51 1287.88 2019.43 1286.1 Q2021.35 1284.29 2021.35 1281.19 Q2021.35 1278.07 2019.43 1276.29 Q2017.53 1274.5 2014.17 1274.5 M2009.5 1272.51 Q2006.49 1271.77 2004.8 1269.71 Q2003.13 1267.65 2003.13 1264.69 Q2003.13 1260.55 2006.07 1258.14 Q2009.03 1255.73 2014.17 1255.73 Q2019.33 1255.73 2022.27 1258.14 Q2025.21 1260.55 2025.21 1264.69 Q2025.21 1267.65 2023.52 1269.71 Q2021.86 1271.77 2018.87 1272.51 Q2022.25 1273.3 2024.13 1275.59 Q2026.02 1277.88 2026.02 1281.19 Q2026.02 1286.22 2022.95 1288.9 Q2019.89 1291.59 2014.17 1291.59 Q2008.46 1291.59 2005.38 1288.9 Q2002.32 1286.22 2002.32 1281.19 Q2002.32 1277.88 2004.22 1275.59 Q2006.12 1273.3 2009.5 1272.51 M2007.78 1265.13 Q2007.78 1267.81 2009.45 1269.32 Q2011.14 1270.82 2014.17 1270.82 Q2017.18 1270.82 2018.87 1269.32 Q2020.58 1267.81 2020.58 1265.13 Q2020.58 1262.44 2018.87 1260.94 Q2017.18 1259.43 2014.17 1259.43 Q2011.14 1259.43 2009.45 1260.94 Q2007.78 1262.44 2007.78 1265.13 Z\" fill=\"#000000\" fill-rule=\"nonzero\" fill-opacity=\"1\" /><path clip-path=\"url(#clip950)\" d=\"M2033.15 1256.36 L2055.38 1256.36 L2055.38 1258.35 L2042.83 1290.92 L2037.95 1290.92 L2049.75 1260.29 L2033.15 1260.29 L2033.15 1256.36 Z\" fill=\"#000000\" fill-rule=\"nonzero\" fill-opacity=\"1\" /><path clip-path=\"url(#clip950)\" d=\"M2068.52 1286.98 L2084.84 1286.98 L2084.84 1290.92 L2062.9 1290.92 L2062.9 1286.98 Q2065.56 1284.23 2070.14 1279.6 Q2074.75 1274.94 2075.93 1273.6 Q2078.18 1271.08 2079.06 1269.34 Q2079.96 1267.58 2079.96 1265.89 Q2079.96 1263.14 2078.02 1261.4 Q2076.09 1259.67 2072.99 1259.67 Q2070.79 1259.67 2068.34 1260.43 Q2065.91 1261.19 2063.13 1262.74 L2063.13 1258.02 Q2065.95 1256.89 2068.41 1256.31 Q2070.86 1255.73 2072.9 1255.73 Q2078.27 1255.73 2081.46 1258.42 Q2084.66 1261.1 2084.66 1265.59 Q2084.66 1267.72 2083.85 1269.64 Q2083.06 1271.54 2080.95 1274.13 Q2080.38 1274.8 2077.27 1278.02 Q2074.17 1281.22 2068.52 1286.98 Z\" fill=\"#000000\" fill-rule=\"nonzero\" fill-opacity=\"1\" /><path clip-path=\"url(#clip950)\" d=\"M2104.66 1259.43 Q2101.05 1259.43 2099.22 1263 Q2097.41 1266.54 2097.41 1273.67 Q2097.41 1280.78 2099.22 1284.34 Q2101.05 1287.88 2104.66 1287.88 Q2108.29 1287.88 2110.1 1284.34 Q2111.93 1280.78 2111.93 1273.67 Q2111.93 1266.54 2110.1 1263 Q2108.29 1259.43 2104.66 1259.43 M2104.66 1255.73 Q2110.47 1255.73 2113.52 1260.34 Q2116.6 1264.92 2116.6 1273.67 Q2116.6 1282.4 2113.52 1287 Q2110.47 1291.59 2104.66 1291.59 Q2098.85 1291.59 2095.77 1287 Q2092.71 1282.4 2092.71 1273.67 Q2092.71 1264.92 2095.77 1260.34 Q2098.85 1255.73 2104.66 1255.73 Z\" fill=\"#000000\" fill-rule=\"nonzero\" fill-opacity=\"1\" /><path clip-path=\"url(#clip950)\" d=\"M2128.85 1286.98 L2145.17 1286.98 L2145.17 1290.92 L2123.22 1290.92 L2123.22 1286.98 Q2125.89 1284.23 2130.47 1279.6 Q2135.07 1274.94 2136.26 1273.6 Q2138.5 1271.08 2139.38 1269.34 Q2140.28 1267.58 2140.28 1265.89 Q2140.28 1263.14 2138.34 1261.4 Q2136.42 1259.67 2133.32 1259.67 Q2131.12 1259.67 2128.66 1260.43 Q2126.23 1261.19 2123.45 1262.74 L2123.45 1258.02 Q2126.28 1256.89 2128.73 1256.31 Q2131.19 1255.73 2133.22 1255.73 Q2138.59 1255.73 2141.79 1258.42 Q2144.98 1261.1 2144.98 1265.59 Q2144.98 1267.72 2144.17 1269.64 Q2143.39 1271.54 2141.28 1274.13 Q2140.7 1274.8 2137.6 1278.02 Q2134.5 1281.22 2128.85 1286.98 Z\" fill=\"#000000\" fill-rule=\"nonzero\" fill-opacity=\"1\" /><path clip-path=\"url(#clip950)\" d=\"M2155.03 1256.36 L2173.38 1256.36 L2173.38 1260.29 L2159.31 1260.29 L2159.31 1268.76 Q2160.33 1268.42 2161.35 1268.25 Q2162.37 1268.07 2163.38 1268.07 Q2169.17 1268.07 2172.55 1271.24 Q2175.93 1274.41 2175.93 1279.83 Q2175.93 1285.41 2172.46 1288.51 Q2168.99 1291.59 2162.67 1291.59 Q2160.49 1291.59 2158.22 1291.22 Q2155.98 1290.85 2153.57 1290.11 L2153.57 1285.41 Q2155.65 1286.54 2157.88 1287.1 Q2160.1 1287.65 2162.57 1287.65 Q2166.58 1287.65 2168.92 1285.54 Q2171.26 1283.44 2171.26 1279.83 Q2171.26 1276.22 2168.92 1274.11 Q2166.58 1272 2162.57 1272 Q2160.7 1272 2158.82 1272.42 Q2156.97 1272.84 2155.03 1273.72 L2155.03 1256.36 Z\" fill=\"#000000\" fill-rule=\"nonzero\" fill-opacity=\"1\" /><path clip-path=\"url(#clip950)\" d=\"M2195.72 1271.77 Q2192.57 1271.77 2190.72 1273.92 Q2188.89 1276.08 2188.89 1279.83 Q2188.89 1283.55 2190.72 1285.73 Q2192.57 1287.88 2195.72 1287.88 Q2198.87 1287.88 2200.7 1285.73 Q2202.55 1283.55 2202.55 1279.83 Q2202.55 1276.08 2200.7 1273.92 Q2198.87 1271.77 2195.72 1271.77 M2205.01 1257.12 L2205.01 1261.38 Q2203.25 1260.55 2201.44 1260.11 Q2199.66 1259.67 2197.9 1259.67 Q2193.27 1259.67 2190.82 1262.79 Q2188.38 1265.92 2188.04 1272.23 Q2189.4 1270.22 2191.46 1269.16 Q2193.52 1268.07 2196 1268.07 Q2201.21 1268.07 2204.22 1271.24 Q2207.25 1274.39 2207.25 1279.83 Q2207.25 1285.15 2204.1 1288.37 Q2200.95 1291.59 2195.72 1291.59 Q2189.73 1291.59 2186.56 1287 Q2183.38 1282.4 2183.38 1273.67 Q2183.38 1265.48 2187.27 1260.61 Q2191.16 1255.73 2197.71 1255.73 Q2199.47 1255.73 2201.26 1256.08 Q2203.06 1256.42 2205.01 1257.12 Z\" fill=\"#000000\" fill-rule=\"nonzero\" fill-opacity=\"1\" /><path clip-path=\"url(#clip950)\" d=\"M2216.12 1286.98 L2223.76 1286.98 L2223.76 1260.61 L2215.44 1262.28 L2215.44 1258.02 L2223.71 1256.36 L2228.38 1256.36 L2228.38 1286.98 L2236.02 1286.98 L2236.02 1290.92 L2216.12 1290.92 L2216.12 1286.98 Z\" fill=\"#000000\" fill-rule=\"nonzero\" fill-opacity=\"1\" /><path clip-path=\"url(#clip950)\" d=\"M2244.19 1254.94 L2247.9 1254.94 Q2251.37 1260.41 2253.08 1265.64 Q2254.82 1270.87 2254.82 1276.03 Q2254.82 1281.22 2253.08 1286.47 Q2251.37 1291.73 2247.9 1297.17 L2244.19 1297.17 Q2247.27 1291.86 2248.78 1286.63 Q2250.31 1281.38 2250.31 1276.03 Q2250.31 1270.68 2248.78 1265.48 Q2247.27 1260.27 2244.19 1254.94 Z\" fill=\"#000000\" fill-rule=\"nonzero\" fill-opacity=\"1\" /><polyline clip-path=\"url(#clip950)\" style=\"stroke:#c271d2; stroke-linecap:round; stroke-linejoin:round; stroke-width:4; stroke-opacity:1; fill:none\" points=\"1439.64,1325.48 1586.54,1325.48 \"/>\n",
       "<path clip-path=\"url(#clip950)\" d=\"M1631.37 1321.81 Q1632.97 1318.94 1635.19 1317.57 Q1637.42 1316.2 1640.42 1316.2 Q1644.48 1316.2 1646.67 1319.05 Q1648.87 1321.88 1648.87 1327.11 L1648.87 1342.76 L1644.59 1342.76 L1644.59 1327.25 Q1644.59 1323.52 1643.27 1321.71 Q1641.95 1319.91 1639.24 1319.91 Q1635.93 1319.91 1634.01 1322.11 Q1632.09 1324.31 1632.09 1328.1 L1632.09 1342.76 L1627.81 1342.76 L1627.81 1327.25 Q1627.81 1323.5 1626.49 1321.71 Q1625.17 1319.91 1622.42 1319.91 Q1619.15 1319.91 1617.23 1322.13 Q1615.31 1324.33 1615.31 1328.1 L1615.31 1342.76 L1611.03 1342.76 L1611.03 1316.83 L1615.31 1316.83 L1615.31 1320.86 Q1616.77 1318.47 1618.8 1317.34 Q1620.84 1316.2 1623.64 1316.2 Q1626.47 1316.2 1628.43 1317.64 Q1630.42 1319.07 1631.37 1321.81 Z\" fill=\"#000000\" fill-rule=\"nonzero\" fill-opacity=\"1\" /><path clip-path=\"url(#clip950)\" d=\"M1669.15 1329.72 Q1663.99 1329.72 1662 1330.9 Q1660.01 1332.08 1660.01 1334.93 Q1660.01 1337.2 1661.49 1338.54 Q1662.99 1339.86 1665.56 1339.86 Q1669.11 1339.86 1671.23 1337.36 Q1673.39 1334.84 1673.39 1330.67 L1673.39 1329.72 L1669.15 1329.72 M1677.65 1327.96 L1677.65 1342.76 L1673.39 1342.76 L1673.39 1338.82 Q1671.93 1341.18 1669.75 1342.32 Q1667.58 1343.43 1664.43 1343.43 Q1660.45 1343.43 1658.09 1341.2 Q1655.75 1338.96 1655.75 1335.21 Q1655.75 1330.83 1658.67 1328.61 Q1661.61 1326.39 1667.42 1326.39 L1673.39 1326.39 L1673.39 1325.97 Q1673.39 1323.03 1671.44 1321.44 Q1669.52 1319.82 1666.03 1319.82 Q1663.8 1319.82 1661.7 1320.35 Q1659.59 1320.88 1657.65 1321.95 L1657.65 1318.01 Q1659.98 1317.11 1662.18 1316.67 Q1664.38 1316.2 1666.47 1316.2 Q1672.09 1316.2 1674.87 1319.12 Q1677.65 1322.04 1677.65 1327.96 Z\" fill=\"#000000\" fill-rule=\"nonzero\" fill-opacity=\"1\" /><path clip-path=\"url(#clip950)\" d=\"M1702.95 1317.59 L1702.95 1321.62 Q1701.14 1320.7 1699.2 1320.23 Q1697.25 1319.77 1695.17 1319.77 Q1692 1319.77 1690.4 1320.74 Q1688.83 1321.71 1688.83 1323.66 Q1688.83 1325.14 1689.96 1326 Q1691.1 1326.83 1694.52 1327.59 L1695.98 1327.92 Q1700.52 1328.89 1702.42 1330.67 Q1704.34 1332.43 1704.34 1335.6 Q1704.34 1339.21 1701.47 1341.32 Q1698.62 1343.43 1693.62 1343.43 Q1691.54 1343.43 1689.27 1343.01 Q1687.02 1342.62 1684.52 1341.81 L1684.52 1337.41 Q1686.88 1338.63 1689.17 1339.26 Q1691.47 1339.86 1693.71 1339.86 Q1696.72 1339.86 1698.34 1338.84 Q1699.96 1337.8 1699.96 1335.93 Q1699.96 1334.19 1698.78 1333.26 Q1697.62 1332.34 1693.67 1331.48 L1692.18 1331.14 Q1688.23 1330.3 1686.47 1328.59 Q1684.71 1326.85 1684.71 1323.84 Q1684.71 1320.19 1687.3 1318.2 Q1689.89 1316.2 1694.66 1316.2 Q1697.02 1316.2 1699.11 1316.55 Q1701.19 1316.9 1702.95 1317.59 Z\" fill=\"#000000\" fill-rule=\"nonzero\" fill-opacity=\"1\" /><path clip-path=\"url(#clip950)\" d=\"M1727.65 1317.59 L1727.65 1321.62 Q1725.84 1320.7 1723.9 1320.23 Q1721.95 1319.77 1719.87 1319.77 Q1716.7 1319.77 1715.1 1320.74 Q1713.53 1321.71 1713.53 1323.66 Q1713.53 1325.14 1714.66 1326 Q1715.79 1326.83 1719.22 1327.59 L1720.68 1327.92 Q1725.22 1328.89 1727.11 1330.67 Q1729.04 1332.43 1729.04 1335.6 Q1729.04 1339.21 1726.17 1341.32 Q1723.32 1343.43 1718.32 1343.43 Q1716.23 1343.43 1713.97 1343.01 Q1711.72 1342.62 1709.22 1341.81 L1709.22 1337.41 Q1711.58 1338.63 1713.87 1339.26 Q1716.17 1339.86 1718.41 1339.86 Q1721.42 1339.86 1723.04 1338.84 Q1724.66 1337.8 1724.66 1335.93 Q1724.66 1334.19 1723.48 1333.26 Q1722.32 1332.34 1718.36 1331.48 L1716.88 1331.14 Q1712.92 1330.3 1711.17 1328.59 Q1709.41 1326.85 1709.41 1323.84 Q1709.41 1320.19 1712 1318.2 Q1714.59 1316.2 1719.36 1316.2 Q1721.72 1316.2 1723.8 1316.55 Q1725.89 1316.9 1727.65 1317.59 Z\" fill=\"#000000\" fill-rule=\"nonzero\" fill-opacity=\"1\" /><path clip-path=\"url(#clip950)\" d=\"M1736.42 1336.88 L1741.3 1336.88 L1741.3 1342.76 L1736.42 1342.76 L1736.42 1336.88 Z\" fill=\"#000000\" fill-rule=\"nonzero\" fill-opacity=\"1\" /><path clip-path=\"url(#clip950)\" d=\"M1764.01 1306.74 L1764.01 1310.28 L1759.94 1310.28 Q1757.65 1310.28 1756.74 1311.2 Q1755.86 1312.13 1755.86 1314.54 L1755.86 1316.83 L1762.88 1316.83 L1762.88 1320.14 L1755.86 1320.14 L1755.86 1342.76 L1751.58 1342.76 L1751.58 1320.14 L1747.51 1320.14 L1747.51 1316.83 L1751.58 1316.83 L1751.58 1315.02 Q1751.58 1310.7 1753.6 1308.73 Q1755.61 1306.74 1759.98 1306.74 L1764.01 1306.74 Z\" fill=\"#000000\" fill-rule=\"nonzero\" fill-opacity=\"1\" /><path clip-path=\"url(#clip950)\" d=\"M1792.88 1306.78 Q1789.78 1312.11 1788.27 1317.32 Q1786.77 1322.52 1786.77 1327.87 Q1786.77 1333.22 1788.27 1338.47 Q1789.8 1343.7 1792.88 1349.01 L1789.17 1349.01 Q1785.7 1343.57 1783.97 1338.31 Q1782.25 1333.06 1782.25 1327.87 Q1782.25 1322.71 1783.97 1317.48 Q1785.68 1312.25 1789.17 1306.78 L1792.88 1306.78 Z\" fill=\"#000000\" fill-rule=\"nonzero\" fill-opacity=\"1\" /><path clip-path=\"url(#clip950)\" d=\"M1812.32 1323.61 Q1809.17 1323.61 1807.32 1325.76 Q1805.49 1327.92 1805.49 1331.67 Q1805.49 1335.39 1807.32 1337.57 Q1809.17 1339.72 1812.32 1339.72 Q1815.47 1339.72 1817.3 1337.57 Q1819.15 1335.39 1819.15 1331.67 Q1819.15 1327.92 1817.3 1325.76 Q1815.47 1323.61 1812.32 1323.61 M1821.6 1308.96 L1821.6 1313.22 Q1819.85 1312.39 1818.04 1311.95 Q1816.26 1311.51 1814.5 1311.51 Q1809.87 1311.51 1807.41 1314.63 Q1804.98 1317.76 1804.64 1324.07 Q1806 1322.06 1808.06 1321 Q1810.12 1319.91 1812.6 1319.91 Q1817.81 1319.91 1820.82 1323.08 Q1823.85 1326.23 1823.85 1331.67 Q1823.85 1336.99 1820.7 1340.21 Q1817.55 1343.43 1812.32 1343.43 Q1806.33 1343.43 1803.16 1338.84 Q1799.98 1334.24 1799.98 1325.51 Q1799.98 1317.32 1803.87 1312.45 Q1807.76 1307.57 1814.31 1307.57 Q1816.07 1307.57 1817.85 1307.92 Q1819.66 1308.26 1821.6 1308.96 Z\" fill=\"#000000\" fill-rule=\"nonzero\" fill-opacity=\"1\" /><path clip-path=\"url(#clip950)\" d=\"M1846.07 1324.12 Q1849.43 1324.84 1851.3 1327.11 Q1853.2 1329.38 1853.2 1332.71 Q1853.2 1337.82 1849.68 1340.63 Q1846.16 1343.43 1839.68 1343.43 Q1837.51 1343.43 1835.19 1342.99 Q1832.9 1342.57 1830.45 1341.71 L1830.45 1337.2 Q1832.39 1338.33 1834.71 1338.91 Q1837.02 1339.49 1839.54 1339.49 Q1843.94 1339.49 1846.23 1337.76 Q1848.55 1336.02 1848.55 1332.71 Q1848.55 1329.65 1846.4 1327.94 Q1844.27 1326.2 1840.45 1326.2 L1836.42 1326.2 L1836.42 1322.36 L1840.63 1322.36 Q1844.08 1322.36 1845.91 1321 Q1847.74 1319.61 1847.74 1317.01 Q1847.74 1314.35 1845.84 1312.94 Q1843.97 1311.51 1840.45 1311.51 Q1838.53 1311.51 1836.33 1311.92 Q1834.13 1312.34 1831.49 1313.22 L1831.49 1309.05 Q1834.15 1308.31 1836.47 1307.94 Q1838.8 1307.57 1840.86 1307.57 Q1846.19 1307.57 1849.29 1310 Q1852.39 1312.41 1852.39 1316.53 Q1852.39 1319.4 1850.75 1321.39 Q1849.1 1323.36 1846.07 1324.12 Z\" fill=\"#000000\" fill-rule=\"nonzero\" fill-opacity=\"1\" /><path clip-path=\"url(#clip950)\" d=\"M1860.89 1308.2 L1883.11 1308.2 L1883.11 1310.19 L1870.56 1342.76 L1865.68 1342.76 L1877.48 1312.13 L1860.89 1312.13 L1860.89 1308.2 Z\" fill=\"#000000\" fill-rule=\"nonzero\" fill-opacity=\"1\" /><path clip-path=\"url(#clip950)\" d=\"M1892.28 1308.2 L1910.63 1308.2 L1910.63 1312.13 L1896.56 1312.13 L1896.56 1320.6 Q1897.58 1320.26 1898.59 1320.09 Q1899.61 1319.91 1900.63 1319.91 Q1906.42 1319.91 1909.8 1323.08 Q1913.18 1326.25 1913.18 1331.67 Q1913.18 1337.25 1909.71 1340.35 Q1906.23 1343.43 1899.91 1343.43 Q1897.74 1343.43 1895.47 1343.06 Q1893.22 1342.69 1890.82 1341.95 L1890.82 1337.25 Q1892.9 1338.38 1895.12 1338.94 Q1897.34 1339.49 1899.82 1339.49 Q1903.83 1339.49 1906.16 1337.38 Q1908.5 1335.28 1908.5 1331.67 Q1908.5 1328.06 1906.16 1325.95 Q1903.83 1323.84 1899.82 1323.84 Q1897.95 1323.84 1896.07 1324.26 Q1894.22 1324.68 1892.28 1325.56 L1892.28 1308.2 Z\" fill=\"#000000\" fill-rule=\"nonzero\" fill-opacity=\"1\" /><path clip-path=\"url(#clip950)\" d=\"M1936.56 1324.12 Q1939.91 1324.84 1941.79 1327.11 Q1943.69 1329.38 1943.69 1332.71 Q1943.69 1337.82 1940.17 1340.63 Q1936.65 1343.43 1930.17 1343.43 Q1927.99 1343.43 1925.68 1342.99 Q1923.39 1342.57 1920.93 1341.71 L1920.93 1337.2 Q1922.88 1338.33 1925.19 1338.91 Q1927.51 1339.49 1930.03 1339.49 Q1934.43 1339.49 1936.72 1337.76 Q1939.03 1336.02 1939.03 1332.71 Q1939.03 1329.65 1936.88 1327.94 Q1934.75 1326.2 1930.93 1326.2 L1926.9 1326.2 L1926.9 1322.36 L1931.12 1322.36 Q1934.57 1322.36 1936.4 1321 Q1938.22 1319.61 1938.22 1317.01 Q1938.22 1314.35 1936.33 1312.94 Q1934.45 1311.51 1930.93 1311.51 Q1929.01 1311.51 1926.81 1311.92 Q1924.61 1312.34 1921.97 1313.22 L1921.97 1309.05 Q1924.64 1308.31 1926.95 1307.94 Q1929.29 1307.57 1931.35 1307.57 Q1936.67 1307.57 1939.78 1310 Q1942.88 1312.41 1942.88 1316.53 Q1942.88 1319.4 1941.23 1321.39 Q1939.59 1323.36 1936.56 1324.12 Z\" fill=\"#000000\" fill-rule=\"nonzero\" fill-opacity=\"1\" /><path clip-path=\"url(#clip950)\" d=\"M1965.4 1312.27 L1953.59 1330.72 L1965.4 1330.72 L1965.4 1312.27 M1964.17 1308.2 L1970.05 1308.2 L1970.05 1330.72 L1974.98 1330.72 L1974.98 1334.61 L1970.05 1334.61 L1970.05 1342.76 L1965.4 1342.76 L1965.4 1334.61 L1949.8 1334.61 L1949.8 1330.09 L1964.17 1308.2 Z\" fill=\"#000000\" fill-rule=\"nonzero\" fill-opacity=\"1\" /><path clip-path=\"url(#clip950)\" d=\"M1986.74 1338.82 L2003.06 1338.82 L2003.06 1342.76 L1981.12 1342.76 L1981.12 1338.82 Q1983.78 1336.07 1988.36 1331.44 Q1992.97 1326.78 1994.15 1325.44 Q1996.4 1322.92 1997.27 1321.18 Q1998.18 1319.42 1998.18 1317.73 Q1998.18 1314.98 1996.23 1313.24 Q1994.31 1311.51 1991.21 1311.51 Q1989.01 1311.51 1986.56 1312.27 Q1984.13 1313.03 1981.35 1314.58 L1981.35 1309.86 Q1984.17 1308.73 1986.63 1308.15 Q1989.08 1307.57 1991.12 1307.57 Q1996.49 1307.57 1999.68 1310.26 Q2002.88 1312.94 2002.88 1317.43 Q2002.88 1319.56 2002.07 1321.48 Q2001.28 1323.38 1999.17 1325.97 Q1998.59 1326.64 1995.49 1329.86 Q1992.39 1333.06 1986.74 1338.82 Z\" fill=\"#000000\" fill-rule=\"nonzero\" fill-opacity=\"1\" /><path clip-path=\"url(#clip950)\" d=\"M2013.69 1338.82 L2021.33 1338.82 L2021.33 1312.45 L2013.02 1314.12 L2013.02 1309.86 L2021.28 1308.2 L2025.96 1308.2 L2025.96 1338.82 L2033.59 1338.82 L2033.59 1342.76 L2013.69 1342.76 L2013.69 1338.82 Z\" fill=\"#000000\" fill-rule=\"nonzero\" fill-opacity=\"1\" /><path clip-path=\"url(#clip950)\" d=\"M2043.85 1338.82 L2051.49 1338.82 L2051.49 1312.45 L2043.18 1314.12 L2043.18 1309.86 L2051.44 1308.2 L2056.12 1308.2 L2056.12 1338.82 L2063.76 1338.82 L2063.76 1342.76 L2043.85 1342.76 L2043.85 1338.82 Z\" fill=\"#000000\" fill-rule=\"nonzero\" fill-opacity=\"1\" /><path clip-path=\"url(#clip950)\" d=\"M2071.93 1306.78 L2075.63 1306.78 Q2079.1 1312.25 2080.82 1317.48 Q2082.55 1322.71 2082.55 1327.87 Q2082.55 1333.06 2080.82 1338.31 Q2079.1 1343.57 2075.63 1349.01 L2071.93 1349.01 Q2075.01 1343.7 2076.51 1338.47 Q2078.04 1333.22 2078.04 1327.87 Q2078.04 1322.52 2076.51 1317.32 Q2075.01 1312.11 2071.93 1306.78 Z\" fill=\"#000000\" fill-rule=\"nonzero\" fill-opacity=\"1\" /></svg>\n"
      ]
     },
     "execution_count": 5,
     "metadata": {},
     "output_type": "execute_result"
    }
   ],
   "source": [
    "vrs = [\"mass.s\", \"mass.v\", \"mass.a\", \"mass.f\"]\n",
    "solFric = fmiSimulate(fricFMU, (tStart, tStop); recordValues=vrs, saveat=tSave)\n",
    "plot(solFric)"
   ]
  },
  {
   "cell_type": "markdown",
   "metadata": {},
   "source": [
    "The data from the simulation of the *fricFMU*, are divided into position and velocity data. These data will be needed later. "
   ]
  },
  {
   "cell_type": "code",
   "execution_count": 6,
   "metadata": {
    "execution": {
     "iopub.execute_input": "2024-04-19T11:41:30.959000Z",
     "iopub.status.busy": "2024-04-19T11:41:30.959000Z",
     "iopub.status.idle": "2024-04-19T11:41:31.990000Z",
     "shell.execute_reply": "2024-04-19T11:41:31.990000Z"
    }
   },
   "outputs": [
    {
     "data": {
      "text/plain": [
       "51-element Vector{Float64}:\n",
       "  0.0\n",
       "  0.432852398300982\n",
       "  0.8401743918610578\n",
       "  1.1702254881462497\n",
       "  1.3861768532456016\n",
       "  1.4649609400224617\n",
       "  1.397962181945595\n",
       "  1.1917483098990418\n",
       "  0.8657325133644009\n",
       "  0.44821918384886916\n",
       " -0.02200493896693855\n",
       " -0.380560845401747\n",
       " -0.7172068753289351\n",
       "  ⋮\n",
       " -0.19353187721088116\n",
       "  0.021605187634145845\n",
       "  0.12911473439606144\n",
       "  0.2315130895115627\n",
       "  0.31667721272388255\n",
       "  0.37417576531479746\n",
       "  0.3964197153211615\n",
       "  0.3795927497483354\n",
       "  0.3235539803194403\n",
       "  0.2317738499958648\n",
       "  0.11061350893737848\n",
       " -1.0008118292437196e-10"
      ]
     },
     "execution_count": 6,
     "metadata": {},
     "output_type": "execute_result"
    }
   ],
   "source": [
    "posFric = fmi2GetSolutionValue(solFric, \"mass.s\")\n",
    "velFric = fmi2GetSolutionValue(solFric, \"mass.v\")"
   ]
  },
  {
   "cell_type": "markdown",
   "metadata": {},
   "source": [
    "The FMU has two states: The first state is the position of the mass and the second state is the velocity. The initial position of the mass is initialized with $0.5𝑚$. The initial velocity of the mass is initialized with $0\\frac{m}{s}$. "
   ]
  },
  {
   "cell_type": "code",
   "execution_count": 7,
   "metadata": {
    "execution": {
     "iopub.execute_input": "2024-04-19T11:41:31.990000Z",
     "iopub.status.busy": "2024-04-19T11:41:31.990000Z",
     "iopub.status.idle": "2024-04-19T11:41:31.990000Z",
     "shell.execute_reply": "2024-04-19T11:41:31.990000Z"
    },
    "scrolled": false
   },
   "outputs": [
    {
     "data": {
      "text/plain": [
       "2-element Vector{Float64}:\n",
       " 0.5\n",
       " 0.0"
      ]
     },
     "execution_count": 7,
     "metadata": {},
     "output_type": "execute_result"
    }
   ],
   "source": [
    "x₀ = [posFric[1], velFric[1]]"
   ]
  },
  {
   "cell_type": "markdown",
   "metadata": {},
   "source": [
    "After extracting the data, the FMU is cleaned-up."
   ]
  },
  {
   "cell_type": "code",
   "execution_count": 8,
   "metadata": {
    "execution": {
     "iopub.execute_input": "2024-04-19T11:41:31.990000Z",
     "iopub.status.busy": "2024-04-19T11:41:31.990000Z",
     "iopub.status.idle": "2024-04-19T11:41:32.240000Z",
     "shell.execute_reply": "2024-04-19T11:41:32.240000Z"
    }
   },
   "outputs": [],
   "source": [
    "fmiUnload(fricFMU)"
   ]
  },
  {
   "cell_type": "markdown",
   "metadata": {},
   "source": [
    "### SimpleFMU\n",
    "\n",
    "The following lines load, simulate and plot the *simpleFMU* just like the *fricFMU*. The differences between both systems can be clearly seen from the plots. In the plot for the *fricFMU* it can be seen that the oscillation continues to decrease due to the effect of the friction. If you simulate long enough, the oscillation would come to a standstill in a certain time. The oscillation in the *simpleFMU* behaves differently, since the friction was not taken into account here. The oscillation in this model would continue to infinity with the same oscillation amplitude. From this observation the desire of an improvement of this model arises.     "
   ]
  },
  {
   "cell_type": "code",
   "execution_count": 9,
   "metadata": {
    "execution": {
     "iopub.execute_input": "2024-04-19T11:41:32.240000Z",
     "iopub.status.busy": "2024-04-19T11:41:32.240000Z",
     "iopub.status.idle": "2024-04-19T11:41:43.230000Z",
     "shell.execute_reply": "2024-04-19T11:41:43.230000Z"
    },
    "scrolled": false
   },
   "outputs": [
    {
     "name": "stdout",
     "output_type": "stream",
     "text": [
      "#################### Begin information for FMU ####################\n",
      "\tModel name:\t\t\tSpringPendulum1D\n",
      "\tFMI-Version:\t\t\t2.0\n",
      "\tGUID:\t\t\t\t{fc15d8c4-758b-48e6-b00e-5bf47b8b14e5}\n",
      "\tGeneration tool:\t\tDymola Version 2022x (64-bit), 2021-10-08\n",
      "\tGeneration time:\t\t2022-05-19T06:54:23Z\n",
      "\tVar. naming conv.:\t\tstructured\n",
      "\tEvent indicators:\t\t0\n",
      "\tInputs:\t\t\t\t0\n",
      "\tOutputs:\t\t\t0\n",
      "\tStates:\t\t\t\t2\n",
      "\t\t33554432 [\"mass.s\"]\n",
      "\t\t33554433 [\"mass.v\"]\n",
      "\tSupports Co-Simulation:\t\ttrue\n",
      "\t\tModel identifier:\tSpringPendulum1D\n",
      "\t\tGet/Set State:\t\ttrue\n",
      "\t\tSerialize State:\ttrue\n",
      "\t\tDir. Derivatives:\ttrue\n",
      "\t\tVar. com. steps:\ttrue\n",
      "\t\tInput interpol.:\ttrue\n",
      "\t\tMax order out. der.:\t1\n",
      "\tSupports Model-Exchange:\ttrue\n",
      "\t\tModel identifier:\tSpringPendulum1D\n",
      "\t\tGet/Set State:\t\ttrue\n",
      "\t\tSerialize State:\ttrue\n",
      "\t\tDir. Derivatives:\ttrue\n",
      "##################### End information for FMU #####################\n"
     ]
    },
    {
     "name": "stderr",
     "output_type": "stream",
     "text": [
      "\r",
      "\u001b[34mSimulating ME-FMU ...   0%|█                             |  ETA: N/A\u001b[39m"
     ]
    },
    {
     "name": "stderr",
     "output_type": "stream",
     "text": [
      "\r",
      "\u001b[34mSimulating ME-FMU ... 100%|██████████████████████████████| Time: 0:00:09\u001b[39m\n"
     ]
    },
    {
     "data": {
      "image/svg+xml": [
       "<?xml version=\"1.0\" encoding=\"utf-8\"?>\n",
       "<svg xmlns=\"http://www.w3.org/2000/svg\" xmlns:xlink=\"http://www.w3.org/1999/xlink\" width=\"600\" height=\"400\" viewBox=\"0 0 2400 1600\">\n",
       "<defs>\n",
       "  <clipPath id=\"clip990\">\n",
       "    <rect x=\"0\" y=\"0\" width=\"2400\" height=\"1600\"/>\n",
       "  </clipPath>\n",
       "</defs>\n",
       "<path clip-path=\"url(#clip990)\" d=\"M0 1600 L2400 1600 L2400 0 L0 0  Z\" fill=\"#ffffff\" fill-rule=\"evenodd\" fill-opacity=\"1\"/>\n",
       "<defs>\n",
       "  <clipPath id=\"clip991\">\n",
       "    <rect x=\"480\" y=\"0\" width=\"1681\" height=\"1600\"/>\n",
       "  </clipPath>\n",
       "</defs>\n",
       "<path clip-path=\"url(#clip990)\" d=\"M193.936 1423.18 L2352.76 1423.18 L2352.76 47.2441 L193.936 47.2441  Z\" fill=\"#ffffff\" fill-rule=\"evenodd\" fill-opacity=\"1\"/>\n",
       "<defs>\n",
       "  <clipPath id=\"clip992\">\n",
       "    <rect x=\"193\" y=\"47\" width=\"2160\" height=\"1377\"/>\n",
       "  </clipPath>\n",
       "</defs>\n",
       "<polyline clip-path=\"url(#clip992)\" style=\"stroke:#000000; stroke-linecap:round; stroke-linejoin:round; stroke-width:2; stroke-opacity:0.1; fill:none\" points=\"255.035,1423.18 255.035,47.2441 \"/>\n",
       "<polyline clip-path=\"url(#clip992)\" style=\"stroke:#000000; stroke-linecap:round; stroke-linejoin:round; stroke-width:2; stroke-opacity:0.1; fill:none\" points=\"662.359,1423.18 662.359,47.2441 \"/>\n",
       "<polyline clip-path=\"url(#clip992)\" style=\"stroke:#000000; stroke-linecap:round; stroke-linejoin:round; stroke-width:2; stroke-opacity:0.1; fill:none\" points=\"1069.68,1423.18 1069.68,47.2441 \"/>\n",
       "<polyline clip-path=\"url(#clip992)\" style=\"stroke:#000000; stroke-linecap:round; stroke-linejoin:round; stroke-width:2; stroke-opacity:0.1; fill:none\" points=\"1477.01,1423.18 1477.01,47.2441 \"/>\n",
       "<polyline clip-path=\"url(#clip992)\" style=\"stroke:#000000; stroke-linecap:round; stroke-linejoin:round; stroke-width:2; stroke-opacity:0.1; fill:none\" points=\"1884.33,1423.18 1884.33,47.2441 \"/>\n",
       "<polyline clip-path=\"url(#clip992)\" style=\"stroke:#000000; stroke-linecap:round; stroke-linejoin:round; stroke-width:2; stroke-opacity:0.1; fill:none\" points=\"2291.66,1423.18 2291.66,47.2441 \"/>\n",
       "<polyline clip-path=\"url(#clip990)\" style=\"stroke:#000000; stroke-linecap:round; stroke-linejoin:round; stroke-width:4; stroke-opacity:1; fill:none\" points=\"193.936,1423.18 2352.76,1423.18 \"/>\n",
       "<polyline clip-path=\"url(#clip990)\" style=\"stroke:#000000; stroke-linecap:round; stroke-linejoin:round; stroke-width:4; stroke-opacity:1; fill:none\" points=\"255.035,1423.18 255.035,1404.28 \"/>\n",
       "<polyline clip-path=\"url(#clip990)\" style=\"stroke:#000000; stroke-linecap:round; stroke-linejoin:round; stroke-width:4; stroke-opacity:1; fill:none\" points=\"662.359,1423.18 662.359,1404.28 \"/>\n",
       "<polyline clip-path=\"url(#clip990)\" style=\"stroke:#000000; stroke-linecap:round; stroke-linejoin:round; stroke-width:4; stroke-opacity:1; fill:none\" points=\"1069.68,1423.18 1069.68,1404.28 \"/>\n",
       "<polyline clip-path=\"url(#clip990)\" style=\"stroke:#000000; stroke-linecap:round; stroke-linejoin:round; stroke-width:4; stroke-opacity:1; fill:none\" points=\"1477.01,1423.18 1477.01,1404.28 \"/>\n",
       "<polyline clip-path=\"url(#clip990)\" style=\"stroke:#000000; stroke-linecap:round; stroke-linejoin:round; stroke-width:4; stroke-opacity:1; fill:none\" points=\"1884.33,1423.18 1884.33,1404.28 \"/>\n",
       "<polyline clip-path=\"url(#clip990)\" style=\"stroke:#000000; stroke-linecap:round; stroke-linejoin:round; stroke-width:4; stroke-opacity:1; fill:none\" points=\"2291.66,1423.18 2291.66,1404.28 \"/>\n",
       "<path clip-path=\"url(#clip990)\" d=\"M255.035 1454.1 Q251.424 1454.1 249.595 1457.66 Q247.789 1461.2 247.789 1468.33 Q247.789 1475.44 249.595 1479.01 Q251.424 1482.55 255.035 1482.55 Q258.669 1482.55 260.474 1479.01 Q262.303 1475.44 262.303 1468.33 Q262.303 1461.2 260.474 1457.66 Q258.669 1454.1 255.035 1454.1 M255.035 1450.39 Q260.845 1450.39 263.9 1455 Q266.979 1459.58 266.979 1468.33 Q266.979 1477.06 263.9 1481.67 Q260.845 1486.25 255.035 1486.25 Q249.225 1486.25 246.146 1481.67 Q243.09 1477.06 243.09 1468.33 Q243.09 1459.58 246.146 1455 Q249.225 1450.39 255.035 1450.39 Z\" fill=\"#000000\" fill-rule=\"nonzero\" fill-opacity=\"1\" /><path clip-path=\"url(#clip990)\" d=\"M652.741 1481.64 L660.38 1481.64 L660.38 1455.28 L652.07 1456.95 L652.07 1452.69 L660.334 1451.02 L665.01 1451.02 L665.01 1481.64 L672.648 1481.64 L672.648 1485.58 L652.741 1485.58 L652.741 1481.64 Z\" fill=\"#000000\" fill-rule=\"nonzero\" fill-opacity=\"1\" /><path clip-path=\"url(#clip990)\" d=\"M1064.34 1481.64 L1080.66 1481.64 L1080.66 1485.58 L1058.71 1485.58 L1058.71 1481.64 Q1061.37 1478.89 1065.96 1474.26 Q1070.56 1469.61 1071.74 1468.27 Q1073.99 1465.74 1074.87 1464.01 Q1075.77 1462.25 1075.77 1460.56 Q1075.77 1457.8 1073.83 1456.07 Q1071.91 1454.33 1068.8 1454.33 Q1066.61 1454.33 1064.15 1455.09 Q1061.72 1455.86 1058.94 1457.41 L1058.94 1452.69 Q1061.77 1451.55 1064.22 1450.97 Q1066.67 1450.39 1068.71 1450.39 Q1074.08 1450.39 1077.28 1453.08 Q1080.47 1455.77 1080.47 1460.26 Q1080.47 1462.39 1079.66 1464.31 Q1078.87 1466.2 1076.77 1468.8 Q1076.19 1469.47 1073.09 1472.69 Q1069.98 1475.88 1064.34 1481.64 Z\" fill=\"#000000\" fill-rule=\"nonzero\" fill-opacity=\"1\" /><path clip-path=\"url(#clip990)\" d=\"M1481.26 1466.95 Q1484.61 1467.66 1486.49 1469.93 Q1488.39 1472.2 1488.39 1475.53 Q1488.39 1480.65 1484.87 1483.45 Q1481.35 1486.25 1474.87 1486.25 Q1472.69 1486.25 1470.38 1485.81 Q1468.08 1485.39 1465.63 1484.54 L1465.63 1480.02 Q1467.58 1481.16 1469.89 1481.74 Q1472.2 1482.32 1474.73 1482.32 Q1479.13 1482.32 1481.42 1480.58 Q1483.73 1478.84 1483.73 1475.53 Q1483.73 1472.48 1481.58 1470.77 Q1479.45 1469.03 1475.63 1469.03 L1471.6 1469.03 L1471.6 1465.19 L1475.82 1465.19 Q1479.27 1465.19 1481.09 1463.82 Q1482.92 1462.43 1482.92 1459.84 Q1482.92 1457.18 1481.02 1455.77 Q1479.15 1454.33 1475.63 1454.33 Q1473.71 1454.33 1471.51 1454.75 Q1469.31 1455.16 1466.67 1456.04 L1466.67 1451.88 Q1469.33 1451.14 1471.65 1450.77 Q1473.99 1450.39 1476.05 1450.39 Q1481.37 1450.39 1484.47 1452.83 Q1487.58 1455.23 1487.58 1459.35 Q1487.58 1462.22 1485.93 1464.21 Q1484.29 1466.18 1481.26 1466.95 Z\" fill=\"#000000\" fill-rule=\"nonzero\" fill-opacity=\"1\" /><path clip-path=\"url(#clip990)\" d=\"M1887.34 1455.09 L1875.54 1473.54 L1887.34 1473.54 L1887.34 1455.09 M1886.12 1451.02 L1891.99 1451.02 L1891.99 1473.54 L1896.93 1473.54 L1896.93 1477.43 L1891.99 1477.43 L1891.99 1485.58 L1887.34 1485.58 L1887.34 1477.43 L1871.74 1477.43 L1871.74 1472.92 L1886.12 1451.02 Z\" fill=\"#000000\" fill-rule=\"nonzero\" fill-opacity=\"1\" /><path clip-path=\"url(#clip990)\" d=\"M2281.94 1451.02 L2300.29 1451.02 L2300.29 1454.96 L2286.22 1454.96 L2286.22 1463.43 Q2287.24 1463.08 2288.25 1462.92 Q2289.27 1462.73 2290.29 1462.73 Q2296.08 1462.73 2299.46 1465.9 Q2302.84 1469.08 2302.84 1474.49 Q2302.84 1480.07 2299.37 1483.17 Q2295.89 1486.25 2289.57 1486.25 Q2287.4 1486.25 2285.13 1485.88 Q2282.88 1485.51 2280.48 1484.77 L2280.48 1480.07 Q2282.56 1481.2 2284.78 1481.76 Q2287 1482.32 2289.48 1482.32 Q2293.49 1482.32 2295.82 1480.21 Q2298.16 1478.1 2298.16 1474.49 Q2298.16 1470.88 2295.82 1468.77 Q2293.49 1466.67 2289.48 1466.67 Q2287.61 1466.67 2285.73 1467.08 Q2283.88 1467.5 2281.94 1468.38 L2281.94 1451.02 Z\" fill=\"#000000\" fill-rule=\"nonzero\" fill-opacity=\"1\" /><path clip-path=\"url(#clip990)\" d=\"M1221.66 1522.27 L1221.66 1532.4 L1233.72 1532.4 L1233.72 1536.95 L1221.66 1536.95 L1221.66 1556.3 Q1221.66 1560.66 1222.83 1561.9 Q1224.04 1563.14 1227.7 1563.14 L1233.72 1563.14 L1233.72 1568.04 L1227.7 1568.04 Q1220.92 1568.04 1218.35 1565.53 Q1215.77 1562.98 1215.77 1556.3 L1215.77 1536.95 L1211.47 1536.95 L1211.47 1532.4 L1215.77 1532.4 L1215.77 1522.27 L1221.66 1522.27 Z\" fill=\"#000000\" fill-rule=\"nonzero\" fill-opacity=\"1\" /><path clip-path=\"url(#clip990)\" d=\"M1261.6 1518.52 L1275.1 1518.52 L1275.1 1523.07 L1267.46 1523.07 L1267.46 1572.09 L1275.1 1572.09 L1275.1 1576.64 L1261.6 1576.64 L1261.6 1518.52 Z\" fill=\"#000000\" fill-rule=\"nonzero\" fill-opacity=\"1\" /><path clip-path=\"url(#clip990)\" d=\"M1310.3 1533.45 L1310.3 1538.98 Q1307.82 1537.71 1305.14 1537.07 Q1302.47 1536.44 1299.6 1536.44 Q1295.24 1536.44 1293.05 1537.77 Q1290.88 1539.11 1290.88 1541.79 Q1290.88 1543.82 1292.44 1545 Q1294 1546.15 1298.71 1547.2 L1300.72 1547.64 Q1306.96 1548.98 1309.57 1551.43 Q1312.21 1553.85 1312.21 1558.21 Q1312.21 1563.17 1308.26 1566.07 Q1304.35 1568.97 1297.47 1568.97 Q1294.61 1568.97 1291.49 1568.39 Q1288.4 1567.85 1284.96 1566.74 L1284.96 1560.69 Q1288.21 1562.38 1291.36 1563.24 Q1294.51 1564.07 1297.6 1564.07 Q1301.74 1564.07 1303.97 1562.66 Q1306.19 1561.23 1306.19 1558.65 Q1306.19 1556.27 1304.57 1554.99 Q1302.98 1553.72 1297.54 1552.54 L1295.5 1552.07 Q1290.06 1550.92 1287.64 1548.56 Q1285.22 1546.18 1285.22 1542.04 Q1285.22 1537.01 1288.78 1534.27 Q1292.35 1531.54 1298.9 1531.54 Q1302.15 1531.54 1305.02 1532.01 Q1307.88 1532.49 1310.3 1533.45 Z\" fill=\"#000000\" fill-rule=\"nonzero\" fill-opacity=\"1\" /><path clip-path=\"url(#clip990)\" d=\"M1335.22 1518.52 L1335.22 1576.64 L1321.73 1576.64 L1321.73 1572.09 L1329.33 1572.09 L1329.33 1523.07 L1321.73 1523.07 L1321.73 1518.52 L1335.22 1518.52 Z\" fill=\"#000000\" fill-rule=\"nonzero\" fill-opacity=\"1\" /><polyline clip-path=\"url(#clip992)\" style=\"stroke:#000000; stroke-linecap:round; stroke-linejoin:round; stroke-width:2; stroke-opacity:0.1; fill:none\" points=\"193.936,1276.19 2352.76,1276.19 \"/>\n",
       "<polyline clip-path=\"url(#clip992)\" style=\"stroke:#000000; stroke-linecap:round; stroke-linejoin:round; stroke-width:2; stroke-opacity:0.1; fill:none\" points=\"193.936,1005.74 2352.76,1005.74 \"/>\n",
       "<polyline clip-path=\"url(#clip992)\" style=\"stroke:#000000; stroke-linecap:round; stroke-linejoin:round; stroke-width:2; stroke-opacity:0.1; fill:none\" points=\"193.936,735.281 2352.76,735.281 \"/>\n",
       "<polyline clip-path=\"url(#clip992)\" style=\"stroke:#000000; stroke-linecap:round; stroke-linejoin:round; stroke-width:2; stroke-opacity:0.1; fill:none\" points=\"193.936,464.825 2352.76,464.825 \"/>\n",
       "<polyline clip-path=\"url(#clip992)\" style=\"stroke:#000000; stroke-linecap:round; stroke-linejoin:round; stroke-width:2; stroke-opacity:0.1; fill:none\" points=\"193.936,194.368 2352.76,194.368 \"/>\n",
       "<polyline clip-path=\"url(#clip990)\" style=\"stroke:#000000; stroke-linecap:round; stroke-linejoin:round; stroke-width:4; stroke-opacity:1; fill:none\" points=\"193.936,1423.18 193.936,47.2441 \"/>\n",
       "<polyline clip-path=\"url(#clip990)\" style=\"stroke:#000000; stroke-linecap:round; stroke-linejoin:round; stroke-width:4; stroke-opacity:1; fill:none\" points=\"193.936,1276.19 212.834,1276.19 \"/>\n",
       "<polyline clip-path=\"url(#clip990)\" style=\"stroke:#000000; stroke-linecap:round; stroke-linejoin:round; stroke-width:4; stroke-opacity:1; fill:none\" points=\"193.936,1005.74 212.834,1005.74 \"/>\n",
       "<polyline clip-path=\"url(#clip990)\" style=\"stroke:#000000; stroke-linecap:round; stroke-linejoin:round; stroke-width:4; stroke-opacity:1; fill:none\" points=\"193.936,735.281 212.834,735.281 \"/>\n",
       "<polyline clip-path=\"url(#clip990)\" style=\"stroke:#000000; stroke-linecap:round; stroke-linejoin:round; stroke-width:4; stroke-opacity:1; fill:none\" points=\"193.936,464.825 212.834,464.825 \"/>\n",
       "<polyline clip-path=\"url(#clip990)\" style=\"stroke:#000000; stroke-linecap:round; stroke-linejoin:round; stroke-width:4; stroke-opacity:1; fill:none\" points=\"193.936,194.368 212.834,194.368 \"/>\n",
       "<path clip-path=\"url(#clip990)\" d=\"M50.9921 1276.65 L80.6679 1276.65 L80.6679 1280.58 L50.9921 1280.58 L50.9921 1276.65 Z\" fill=\"#000000\" fill-rule=\"nonzero\" fill-opacity=\"1\" /><path clip-path=\"url(#clip990)\" d=\"M90.8067 1258.91 L109.163 1258.91 L109.163 1262.85 L95.0891 1262.85 L95.0891 1271.32 Q96.1076 1270.97 97.1261 1270.81 Q98.1447 1270.63 99.1632 1270.63 Q104.95 1270.63 108.33 1273.8 Q111.709 1276.97 111.709 1282.39 Q111.709 1287.97 108.237 1291.07 Q104.765 1294.15 98.4456 1294.15 Q96.2697 1294.15 94.0012 1293.78 Q91.7558 1293.41 89.3484 1292.66 L89.3484 1287.97 Q91.4317 1289.1 93.6539 1289.66 Q95.8761 1290.21 98.353 1290.21 Q102.358 1290.21 104.696 1288.1 Q107.033 1286 107.033 1282.39 Q107.033 1278.78 104.696 1276.67 Q102.358 1274.56 98.353 1274.56 Q96.478 1274.56 94.603 1274.98 Q92.7512 1275.4 90.8067 1276.28 L90.8067 1258.91 Z\" fill=\"#000000\" fill-rule=\"nonzero\" fill-opacity=\"1\" /><path clip-path=\"url(#clip990)\" d=\"M120.922 1287.59 L125.807 1287.59 L125.807 1293.47 L120.922 1293.47 L120.922 1287.59 Z\" fill=\"#000000\" fill-rule=\"nonzero\" fill-opacity=\"1\" /><path clip-path=\"url(#clip990)\" d=\"M145.992 1261.99 Q142.381 1261.99 140.552 1265.56 Q138.746 1269.1 138.746 1276.23 Q138.746 1283.34 140.552 1286.9 Q142.381 1290.44 145.992 1290.44 Q149.626 1290.44 151.431 1286.9 Q153.26 1283.34 153.26 1276.23 Q153.26 1269.1 151.431 1265.56 Q149.626 1261.99 145.992 1261.99 M145.992 1258.29 Q151.802 1258.29 154.857 1262.9 Q157.936 1267.48 157.936 1276.23 Q157.936 1284.96 154.857 1289.56 Q151.802 1294.15 145.992 1294.15 Q140.181 1294.15 137.103 1289.56 Q134.047 1284.96 134.047 1276.23 Q134.047 1267.48 137.103 1262.9 Q140.181 1258.29 145.992 1258.29 Z\" fill=\"#000000\" fill-rule=\"nonzero\" fill-opacity=\"1\" /><path clip-path=\"url(#clip990)\" d=\"M51.9875 1006.19 L81.6633 1006.19 L81.6633 1010.12 L51.9875 1010.12 L51.9875 1006.19 Z\" fill=\"#000000\" fill-rule=\"nonzero\" fill-opacity=\"1\" /><path clip-path=\"url(#clip990)\" d=\"M95.7836 1019.08 L112.103 1019.08 L112.103 1023.02 L90.1586 1023.02 L90.1586 1019.08 Q92.8206 1016.33 97.4039 1011.7 Q102.01 1007.05 103.191 1005.7 Q105.436 1003.18 106.316 1001.44 Q107.219 999.685 107.219 997.995 Q107.219 995.24 105.274 993.504 Q103.353 991.768 100.251 991.768 Q98.0521 991.768 95.5984 992.532 Q93.1678 993.296 90.3901 994.847 L90.3901 990.125 Q93.2141 988.99 95.6678 988.412 Q98.1215 987.833 100.159 987.833 Q105.529 987.833 108.723 990.518 Q111.918 993.203 111.918 997.694 Q111.918 999.824 111.108 1001.74 Q110.321 1003.64 108.214 1006.24 Q107.635 1006.91 104.534 1010.12 Q101.432 1013.32 95.7836 1019.08 Z\" fill=\"#000000\" fill-rule=\"nonzero\" fill-opacity=\"1\" /><path clip-path=\"url(#clip990)\" d=\"M121.918 1017.14 L126.802 1017.14 L126.802 1023.02 L121.918 1023.02 L121.918 1017.14 Z\" fill=\"#000000\" fill-rule=\"nonzero\" fill-opacity=\"1\" /><path clip-path=\"url(#clip990)\" d=\"M137.033 988.458 L155.39 988.458 L155.39 992.393 L141.316 992.393 L141.316 1000.87 Q142.334 1000.52 143.353 1000.36 Q144.371 1000.17 145.39 1000.17 Q151.177 1000.17 154.556 1003.34 Q157.936 1006.51 157.936 1011.93 Q157.936 1017.51 154.464 1020.61 Q150.992 1023.69 144.672 1023.69 Q142.496 1023.69 140.228 1023.32 Q137.982 1022.95 135.575 1022.21 L135.575 1017.51 Q137.658 1018.64 139.881 1019.2 Q142.103 1019.75 144.58 1019.75 Q148.584 1019.75 150.922 1017.65 Q153.26 1015.54 153.26 1011.93 Q153.26 1008.32 150.922 1006.21 Q148.584 1004.11 144.58 1004.11 Q142.705 1004.11 140.83 1004.52 Q138.978 1004.94 137.033 1005.82 L137.033 988.458 Z\" fill=\"#000000\" fill-rule=\"nonzero\" fill-opacity=\"1\" /><path clip-path=\"url(#clip990)\" d=\"M100.76 721.08 Q97.1493 721.08 95.3206 724.645 Q93.515 728.187 93.515 735.316 Q93.515 742.423 95.3206 745.987 Q97.1493 749.529 100.76 749.529 Q104.395 749.529 106.2 745.987 Q108.029 742.423 108.029 735.316 Q108.029 728.187 106.2 724.645 Q104.395 721.08 100.76 721.08 M100.76 717.376 Q106.571 717.376 109.626 721.983 Q112.705 726.566 112.705 735.316 Q112.705 744.043 109.626 748.649 Q106.571 753.233 100.76 753.233 Q94.9502 753.233 91.8715 748.649 Q88.816 744.043 88.816 735.316 Q88.816 726.566 91.8715 721.983 Q94.9502 717.376 100.76 717.376 Z\" fill=\"#000000\" fill-rule=\"nonzero\" fill-opacity=\"1\" /><path clip-path=\"url(#clip990)\" d=\"M120.922 746.682 L125.807 746.682 L125.807 752.561 L120.922 752.561 L120.922 746.682 Z\" fill=\"#000000\" fill-rule=\"nonzero\" fill-opacity=\"1\" /><path clip-path=\"url(#clip990)\" d=\"M145.992 721.08 Q142.381 721.08 140.552 724.645 Q138.746 728.187 138.746 735.316 Q138.746 742.423 140.552 745.987 Q142.381 749.529 145.992 749.529 Q149.626 749.529 151.431 745.987 Q153.26 742.423 153.26 735.316 Q153.26 728.187 151.431 724.645 Q149.626 721.08 145.992 721.08 M145.992 717.376 Q151.802 717.376 154.857 721.983 Q157.936 726.566 157.936 735.316 Q157.936 744.043 154.857 748.649 Q151.802 753.233 145.992 753.233 Q140.181 753.233 137.103 748.649 Q134.047 744.043 134.047 735.316 Q134.047 726.566 137.103 721.983 Q140.181 717.376 145.992 717.376 Z\" fill=\"#000000\" fill-rule=\"nonzero\" fill-opacity=\"1\" /><path clip-path=\"url(#clip990)\" d=\"M95.7836 478.17 L112.103 478.17 L112.103 482.105 L90.1586 482.105 L90.1586 478.17 Q92.8206 475.415 97.4039 470.785 Q102.01 466.133 103.191 464.79 Q105.436 462.267 106.316 460.531 Q107.219 458.772 107.219 457.082 Q107.219 454.327 105.274 452.591 Q103.353 450.855 100.251 450.855 Q98.0521 450.855 95.5984 451.619 Q93.1678 452.383 90.3901 453.934 L90.3901 449.212 Q93.2141 448.077 95.6678 447.499 Q98.1215 446.92 100.159 446.92 Q105.529 446.92 108.723 449.605 Q111.918 452.29 111.918 456.781 Q111.918 458.911 111.108 460.832 Q110.321 462.73 108.214 465.323 Q107.635 465.994 104.534 469.211 Q101.432 472.406 95.7836 478.17 Z\" fill=\"#000000\" fill-rule=\"nonzero\" fill-opacity=\"1\" /><path clip-path=\"url(#clip990)\" d=\"M121.918 476.225 L126.802 476.225 L126.802 482.105 L121.918 482.105 L121.918 476.225 Z\" fill=\"#000000\" fill-rule=\"nonzero\" fill-opacity=\"1\" /><path clip-path=\"url(#clip990)\" d=\"M137.033 447.545 L155.39 447.545 L155.39 451.48 L141.316 451.48 L141.316 459.952 Q142.334 459.605 143.353 459.443 Q144.371 459.258 145.39 459.258 Q151.177 459.258 154.556 462.429 Q157.936 465.6 157.936 471.017 Q157.936 476.596 154.464 479.697 Q150.992 482.776 144.672 482.776 Q142.496 482.776 140.228 482.406 Q137.982 482.035 135.575 481.295 L135.575 476.596 Q137.658 477.73 139.881 478.285 Q142.103 478.841 144.58 478.841 Q148.584 478.841 150.922 476.735 Q153.26 474.628 153.26 471.017 Q153.26 467.406 150.922 465.299 Q148.584 463.193 144.58 463.193 Q142.705 463.193 140.83 463.61 Q138.978 464.026 137.033 464.906 L137.033 447.545 Z\" fill=\"#000000\" fill-rule=\"nonzero\" fill-opacity=\"1\" /><path clip-path=\"url(#clip990)\" d=\"M90.8067 177.088 L109.163 177.088 L109.163 181.023 L95.0891 181.023 L95.0891 189.496 Q96.1076 189.148 97.1261 188.986 Q98.1447 188.801 99.1632 188.801 Q104.95 188.801 108.33 191.972 Q111.709 195.144 111.709 200.56 Q111.709 206.139 108.237 209.241 Q104.765 212.32 98.4456 212.32 Q96.2697 212.32 94.0012 211.949 Q91.7558 211.579 89.3484 210.838 L89.3484 206.139 Q91.4317 207.273 93.6539 207.829 Q95.8761 208.384 98.353 208.384 Q102.358 208.384 104.696 206.278 Q107.033 204.171 107.033 200.56 Q107.033 196.949 104.696 194.843 Q102.358 192.736 98.353 192.736 Q96.478 192.736 94.603 193.153 Q92.7512 193.57 90.8067 194.449 L90.8067 177.088 Z\" fill=\"#000000\" fill-rule=\"nonzero\" fill-opacity=\"1\" /><path clip-path=\"url(#clip990)\" d=\"M120.922 205.769 L125.807 205.769 L125.807 211.648 L120.922 211.648 L120.922 205.769 Z\" fill=\"#000000\" fill-rule=\"nonzero\" fill-opacity=\"1\" /><path clip-path=\"url(#clip990)\" d=\"M145.992 180.167 Q142.381 180.167 140.552 183.732 Q138.746 187.273 138.746 194.403 Q138.746 201.509 140.552 205.074 Q142.381 208.616 145.992 208.616 Q149.626 208.616 151.431 205.074 Q153.26 201.509 153.26 194.403 Q153.26 187.273 151.431 183.732 Q149.626 180.167 145.992 180.167 M145.992 176.463 Q151.802 176.463 154.857 181.07 Q157.936 185.653 157.936 194.403 Q157.936 203.13 154.857 207.736 Q151.802 212.32 145.992 212.32 Q140.181 212.32 137.103 207.736 Q134.047 203.13 134.047 194.403 Q134.047 185.653 137.103 181.07 Q140.181 176.463 145.992 176.463 Z\" fill=\"#000000\" fill-rule=\"nonzero\" fill-opacity=\"1\" /><polyline clip-path=\"url(#clip992)\" style=\"stroke:#009af9; stroke-linecap:round; stroke-linejoin:round; stroke-width:4; stroke-opacity:1; fill:none\" points=\"255.035,681.19 295.767,677.972 336.5,668.635 377.232,654.107 417.964,635.827 458.697,615.609 499.429,595.458 540.162,577.371 580.894,563.143 621.627,554.185 662.359,551.385 703.092,555.02 743.824,564.731 784.557,579.553 825.289,598.018 866.021,618.294 906.754,638.37 947.486,656.256 988.219,670.177 1028.95,678.754 1069.68,681.135 1110.42,677.084 1151.15,667.003 1191.88,651.893 1232.61,633.251 1273.35,612.925 1314.08,592.933 1354.81,575.256 1395.54,561.647 1436.28,553.456 1477.01,551.496 1517.74,555.96 1558.47,566.406 1599.21,581.798 1639.94,600.61 1680.67,620.976 1721.4,640.876 1762.14,658.337 1802.87,671.627 1843.6,679.429 1884.33,680.968 1925.07,676.092 1965.8,665.285 2006.53,649.618 2047.26,630.645 2087.99,610.247 2128.73,590.448 2169.46,573.211 2210.19,560.244 2250.92,552.835 2291.66,551.718 \"/>\n",
       "<polyline clip-path=\"url(#clip992)\" style=\"stroke:#e26f46; stroke-linecap:round; stroke-linejoin:round; stroke-width:4; stroke-opacity:1; fill:none\" points=\"255.035,735.281 295.767,671.448 336.5,613.945 377.232,568.475 417.964,539.547 458.697,530.03 499.429,540.868 540.162,570.985 580.894,617.396 621.627,675.497 662.359,739.527 703.092,803.136 743.824,860.016 784.557,904.526 825.289,932.252 866.021,940.445 906.754,928.291 947.486,896.998 988.219,849.666 1028.95,790.992 1069.68,726.792 1110.42,663.435 1151.15,607.202 1191.88,563.671 1232.61,537.158 1273.35,530.294 1314.08,543.757 1354.81,576.215 1395.54,624.446 1436.28,683.669 1477.01,748.011 1517.74,811.09 1558.47,866.651 1599.21,909.184 1639.94,934.472 1680.67,940.006 1721.4,925.237 1762.14,891.631 1802.87,842.519 1843.6,782.773 1884.33,718.317 1925.07,655.544 1965.8,600.678 2006.53,559.16 2047.26,535.109 2087.99,530.908 2128.73,546.975 2169.46,581.716 2210.19,631.686 2250.92,691.93 2291.66,756.473 \"/>\n",
       "<polyline clip-path=\"url(#clip992)\" style=\"stroke:#3da44d; stroke-linecap:round; stroke-linejoin:round; stroke-width:4; stroke-opacity:1; fill:none\" points=\"255.035,681.19 295.767,677.972 336.5,668.635 377.232,654.107 417.964,635.827 458.697,615.609 499.429,595.458 540.162,577.371 580.894,563.143 621.627,554.185 662.359,551.385 703.092,555.02 743.824,564.731 784.557,579.553 825.289,598.018 866.021,618.294 906.754,638.37 947.486,656.256 988.219,670.177 1028.95,678.754 1069.68,681.135 1110.42,677.084 1151.15,667.003 1191.88,651.893 1232.61,633.251 1273.35,612.925 1314.08,592.933 1354.81,575.256 1395.54,561.647 1436.28,553.456 1477.01,551.496 1517.74,555.96 1558.47,566.406 1599.21,581.798 1639.94,600.61 1680.67,620.976 1721.4,640.876 1762.14,658.337 1802.87,671.627 1843.6,679.429 1884.33,680.968 1925.07,676.092 1965.8,665.285 2006.53,649.618 2047.26,630.645 2087.99,610.247 2128.73,590.448 2169.46,573.211 2210.19,560.244 2250.92,552.835 2291.66,551.718 \"/>\n",
       "<polyline clip-path=\"url(#clip992)\" style=\"stroke:#c271d2; stroke-linecap:round; stroke-linejoin:round; stroke-width:4; stroke-opacity:1; fill:none\" points=\"255.035,735.281 295.767,671.448 336.5,613.945 377.232,568.475 417.964,539.547 458.697,530.03 499.429,540.868 540.162,570.985 580.894,617.396 621.627,675.497 662.359,739.527 703.092,803.136 743.824,860.016 784.557,904.526 825.289,932.252 866.021,940.445 906.754,928.291 947.486,896.998 988.219,849.666 1028.95,790.992 1069.68,726.792 1110.42,663.435 1151.15,607.202 1191.88,563.671 1232.61,537.158 1273.35,530.294 1314.08,543.757 1354.81,576.215 1395.54,624.446 1436.28,683.669 1477.01,748.011 1517.74,811.09 1558.47,866.651 1599.21,909.184 1639.94,934.472 1680.67,940.006 1721.4,925.237 1762.14,891.631 1802.87,842.519 1843.6,782.773 1884.33,718.317 1925.07,655.544 1965.8,600.678 2006.53,559.16 2047.26,535.109 2087.99,530.908 2128.73,546.975 2169.46,581.716 2210.19,631.686 2250.92,691.93 2291.66,756.473 \"/>\n",
       "<polyline clip-path=\"url(#clip992)\" style=\"stroke:#ac8d18; stroke-linecap:round; stroke-linejoin:round; stroke-width:4; stroke-opacity:1; fill:none\" points=\"255.035,86.1857 295.767,118.371 336.5,211.735 377.232,357.019 417.964,539.814 458.697,741.995 499.429,943.509 540.162,1124.37 580.894,1266.65 621.627,1356.24 662.359,1384.24 703.092,1347.88 743.824,1250.78 784.557,1102.55 825.289,917.904 866.021,715.145 906.754,514.382 947.486,335.526 988.219,196.314 1028.95,110.55 1069.68,86.7411 1110.42,127.247 1151.15,228.052 1191.88,379.158 1232.61,565.581 1273.35,768.833 1314.08,968.757 1354.81,1145.53 1395.54,1281.62 1436.28,1363.52 1477.01,1383.13 1517.74,1338.49 1558.47,1234.03 1599.21,1080.1 1639.94,891.987 1680.67,688.329 1721.4,489.328 1762.14,314.718 1802.87,181.815 1843.6,103.799 1884.33,88.4063 1925.07,137.164 1965.8,245.237 2006.53,401.907 2047.26,591.638 2087.99,795.614 2128.73,993.606 2169.46,1165.98 2210.19,1295.64 2250.92,1369.74 2291.66,1380.91 \"/>\n",
       "<path clip-path=\"url(#clip990)\" d=\"M1581.03 404.149 L2280.8 404.149 L2280.8 93.1086 L1581.03 93.1086  Z\" fill=\"#ffffff\" fill-rule=\"evenodd\" fill-opacity=\"1\"/>\n",
       "<polyline clip-path=\"url(#clip990)\" style=\"stroke:#000000; stroke-linecap:round; stroke-linejoin:round; stroke-width:4; stroke-opacity:1; fill:none\" points=\"1581.03,404.149 2280.8,404.149 2280.8,93.1086 1581.03,93.1086 1581.03,404.149 \"/>\n",
       "<polyline clip-path=\"url(#clip990)\" style=\"stroke:#009af9; stroke-linecap:round; stroke-linejoin:round; stroke-width:4; stroke-opacity:1; fill:none\" points=\"1605.01,144.949 1748.94,144.949 \"/>\n",
       "<path clip-path=\"url(#clip990)\" d=\"M1793.27 141.28 Q1794.87 138.409 1797.09 137.044 Q1799.31 135.678 1802.32 135.678 Q1806.37 135.678 1808.57 138.525 Q1810.77 141.349 1810.77 146.581 L1810.77 162.229 L1806.49 162.229 L1806.49 146.719 Q1806.49 142.993 1805.17 141.187 Q1803.85 139.382 1801.14 139.382 Q1797.83 139.382 1795.91 141.581 Q1793.99 143.78 1793.99 147.576 L1793.99 162.229 L1789.7 162.229 L1789.7 146.719 Q1789.7 142.969 1788.38 141.187 Q1787.07 139.382 1784.31 139.382 Q1781.05 139.382 1779.13 141.604 Q1777.2 143.803 1777.2 147.576 L1777.2 162.229 L1772.92 162.229 L1772.92 136.303 L1777.2 136.303 L1777.2 140.331 Q1778.66 137.946 1780.7 136.812 Q1782.74 135.678 1785.54 135.678 Q1788.36 135.678 1790.33 137.113 Q1792.32 138.548 1793.27 141.28 Z\" fill=\"#000000\" fill-rule=\"nonzero\" fill-opacity=\"1\" /><path clip-path=\"url(#clip990)\" d=\"M1831.05 149.196 Q1825.88 149.196 1823.89 150.377 Q1821.9 151.557 1821.9 154.405 Q1821.9 156.673 1823.38 158.016 Q1824.89 159.335 1827.46 159.335 Q1831 159.335 1833.13 156.835 Q1835.28 154.312 1835.28 150.145 L1835.28 149.196 L1831.05 149.196 M1839.54 147.437 L1839.54 162.229 L1835.28 162.229 L1835.28 158.293 Q1833.82 160.655 1831.65 161.789 Q1829.47 162.9 1826.32 162.9 Q1822.34 162.9 1819.98 160.678 Q1817.64 158.432 1817.64 154.682 Q1817.64 150.307 1820.56 148.085 Q1823.5 145.863 1829.31 145.863 L1835.28 145.863 L1835.28 145.446 Q1835.28 142.507 1833.34 140.909 Q1831.42 139.289 1827.92 139.289 Q1825.7 139.289 1823.59 139.821 Q1821.49 140.354 1819.54 141.419 L1819.54 137.483 Q1821.88 136.581 1824.08 136.141 Q1826.28 135.678 1828.36 135.678 Q1833.99 135.678 1836.76 138.594 Q1839.54 141.511 1839.54 147.437 Z\" fill=\"#000000\" fill-rule=\"nonzero\" fill-opacity=\"1\" /><path clip-path=\"url(#clip990)\" d=\"M1864.84 137.067 L1864.84 141.094 Q1863.04 140.169 1861.09 139.706 Q1859.15 139.243 1857.07 139.243 Q1853.89 139.243 1852.3 140.215 Q1850.72 141.187 1850.72 143.131 Q1850.72 144.613 1851.86 145.469 Q1852.99 146.303 1856.42 147.067 L1857.88 147.391 Q1862.41 148.363 1864.31 150.145 Q1866.23 151.905 1866.23 155.076 Q1866.23 158.687 1863.36 160.793 Q1860.51 162.9 1855.51 162.9 Q1853.43 162.9 1851.16 162.483 Q1848.92 162.09 1846.42 161.28 L1846.42 156.881 Q1848.78 158.108 1851.07 158.733 Q1853.36 159.335 1855.61 159.335 Q1858.62 159.335 1860.24 158.317 Q1861.86 157.275 1861.86 155.4 Q1861.86 153.664 1860.68 152.738 Q1859.52 151.812 1855.56 150.956 L1854.08 150.608 Q1850.12 149.775 1848.36 148.062 Q1846.6 146.326 1846.6 143.317 Q1846.6 139.659 1849.19 137.669 Q1851.79 135.678 1856.56 135.678 Q1858.92 135.678 1861 136.025 Q1863.08 136.372 1864.84 137.067 Z\" fill=\"#000000\" fill-rule=\"nonzero\" fill-opacity=\"1\" /><path clip-path=\"url(#clip990)\" d=\"M1889.54 137.067 L1889.54 141.094 Q1887.74 140.169 1885.79 139.706 Q1883.85 139.243 1881.76 139.243 Q1878.59 139.243 1877 140.215 Q1875.42 141.187 1875.42 143.131 Q1875.42 144.613 1876.56 145.469 Q1877.69 146.303 1881.12 147.067 L1882.57 147.391 Q1887.11 148.363 1889.01 150.145 Q1890.93 151.905 1890.93 155.076 Q1890.93 158.687 1888.06 160.793 Q1885.21 162.9 1880.21 162.9 Q1878.13 162.9 1875.86 162.483 Q1873.62 162.09 1871.12 161.28 L1871.12 156.881 Q1873.48 158.108 1875.77 158.733 Q1878.06 159.335 1880.31 159.335 Q1883.31 159.335 1884.94 158.317 Q1886.56 157.275 1886.56 155.4 Q1886.56 153.664 1885.38 152.738 Q1884.22 151.812 1880.26 150.956 L1878.78 150.608 Q1874.82 149.775 1873.06 148.062 Q1871.3 146.326 1871.3 143.317 Q1871.3 139.659 1873.89 137.669 Q1876.49 135.678 1881.25 135.678 Q1883.62 135.678 1885.7 136.025 Q1887.78 136.372 1889.54 137.067 Z\" fill=\"#000000\" fill-rule=\"nonzero\" fill-opacity=\"1\" /><path clip-path=\"url(#clip990)\" d=\"M1898.31 156.349 L1903.2 156.349 L1903.2 162.229 L1898.31 162.229 L1898.31 156.349 Z\" fill=\"#000000\" fill-rule=\"nonzero\" fill-opacity=\"1\" /><path clip-path=\"url(#clip990)\" d=\"M1929.31 137.067 L1929.31 141.094 Q1927.5 140.169 1925.56 139.706 Q1923.62 139.243 1921.53 139.243 Q1918.36 139.243 1916.76 140.215 Q1915.19 141.187 1915.19 143.131 Q1915.19 144.613 1916.32 145.469 Q1917.46 146.303 1920.88 147.067 L1922.34 147.391 Q1926.88 148.363 1928.78 150.145 Q1930.7 151.905 1930.7 155.076 Q1930.7 158.687 1927.83 160.793 Q1924.98 162.9 1919.98 162.9 Q1917.9 162.9 1915.63 162.483 Q1913.38 162.09 1910.88 161.28 L1910.88 156.881 Q1913.25 158.108 1915.54 158.733 Q1917.83 159.335 1920.07 159.335 Q1923.08 159.335 1924.7 158.317 Q1926.32 157.275 1926.32 155.4 Q1926.32 153.664 1925.14 152.738 Q1923.99 151.812 1920.03 150.956 L1918.55 150.608 Q1914.59 149.775 1912.83 148.062 Q1911.07 146.326 1911.07 143.317 Q1911.07 139.659 1913.66 137.669 Q1916.25 135.678 1921.02 135.678 Q1923.38 135.678 1925.47 136.025 Q1927.55 136.372 1929.31 137.067 Z\" fill=\"#000000\" fill-rule=\"nonzero\" fill-opacity=\"1\" /><path clip-path=\"url(#clip990)\" d=\"M1962.78 126.257 Q1959.68 131.581 1958.18 136.789 Q1956.67 141.997 1956.67 147.344 Q1956.67 152.692 1958.18 157.946 Q1959.7 163.178 1962.78 168.479 L1959.08 168.479 Q1955.61 163.039 1953.87 157.784 Q1952.16 152.53 1952.16 147.344 Q1952.16 142.182 1953.87 136.951 Q1955.58 131.72 1959.08 126.257 L1962.78 126.257 Z\" fill=\"#000000\" fill-rule=\"nonzero\" fill-opacity=\"1\" /><path clip-path=\"url(#clip990)\" d=\"M1985.81 143.594 Q1989.17 144.312 1991.05 146.581 Q1992.94 148.849 1992.94 152.182 Q1992.94 157.298 1989.43 160.099 Q1985.91 162.9 1979.43 162.9 Q1977.25 162.9 1974.93 162.46 Q1972.64 162.043 1970.19 161.187 L1970.19 156.673 Q1972.13 157.807 1974.45 158.386 Q1976.76 158.965 1979.29 158.965 Q1983.68 158.965 1985.98 157.229 Q1988.29 155.493 1988.29 152.182 Q1988.29 149.127 1986.14 147.414 Q1984.01 145.678 1980.19 145.678 L1976.16 145.678 L1976.16 141.835 L1980.37 141.835 Q1983.82 141.835 1985.65 140.469 Q1987.48 139.081 1987.48 136.488 Q1987.48 133.826 1985.58 132.414 Q1983.71 130.979 1980.19 130.979 Q1978.27 130.979 1976.07 131.395 Q1973.87 131.812 1971.23 132.692 L1971.23 128.525 Q1973.89 127.784 1976.21 127.414 Q1978.55 127.044 1980.61 127.044 Q1985.93 127.044 1989.03 129.474 Q1992.13 131.882 1992.13 136.002 Q1992.13 138.872 1990.49 140.863 Q1988.85 142.831 1985.81 143.594 Z\" fill=\"#000000\" fill-rule=\"nonzero\" fill-opacity=\"1\" /><path clip-path=\"url(#clip990)\" d=\"M2015.98 143.594 Q2019.33 144.312 2021.21 146.581 Q2023.11 148.849 2023.11 152.182 Q2023.11 157.298 2019.59 160.099 Q2016.07 162.9 2009.59 162.9 Q2007.41 162.9 2005.1 162.46 Q2002.81 162.043 2000.35 161.187 L2000.35 156.673 Q2002.3 157.807 2004.61 158.386 Q2006.93 158.965 2009.45 158.965 Q2013.85 158.965 2016.14 157.229 Q2018.45 155.493 2018.45 152.182 Q2018.45 149.127 2016.3 147.414 Q2014.17 145.678 2010.35 145.678 L2006.32 145.678 L2006.32 141.835 L2010.54 141.835 Q2013.99 141.835 2015.81 140.469 Q2017.64 139.081 2017.64 136.488 Q2017.64 133.826 2015.74 132.414 Q2013.87 130.979 2010.35 130.979 Q2008.43 130.979 2006.23 131.395 Q2004.03 131.812 2001.39 132.692 L2001.39 128.525 Q2004.06 127.784 2006.37 127.414 Q2008.71 127.044 2010.77 127.044 Q2016.09 127.044 2019.19 129.474 Q2022.3 131.882 2022.3 136.002 Q2022.3 138.872 2020.65 140.863 Q2019.01 142.831 2015.98 143.594 Z\" fill=\"#000000\" fill-rule=\"nonzero\" fill-opacity=\"1\" /><path clip-path=\"url(#clip990)\" d=\"M2032.02 127.669 L2050.37 127.669 L2050.37 131.604 L2036.3 131.604 L2036.3 140.076 Q2037.32 139.729 2038.34 139.567 Q2039.36 139.382 2040.37 139.382 Q2046.16 139.382 2049.54 142.553 Q2052.92 145.724 2052.92 151.141 Q2052.92 156.719 2049.45 159.821 Q2045.98 162.9 2039.66 162.9 Q2037.48 162.9 2035.21 162.53 Q2032.97 162.159 2030.56 161.418 L2030.56 156.719 Q2032.64 157.854 2034.87 158.409 Q2037.09 158.965 2039.56 158.965 Q2043.57 158.965 2045.91 156.858 Q2048.24 154.752 2048.24 151.141 Q2048.24 147.53 2045.91 145.423 Q2043.57 143.317 2039.56 143.317 Q2037.69 143.317 2035.81 143.733 Q2033.96 144.15 2032.02 145.03 L2032.02 127.669 Z\" fill=\"#000000\" fill-rule=\"nonzero\" fill-opacity=\"1\" /><path clip-path=\"url(#clip990)\" d=\"M2062.18 127.669 L2080.54 127.669 L2080.54 131.604 L2066.46 131.604 L2066.46 140.076 Q2067.48 139.729 2068.5 139.567 Q2069.52 139.382 2070.54 139.382 Q2076.32 139.382 2079.7 142.553 Q2083.08 145.724 2083.08 151.141 Q2083.08 156.719 2079.61 159.821 Q2076.14 162.9 2069.82 162.9 Q2067.64 162.9 2065.37 162.53 Q2063.13 162.159 2060.72 161.418 L2060.72 156.719 Q2062.8 157.854 2065.03 158.409 Q2067.25 158.965 2069.73 158.965 Q2073.73 158.965 2076.07 156.858 Q2078.41 154.752 2078.41 151.141 Q2078.41 147.53 2076.07 145.423 Q2073.73 143.317 2069.73 143.317 Q2067.85 143.317 2065.98 143.733 Q2064.12 144.15 2062.18 145.03 L2062.18 127.669 Z\" fill=\"#000000\" fill-rule=\"nonzero\" fill-opacity=\"1\" /><path clip-path=\"url(#clip990)\" d=\"M2105.14 131.743 L2093.34 150.192 L2105.14 150.192 L2105.14 131.743 M2103.92 127.669 L2109.8 127.669 L2109.8 150.192 L2114.73 150.192 L2114.73 154.081 L2109.8 154.081 L2109.8 162.229 L2105.14 162.229 L2105.14 154.081 L2089.54 154.081 L2089.54 149.567 L2103.92 127.669 Z\" fill=\"#000000\" fill-rule=\"nonzero\" fill-opacity=\"1\" /><path clip-path=\"url(#clip990)\" d=\"M2135.3 131.743 L2123.5 150.192 L2135.3 150.192 L2135.3 131.743 M2134.08 127.669 L2139.96 127.669 L2139.96 150.192 L2144.89 150.192 L2144.89 154.081 L2139.96 154.081 L2139.96 162.229 L2135.3 162.229 L2135.3 154.081 L2119.7 154.081 L2119.7 149.567 L2134.08 127.669 Z\" fill=\"#000000\" fill-rule=\"nonzero\" fill-opacity=\"1\" /><path clip-path=\"url(#clip990)\" d=\"M2166.79 143.594 Q2170.14 144.312 2172.02 146.581 Q2173.92 148.849 2173.92 152.182 Q2173.92 157.298 2170.4 160.099 Q2166.88 162.9 2160.4 162.9 Q2158.22 162.9 2155.91 162.46 Q2153.61 162.043 2151.16 161.187 L2151.16 156.673 Q2153.11 157.807 2155.42 158.386 Q2157.73 158.965 2160.26 158.965 Q2164.66 158.965 2166.95 157.229 Q2169.26 155.493 2169.26 152.182 Q2169.26 149.127 2167.11 147.414 Q2164.98 145.678 2161.16 145.678 L2157.13 145.678 L2157.13 141.835 L2161.35 141.835 Q2164.79 141.835 2166.62 140.469 Q2168.45 139.081 2168.45 136.488 Q2168.45 133.826 2166.55 132.414 Q2164.68 130.979 2161.16 130.979 Q2159.24 130.979 2157.04 131.395 Q2154.84 131.812 2152.2 132.692 L2152.2 128.525 Q2154.86 127.784 2157.18 127.414 Q2159.52 127.044 2161.58 127.044 Q2166.9 127.044 2170 129.474 Q2173.11 131.882 2173.11 136.002 Q2173.11 138.872 2171.46 140.863 Q2169.82 142.831 2166.79 143.594 Z\" fill=\"#000000\" fill-rule=\"nonzero\" fill-opacity=\"1\" /><path clip-path=\"url(#clip990)\" d=\"M2186.81 158.293 L2203.13 158.293 L2203.13 162.229 L2181.18 162.229 L2181.18 158.293 Q2183.85 155.539 2188.43 150.909 Q2193.04 146.256 2194.22 144.914 Q2196.46 142.391 2197.34 140.655 Q2198.24 138.895 2198.24 137.206 Q2198.24 134.451 2196.3 132.715 Q2194.38 130.979 2191.28 130.979 Q2189.08 130.979 2186.62 131.743 Q2184.19 132.507 2181.42 134.057 L2181.42 129.335 Q2184.24 128.201 2186.69 127.622 Q2189.15 127.044 2191.18 127.044 Q2196.55 127.044 2199.75 129.729 Q2202.94 132.414 2202.94 136.905 Q2202.94 139.034 2202.13 140.956 Q2201.35 142.854 2199.24 145.446 Q2198.66 146.118 2195.56 149.335 Q2192.46 152.53 2186.81 158.293 Z\" fill=\"#000000\" fill-rule=\"nonzero\" fill-opacity=\"1\" /><path clip-path=\"url(#clip990)\" d=\"M2211.67 126.257 L2215.37 126.257 Q2218.85 131.72 2220.56 136.951 Q2222.29 142.182 2222.29 147.344 Q2222.29 152.53 2220.56 157.784 Q2218.85 163.039 2215.37 168.479 L2211.67 168.479 Q2214.75 163.178 2216.25 157.946 Q2217.78 152.692 2217.78 147.344 Q2217.78 141.997 2216.25 136.789 Q2214.75 131.581 2211.67 126.257 Z\" fill=\"#000000\" fill-rule=\"nonzero\" fill-opacity=\"1\" /><polyline clip-path=\"url(#clip990)\" style=\"stroke:#e26f46; stroke-linecap:round; stroke-linejoin:round; stroke-width:4; stroke-opacity:1; fill:none\" points=\"1605.01,196.789 1748.94,196.789 \"/>\n",
       "<path clip-path=\"url(#clip990)\" d=\"M1793.27 193.12 Q1794.87 190.249 1797.09 188.884 Q1799.31 187.518 1802.32 187.518 Q1806.37 187.518 1808.57 190.365 Q1810.77 193.189 1810.77 198.421 L1810.77 214.069 L1806.49 214.069 L1806.49 198.559 Q1806.49 194.833 1805.17 193.027 Q1803.85 191.222 1801.14 191.222 Q1797.83 191.222 1795.91 193.421 Q1793.99 195.62 1793.99 199.416 L1793.99 214.069 L1789.7 214.069 L1789.7 198.559 Q1789.7 194.809 1788.38 193.027 Q1787.07 191.222 1784.31 191.222 Q1781.05 191.222 1779.13 193.444 Q1777.2 195.643 1777.2 199.416 L1777.2 214.069 L1772.92 214.069 L1772.92 188.143 L1777.2 188.143 L1777.2 192.171 Q1778.66 189.786 1780.7 188.652 Q1782.74 187.518 1785.54 187.518 Q1788.36 187.518 1790.33 188.953 Q1792.32 190.388 1793.27 193.12 Z\" fill=\"#000000\" fill-rule=\"nonzero\" fill-opacity=\"1\" /><path clip-path=\"url(#clip990)\" d=\"M1831.05 201.036 Q1825.88 201.036 1823.89 202.217 Q1821.9 203.397 1821.9 206.245 Q1821.9 208.513 1823.38 209.856 Q1824.89 211.175 1827.46 211.175 Q1831 211.175 1833.13 208.675 Q1835.28 206.152 1835.28 201.985 L1835.28 201.036 L1831.05 201.036 M1839.54 199.277 L1839.54 214.069 L1835.28 214.069 L1835.28 210.133 Q1833.82 212.495 1831.65 213.629 Q1829.47 214.74 1826.32 214.74 Q1822.34 214.74 1819.98 212.518 Q1817.64 210.272 1817.64 206.522 Q1817.64 202.147 1820.56 199.925 Q1823.5 197.703 1829.31 197.703 L1835.28 197.703 L1835.28 197.286 Q1835.28 194.347 1833.34 192.749 Q1831.42 191.129 1827.92 191.129 Q1825.7 191.129 1823.59 191.661 Q1821.49 192.194 1819.54 193.259 L1819.54 189.323 Q1821.88 188.421 1824.08 187.981 Q1826.28 187.518 1828.36 187.518 Q1833.99 187.518 1836.76 190.434 Q1839.54 193.351 1839.54 199.277 Z\" fill=\"#000000\" fill-rule=\"nonzero\" fill-opacity=\"1\" /><path clip-path=\"url(#clip990)\" d=\"M1864.84 188.907 L1864.84 192.934 Q1863.04 192.009 1861.09 191.546 Q1859.15 191.083 1857.07 191.083 Q1853.89 191.083 1852.3 192.055 Q1850.72 193.027 1850.72 194.971 Q1850.72 196.453 1851.86 197.309 Q1852.99 198.143 1856.42 198.907 L1857.88 199.231 Q1862.41 200.203 1864.31 201.985 Q1866.23 203.745 1866.23 206.916 Q1866.23 210.527 1863.36 212.633 Q1860.51 214.74 1855.51 214.74 Q1853.43 214.74 1851.16 214.323 Q1848.92 213.93 1846.42 213.12 L1846.42 208.721 Q1848.78 209.948 1851.07 210.573 Q1853.36 211.175 1855.61 211.175 Q1858.62 211.175 1860.24 210.157 Q1861.86 209.115 1861.86 207.24 Q1861.86 205.504 1860.68 204.578 Q1859.52 203.652 1855.56 202.796 L1854.08 202.448 Q1850.12 201.615 1848.36 199.902 Q1846.6 198.166 1846.6 195.157 Q1846.6 191.499 1849.19 189.509 Q1851.79 187.518 1856.56 187.518 Q1858.92 187.518 1861 187.865 Q1863.08 188.212 1864.84 188.907 Z\" fill=\"#000000\" fill-rule=\"nonzero\" fill-opacity=\"1\" /><path clip-path=\"url(#clip990)\" d=\"M1889.54 188.907 L1889.54 192.934 Q1887.74 192.009 1885.79 191.546 Q1883.85 191.083 1881.76 191.083 Q1878.59 191.083 1877 192.055 Q1875.42 193.027 1875.42 194.971 Q1875.42 196.453 1876.56 197.309 Q1877.69 198.143 1881.12 198.907 L1882.57 199.231 Q1887.11 200.203 1889.01 201.985 Q1890.93 203.745 1890.93 206.916 Q1890.93 210.527 1888.06 212.633 Q1885.21 214.74 1880.21 214.74 Q1878.13 214.74 1875.86 214.323 Q1873.62 213.93 1871.12 213.12 L1871.12 208.721 Q1873.48 209.948 1875.77 210.573 Q1878.06 211.175 1880.31 211.175 Q1883.31 211.175 1884.94 210.157 Q1886.56 209.115 1886.56 207.24 Q1886.56 205.504 1885.38 204.578 Q1884.22 203.652 1880.26 202.796 L1878.78 202.448 Q1874.82 201.615 1873.06 199.902 Q1871.3 198.166 1871.3 195.157 Q1871.3 191.499 1873.89 189.509 Q1876.49 187.518 1881.25 187.518 Q1883.62 187.518 1885.7 187.865 Q1887.78 188.212 1889.54 188.907 Z\" fill=\"#000000\" fill-rule=\"nonzero\" fill-opacity=\"1\" /><path clip-path=\"url(#clip990)\" d=\"M1898.31 208.189 L1903.2 208.189 L1903.2 214.069 L1898.31 214.069 L1898.31 208.189 Z\" fill=\"#000000\" fill-rule=\"nonzero\" fill-opacity=\"1\" /><path clip-path=\"url(#clip990)\" d=\"M1909.73 188.143 L1914.24 188.143 L1922.34 209.902 L1930.44 188.143 L1934.96 188.143 L1925.24 214.069 L1919.45 214.069 L1909.73 188.143 Z\" fill=\"#000000\" fill-rule=\"nonzero\" fill-opacity=\"1\" /><path clip-path=\"url(#clip990)\" d=\"M1966.14 178.097 Q1963.04 183.421 1961.53 188.629 Q1960.03 193.837 1960.03 199.184 Q1960.03 204.532 1961.53 209.786 Q1963.06 215.018 1966.14 220.319 L1962.43 220.319 Q1958.96 214.879 1957.23 209.624 Q1955.51 204.37 1955.51 199.184 Q1955.51 194.022 1957.23 188.791 Q1958.94 183.56 1962.43 178.097 L1966.14 178.097 Z\" fill=\"#000000\" fill-rule=\"nonzero\" fill-opacity=\"1\" /><path clip-path=\"url(#clip990)\" d=\"M1989.17 195.434 Q1992.53 196.152 1994.4 198.421 Q1996.3 200.689 1996.3 204.022 Q1996.3 209.138 1992.78 211.939 Q1989.26 214.74 1982.78 214.74 Q1980.61 214.74 1978.29 214.3 Q1976 213.883 1973.55 213.027 L1973.55 208.513 Q1975.49 209.647 1977.81 210.226 Q1980.12 210.805 1982.64 210.805 Q1987.04 210.805 1989.33 209.069 Q1991.65 207.333 1991.65 204.022 Q1991.65 200.967 1989.49 199.254 Q1987.37 197.518 1983.55 197.518 L1979.52 197.518 L1979.52 193.675 L1983.73 193.675 Q1987.18 193.675 1989.01 192.309 Q1990.84 190.921 1990.84 188.328 Q1990.84 185.666 1988.94 184.254 Q1987.06 182.819 1983.55 182.819 Q1981.62 182.819 1979.43 183.235 Q1977.23 183.652 1974.59 184.532 L1974.59 180.365 Q1977.25 179.624 1979.56 179.254 Q1981.9 178.884 1983.96 178.884 Q1989.29 178.884 1992.39 181.314 Q1995.49 183.722 1995.49 187.842 Q1995.49 190.712 1993.85 192.703 Q1992.2 194.671 1989.17 195.434 Z\" fill=\"#000000\" fill-rule=\"nonzero\" fill-opacity=\"1\" /><path clip-path=\"url(#clip990)\" d=\"M2019.33 195.434 Q2022.69 196.152 2024.56 198.421 Q2026.46 200.689 2026.46 204.022 Q2026.46 209.138 2022.94 211.939 Q2019.43 214.74 2012.94 214.74 Q2010.77 214.74 2008.45 214.3 Q2006.16 213.883 2003.71 213.027 L2003.71 208.513 Q2005.65 209.647 2007.97 210.226 Q2010.28 210.805 2012.81 210.805 Q2017.2 210.805 2019.49 209.069 Q2021.81 207.333 2021.81 204.022 Q2021.81 200.967 2019.66 199.254 Q2017.53 197.518 2013.71 197.518 L2009.68 197.518 L2009.68 193.675 L2013.89 193.675 Q2017.34 193.675 2019.17 192.309 Q2021 190.921 2021 188.328 Q2021 185.666 2019.1 184.254 Q2017.23 182.819 2013.71 182.819 Q2011.79 182.819 2009.59 183.235 Q2007.39 183.652 2004.75 184.532 L2004.75 180.365 Q2007.41 179.624 2009.73 179.254 Q2012.06 178.884 2014.12 178.884 Q2019.45 178.884 2022.55 181.314 Q2025.65 183.722 2025.65 187.842 Q2025.65 190.712 2024.01 192.703 Q2022.37 194.671 2019.33 195.434 Z\" fill=\"#000000\" fill-rule=\"nonzero\" fill-opacity=\"1\" /><path clip-path=\"url(#clip990)\" d=\"M2035.37 179.509 L2053.73 179.509 L2053.73 183.444 L2039.66 183.444 L2039.66 191.916 Q2040.68 191.569 2041.69 191.407 Q2042.71 191.222 2043.73 191.222 Q2049.52 191.222 2052.9 194.393 Q2056.28 197.564 2056.28 202.981 Q2056.28 208.559 2052.8 211.661 Q2049.33 214.74 2043.01 214.74 Q2040.84 214.74 2038.57 214.37 Q2036.32 213.999 2033.92 213.258 L2033.92 208.559 Q2036 209.694 2038.22 210.249 Q2040.44 210.805 2042.92 210.805 Q2046.93 210.805 2049.26 208.698 Q2051.6 206.592 2051.6 202.981 Q2051.6 199.37 2049.26 197.263 Q2046.93 195.157 2042.92 195.157 Q2041.05 195.157 2039.17 195.573 Q2037.32 195.99 2035.37 196.87 L2035.37 179.509 Z\" fill=\"#000000\" fill-rule=\"nonzero\" fill-opacity=\"1\" /><path clip-path=\"url(#clip990)\" d=\"M2065.54 179.509 L2083.89 179.509 L2083.89 183.444 L2069.82 183.444 L2069.82 191.916 Q2070.84 191.569 2071.86 191.407 Q2072.87 191.222 2073.89 191.222 Q2079.68 191.222 2083.06 194.393 Q2086.44 197.564 2086.44 202.981 Q2086.44 208.559 2082.97 211.661 Q2079.49 214.74 2073.18 214.74 Q2071 214.74 2068.73 214.37 Q2066.49 213.999 2064.08 213.258 L2064.08 208.559 Q2066.16 209.694 2068.38 210.249 Q2070.61 210.805 2073.08 210.805 Q2077.09 210.805 2079.43 208.698 Q2081.76 206.592 2081.76 202.981 Q2081.76 199.37 2079.43 197.263 Q2077.09 195.157 2073.08 195.157 Q2071.21 195.157 2069.33 195.573 Q2067.48 195.99 2065.54 196.87 L2065.54 179.509 Z\" fill=\"#000000\" fill-rule=\"nonzero\" fill-opacity=\"1\" /><path clip-path=\"url(#clip990)\" d=\"M2108.5 183.583 L2096.69 202.032 L2108.5 202.032 L2108.5 183.583 M2107.27 179.509 L2113.15 179.509 L2113.15 202.032 L2118.08 202.032 L2118.08 205.921 L2113.15 205.921 L2113.15 214.069 L2108.5 214.069 L2108.5 205.921 L2092.9 205.921 L2092.9 201.407 L2107.27 179.509 Z\" fill=\"#000000\" fill-rule=\"nonzero\" fill-opacity=\"1\" /><path clip-path=\"url(#clip990)\" d=\"M2138.66 183.583 L2126.86 202.032 L2138.66 202.032 L2138.66 183.583 M2137.43 179.509 L2143.31 179.509 L2143.31 202.032 L2148.24 202.032 L2148.24 205.921 L2143.31 205.921 L2143.31 214.069 L2138.66 214.069 L2138.66 205.921 L2123.06 205.921 L2123.06 201.407 L2137.43 179.509 Z\" fill=\"#000000\" fill-rule=\"nonzero\" fill-opacity=\"1\" /><path clip-path=\"url(#clip990)\" d=\"M2170.14 195.434 Q2173.5 196.152 2175.37 198.421 Q2177.27 200.689 2177.27 204.022 Q2177.27 209.138 2173.75 211.939 Q2170.23 214.74 2163.75 214.74 Q2161.58 214.74 2159.26 214.3 Q2156.97 213.883 2154.52 213.027 L2154.52 208.513 Q2156.46 209.647 2158.78 210.226 Q2161.09 210.805 2163.61 210.805 Q2168.01 210.805 2170.3 209.069 Q2172.62 207.333 2172.62 204.022 Q2172.62 200.967 2170.47 199.254 Q2168.34 197.518 2164.52 197.518 L2160.49 197.518 L2160.49 193.675 L2164.7 193.675 Q2168.15 193.675 2169.98 192.309 Q2171.81 190.921 2171.81 188.328 Q2171.81 185.666 2169.91 184.254 Q2168.04 182.819 2164.52 182.819 Q2162.6 182.819 2160.4 183.235 Q2158.2 183.652 2155.56 184.532 L2155.56 180.365 Q2158.22 179.624 2160.54 179.254 Q2162.87 178.884 2164.93 178.884 Q2170.26 178.884 2173.36 181.314 Q2176.46 183.722 2176.46 187.842 Q2176.46 190.712 2174.82 192.703 Q2173.17 194.671 2170.14 195.434 Z\" fill=\"#000000\" fill-rule=\"nonzero\" fill-opacity=\"1\" /><path clip-path=\"url(#clip990)\" d=\"M2200.3 195.434 Q2203.66 196.152 2205.54 198.421 Q2207.43 200.689 2207.43 204.022 Q2207.43 209.138 2203.92 211.939 Q2200.4 214.74 2193.92 214.74 Q2191.74 214.74 2189.42 214.3 Q2187.13 213.883 2184.68 213.027 L2184.68 208.513 Q2186.62 209.647 2188.94 210.226 Q2191.25 210.805 2193.78 210.805 Q2198.17 210.805 2200.47 209.069 Q2202.78 207.333 2202.78 204.022 Q2202.78 200.967 2200.63 199.254 Q2198.5 197.518 2194.68 197.518 L2190.65 197.518 L2190.65 193.675 L2194.86 193.675 Q2198.31 193.675 2200.14 192.309 Q2201.97 190.921 2201.97 188.328 Q2201.97 185.666 2200.07 184.254 Q2198.2 182.819 2194.68 182.819 Q2192.76 182.819 2190.56 183.235 Q2188.36 183.652 2185.72 184.532 L2185.72 180.365 Q2188.38 179.624 2190.7 179.254 Q2193.04 178.884 2195.1 178.884 Q2200.42 178.884 2203.52 181.314 Q2206.62 183.722 2206.62 187.842 Q2206.62 190.712 2204.98 192.703 Q2203.34 194.671 2200.3 195.434 Z\" fill=\"#000000\" fill-rule=\"nonzero\" fill-opacity=\"1\" /><path clip-path=\"url(#clip990)\" d=\"M2215.03 178.097 L2218.73 178.097 Q2222.2 183.56 2223.92 188.791 Q2225.65 194.022 2225.65 199.184 Q2225.65 204.37 2223.92 209.624 Q2222.2 214.879 2218.73 220.319 L2215.03 220.319 Q2218.1 215.018 2219.61 209.786 Q2221.14 204.532 2221.14 199.184 Q2221.14 193.837 2219.61 188.629 Q2218.1 183.421 2215.03 178.097 Z\" fill=\"#000000\" fill-rule=\"nonzero\" fill-opacity=\"1\" /><polyline clip-path=\"url(#clip990)\" style=\"stroke:#3da44d; stroke-linecap:round; stroke-linejoin:round; stroke-width:4; stroke-opacity:1; fill:none\" points=\"1605.01,248.629 1748.94,248.629 \"/>\n",
       "<path clip-path=\"url(#clip990)\" d=\"M1793.27 244.96 Q1794.87 242.089 1797.09 240.724 Q1799.31 239.358 1802.32 239.358 Q1806.37 239.358 1808.57 242.205 Q1810.77 245.029 1810.77 250.261 L1810.77 265.909 L1806.49 265.909 L1806.49 250.399 Q1806.49 246.673 1805.17 244.867 Q1803.85 243.062 1801.14 243.062 Q1797.83 243.062 1795.91 245.261 Q1793.99 247.46 1793.99 251.256 L1793.99 265.909 L1789.7 265.909 L1789.7 250.399 Q1789.7 246.649 1788.38 244.867 Q1787.07 243.062 1784.31 243.062 Q1781.05 243.062 1779.13 245.284 Q1777.2 247.483 1777.2 251.256 L1777.2 265.909 L1772.92 265.909 L1772.92 239.983 L1777.2 239.983 L1777.2 244.011 Q1778.66 241.626 1780.7 240.492 Q1782.74 239.358 1785.54 239.358 Q1788.36 239.358 1790.33 240.793 Q1792.32 242.228 1793.27 244.96 Z\" fill=\"#000000\" fill-rule=\"nonzero\" fill-opacity=\"1\" /><path clip-path=\"url(#clip990)\" d=\"M1831.05 252.876 Q1825.88 252.876 1823.89 254.057 Q1821.9 255.237 1821.9 258.085 Q1821.9 260.353 1823.38 261.696 Q1824.89 263.015 1827.46 263.015 Q1831 263.015 1833.13 260.515 Q1835.28 257.992 1835.28 253.825 L1835.28 252.876 L1831.05 252.876 M1839.54 251.117 L1839.54 265.909 L1835.28 265.909 L1835.28 261.973 Q1833.82 264.335 1831.65 265.469 Q1829.47 266.58 1826.32 266.58 Q1822.34 266.58 1819.98 264.358 Q1817.64 262.112 1817.64 258.362 Q1817.64 253.987 1820.56 251.765 Q1823.5 249.543 1829.31 249.543 L1835.28 249.543 L1835.28 249.126 Q1835.28 246.187 1833.34 244.589 Q1831.42 242.969 1827.92 242.969 Q1825.7 242.969 1823.59 243.501 Q1821.49 244.034 1819.54 245.099 L1819.54 241.163 Q1821.88 240.261 1824.08 239.821 Q1826.28 239.358 1828.36 239.358 Q1833.99 239.358 1836.76 242.274 Q1839.54 245.191 1839.54 251.117 Z\" fill=\"#000000\" fill-rule=\"nonzero\" fill-opacity=\"1\" /><path clip-path=\"url(#clip990)\" d=\"M1864.84 240.747 L1864.84 244.774 Q1863.04 243.849 1861.09 243.386 Q1859.15 242.923 1857.07 242.923 Q1853.89 242.923 1852.3 243.895 Q1850.72 244.867 1850.72 246.811 Q1850.72 248.293 1851.86 249.149 Q1852.99 249.983 1856.42 250.747 L1857.88 251.071 Q1862.41 252.043 1864.31 253.825 Q1866.23 255.585 1866.23 258.756 Q1866.23 262.367 1863.36 264.473 Q1860.51 266.58 1855.51 266.58 Q1853.43 266.58 1851.16 266.163 Q1848.92 265.77 1846.42 264.96 L1846.42 260.561 Q1848.78 261.788 1851.07 262.413 Q1853.36 263.015 1855.61 263.015 Q1858.62 263.015 1860.24 261.997 Q1861.86 260.955 1861.86 259.08 Q1861.86 257.344 1860.68 256.418 Q1859.52 255.492 1855.56 254.636 L1854.08 254.288 Q1850.12 253.455 1848.36 251.742 Q1846.6 250.006 1846.6 246.997 Q1846.6 243.339 1849.19 241.349 Q1851.79 239.358 1856.56 239.358 Q1858.92 239.358 1861 239.705 Q1863.08 240.052 1864.84 240.747 Z\" fill=\"#000000\" fill-rule=\"nonzero\" fill-opacity=\"1\" /><path clip-path=\"url(#clip990)\" d=\"M1889.54 240.747 L1889.54 244.774 Q1887.74 243.849 1885.79 243.386 Q1883.85 242.923 1881.76 242.923 Q1878.59 242.923 1877 243.895 Q1875.42 244.867 1875.42 246.811 Q1875.42 248.293 1876.56 249.149 Q1877.69 249.983 1881.12 250.747 L1882.57 251.071 Q1887.11 252.043 1889.01 253.825 Q1890.93 255.585 1890.93 258.756 Q1890.93 262.367 1888.06 264.473 Q1885.21 266.58 1880.21 266.58 Q1878.13 266.58 1875.86 266.163 Q1873.62 265.77 1871.12 264.96 L1871.12 260.561 Q1873.48 261.788 1875.77 262.413 Q1878.06 263.015 1880.31 263.015 Q1883.31 263.015 1884.94 261.997 Q1886.56 260.955 1886.56 259.08 Q1886.56 257.344 1885.38 256.418 Q1884.22 255.492 1880.26 254.636 L1878.78 254.288 Q1874.82 253.455 1873.06 251.742 Q1871.3 250.006 1871.3 246.997 Q1871.3 243.339 1873.89 241.349 Q1876.49 239.358 1881.25 239.358 Q1883.62 239.358 1885.7 239.705 Q1887.78 240.052 1889.54 240.747 Z\" fill=\"#000000\" fill-rule=\"nonzero\" fill-opacity=\"1\" /><path clip-path=\"url(#clip990)\" d=\"M1898.31 260.029 L1903.2 260.029 L1903.2 265.909 L1898.31 265.909 L1898.31 260.029 Z\" fill=\"#000000\" fill-rule=\"nonzero\" fill-opacity=\"1\" /><path clip-path=\"url(#clip990)\" d=\"M1929.31 240.747 L1929.31 244.774 Q1927.5 243.849 1925.56 243.386 Q1923.62 242.923 1921.53 242.923 Q1918.36 242.923 1916.76 243.895 Q1915.19 244.867 1915.19 246.811 Q1915.19 248.293 1916.32 249.149 Q1917.46 249.983 1920.88 250.747 L1922.34 251.071 Q1926.88 252.043 1928.78 253.825 Q1930.7 255.585 1930.7 258.756 Q1930.7 262.367 1927.83 264.473 Q1924.98 266.58 1919.98 266.58 Q1917.9 266.58 1915.63 266.163 Q1913.38 265.77 1910.88 264.96 L1910.88 260.561 Q1913.25 261.788 1915.54 262.413 Q1917.83 263.015 1920.07 263.015 Q1923.08 263.015 1924.7 261.997 Q1926.32 260.955 1926.32 259.08 Q1926.32 257.344 1925.14 256.418 Q1923.99 255.492 1920.03 254.636 L1918.55 254.288 Q1914.59 253.455 1912.83 251.742 Q1911.07 250.006 1911.07 246.997 Q1911.07 243.339 1913.66 241.349 Q1916.25 239.358 1921.02 239.358 Q1923.38 239.358 1925.47 239.705 Q1927.55 240.052 1929.31 240.747 Z\" fill=\"#000000\" fill-rule=\"nonzero\" fill-opacity=\"1\" /><path clip-path=\"url(#clip990)\" d=\"M1962.78 229.937 Q1959.68 235.261 1958.18 240.469 Q1956.67 245.677 1956.67 251.024 Q1956.67 256.372 1958.18 261.626 Q1959.7 266.858 1962.78 272.159 L1959.08 272.159 Q1955.61 266.719 1953.87 261.464 Q1952.16 256.21 1952.16 251.024 Q1952.16 245.862 1953.87 240.631 Q1955.58 235.4 1959.08 229.937 L1962.78 229.937 Z\" fill=\"#000000\" fill-rule=\"nonzero\" fill-opacity=\"1\" /><path clip-path=\"url(#clip990)\" d=\"M1985.81 247.274 Q1989.17 247.992 1991.05 250.261 Q1992.94 252.529 1992.94 255.862 Q1992.94 260.978 1989.43 263.779 Q1985.91 266.58 1979.43 266.58 Q1977.25 266.58 1974.93 266.14 Q1972.64 265.723 1970.19 264.867 L1970.19 260.353 Q1972.13 261.487 1974.45 262.066 Q1976.76 262.645 1979.29 262.645 Q1983.68 262.645 1985.98 260.909 Q1988.29 259.173 1988.29 255.862 Q1988.29 252.807 1986.14 251.094 Q1984.01 249.358 1980.19 249.358 L1976.16 249.358 L1976.16 245.515 L1980.37 245.515 Q1983.82 245.515 1985.65 244.149 Q1987.48 242.761 1987.48 240.168 Q1987.48 237.506 1985.58 236.094 Q1983.71 234.659 1980.19 234.659 Q1978.27 234.659 1976.07 235.075 Q1973.87 235.492 1971.23 236.372 L1971.23 232.205 Q1973.89 231.464 1976.21 231.094 Q1978.55 230.724 1980.61 230.724 Q1985.93 230.724 1989.03 233.154 Q1992.13 235.562 1992.13 239.682 Q1992.13 242.552 1990.49 244.543 Q1988.85 246.511 1985.81 247.274 Z\" fill=\"#000000\" fill-rule=\"nonzero\" fill-opacity=\"1\" /><path clip-path=\"url(#clip990)\" d=\"M2015.98 247.274 Q2019.33 247.992 2021.21 250.261 Q2023.11 252.529 2023.11 255.862 Q2023.11 260.978 2019.59 263.779 Q2016.07 266.58 2009.59 266.58 Q2007.41 266.58 2005.1 266.14 Q2002.81 265.723 2000.35 264.867 L2000.35 260.353 Q2002.3 261.487 2004.61 262.066 Q2006.93 262.645 2009.45 262.645 Q2013.85 262.645 2016.14 260.909 Q2018.45 259.173 2018.45 255.862 Q2018.45 252.807 2016.3 251.094 Q2014.17 249.358 2010.35 249.358 L2006.32 249.358 L2006.32 245.515 L2010.54 245.515 Q2013.99 245.515 2015.81 244.149 Q2017.64 242.761 2017.64 240.168 Q2017.64 237.506 2015.74 236.094 Q2013.87 234.659 2010.35 234.659 Q2008.43 234.659 2006.23 235.075 Q2004.03 235.492 2001.39 236.372 L2001.39 232.205 Q2004.06 231.464 2006.37 231.094 Q2008.71 230.724 2010.77 230.724 Q2016.09 230.724 2019.19 233.154 Q2022.3 235.562 2022.3 239.682 Q2022.3 242.552 2020.65 244.543 Q2019.01 246.511 2015.98 247.274 Z\" fill=\"#000000\" fill-rule=\"nonzero\" fill-opacity=\"1\" /><path clip-path=\"url(#clip990)\" d=\"M2032.02 231.349 L2050.37 231.349 L2050.37 235.284 L2036.3 235.284 L2036.3 243.756 Q2037.32 243.409 2038.34 243.247 Q2039.36 243.062 2040.37 243.062 Q2046.16 243.062 2049.54 246.233 Q2052.92 249.404 2052.92 254.821 Q2052.92 260.399 2049.45 263.501 Q2045.98 266.58 2039.66 266.58 Q2037.48 266.58 2035.21 266.21 Q2032.97 265.839 2030.56 265.098 L2030.56 260.399 Q2032.64 261.534 2034.87 262.089 Q2037.09 262.645 2039.56 262.645 Q2043.57 262.645 2045.91 260.538 Q2048.24 258.432 2048.24 254.821 Q2048.24 251.21 2045.91 249.103 Q2043.57 246.997 2039.56 246.997 Q2037.69 246.997 2035.81 247.413 Q2033.96 247.83 2032.02 248.71 L2032.02 231.349 Z\" fill=\"#000000\" fill-rule=\"nonzero\" fill-opacity=\"1\" /><path clip-path=\"url(#clip990)\" d=\"M2062.18 231.349 L2080.54 231.349 L2080.54 235.284 L2066.46 235.284 L2066.46 243.756 Q2067.48 243.409 2068.5 243.247 Q2069.52 243.062 2070.54 243.062 Q2076.32 243.062 2079.7 246.233 Q2083.08 249.404 2083.08 254.821 Q2083.08 260.399 2079.61 263.501 Q2076.14 266.58 2069.82 266.58 Q2067.64 266.58 2065.37 266.21 Q2063.13 265.839 2060.72 265.098 L2060.72 260.399 Q2062.8 261.534 2065.03 262.089 Q2067.25 262.645 2069.73 262.645 Q2073.73 262.645 2076.07 260.538 Q2078.41 258.432 2078.41 254.821 Q2078.41 251.21 2076.07 249.103 Q2073.73 246.997 2069.73 246.997 Q2067.85 246.997 2065.98 247.413 Q2064.12 247.83 2062.18 248.71 L2062.18 231.349 Z\" fill=\"#000000\" fill-rule=\"nonzero\" fill-opacity=\"1\" /><path clip-path=\"url(#clip990)\" d=\"M2105.14 235.423 L2093.34 253.872 L2105.14 253.872 L2105.14 235.423 M2103.92 231.349 L2109.8 231.349 L2109.8 253.872 L2114.73 253.872 L2114.73 257.761 L2109.8 257.761 L2109.8 265.909 L2105.14 265.909 L2105.14 257.761 L2089.54 257.761 L2089.54 253.247 L2103.92 231.349 Z\" fill=\"#000000\" fill-rule=\"nonzero\" fill-opacity=\"1\" /><path clip-path=\"url(#clip990)\" d=\"M2135.3 235.423 L2123.5 253.872 L2135.3 253.872 L2135.3 235.423 M2134.08 231.349 L2139.96 231.349 L2139.96 253.872 L2144.89 253.872 L2144.89 257.761 L2139.96 257.761 L2139.96 265.909 L2135.3 265.909 L2135.3 257.761 L2119.7 257.761 L2119.7 253.247 L2134.08 231.349 Z\" fill=\"#000000\" fill-rule=\"nonzero\" fill-opacity=\"1\" /><path clip-path=\"url(#clip990)\" d=\"M2166.79 247.274 Q2170.14 247.992 2172.02 250.261 Q2173.92 252.529 2173.92 255.862 Q2173.92 260.978 2170.4 263.779 Q2166.88 266.58 2160.4 266.58 Q2158.22 266.58 2155.91 266.14 Q2153.61 265.723 2151.16 264.867 L2151.16 260.353 Q2153.11 261.487 2155.42 262.066 Q2157.73 262.645 2160.26 262.645 Q2164.66 262.645 2166.95 260.909 Q2169.26 259.173 2169.26 255.862 Q2169.26 252.807 2167.11 251.094 Q2164.98 249.358 2161.16 249.358 L2157.13 249.358 L2157.13 245.515 L2161.35 245.515 Q2164.79 245.515 2166.62 244.149 Q2168.45 242.761 2168.45 240.168 Q2168.45 237.506 2166.55 236.094 Q2164.68 234.659 2161.16 234.659 Q2159.24 234.659 2157.04 235.075 Q2154.84 235.492 2152.2 236.372 L2152.2 232.205 Q2154.86 231.464 2157.18 231.094 Q2159.52 230.724 2161.58 230.724 Q2166.9 230.724 2170 233.154 Q2173.11 235.562 2173.11 239.682 Q2173.11 242.552 2171.46 244.543 Q2169.82 246.511 2166.79 247.274 Z\" fill=\"#000000\" fill-rule=\"nonzero\" fill-opacity=\"1\" /><path clip-path=\"url(#clip990)\" d=\"M2186.81 261.973 L2203.13 261.973 L2203.13 265.909 L2181.18 265.909 L2181.18 261.973 Q2183.85 259.219 2188.43 254.589 Q2193.04 249.936 2194.22 248.594 Q2196.46 246.071 2197.34 244.335 Q2198.24 242.575 2198.24 240.886 Q2198.24 238.131 2196.3 236.395 Q2194.38 234.659 2191.28 234.659 Q2189.08 234.659 2186.62 235.423 Q2184.19 236.187 2181.42 237.737 L2181.42 233.015 Q2184.24 231.881 2186.69 231.302 Q2189.15 230.724 2191.18 230.724 Q2196.55 230.724 2199.75 233.409 Q2202.94 236.094 2202.94 240.585 Q2202.94 242.714 2202.13 244.636 Q2201.35 246.534 2199.24 249.126 Q2198.66 249.798 2195.56 253.015 Q2192.46 256.21 2186.81 261.973 Z\" fill=\"#000000\" fill-rule=\"nonzero\" fill-opacity=\"1\" /><path clip-path=\"url(#clip990)\" d=\"M2211.67 229.937 L2215.37 229.937 Q2218.85 235.4 2220.56 240.631 Q2222.29 245.862 2222.29 251.024 Q2222.29 256.21 2220.56 261.464 Q2218.85 266.719 2215.37 272.159 L2211.67 272.159 Q2214.75 266.858 2216.25 261.626 Q2217.78 256.372 2217.78 251.024 Q2217.78 245.677 2216.25 240.469 Q2214.75 235.261 2211.67 229.937 Z\" fill=\"#000000\" fill-rule=\"nonzero\" fill-opacity=\"1\" /><polyline clip-path=\"url(#clip990)\" style=\"stroke:#c271d2; stroke-linecap:round; stroke-linejoin:round; stroke-width:4; stroke-opacity:1; fill:none\" points=\"1605.01,300.469 1748.94,300.469 \"/>\n",
       "<path clip-path=\"url(#clip990)\" d=\"M1793.27 296.8 Q1794.87 293.929 1797.09 292.564 Q1799.31 291.198 1802.32 291.198 Q1806.37 291.198 1808.57 294.045 Q1810.77 296.869 1810.77 302.101 L1810.77 317.749 L1806.49 317.749 L1806.49 302.239 Q1806.49 298.513 1805.17 296.707 Q1803.85 294.902 1801.14 294.902 Q1797.83 294.902 1795.91 297.101 Q1793.99 299.3 1793.99 303.096 L1793.99 317.749 L1789.7 317.749 L1789.7 302.239 Q1789.7 298.489 1788.38 296.707 Q1787.07 294.902 1784.31 294.902 Q1781.05 294.902 1779.13 297.124 Q1777.2 299.323 1777.2 303.096 L1777.2 317.749 L1772.92 317.749 L1772.92 291.823 L1777.2 291.823 L1777.2 295.851 Q1778.66 293.466 1780.7 292.332 Q1782.74 291.198 1785.54 291.198 Q1788.36 291.198 1790.33 292.633 Q1792.32 294.068 1793.27 296.8 Z\" fill=\"#000000\" fill-rule=\"nonzero\" fill-opacity=\"1\" /><path clip-path=\"url(#clip990)\" d=\"M1831.05 304.716 Q1825.88 304.716 1823.89 305.897 Q1821.9 307.077 1821.9 309.925 Q1821.9 312.193 1823.38 313.536 Q1824.89 314.855 1827.46 314.855 Q1831 314.855 1833.13 312.355 Q1835.28 309.832 1835.28 305.665 L1835.28 304.716 L1831.05 304.716 M1839.54 302.957 L1839.54 317.749 L1835.28 317.749 L1835.28 313.813 Q1833.82 316.175 1831.65 317.309 Q1829.47 318.42 1826.32 318.42 Q1822.34 318.42 1819.98 316.198 Q1817.64 313.952 1817.64 310.202 Q1817.64 305.827 1820.56 303.605 Q1823.5 301.383 1829.31 301.383 L1835.28 301.383 L1835.28 300.966 Q1835.28 298.027 1833.34 296.429 Q1831.42 294.809 1827.92 294.809 Q1825.7 294.809 1823.59 295.341 Q1821.49 295.874 1819.54 296.939 L1819.54 293.003 Q1821.88 292.101 1824.08 291.661 Q1826.28 291.198 1828.36 291.198 Q1833.99 291.198 1836.76 294.114 Q1839.54 297.031 1839.54 302.957 Z\" fill=\"#000000\" fill-rule=\"nonzero\" fill-opacity=\"1\" /><path clip-path=\"url(#clip990)\" d=\"M1864.84 292.587 L1864.84 296.614 Q1863.04 295.689 1861.09 295.226 Q1859.15 294.763 1857.07 294.763 Q1853.89 294.763 1852.3 295.735 Q1850.72 296.707 1850.72 298.651 Q1850.72 300.133 1851.86 300.989 Q1852.99 301.823 1856.42 302.587 L1857.88 302.911 Q1862.41 303.883 1864.31 305.665 Q1866.23 307.425 1866.23 310.596 Q1866.23 314.207 1863.36 316.313 Q1860.51 318.42 1855.51 318.42 Q1853.43 318.42 1851.16 318.003 Q1848.92 317.61 1846.42 316.8 L1846.42 312.401 Q1848.78 313.628 1851.07 314.253 Q1853.36 314.855 1855.61 314.855 Q1858.62 314.855 1860.24 313.837 Q1861.86 312.795 1861.86 310.92 Q1861.86 309.184 1860.68 308.258 Q1859.52 307.332 1855.56 306.476 L1854.08 306.128 Q1850.12 305.295 1848.36 303.582 Q1846.6 301.846 1846.6 298.837 Q1846.6 295.179 1849.19 293.189 Q1851.79 291.198 1856.56 291.198 Q1858.92 291.198 1861 291.545 Q1863.08 291.892 1864.84 292.587 Z\" fill=\"#000000\" fill-rule=\"nonzero\" fill-opacity=\"1\" /><path clip-path=\"url(#clip990)\" d=\"M1889.54 292.587 L1889.54 296.614 Q1887.74 295.689 1885.79 295.226 Q1883.85 294.763 1881.76 294.763 Q1878.59 294.763 1877 295.735 Q1875.42 296.707 1875.42 298.651 Q1875.42 300.133 1876.56 300.989 Q1877.69 301.823 1881.12 302.587 L1882.57 302.911 Q1887.11 303.883 1889.01 305.665 Q1890.93 307.425 1890.93 310.596 Q1890.93 314.207 1888.06 316.313 Q1885.21 318.42 1880.21 318.42 Q1878.13 318.42 1875.86 318.003 Q1873.62 317.61 1871.12 316.8 L1871.12 312.401 Q1873.48 313.628 1875.77 314.253 Q1878.06 314.855 1880.31 314.855 Q1883.31 314.855 1884.94 313.837 Q1886.56 312.795 1886.56 310.92 Q1886.56 309.184 1885.38 308.258 Q1884.22 307.332 1880.26 306.476 L1878.78 306.128 Q1874.82 305.295 1873.06 303.582 Q1871.3 301.846 1871.3 298.837 Q1871.3 295.179 1873.89 293.189 Q1876.49 291.198 1881.25 291.198 Q1883.62 291.198 1885.7 291.545 Q1887.78 291.892 1889.54 292.587 Z\" fill=\"#000000\" fill-rule=\"nonzero\" fill-opacity=\"1\" /><path clip-path=\"url(#clip990)\" d=\"M1898.31 311.869 L1903.2 311.869 L1903.2 317.749 L1898.31 317.749 L1898.31 311.869 Z\" fill=\"#000000\" fill-rule=\"nonzero\" fill-opacity=\"1\" /><path clip-path=\"url(#clip990)\" d=\"M1909.73 291.823 L1914.24 291.823 L1922.34 313.582 L1930.44 291.823 L1934.96 291.823 L1925.24 317.749 L1919.45 317.749 L1909.73 291.823 Z\" fill=\"#000000\" fill-rule=\"nonzero\" fill-opacity=\"1\" /><path clip-path=\"url(#clip990)\" d=\"M1966.14 281.777 Q1963.04 287.101 1961.53 292.309 Q1960.03 297.517 1960.03 302.864 Q1960.03 308.212 1961.53 313.466 Q1963.06 318.698 1966.14 323.999 L1962.43 323.999 Q1958.96 318.559 1957.23 313.304 Q1955.51 308.05 1955.51 302.864 Q1955.51 297.702 1957.23 292.471 Q1958.94 287.24 1962.43 281.777 L1966.14 281.777 Z\" fill=\"#000000\" fill-rule=\"nonzero\" fill-opacity=\"1\" /><path clip-path=\"url(#clip990)\" d=\"M1989.17 299.114 Q1992.53 299.832 1994.4 302.101 Q1996.3 304.369 1996.3 307.702 Q1996.3 312.818 1992.78 315.619 Q1989.26 318.42 1982.78 318.42 Q1980.61 318.42 1978.29 317.98 Q1976 317.563 1973.55 316.707 L1973.55 312.193 Q1975.49 313.327 1977.81 313.906 Q1980.12 314.485 1982.64 314.485 Q1987.04 314.485 1989.33 312.749 Q1991.65 311.013 1991.65 307.702 Q1991.65 304.647 1989.49 302.934 Q1987.37 301.198 1983.55 301.198 L1979.52 301.198 L1979.52 297.355 L1983.73 297.355 Q1987.18 297.355 1989.01 295.989 Q1990.84 294.601 1990.84 292.008 Q1990.84 289.346 1988.94 287.934 Q1987.06 286.499 1983.55 286.499 Q1981.62 286.499 1979.43 286.915 Q1977.23 287.332 1974.59 288.212 L1974.59 284.045 Q1977.25 283.304 1979.56 282.934 Q1981.9 282.564 1983.96 282.564 Q1989.29 282.564 1992.39 284.994 Q1995.49 287.402 1995.49 291.522 Q1995.49 294.392 1993.85 296.383 Q1992.2 298.351 1989.17 299.114 Z\" fill=\"#000000\" fill-rule=\"nonzero\" fill-opacity=\"1\" /><path clip-path=\"url(#clip990)\" d=\"M2019.33 299.114 Q2022.69 299.832 2024.56 302.101 Q2026.46 304.369 2026.46 307.702 Q2026.46 312.818 2022.94 315.619 Q2019.43 318.42 2012.94 318.42 Q2010.77 318.42 2008.45 317.98 Q2006.16 317.563 2003.71 316.707 L2003.71 312.193 Q2005.65 313.327 2007.97 313.906 Q2010.28 314.485 2012.81 314.485 Q2017.2 314.485 2019.49 312.749 Q2021.81 311.013 2021.81 307.702 Q2021.81 304.647 2019.66 302.934 Q2017.53 301.198 2013.71 301.198 L2009.68 301.198 L2009.68 297.355 L2013.89 297.355 Q2017.34 297.355 2019.17 295.989 Q2021 294.601 2021 292.008 Q2021 289.346 2019.1 287.934 Q2017.23 286.499 2013.71 286.499 Q2011.79 286.499 2009.59 286.915 Q2007.39 287.332 2004.75 288.212 L2004.75 284.045 Q2007.41 283.304 2009.73 282.934 Q2012.06 282.564 2014.12 282.564 Q2019.45 282.564 2022.55 284.994 Q2025.65 287.402 2025.65 291.522 Q2025.65 294.392 2024.01 296.383 Q2022.37 298.351 2019.33 299.114 Z\" fill=\"#000000\" fill-rule=\"nonzero\" fill-opacity=\"1\" /><path clip-path=\"url(#clip990)\" d=\"M2035.37 283.189 L2053.73 283.189 L2053.73 287.124 L2039.66 287.124 L2039.66 295.596 Q2040.68 295.249 2041.69 295.087 Q2042.71 294.902 2043.73 294.902 Q2049.52 294.902 2052.9 298.073 Q2056.28 301.244 2056.28 306.661 Q2056.28 312.239 2052.8 315.341 Q2049.33 318.42 2043.01 318.42 Q2040.84 318.42 2038.57 318.05 Q2036.32 317.679 2033.92 316.938 L2033.92 312.239 Q2036 313.374 2038.22 313.929 Q2040.44 314.485 2042.92 314.485 Q2046.93 314.485 2049.26 312.378 Q2051.6 310.272 2051.6 306.661 Q2051.6 303.05 2049.26 300.943 Q2046.93 298.837 2042.92 298.837 Q2041.05 298.837 2039.17 299.253 Q2037.32 299.67 2035.37 300.55 L2035.37 283.189 Z\" fill=\"#000000\" fill-rule=\"nonzero\" fill-opacity=\"1\" /><path clip-path=\"url(#clip990)\" d=\"M2065.54 283.189 L2083.89 283.189 L2083.89 287.124 L2069.82 287.124 L2069.82 295.596 Q2070.84 295.249 2071.86 295.087 Q2072.87 294.902 2073.89 294.902 Q2079.68 294.902 2083.06 298.073 Q2086.44 301.244 2086.44 306.661 Q2086.44 312.239 2082.97 315.341 Q2079.49 318.42 2073.18 318.42 Q2071 318.42 2068.73 318.05 Q2066.49 317.679 2064.08 316.938 L2064.08 312.239 Q2066.16 313.374 2068.38 313.929 Q2070.61 314.485 2073.08 314.485 Q2077.09 314.485 2079.43 312.378 Q2081.76 310.272 2081.76 306.661 Q2081.76 303.05 2079.43 300.943 Q2077.09 298.837 2073.08 298.837 Q2071.21 298.837 2069.33 299.253 Q2067.48 299.67 2065.54 300.55 L2065.54 283.189 Z\" fill=\"#000000\" fill-rule=\"nonzero\" fill-opacity=\"1\" /><path clip-path=\"url(#clip990)\" d=\"M2108.5 287.263 L2096.69 305.712 L2108.5 305.712 L2108.5 287.263 M2107.27 283.189 L2113.15 283.189 L2113.15 305.712 L2118.08 305.712 L2118.08 309.601 L2113.15 309.601 L2113.15 317.749 L2108.5 317.749 L2108.5 309.601 L2092.9 309.601 L2092.9 305.087 L2107.27 283.189 Z\" fill=\"#000000\" fill-rule=\"nonzero\" fill-opacity=\"1\" /><path clip-path=\"url(#clip990)\" d=\"M2138.66 287.263 L2126.86 305.712 L2138.66 305.712 L2138.66 287.263 M2137.43 283.189 L2143.31 283.189 L2143.31 305.712 L2148.24 305.712 L2148.24 309.601 L2143.31 309.601 L2143.31 317.749 L2138.66 317.749 L2138.66 309.601 L2123.06 309.601 L2123.06 305.087 L2137.43 283.189 Z\" fill=\"#000000\" fill-rule=\"nonzero\" fill-opacity=\"1\" /><path clip-path=\"url(#clip990)\" d=\"M2170.14 299.114 Q2173.5 299.832 2175.37 302.101 Q2177.27 304.369 2177.27 307.702 Q2177.27 312.818 2173.75 315.619 Q2170.23 318.42 2163.75 318.42 Q2161.58 318.42 2159.26 317.98 Q2156.97 317.563 2154.52 316.707 L2154.52 312.193 Q2156.46 313.327 2158.78 313.906 Q2161.09 314.485 2163.61 314.485 Q2168.01 314.485 2170.3 312.749 Q2172.62 311.013 2172.62 307.702 Q2172.62 304.647 2170.47 302.934 Q2168.34 301.198 2164.52 301.198 L2160.49 301.198 L2160.49 297.355 L2164.7 297.355 Q2168.15 297.355 2169.98 295.989 Q2171.81 294.601 2171.81 292.008 Q2171.81 289.346 2169.91 287.934 Q2168.04 286.499 2164.52 286.499 Q2162.6 286.499 2160.4 286.915 Q2158.2 287.332 2155.56 288.212 L2155.56 284.045 Q2158.22 283.304 2160.54 282.934 Q2162.87 282.564 2164.93 282.564 Q2170.26 282.564 2173.36 284.994 Q2176.46 287.402 2176.46 291.522 Q2176.46 294.392 2174.82 296.383 Q2173.17 298.351 2170.14 299.114 Z\" fill=\"#000000\" fill-rule=\"nonzero\" fill-opacity=\"1\" /><path clip-path=\"url(#clip990)\" d=\"M2200.3 299.114 Q2203.66 299.832 2205.54 302.101 Q2207.43 304.369 2207.43 307.702 Q2207.43 312.818 2203.92 315.619 Q2200.4 318.42 2193.92 318.42 Q2191.74 318.42 2189.42 317.98 Q2187.13 317.563 2184.68 316.707 L2184.68 312.193 Q2186.62 313.327 2188.94 313.906 Q2191.25 314.485 2193.78 314.485 Q2198.17 314.485 2200.47 312.749 Q2202.78 311.013 2202.78 307.702 Q2202.78 304.647 2200.63 302.934 Q2198.5 301.198 2194.68 301.198 L2190.65 301.198 L2190.65 297.355 L2194.86 297.355 Q2198.31 297.355 2200.14 295.989 Q2201.97 294.601 2201.97 292.008 Q2201.97 289.346 2200.07 287.934 Q2198.2 286.499 2194.68 286.499 Q2192.76 286.499 2190.56 286.915 Q2188.36 287.332 2185.72 288.212 L2185.72 284.045 Q2188.38 283.304 2190.7 282.934 Q2193.04 282.564 2195.1 282.564 Q2200.42 282.564 2203.52 284.994 Q2206.62 287.402 2206.62 291.522 Q2206.62 294.392 2204.98 296.383 Q2203.34 298.351 2200.3 299.114 Z\" fill=\"#000000\" fill-rule=\"nonzero\" fill-opacity=\"1\" /><path clip-path=\"url(#clip990)\" d=\"M2215.03 281.777 L2218.73 281.777 Q2222.2 287.24 2223.92 292.471 Q2225.65 297.702 2225.65 302.864 Q2225.65 308.05 2223.92 313.304 Q2222.2 318.559 2218.73 323.999 L2215.03 323.999 Q2218.1 318.698 2219.61 313.466 Q2221.14 308.212 2221.14 302.864 Q2221.14 297.517 2219.61 292.309 Q2218.1 287.101 2215.03 281.777 Z\" fill=\"#000000\" fill-rule=\"nonzero\" fill-opacity=\"1\" /><polyline clip-path=\"url(#clip990)\" style=\"stroke:#ac8d18; stroke-linecap:round; stroke-linejoin:round; stroke-width:4; stroke-opacity:1; fill:none\" points=\"1605.01,352.309 1748.94,352.309 \"/>\n",
       "<path clip-path=\"url(#clip990)\" d=\"M1793.27 348.64 Q1794.87 345.769 1797.09 344.404 Q1799.31 343.038 1802.32 343.038 Q1806.37 343.038 1808.57 345.885 Q1810.77 348.709 1810.77 353.941 L1810.77 369.589 L1806.49 369.589 L1806.49 354.079 Q1806.49 350.353 1805.17 348.547 Q1803.85 346.742 1801.14 346.742 Q1797.83 346.742 1795.91 348.941 Q1793.99 351.14 1793.99 354.936 L1793.99 369.589 L1789.7 369.589 L1789.7 354.079 Q1789.7 350.329 1788.38 348.547 Q1787.07 346.742 1784.31 346.742 Q1781.05 346.742 1779.13 348.964 Q1777.2 351.163 1777.2 354.936 L1777.2 369.589 L1772.92 369.589 L1772.92 343.663 L1777.2 343.663 L1777.2 347.691 Q1778.66 345.306 1780.7 344.172 Q1782.74 343.038 1785.54 343.038 Q1788.36 343.038 1790.33 344.473 Q1792.32 345.908 1793.27 348.64 Z\" fill=\"#000000\" fill-rule=\"nonzero\" fill-opacity=\"1\" /><path clip-path=\"url(#clip990)\" d=\"M1831.05 356.556 Q1825.88 356.556 1823.89 357.737 Q1821.9 358.917 1821.9 361.765 Q1821.9 364.033 1823.38 365.376 Q1824.89 366.695 1827.46 366.695 Q1831 366.695 1833.13 364.195 Q1835.28 361.672 1835.28 357.505 L1835.28 356.556 L1831.05 356.556 M1839.54 354.797 L1839.54 369.589 L1835.28 369.589 L1835.28 365.653 Q1833.82 368.015 1831.65 369.149 Q1829.47 370.26 1826.32 370.26 Q1822.34 370.26 1819.98 368.038 Q1817.64 365.792 1817.64 362.042 Q1817.64 357.667 1820.56 355.445 Q1823.5 353.223 1829.31 353.223 L1835.28 353.223 L1835.28 352.806 Q1835.28 349.867 1833.34 348.269 Q1831.42 346.649 1827.92 346.649 Q1825.7 346.649 1823.59 347.181 Q1821.49 347.714 1819.54 348.779 L1819.54 344.843 Q1821.88 343.941 1824.08 343.501 Q1826.28 343.038 1828.36 343.038 Q1833.99 343.038 1836.76 345.954 Q1839.54 348.871 1839.54 354.797 Z\" fill=\"#000000\" fill-rule=\"nonzero\" fill-opacity=\"1\" /><path clip-path=\"url(#clip990)\" d=\"M1864.84 344.427 L1864.84 348.454 Q1863.04 347.529 1861.09 347.066 Q1859.15 346.603 1857.07 346.603 Q1853.89 346.603 1852.3 347.575 Q1850.72 348.547 1850.72 350.491 Q1850.72 351.973 1851.86 352.829 Q1852.99 353.663 1856.42 354.427 L1857.88 354.751 Q1862.41 355.723 1864.31 357.505 Q1866.23 359.265 1866.23 362.436 Q1866.23 366.047 1863.36 368.153 Q1860.51 370.26 1855.51 370.26 Q1853.43 370.26 1851.16 369.843 Q1848.92 369.45 1846.42 368.64 L1846.42 364.241 Q1848.78 365.468 1851.07 366.093 Q1853.36 366.695 1855.61 366.695 Q1858.62 366.695 1860.24 365.677 Q1861.86 364.635 1861.86 362.76 Q1861.86 361.024 1860.68 360.098 Q1859.52 359.172 1855.56 358.316 L1854.08 357.968 Q1850.12 357.135 1848.36 355.422 Q1846.6 353.686 1846.6 350.677 Q1846.6 347.019 1849.19 345.029 Q1851.79 343.038 1856.56 343.038 Q1858.92 343.038 1861 343.385 Q1863.08 343.732 1864.84 344.427 Z\" fill=\"#000000\" fill-rule=\"nonzero\" fill-opacity=\"1\" /><path clip-path=\"url(#clip990)\" d=\"M1889.54 344.427 L1889.54 348.454 Q1887.74 347.529 1885.79 347.066 Q1883.85 346.603 1881.76 346.603 Q1878.59 346.603 1877 347.575 Q1875.42 348.547 1875.42 350.491 Q1875.42 351.973 1876.56 352.829 Q1877.69 353.663 1881.12 354.427 L1882.57 354.751 Q1887.11 355.723 1889.01 357.505 Q1890.93 359.265 1890.93 362.436 Q1890.93 366.047 1888.06 368.153 Q1885.21 370.26 1880.21 370.26 Q1878.13 370.26 1875.86 369.843 Q1873.62 369.45 1871.12 368.64 L1871.12 364.241 Q1873.48 365.468 1875.77 366.093 Q1878.06 366.695 1880.31 366.695 Q1883.31 366.695 1884.94 365.677 Q1886.56 364.635 1886.56 362.76 Q1886.56 361.024 1885.38 360.098 Q1884.22 359.172 1880.26 358.316 L1878.78 357.968 Q1874.82 357.135 1873.06 355.422 Q1871.3 353.686 1871.3 350.677 Q1871.3 347.019 1873.89 345.029 Q1876.49 343.038 1881.25 343.038 Q1883.62 343.038 1885.7 343.385 Q1887.78 343.732 1889.54 344.427 Z\" fill=\"#000000\" fill-rule=\"nonzero\" fill-opacity=\"1\" /><path clip-path=\"url(#clip990)\" d=\"M1898.31 363.709 L1903.2 363.709 L1903.2 369.589 L1898.31 369.589 L1898.31 363.709 Z\" fill=\"#000000\" fill-rule=\"nonzero\" fill-opacity=\"1\" /><path clip-path=\"url(#clip990)\" d=\"M1924.56 356.556 Q1919.4 356.556 1917.41 357.737 Q1915.42 358.917 1915.42 361.765 Q1915.42 364.033 1916.9 365.376 Q1918.41 366.695 1920.98 366.695 Q1924.52 366.695 1926.65 364.195 Q1928.8 361.672 1928.8 357.505 L1928.8 356.556 L1924.56 356.556 M1933.06 354.797 L1933.06 369.589 L1928.8 369.589 L1928.8 365.653 Q1927.34 368.015 1925.17 369.149 Q1922.99 370.26 1919.84 370.26 Q1915.86 370.26 1913.5 368.038 Q1911.16 365.792 1911.16 362.042 Q1911.16 357.667 1914.08 355.445 Q1917.02 353.223 1922.83 353.223 L1928.8 353.223 L1928.8 352.806 Q1928.8 349.867 1926.86 348.269 Q1924.94 346.649 1921.44 346.649 Q1919.22 346.649 1917.11 347.181 Q1915 347.714 1913.06 348.779 L1913.06 344.843 Q1915.4 343.941 1917.6 343.501 Q1919.8 343.038 1921.88 343.038 Q1927.5 343.038 1930.28 345.954 Q1933.06 348.871 1933.06 354.797 Z\" fill=\"#000000\" fill-rule=\"nonzero\" fill-opacity=\"1\" /><path clip-path=\"url(#clip990)\" d=\"M1967.13 333.617 Q1964.03 338.941 1962.53 344.149 Q1961.02 349.357 1961.02 354.704 Q1961.02 360.052 1962.53 365.306 Q1964.06 370.538 1967.13 375.839 L1963.43 375.839 Q1959.96 370.399 1958.22 365.144 Q1956.51 359.89 1956.51 354.704 Q1956.51 349.542 1958.22 344.311 Q1959.93 339.08 1963.43 333.617 L1967.13 333.617 Z\" fill=\"#000000\" fill-rule=\"nonzero\" fill-opacity=\"1\" /><path clip-path=\"url(#clip990)\" d=\"M1976.05 335.029 L1994.4 335.029 L1994.4 338.964 L1980.33 338.964 L1980.33 347.436 Q1981.35 347.089 1982.37 346.927 Q1983.38 346.742 1984.4 346.742 Q1990.19 346.742 1993.57 349.913 Q1996.95 353.084 1996.95 358.501 Q1996.95 364.079 1993.48 367.181 Q1990 370.26 1983.68 370.26 Q1981.51 370.26 1979.24 369.89 Q1977 369.519 1974.59 368.778 L1974.59 364.079 Q1976.67 365.214 1978.89 365.769 Q1981.12 366.325 1983.59 366.325 Q1987.6 366.325 1989.93 364.218 Q1992.27 362.112 1992.27 358.501 Q1992.27 354.89 1989.93 352.783 Q1987.6 350.677 1983.59 350.677 Q1981.72 350.677 1979.84 351.093 Q1977.99 351.51 1976.05 352.39 L1976.05 335.029 Z\" fill=\"#000000\" fill-rule=\"nonzero\" fill-opacity=\"1\" /><path clip-path=\"url(#clip990)\" d=\"M2016.16 353.177 Q2012.83 353.177 2010.91 354.959 Q2009.01 356.741 2009.01 359.866 Q2009.01 362.991 2010.91 364.774 Q2012.83 366.556 2016.16 366.556 Q2019.49 366.556 2021.42 364.774 Q2023.34 362.968 2023.34 359.866 Q2023.34 356.741 2021.42 354.959 Q2019.52 353.177 2016.16 353.177 M2011.49 351.186 Q2008.48 350.445 2006.79 348.385 Q2005.12 346.325 2005.12 343.362 Q2005.12 339.218 2008.06 336.811 Q2011.02 334.404 2016.16 334.404 Q2021.32 334.404 2024.26 336.811 Q2027.2 339.218 2027.2 343.362 Q2027.2 346.325 2025.51 348.385 Q2023.85 350.445 2020.86 351.186 Q2024.24 351.973 2026.12 354.265 Q2028.01 356.556 2028.01 359.866 Q2028.01 364.89 2024.93 367.575 Q2021.88 370.26 2016.16 370.26 Q2010.44 370.26 2007.37 367.575 Q2004.31 364.89 2004.31 359.866 Q2004.31 356.556 2006.21 354.265 Q2008.11 351.973 2011.49 351.186 M2009.77 343.802 Q2009.77 346.487 2011.44 347.992 Q2013.13 349.496 2016.16 349.496 Q2019.17 349.496 2020.86 347.992 Q2022.57 346.487 2022.57 343.802 Q2022.57 341.117 2020.86 339.612 Q2019.17 338.107 2016.16 338.107 Q2013.13 338.107 2011.44 339.612 Q2009.77 341.117 2009.77 343.802 Z\" fill=\"#000000\" fill-rule=\"nonzero\" fill-opacity=\"1\" /><path clip-path=\"url(#clip990)\" d=\"M2035.14 335.029 L2057.36 335.029 L2057.36 337.019 L2044.82 369.589 L2039.93 369.589 L2051.74 338.964 L2035.14 338.964 L2035.14 335.029 Z\" fill=\"#000000\" fill-rule=\"nonzero\" fill-opacity=\"1\" /><path clip-path=\"url(#clip990)\" d=\"M2070.51 365.653 L2086.83 365.653 L2086.83 369.589 L2064.89 369.589 L2064.89 365.653 Q2067.55 362.899 2072.13 358.269 Q2076.74 353.616 2077.92 352.274 Q2080.17 349.751 2081.05 348.015 Q2081.95 346.255 2081.95 344.566 Q2081.95 341.811 2080 340.075 Q2078.08 338.339 2074.98 338.339 Q2072.78 338.339 2070.33 339.103 Q2067.9 339.867 2065.12 341.417 L2065.12 336.695 Q2067.94 335.561 2070.4 334.982 Q2072.85 334.404 2074.89 334.404 Q2080.26 334.404 2083.45 337.089 Q2086.65 339.774 2086.65 344.265 Q2086.65 346.394 2085.84 348.316 Q2085.05 350.214 2082.94 352.806 Q2082.36 353.478 2079.26 356.695 Q2076.16 359.89 2070.51 365.653 Z\" fill=\"#000000\" fill-rule=\"nonzero\" fill-opacity=\"1\" /><path clip-path=\"url(#clip990)\" d=\"M2106.65 338.107 Q2103.04 338.107 2101.21 341.672 Q2099.4 345.214 2099.4 352.343 Q2099.4 359.45 2101.21 363.015 Q2103.04 366.556 2106.65 366.556 Q2110.28 366.556 2112.09 363.015 Q2113.92 359.45 2113.92 352.343 Q2113.92 345.214 2112.09 341.672 Q2110.28 338.107 2106.65 338.107 M2106.65 334.404 Q2112.46 334.404 2115.51 339.01 Q2118.59 343.593 2118.59 352.343 Q2118.59 361.07 2115.51 365.677 Q2112.46 370.26 2106.65 370.26 Q2100.84 370.26 2097.76 365.677 Q2094.7 361.07 2094.7 352.343 Q2094.7 343.593 2097.76 339.01 Q2100.84 334.404 2106.65 334.404 Z\" fill=\"#000000\" fill-rule=\"nonzero\" fill-opacity=\"1\" /><path clip-path=\"url(#clip990)\" d=\"M2130.84 365.653 L2147.16 365.653 L2147.16 369.589 L2125.21 369.589 L2125.21 365.653 Q2127.87 362.899 2132.46 358.269 Q2137.06 353.616 2138.24 352.274 Q2140.49 349.751 2141.37 348.015 Q2142.27 346.255 2142.27 344.566 Q2142.27 341.811 2140.33 340.075 Q2138.41 338.339 2135.3 338.339 Q2133.11 338.339 2130.65 339.103 Q2128.22 339.867 2125.44 341.417 L2125.44 336.695 Q2128.27 335.561 2130.72 334.982 Q2133.17 334.404 2135.21 334.404 Q2140.58 334.404 2143.78 337.089 Q2146.97 339.774 2146.97 344.265 Q2146.97 346.394 2146.16 348.316 Q2145.37 350.214 2143.27 352.806 Q2142.69 353.478 2139.59 356.695 Q2136.48 359.89 2130.84 365.653 Z\" fill=\"#000000\" fill-rule=\"nonzero\" fill-opacity=\"1\" /><path clip-path=\"url(#clip990)\" d=\"M2157.02 335.029 L2175.37 335.029 L2175.37 338.964 L2161.3 338.964 L2161.3 347.436 Q2162.32 347.089 2163.34 346.927 Q2164.36 346.742 2165.37 346.742 Q2171.16 346.742 2174.54 349.913 Q2177.92 353.084 2177.92 358.501 Q2177.92 364.079 2174.45 367.181 Q2170.98 370.26 2164.66 370.26 Q2162.48 370.26 2160.21 369.89 Q2157.97 369.519 2155.56 368.778 L2155.56 364.079 Q2157.64 365.214 2159.86 365.769 Q2162.09 366.325 2164.56 366.325 Q2168.57 366.325 2170.91 364.218 Q2173.24 362.112 2173.24 358.501 Q2173.24 354.89 2170.91 352.783 Q2168.57 350.677 2164.56 350.677 Q2162.69 350.677 2160.81 351.093 Q2158.96 351.51 2157.02 352.39 L2157.02 335.029 Z\" fill=\"#000000\" fill-rule=\"nonzero\" fill-opacity=\"1\" /><path clip-path=\"url(#clip990)\" d=\"M2197.71 350.445 Q2194.56 350.445 2192.71 352.598 Q2190.88 354.751 2190.88 358.501 Q2190.88 362.228 2192.71 364.403 Q2194.56 366.556 2197.71 366.556 Q2200.86 366.556 2202.69 364.403 Q2204.54 362.228 2204.54 358.501 Q2204.54 354.751 2202.69 352.598 Q2200.86 350.445 2197.71 350.445 M2206.99 335.793 L2206.99 340.052 Q2205.23 339.218 2203.43 338.779 Q2201.65 338.339 2199.89 338.339 Q2195.26 338.339 2192.8 341.464 Q2190.37 344.589 2190.03 350.908 Q2191.39 348.894 2193.45 347.829 Q2195.51 346.742 2197.99 346.742 Q2203.2 346.742 2206.21 349.913 Q2209.24 353.061 2209.24 358.501 Q2209.24 363.825 2206.09 367.042 Q2202.94 370.26 2197.71 370.26 Q2191.72 370.26 2188.54 365.677 Q2185.37 361.07 2185.37 352.343 Q2185.37 344.149 2189.26 339.288 Q2193.15 334.404 2199.7 334.404 Q2201.46 334.404 2203.24 334.751 Q2205.05 335.098 2206.99 335.793 Z\" fill=\"#000000\" fill-rule=\"nonzero\" fill-opacity=\"1\" /><path clip-path=\"url(#clip990)\" d=\"M2218.1 365.653 L2225.74 365.653 L2225.74 339.288 L2217.43 340.955 L2217.43 336.695 L2225.7 335.029 L2230.37 335.029 L2230.37 365.653 L2238.01 365.653 L2238.01 369.589 L2218.1 369.589 L2218.1 365.653 Z\" fill=\"#000000\" fill-rule=\"nonzero\" fill-opacity=\"1\" /><path clip-path=\"url(#clip990)\" d=\"M2246.18 333.617 L2249.89 333.617 Q2253.36 339.08 2255.07 344.311 Q2256.81 349.542 2256.81 354.704 Q2256.81 359.89 2255.07 365.144 Q2253.36 370.399 2249.89 375.839 L2246.18 375.839 Q2249.26 370.538 2250.77 365.306 Q2252.29 360.052 2252.29 354.704 Q2252.29 349.357 2250.77 344.149 Q2249.26 338.941 2246.18 333.617 Z\" fill=\"#000000\" fill-rule=\"nonzero\" fill-opacity=\"1\" /></svg>\n"
      ]
     },
     "execution_count": 9,
     "metadata": {},
     "output_type": "execute_result"
    }
   ],
   "source": [
    "simpleFMU = fmiLoad(\"SpringPendulum1D\", \"Dymola\", \"2022x\"; type=:ME)\n",
    "fmiInfo(simpleFMU)\n",
    "\n",
    "vrs = [\"mass.s\", \"mass.v\", \"mass.a\"]\n",
    "solSimple = fmiSimulate(simpleFMU, (tStart, tStop); recordValues=vrs, saveat=tSave)\n",
    "plot(solSimple)"
   ]
  },
  {
   "cell_type": "markdown",
   "metadata": {},
   "source": [
    "The data from the simulation of the *simpleFMU*, are divided into position and velocity data. These data will be needed later to plot the results. "
   ]
  },
  {
   "cell_type": "code",
   "execution_count": 10,
   "metadata": {
    "execution": {
     "iopub.execute_input": "2024-04-19T11:41:43.245000Z",
     "iopub.status.busy": "2024-04-19T11:41:43.245000Z",
     "iopub.status.idle": "2024-04-19T11:41:43.277000Z",
     "shell.execute_reply": "2024-04-19T11:41:43.277000Z"
    },
    "scrolled": false
   },
   "outputs": [
    {
     "data": {
      "text/plain": [
       "51-element Vector{Float64}:\n",
       "  0.0\n",
       "  0.5900499045575546\n",
       "  1.1215848686403096\n",
       "  1.541892887990106\n",
       "  1.809292251922929\n",
       "  1.897265115600142\n",
       "  1.797087259817532\n",
       "  1.518693266896391\n",
       "  1.0896913136721704\n",
       "  0.5526252840128629\n",
       " -0.03924428436005998\n",
       " -0.6272220176030365\n",
       " -1.1529984931243986\n",
       "  ⋮\n",
       " -0.4389974278206929\n",
       "  0.15680920523609004\n",
       "  0.7370651557739741\n",
       "  1.244226766096815\n",
       "  1.6279991034408674\n",
       "  1.850323680279787\n",
       "  1.889152693194497\n",
       "  1.7406354911553794\n",
       "  1.4195004423851794\n",
       "  0.9575943302840277\n",
       "  0.4007241257092793\n",
       " -0.1958856419517666"
      ]
     },
     "execution_count": 10,
     "metadata": {},
     "output_type": "execute_result"
    }
   ],
   "source": [
    "posSimple = fmi2GetSolutionValue(solSimple, \"mass.s\")\n",
    "velSimple = fmi2GetSolutionValue(solSimple, \"mass.v\")"
   ]
  },
  {
   "attachments": {},
   "cell_type": "markdown",
   "metadata": {},
   "source": [
    "## NeuralFMU\n",
    "\n",
    "#### Loss function with growing horizon\n",
    "\n",
    "In order to train our model, a loss function must be implemented. The solver of the NeuralFMU can calculate the gradient of the loss function. The gradient descent is needed to adjust the weights in the neural network so that the sum of the error is reduced and the model becomes more accurate.\n",
    "\n",
    "The loss function in this implementation consists of the mean squared error (mse) from the Fric position of the *fricFMU* simulation (posFric) and the position data of the network (posNet).\n",
    "$$ e_{mse} = \\frac{1}{n} \\sum\\limits_{i=0}^n (posFric[i] - posNet[i])^2 $$\n",
    "A growing horizon is applied, whereby the horizon only goes over the first five values. For this horizon the mse is calculated."
   ]
  },
  {
   "cell_type": "code",
   "execution_count": 11,
   "metadata": {
    "execution": {
     "iopub.execute_input": "2024-04-19T11:41:43.277000Z",
     "iopub.status.busy": "2024-04-19T11:41:43.277000Z",
     "iopub.status.idle": "2024-04-19T11:41:43.480000Z",
     "shell.execute_reply": "2024-04-19T11:41:43.480000Z"
    },
    "scrolled": false
   },
   "outputs": [
    {
     "data": {
      "text/plain": [
       "lossSum (generic function with 1 method)"
      ]
     },
     "execution_count": 11,
     "metadata": {},
     "output_type": "execute_result"
    }
   ],
   "source": [
    "# loss function for training\n",
    "global horizon = 5\n",
    "function lossSum(p)\n",
    "    global posFric, neuralFMU, horizon\n",
    "\n",
    "    solution = neuralFMU(x₀, (tSave[1], tSave[horizon]); p=p, saveat=tSave[1:horizon]) # here, the NeuralODE is solved only for the time horizon\n",
    "\n",
    "    posNet = fmi2GetSolutionState(solution, 1; isIndex=true)\n",
    "\n",
    "    FMIFlux.Losses.mse(posFric[1:horizon], posNet)\n",
    "end"
   ]
  },
  {
   "cell_type": "markdown",
   "metadata": {},
   "source": [
    "#### Function for plotting\n",
    "\n",
    "In this section the function for plotting is defined. The function `plotResults()` creates a new figure object. In dieses figure objekt werden dann die aktuellsten Ergebnisse von *fricFMU*, *simpleFMU* und *neuralFMU* gegenübergestellt. \n",
    "\n",
    "To output the loss in certain time intervals, a callback is implemented as a function in the following. Here a counter is incremented, every twentieth pass the loss function is called and the average error is printed out."
   ]
  },
  {
   "cell_type": "code",
   "execution_count": 12,
   "metadata": {
    "execution": {
     "iopub.execute_input": "2024-04-19T11:41:43.495000Z",
     "iopub.status.busy": "2024-04-19T11:41:43.495000Z",
     "iopub.status.idle": "2024-04-19T11:41:43.574000Z",
     "shell.execute_reply": "2024-04-19T11:41:43.574000Z"
    }
   },
   "outputs": [
    {
     "data": {
      "text/plain": [
       "plotResults (generic function with 1 method)"
      ]
     },
     "execution_count": 12,
     "metadata": {},
     "output_type": "execute_result"
    }
   ],
   "source": [
    "function plotResults()\n",
    "    global neuralFMU\n",
    "    solNeural = neuralFMU(x₀, (tStart, tStop); saveat=tSave)\n",
    "    \n",
    "    fig = Plots.plot(xlabel=\"t [s]\", ylabel=\"mass position [m]\", linewidth=2,\n",
    "                     xtickfontsize=12, ytickfontsize=12,\n",
    "                     xguidefontsize=12, yguidefontsize=12,\n",
    "                     legendfontsize=8, legend=:topright)\n",
    "    \n",
    "    plot!(fig, solSimple; stateIndices=1:1, values=false, label=\"SimpleFMU\", linewidth=2)\n",
    "    plot!(fig, solFric; valueIndices=1:1, label=\"FricFMU\", linewidth=2)\n",
    "    plot!(fig, solNeural; stateIndices=1:1, label=\"NeuralFMU\", linewidth=2)\n",
    "    fig\n",
    "end"
   ]
  },
  {
   "cell_type": "markdown",
   "metadata": {},
   "source": [
    "#### Callback\n",
    "\n",
    "To output the loss in certain time intervals, a callback is implemented as a function in the following. Here a counter is incremented, every twentieth pass the loss function is called and the average error is printed out.  As soon as a limit value (in this example `0.1`) is undershot, the horizon is extended by the next two values."
   ]
  },
  {
   "cell_type": "code",
   "execution_count": 13,
   "metadata": {
    "execution": {
     "iopub.execute_input": "2024-04-19T11:41:43.574000Z",
     "iopub.status.busy": "2024-04-19T11:41:43.574000Z",
     "iopub.status.idle": "2024-04-19T11:41:43.652000Z",
     "shell.execute_reply": "2024-04-19T11:41:43.652000Z"
    },
    "scrolled": false
   },
   "outputs": [
    {
     "data": {
      "text/plain": [
       "callb (generic function with 1 method)"
      ]
     },
     "execution_count": 13,
     "metadata": {},
     "output_type": "execute_result"
    }
   ],
   "source": [
    "# callback function for training\n",
    "global counter = 0\n",
    "function callb(p)\n",
    "    global counter, horizon \n",
    "    counter += 1\n",
    "   \n",
    "    if counter % 50 == 1\n",
    "        avgLoss = lossSum(p[1])\n",
    "        @info \"  Loss [$counter] for horizon $horizon : $(round(avgLoss, digits=5))\\nAvg displacement in data: $(round(sqrt(avgLoss), digits=5))\"\n",
    "        \n",
    "        if avgLoss <= 0.01\n",
    "            horizon += 2\n",
    "            horizon = min(length(tSave), horizon)\n",
    "        end\n",
    "   \n",
    "        # fig = plotResults()\n",
    "        # println(\"Figure update.\")\n",
    "        # display(fig)\n",
    "    end\n",
    "end\n"
   ]
  },
  {
   "cell_type": "markdown",
   "metadata": {},
   "source": [
    "#### Pre- and Postprocessing\n",
    "\n",
    "In the following functions for pre-processing and post-processing are defined. The function `preProc` is normalized the input values to mean of zero and a standard deviation of one. "
   ]
  },
  {
   "cell_type": "code",
   "execution_count": 14,
   "metadata": {
    "execution": {
     "iopub.execute_input": "2024-04-19T11:41:43.652000Z",
     "iopub.status.busy": "2024-04-19T11:41:43.652000Z",
     "iopub.status.idle": "2024-04-19T11:41:43.730000Z",
     "shell.execute_reply": "2024-04-19T11:41:43.730000Z"
    }
   },
   "outputs": [
    {
     "data": {
      "text/plain": [
       "preProc! (generic function with 1 method)"
      ]
     },
     "execution_count": 14,
     "metadata": {},
     "output_type": "execute_result"
    }
   ],
   "source": [
    "global meanVal = 0.0\n",
    "global stdVal = 0.0\n",
    "\n",
    "function preProc!(data)\n",
    "    global meanVal, stdVal\n",
    "\n",
    "    meanVal = mean(data)\n",
    "    stdVal = std(data)\n",
    "    \n",
    "    (data .- meanVal) ./ stdVal    \n",
    "end "
   ]
  },
  {
   "cell_type": "markdown",
   "metadata": {},
   "source": [
    "For post-processing, the previous normalization is undone by applying the calculation steps in reverse order."
   ]
  },
  {
   "cell_type": "code",
   "execution_count": 15,
   "metadata": {
    "execution": {
     "iopub.execute_input": "2024-04-19T11:41:43.730000Z",
     "iopub.status.busy": "2024-04-19T11:41:43.730000Z",
     "iopub.status.idle": "2024-04-19T11:41:43.808000Z",
     "shell.execute_reply": "2024-04-19T11:41:43.808000Z"
    }
   },
   "outputs": [
    {
     "data": {
      "text/plain": [
       "postProc! (generic function with 1 method)"
      ]
     },
     "execution_count": 15,
     "metadata": {},
     "output_type": "execute_result"
    }
   ],
   "source": [
    "function postProc!(data)\n",
    "    global meanVal, stdVal\n",
    "    \n",
    "    (data .* stdVal) .+ meanVal\n",
    "end "
   ]
  },
  {
   "cell_type": "markdown",
   "metadata": {},
   "source": [
    "#### Structure of the NeuralFMU\n",
    "\n",
    "In the following, the topology of the NeuralFMU is constructed. It consists of an input layer, which then leads into the *simpleFMU* model. The ME-FMU computes the state derivatives for a given system state. Following the *simpleFMU* is a dense layer that has exactly as many inputs as the model has states (and therefore state derivatives). The output of this layer consists of 16 output nodes and a *tanh* activation function. The next layer has 16 input and output nodes with the same activation function. The last layer is again a dense layer with 16 input nodes and the number of states as outputs. Here, it is important that no *tanh*-activation function follows, because otherwise the pendulums state values would be limited to the interval $[-1;1]$."
   ]
  },
  {
   "cell_type": "code",
   "execution_count": 16,
   "metadata": {
    "execution": {
     "iopub.execute_input": "2024-04-19T11:41:43.808000Z",
     "iopub.status.busy": "2024-04-19T11:41:43.808000Z",
     "iopub.status.idle": "2024-04-19T11:41:48.530000Z",
     "shell.execute_reply": "2024-04-19T11:41:48.530000Z"
    },
    "scrolled": false
   },
   "outputs": [
    {
     "data": {
      "text/plain": [
       "Chain(\n",
       "  var\"#1#2\"(),\n",
       "  preProc!,\n",
       "  Dense(3 => 16, tanh),                 \u001b[90m# 64 parameters\u001b[39m\n",
       "  postProc!,\n",
       "  preProc!,\n",
       "  Dense(16 => 16, tanh),                \u001b[90m# 272 parameters\u001b[39m\n",
       "  postProc!,\n",
       "  preProc!,\n",
       "  Dense(16 => 2),                       \u001b[90m# 34 parameters\u001b[39m\n",
       "  postProc!,\n",
       ") \u001b[90m                  # Total: 6 arrays, \u001b[39m370 parameters, 1.820 KiB."
      ]
     },
     "execution_count": 16,
     "metadata": {},
     "output_type": "execute_result"
    }
   ],
   "source": [
    "# NeuralFMU setup\n",
    "numStates = fmiGetNumberOfStates(simpleFMU)\n",
    "additionalVRs = [fmi2StringToValueReference(simpleFMU, \"mass.m\")]\n",
    "numAdditionalVRs = length(additionalVRs)\n",
    "\n",
    "net = Chain(\n",
    "    x -> simpleFMU(x=x, dx_refs=:all, y_refs=additionalVRs),\n",
    "    preProc!,\n",
    "    Dense(numStates+numAdditionalVRs, 16, tanh),\n",
    "    postProc!,\n",
    "    preProc!,\n",
    "    Dense(16, 16, tanh),\n",
    "    postProc!,\n",
    "    preProc!,\n",
    "    Dense(16, numStates),\n",
    "    postProc!,\n",
    ")"
   ]
  },
  {
   "cell_type": "markdown",
   "metadata": {},
   "source": [
    "#### Definition of the NeuralFMU\n",
    "\n",
    "The instantiation of the ME-NeuralFMU is done as a one-liner. The FMU (*simpleFMU*), the structure of the network `net`, start `tStart` and end time `tStop`, the numerical solver `Tsit5()` and the time steps `tSave` for saving are specified."
   ]
  },
  {
   "cell_type": "code",
   "execution_count": 17,
   "metadata": {
    "execution": {
     "iopub.execute_input": "2024-04-19T11:41:48.530000Z",
     "iopub.status.busy": "2024-04-19T11:41:48.530000Z",
     "iopub.status.idle": "2024-04-19T11:41:53.766000Z",
     "shell.execute_reply": "2024-04-19T11:41:53.766000Z"
    },
    "scrolled": false
   },
   "outputs": [],
   "source": [
    "neuralFMU = ME_NeuralFMU(simpleFMU, net, (tStart, tStop), Tsit5(); saveat=tSave);"
   ]
  },
  {
   "cell_type": "markdown",
   "metadata": {},
   "source": [
    "#### Plot before training\n",
    "\n",
    "Here the state trajectory of the *simpleFMU* is recorded. Doesn't really look like a pendulum yet, but the system is random initialized by default. In the plots later on, the effect of learning can be seen."
   ]
  },
  {
   "cell_type": "code",
   "execution_count": 18,
   "metadata": {
    "execution": {
     "iopub.execute_input": "2024-04-19T11:41:53.766000Z",
     "iopub.status.busy": "2024-04-19T11:41:53.766000Z",
     "iopub.status.idle": "2024-04-19T11:42:07.324000Z",
     "shell.execute_reply": "2024-04-19T11:42:07.324000Z"
    },
    "scrolled": false
   },
   "outputs": [
    {
     "name": "stderr",
     "output_type": "stream",
     "text": [
      "\u001b[33m\u001b[1m┌ \u001b[22m\u001b[39m\u001b[33m\u001b[1mWarning: \u001b[22m\u001b[39mNo solver keyword detected for NeuralFMU.\n",
      "\u001b[33m\u001b[1m│ \u001b[22m\u001b[39mContinuous adjoint method is applied, which requires solving backward in time.\n",
      "\u001b[33m\u001b[1m│ \u001b[22m\u001b[39mThis might be not supported by every FMU.\n",
      "\u001b[33m\u001b[1m│ \u001b[22m\u001b[39m(This message is only printed once.)\n",
      "\u001b[33m\u001b[1m└ \u001b[22m\u001b[39m\u001b[90m@ FMICore C:\\Users\\runneradmin\\.julia\\packages\\FMICore\\7NIyu\\src\\printing.jl:38\u001b[39m\n"
     ]
    },
    {
     "data": {
      "image/svg+xml": [
       "<?xml version=\"1.0\" encoding=\"utf-8\"?>\n",
       "<svg xmlns=\"http://www.w3.org/2000/svg\" xmlns:xlink=\"http://www.w3.org/1999/xlink\" width=\"600\" height=\"400\" viewBox=\"0 0 2400 1600\">\n",
       "<defs>\n",
       "  <clipPath id=\"clip030\">\n",
       "    <rect x=\"0\" y=\"0\" width=\"2400\" height=\"1600\"/>\n",
       "  </clipPath>\n",
       "</defs>\n",
       "<path clip-path=\"url(#clip030)\" d=\"M0 1600 L2400 1600 L2400 0 L0 0  Z\" fill=\"#ffffff\" fill-rule=\"evenodd\" fill-opacity=\"1\"/>\n",
       "<defs>\n",
       "  <clipPath id=\"clip031\">\n",
       "    <rect x=\"480\" y=\"0\" width=\"1681\" height=\"1600\"/>\n",
       "  </clipPath>\n",
       "</defs>\n",
       "<path clip-path=\"url(#clip030)\" d=\"M156.598 1423.18 L2352.76 1423.18 L2352.76 47.2441 L156.598 47.2441  Z\" fill=\"#ffffff\" fill-rule=\"evenodd\" fill-opacity=\"1\"/>\n",
       "<defs>\n",
       "  <clipPath id=\"clip032\">\n",
       "    <rect x=\"156\" y=\"47\" width=\"2197\" height=\"1377\"/>\n",
       "  </clipPath>\n",
       "</defs>\n",
       "<polyline clip-path=\"url(#clip032)\" style=\"stroke:#000000; stroke-linecap:round; stroke-linejoin:round; stroke-width:2; stroke-opacity:0.1; fill:none\" points=\"218.754,1423.18 218.754,47.2441 \"/>\n",
       "<polyline clip-path=\"url(#clip032)\" style=\"stroke:#000000; stroke-linecap:round; stroke-linejoin:round; stroke-width:2; stroke-opacity:0.1; fill:none\" points=\"633.123,1423.18 633.123,47.2441 \"/>\n",
       "<polyline clip-path=\"url(#clip032)\" style=\"stroke:#000000; stroke-linecap:round; stroke-linejoin:round; stroke-width:2; stroke-opacity:0.1; fill:none\" points=\"1047.49,1423.18 1047.49,47.2441 \"/>\n",
       "<polyline clip-path=\"url(#clip032)\" style=\"stroke:#000000; stroke-linecap:round; stroke-linejoin:round; stroke-width:2; stroke-opacity:0.1; fill:none\" points=\"1461.86,1423.18 1461.86,47.2441 \"/>\n",
       "<polyline clip-path=\"url(#clip032)\" style=\"stroke:#000000; stroke-linecap:round; stroke-linejoin:round; stroke-width:2; stroke-opacity:0.1; fill:none\" points=\"1876.23,1423.18 1876.23,47.2441 \"/>\n",
       "<polyline clip-path=\"url(#clip032)\" style=\"stroke:#000000; stroke-linecap:round; stroke-linejoin:round; stroke-width:2; stroke-opacity:0.1; fill:none\" points=\"2290.6,1423.18 2290.6,47.2441 \"/>\n",
       "<polyline clip-path=\"url(#clip030)\" style=\"stroke:#000000; stroke-linecap:round; stroke-linejoin:round; stroke-width:4; stroke-opacity:1; fill:none\" points=\"156.598,1423.18 2352.76,1423.18 \"/>\n",
       "<polyline clip-path=\"url(#clip030)\" style=\"stroke:#000000; stroke-linecap:round; stroke-linejoin:round; stroke-width:4; stroke-opacity:1; fill:none\" points=\"218.754,1423.18 218.754,1404.28 \"/>\n",
       "<polyline clip-path=\"url(#clip030)\" style=\"stroke:#000000; stroke-linecap:round; stroke-linejoin:round; stroke-width:4; stroke-opacity:1; fill:none\" points=\"633.123,1423.18 633.123,1404.28 \"/>\n",
       "<polyline clip-path=\"url(#clip030)\" style=\"stroke:#000000; stroke-linecap:round; stroke-linejoin:round; stroke-width:4; stroke-opacity:1; fill:none\" points=\"1047.49,1423.18 1047.49,1404.28 \"/>\n",
       "<polyline clip-path=\"url(#clip030)\" style=\"stroke:#000000; stroke-linecap:round; stroke-linejoin:round; stroke-width:4; stroke-opacity:1; fill:none\" points=\"1461.86,1423.18 1461.86,1404.28 \"/>\n",
       "<polyline clip-path=\"url(#clip030)\" style=\"stroke:#000000; stroke-linecap:round; stroke-linejoin:round; stroke-width:4; stroke-opacity:1; fill:none\" points=\"1876.23,1423.18 1876.23,1404.28 \"/>\n",
       "<polyline clip-path=\"url(#clip030)\" style=\"stroke:#000000; stroke-linecap:round; stroke-linejoin:round; stroke-width:4; stroke-opacity:1; fill:none\" points=\"2290.6,1423.18 2290.6,1404.28 \"/>\n",
       "<path clip-path=\"url(#clip030)\" d=\"M218.754 1454.1 Q215.143 1454.1 213.314 1457.66 Q211.508 1461.2 211.508 1468.33 Q211.508 1475.44 213.314 1479.01 Q215.143 1482.55 218.754 1482.55 Q222.388 1482.55 224.193 1479.01 Q226.022 1475.44 226.022 1468.33 Q226.022 1461.2 224.193 1457.66 Q222.388 1454.1 218.754 1454.1 M218.754 1450.39 Q224.564 1450.39 227.619 1455 Q230.698 1459.58 230.698 1468.33 Q230.698 1477.06 227.619 1481.67 Q224.564 1486.25 218.754 1486.25 Q212.943 1486.25 209.865 1481.67 Q206.809 1477.06 206.809 1468.33 Q206.809 1459.58 209.865 1455 Q212.943 1450.39 218.754 1450.39 Z\" fill=\"#000000\" fill-rule=\"nonzero\" fill-opacity=\"1\" /><path clip-path=\"url(#clip030)\" d=\"M623.505 1481.64 L631.144 1481.64 L631.144 1455.28 L622.834 1456.95 L622.834 1452.69 L631.098 1451.02 L635.773 1451.02 L635.773 1481.64 L643.412 1481.64 L643.412 1485.58 L623.505 1485.58 L623.505 1481.64 Z\" fill=\"#000000\" fill-rule=\"nonzero\" fill-opacity=\"1\" /><path clip-path=\"url(#clip030)\" d=\"M1042.15 1481.64 L1058.46 1481.64 L1058.46 1485.58 L1036.52 1485.58 L1036.52 1481.64 Q1039.18 1478.89 1043.77 1474.26 Q1048.37 1469.61 1049.55 1468.27 Q1051.8 1465.74 1052.68 1464.01 Q1053.58 1462.25 1053.58 1460.56 Q1053.58 1457.8 1051.64 1456.07 Q1049.71 1454.33 1046.61 1454.33 Q1044.41 1454.33 1041.96 1455.09 Q1039.53 1455.86 1036.75 1457.41 L1036.75 1452.69 Q1039.58 1451.55 1042.03 1450.97 Q1044.48 1450.39 1046.52 1450.39 Q1051.89 1450.39 1055.08 1453.08 Q1058.28 1455.77 1058.28 1460.26 Q1058.28 1462.39 1057.47 1464.31 Q1056.68 1466.2 1054.58 1468.8 Q1054 1469.47 1050.9 1472.69 Q1047.79 1475.88 1042.15 1481.64 Z\" fill=\"#000000\" fill-rule=\"nonzero\" fill-opacity=\"1\" /><path clip-path=\"url(#clip030)\" d=\"M1466.11 1466.95 Q1469.47 1467.66 1471.34 1469.93 Q1473.24 1472.2 1473.24 1475.53 Q1473.24 1480.65 1469.72 1483.45 Q1466.2 1486.25 1459.72 1486.25 Q1457.54 1486.25 1455.23 1485.81 Q1452.94 1485.39 1450.48 1484.54 L1450.48 1480.02 Q1452.43 1481.16 1454.74 1481.74 Q1457.06 1482.32 1459.58 1482.32 Q1463.98 1482.32 1466.27 1480.58 Q1468.59 1478.84 1468.59 1475.53 Q1468.59 1472.48 1466.43 1470.77 Q1464.3 1469.03 1460.48 1469.03 L1456.46 1469.03 L1456.46 1465.19 L1460.67 1465.19 Q1464.12 1465.19 1465.95 1463.82 Q1467.78 1462.43 1467.78 1459.84 Q1467.78 1457.18 1465.88 1455.77 Q1464 1454.33 1460.48 1454.33 Q1458.56 1454.33 1456.36 1454.75 Q1454.17 1455.16 1451.53 1456.04 L1451.53 1451.88 Q1454.19 1451.14 1456.5 1450.77 Q1458.84 1450.39 1460.9 1450.39 Q1466.23 1450.39 1469.33 1452.83 Q1472.43 1455.23 1472.43 1459.35 Q1472.43 1462.22 1470.79 1464.21 Q1469.14 1466.18 1466.11 1466.95 Z\" fill=\"#000000\" fill-rule=\"nonzero\" fill-opacity=\"1\" /><path clip-path=\"url(#clip030)\" d=\"M1879.24 1455.09 L1867.43 1473.54 L1879.24 1473.54 L1879.24 1455.09 M1878.01 1451.02 L1883.89 1451.02 L1883.89 1473.54 L1888.82 1473.54 L1888.82 1477.43 L1883.89 1477.43 L1883.89 1485.58 L1879.24 1485.58 L1879.24 1477.43 L1863.64 1477.43 L1863.64 1472.92 L1878.01 1451.02 Z\" fill=\"#000000\" fill-rule=\"nonzero\" fill-opacity=\"1\" /><path clip-path=\"url(#clip030)\" d=\"M2280.88 1451.02 L2299.23 1451.02 L2299.23 1454.96 L2285.16 1454.96 L2285.16 1463.43 Q2286.18 1463.08 2287.2 1462.92 Q2288.22 1462.73 2289.23 1462.73 Q2295.02 1462.73 2298.4 1465.9 Q2301.78 1469.08 2301.78 1474.49 Q2301.78 1480.07 2298.31 1483.17 Q2294.84 1486.25 2288.52 1486.25 Q2286.34 1486.25 2284.07 1485.88 Q2281.83 1485.51 2279.42 1484.77 L2279.42 1480.07 Q2281.5 1481.2 2283.73 1481.76 Q2285.95 1482.32 2288.42 1482.32 Q2292.43 1482.32 2294.77 1480.21 Q2297.11 1478.1 2297.11 1474.49 Q2297.11 1470.88 2294.77 1468.77 Q2292.43 1466.67 2288.42 1466.67 Q2286.55 1466.67 2284.67 1467.08 Q2282.82 1467.5 2280.88 1468.38 L2280.88 1451.02 Z\" fill=\"#000000\" fill-rule=\"nonzero\" fill-opacity=\"1\" /><path clip-path=\"url(#clip030)\" d=\"M1202.99 1522.27 L1202.99 1532.4 L1215.05 1532.4 L1215.05 1536.95 L1202.99 1536.95 L1202.99 1556.3 Q1202.99 1560.66 1204.17 1561.9 Q1205.37 1563.14 1209.03 1563.14 L1215.05 1563.14 L1215.05 1568.04 L1209.03 1568.04 Q1202.26 1568.04 1199.68 1565.53 Q1197.1 1562.98 1197.1 1556.3 L1197.1 1536.95 L1192.8 1536.95 L1192.8 1532.4 L1197.1 1532.4 L1197.1 1522.27 L1202.99 1522.27 Z\" fill=\"#000000\" fill-rule=\"nonzero\" fill-opacity=\"1\" /><path clip-path=\"url(#clip030)\" d=\"M1242.93 1518.52 L1256.43 1518.52 L1256.43 1523.07 L1248.79 1523.07 L1248.79 1572.09 L1256.43 1572.09 L1256.43 1576.64 L1242.93 1576.64 L1242.93 1518.52 Z\" fill=\"#000000\" fill-rule=\"nonzero\" fill-opacity=\"1\" /><path clip-path=\"url(#clip030)\" d=\"M1291.63 1533.45 L1291.63 1538.98 Q1289.15 1537.71 1286.47 1537.07 Q1283.8 1536.44 1280.94 1536.44 Q1276.58 1536.44 1274.38 1537.77 Q1272.21 1539.11 1272.21 1541.79 Q1272.21 1543.82 1273.77 1545 Q1275.33 1546.15 1280.04 1547.2 L1282.05 1547.64 Q1288.29 1548.98 1290.9 1551.43 Q1293.54 1553.85 1293.54 1558.21 Q1293.54 1563.17 1289.59 1566.07 Q1285.68 1568.97 1278.8 1568.97 Q1275.94 1568.97 1272.82 1568.39 Q1269.73 1567.85 1266.29 1566.74 L1266.29 1560.69 Q1269.54 1562.38 1272.69 1563.24 Q1275.84 1564.07 1278.93 1564.07 Q1283.07 1564.07 1285.3 1562.66 Q1287.52 1561.23 1287.52 1558.65 Q1287.52 1556.27 1285.9 1554.99 Q1284.31 1553.72 1278.87 1552.54 L1276.83 1552.07 Q1271.39 1550.92 1268.97 1548.56 Q1266.55 1546.18 1266.55 1542.04 Q1266.55 1537.01 1270.11 1534.27 Q1273.68 1531.54 1280.24 1531.54 Q1283.48 1531.54 1286.35 1532.01 Q1289.21 1532.49 1291.63 1533.45 Z\" fill=\"#000000\" fill-rule=\"nonzero\" fill-opacity=\"1\" /><path clip-path=\"url(#clip030)\" d=\"M1316.55 1518.52 L1316.55 1576.64 L1303.06 1576.64 L1303.06 1572.09 L1310.66 1572.09 L1310.66 1523.07 L1303.06 1523.07 L1303.06 1518.52 L1316.55 1518.52 Z\" fill=\"#000000\" fill-rule=\"nonzero\" fill-opacity=\"1\" /><polyline clip-path=\"url(#clip032)\" style=\"stroke:#000000; stroke-linecap:round; stroke-linejoin:round; stroke-width:2; stroke-opacity:0.1; fill:none\" points=\"156.598,1384.24 2352.76,1384.24 \"/>\n",
       "<polyline clip-path=\"url(#clip032)\" style=\"stroke:#000000; stroke-linecap:round; stroke-linejoin:round; stroke-width:2; stroke-opacity:0.1; fill:none\" points=\"156.598,1176.41 2352.76,1176.41 \"/>\n",
       "<polyline clip-path=\"url(#clip032)\" style=\"stroke:#000000; stroke-linecap:round; stroke-linejoin:round; stroke-width:2; stroke-opacity:0.1; fill:none\" points=\"156.598,968.582 2352.76,968.582 \"/>\n",
       "<polyline clip-path=\"url(#clip032)\" style=\"stroke:#000000; stroke-linecap:round; stroke-linejoin:round; stroke-width:2; stroke-opacity:0.1; fill:none\" points=\"156.598,760.754 2352.76,760.754 \"/>\n",
       "<polyline clip-path=\"url(#clip032)\" style=\"stroke:#000000; stroke-linecap:round; stroke-linejoin:round; stroke-width:2; stroke-opacity:0.1; fill:none\" points=\"156.598,552.926 2352.76,552.926 \"/>\n",
       "<polyline clip-path=\"url(#clip032)\" style=\"stroke:#000000; stroke-linecap:round; stroke-linejoin:round; stroke-width:2; stroke-opacity:0.1; fill:none\" points=\"156.598,345.098 2352.76,345.098 \"/>\n",
       "<polyline clip-path=\"url(#clip032)\" style=\"stroke:#000000; stroke-linecap:round; stroke-linejoin:round; stroke-width:2; stroke-opacity:0.1; fill:none\" points=\"156.598,137.27 2352.76,137.27 \"/>\n",
       "<polyline clip-path=\"url(#clip030)\" style=\"stroke:#000000; stroke-linecap:round; stroke-linejoin:round; stroke-width:4; stroke-opacity:1; fill:none\" points=\"156.598,1423.18 156.598,47.2441 \"/>\n",
       "<polyline clip-path=\"url(#clip030)\" style=\"stroke:#000000; stroke-linecap:round; stroke-linejoin:round; stroke-width:4; stroke-opacity:1; fill:none\" points=\"156.598,1384.24 175.496,1384.24 \"/>\n",
       "<polyline clip-path=\"url(#clip030)\" style=\"stroke:#000000; stroke-linecap:round; stroke-linejoin:round; stroke-width:4; stroke-opacity:1; fill:none\" points=\"156.598,1176.41 175.496,1176.41 \"/>\n",
       "<polyline clip-path=\"url(#clip030)\" style=\"stroke:#000000; stroke-linecap:round; stroke-linejoin:round; stroke-width:4; stroke-opacity:1; fill:none\" points=\"156.598,968.582 175.496,968.582 \"/>\n",
       "<polyline clip-path=\"url(#clip030)\" style=\"stroke:#000000; stroke-linecap:round; stroke-linejoin:round; stroke-width:4; stroke-opacity:1; fill:none\" points=\"156.598,760.754 175.496,760.754 \"/>\n",
       "<polyline clip-path=\"url(#clip030)\" style=\"stroke:#000000; stroke-linecap:round; stroke-linejoin:round; stroke-width:4; stroke-opacity:1; fill:none\" points=\"156.598,552.926 175.496,552.926 \"/>\n",
       "<polyline clip-path=\"url(#clip030)\" style=\"stroke:#000000; stroke-linecap:round; stroke-linejoin:round; stroke-width:4; stroke-opacity:1; fill:none\" points=\"156.598,345.098 175.496,345.098 \"/>\n",
       "<polyline clip-path=\"url(#clip030)\" style=\"stroke:#000000; stroke-linecap:round; stroke-linejoin:round; stroke-width:4; stroke-opacity:1; fill:none\" points=\"156.598,137.27 175.496,137.27 \"/>\n",
       "<path clip-path=\"url(#clip030)\" d=\"M63.4226 1370.04 Q59.8115 1370.04 57.9828 1373.6 Q56.1773 1377.14 56.1773 1384.27 Q56.1773 1391.38 57.9828 1394.94 Q59.8115 1398.49 63.4226 1398.49 Q67.0569 1398.49 68.8624 1394.94 Q70.6911 1391.38 70.6911 1384.27 Q70.6911 1377.14 68.8624 1373.6 Q67.0569 1370.04 63.4226 1370.04 M63.4226 1366.33 Q69.2328 1366.33 72.2883 1370.94 Q75.367 1375.52 75.367 1384.27 Q75.367 1393 72.2883 1397.61 Q69.2328 1402.19 63.4226 1402.19 Q57.6125 1402.19 54.5338 1397.61 Q51.4782 1393 51.4782 1384.27 Q51.4782 1375.52 54.5338 1370.94 Q57.6125 1366.33 63.4226 1366.33 Z\" fill=\"#000000\" fill-rule=\"nonzero\" fill-opacity=\"1\" /><path clip-path=\"url(#clip030)\" d=\"M83.5845 1395.64 L88.4688 1395.64 L88.4688 1401.52 L83.5845 1401.52 L83.5845 1395.64 Z\" fill=\"#000000\" fill-rule=\"nonzero\" fill-opacity=\"1\" /><path clip-path=\"url(#clip030)\" d=\"M108.654 1370.04 Q105.043 1370.04 103.214 1373.6 Q101.409 1377.14 101.409 1384.27 Q101.409 1391.38 103.214 1394.94 Q105.043 1398.49 108.654 1398.49 Q112.288 1398.49 114.094 1394.94 Q115.922 1391.38 115.922 1384.27 Q115.922 1377.14 114.094 1373.6 Q112.288 1370.04 108.654 1370.04 M108.654 1366.33 Q114.464 1366.33 117.52 1370.94 Q120.598 1375.52 120.598 1384.27 Q120.598 1393 117.52 1397.61 Q114.464 1402.19 108.654 1402.19 Q102.844 1402.19 99.765 1397.61 Q96.7095 1393 96.7095 1384.27 Q96.7095 1375.52 99.765 1370.94 Q102.844 1366.33 108.654 1366.33 Z\" fill=\"#000000\" fill-rule=\"nonzero\" fill-opacity=\"1\" /><path clip-path=\"url(#clip030)\" d=\"M65.0198 1162.21 Q61.4087 1162.21 59.58 1165.77 Q57.7745 1169.32 57.7745 1176.44 Q57.7745 1183.55 59.58 1187.12 Q61.4087 1190.66 65.0198 1190.66 Q68.6541 1190.66 70.4596 1187.12 Q72.2883 1183.55 72.2883 1176.44 Q72.2883 1169.32 70.4596 1165.77 Q68.6541 1162.21 65.0198 1162.21 M65.0198 1158.51 Q70.83 1158.51 73.8855 1163.11 Q76.9642 1167.69 76.9642 1176.44 Q76.9642 1185.17 73.8855 1189.78 Q70.83 1194.36 65.0198 1194.36 Q59.2097 1194.36 56.131 1189.78 Q53.0754 1185.17 53.0754 1176.44 Q53.0754 1167.69 56.131 1163.11 Q59.2097 1158.51 65.0198 1158.51 Z\" fill=\"#000000\" fill-rule=\"nonzero\" fill-opacity=\"1\" /><path clip-path=\"url(#clip030)\" d=\"M85.1818 1187.81 L90.066 1187.81 L90.066 1193.69 L85.1818 1193.69 L85.1818 1187.81 Z\" fill=\"#000000\" fill-rule=\"nonzero\" fill-opacity=\"1\" /><path clip-path=\"url(#clip030)\" d=\"M104.279 1189.75 L120.598 1189.75 L120.598 1193.69 L98.6539 1193.69 L98.6539 1189.75 Q101.316 1187 105.899 1182.37 Q110.506 1177.72 111.686 1176.38 Q113.932 1173.85 114.811 1172.12 Q115.714 1170.36 115.714 1168.67 Q115.714 1165.91 113.77 1164.18 Q111.848 1162.44 108.746 1162.44 Q106.547 1162.44 104.094 1163.2 Q101.663 1163.97 98.8854 1165.52 L98.8854 1160.8 Q101.709 1159.66 104.163 1159.08 Q106.617 1158.51 108.654 1158.51 Q114.024 1158.51 117.219 1161.19 Q120.413 1163.88 120.413 1168.37 Q120.413 1170.5 119.603 1172.42 Q118.816 1174.32 116.709 1176.91 Q116.131 1177.58 113.029 1180.8 Q109.927 1183.99 104.279 1189.75 Z\" fill=\"#000000\" fill-rule=\"nonzero\" fill-opacity=\"1\" /><path clip-path=\"url(#clip030)\" d=\"M62.9365 954.381 Q59.3254 954.381 57.4967 957.946 Q55.6912 961.487 55.6912 968.617 Q55.6912 975.723 57.4967 979.288 Q59.3254 982.83 62.9365 982.83 Q66.5707 982.83 68.3763 979.288 Q70.205 975.723 70.205 968.617 Q70.205 961.487 68.3763 957.946 Q66.5707 954.381 62.9365 954.381 M62.9365 950.677 Q68.7467 950.677 71.8022 955.283 Q74.8809 959.867 74.8809 968.617 Q74.8809 977.344 71.8022 981.95 Q68.7467 986.533 62.9365 986.533 Q57.1264 986.533 54.0477 981.95 Q50.9921 977.344 50.9921 968.617 Q50.9921 959.867 54.0477 955.283 Q57.1264 950.677 62.9365 950.677 Z\" fill=\"#000000\" fill-rule=\"nonzero\" fill-opacity=\"1\" /><path clip-path=\"url(#clip030)\" d=\"M83.0984 979.982 L87.9827 979.982 L87.9827 985.862 L83.0984 985.862 L83.0984 979.982 Z\" fill=\"#000000\" fill-rule=\"nonzero\" fill-opacity=\"1\" /><path clip-path=\"url(#clip030)\" d=\"M111.015 955.376 L99.2095 973.825 L111.015 973.825 L111.015 955.376 M109.788 951.302 L115.668 951.302 L115.668 973.825 L120.598 973.825 L120.598 977.714 L115.668 977.714 L115.668 985.862 L111.015 985.862 L111.015 977.714 L95.4132 977.714 L95.4132 973.2 L109.788 951.302 Z\" fill=\"#000000\" fill-rule=\"nonzero\" fill-opacity=\"1\" /><path clip-path=\"url(#clip030)\" d=\"M63.2606 746.553 Q59.6495 746.553 57.8208 750.117 Q56.0152 753.659 56.0152 760.789 Q56.0152 767.895 57.8208 771.46 Q59.6495 775.002 63.2606 775.002 Q66.8948 775.002 68.7004 771.46 Q70.5291 767.895 70.5291 760.789 Q70.5291 753.659 68.7004 750.117 Q66.8948 746.553 63.2606 746.553 M63.2606 742.849 Q69.0707 742.849 72.1263 747.455 Q75.205 752.039 75.205 760.789 Q75.205 769.515 72.1263 774.122 Q69.0707 778.705 63.2606 778.705 Q57.4504 778.705 54.3717 774.122 Q51.3162 769.515 51.3162 760.789 Q51.3162 752.039 54.3717 747.455 Q57.4504 742.849 63.2606 742.849 Z\" fill=\"#000000\" fill-rule=\"nonzero\" fill-opacity=\"1\" /><path clip-path=\"url(#clip030)\" d=\"M83.4225 772.154 L88.3067 772.154 L88.3067 778.034 L83.4225 778.034 L83.4225 772.154 Z\" fill=\"#000000\" fill-rule=\"nonzero\" fill-opacity=\"1\" /><path clip-path=\"url(#clip030)\" d=\"M109.071 758.89 Q105.922 758.89 104.071 761.043 Q102.242 763.196 102.242 766.946 Q102.242 770.673 104.071 772.849 Q105.922 775.002 109.071 775.002 Q112.219 775.002 114.047 772.849 Q115.899 770.673 115.899 766.946 Q115.899 763.196 114.047 761.043 Q112.219 758.89 109.071 758.89 M118.353 744.238 L118.353 748.497 Q116.594 747.664 114.788 747.224 Q113.006 746.784 111.246 746.784 Q106.617 746.784 104.163 749.909 Q101.733 753.034 101.385 759.353 Q102.751 757.34 104.811 756.275 Q106.871 755.187 109.348 755.187 Q114.557 755.187 117.566 758.358 Q120.598 761.506 120.598 766.946 Q120.598 772.27 117.45 775.488 Q114.302 778.705 109.071 778.705 Q103.075 778.705 99.9039 774.122 Q96.7326 769.515 96.7326 760.789 Q96.7326 752.594 100.621 747.733 Q104.51 742.849 111.061 742.849 Q112.82 742.849 114.603 743.196 Q116.408 743.543 118.353 744.238 Z\" fill=\"#000000\" fill-rule=\"nonzero\" fill-opacity=\"1\" /><path clip-path=\"url(#clip030)\" d=\"M63.5152 538.724 Q59.9041 538.724 58.0754 542.289 Q56.2699 545.831 56.2699 552.961 Q56.2699 560.067 58.0754 563.632 Q59.9041 567.173 63.5152 567.173 Q67.1494 567.173 68.955 563.632 Q70.7837 560.067 70.7837 552.961 Q70.7837 545.831 68.955 542.289 Q67.1494 538.724 63.5152 538.724 M63.5152 535.021 Q69.3254 535.021 72.3809 539.627 Q75.4596 544.211 75.4596 552.961 Q75.4596 561.687 72.3809 566.294 Q69.3254 570.877 63.5152 570.877 Q57.7051 570.877 54.6264 566.294 Q51.5708 561.687 51.5708 552.961 Q51.5708 544.211 54.6264 539.627 Q57.7051 535.021 63.5152 535.021 Z\" fill=\"#000000\" fill-rule=\"nonzero\" fill-opacity=\"1\" /><path clip-path=\"url(#clip030)\" d=\"M83.6771 564.326 L88.5614 564.326 L88.5614 570.206 L83.6771 570.206 L83.6771 564.326 Z\" fill=\"#000000\" fill-rule=\"nonzero\" fill-opacity=\"1\" /><path clip-path=\"url(#clip030)\" d=\"M108.746 553.794 Q105.413 553.794 103.492 555.576 Q101.594 557.359 101.594 560.484 Q101.594 563.609 103.492 565.391 Q105.413 567.173 108.746 567.173 Q112.08 567.173 114.001 565.391 Q115.922 563.585 115.922 560.484 Q115.922 557.359 114.001 555.576 Q112.103 553.794 108.746 553.794 M104.071 551.803 Q101.061 551.062 99.3715 549.002 Q97.7048 546.942 97.7048 543.979 Q97.7048 539.836 100.645 537.428 Q103.608 535.021 108.746 535.021 Q113.908 535.021 116.848 537.428 Q119.788 539.836 119.788 543.979 Q119.788 546.942 118.098 549.002 Q116.432 551.062 113.445 551.803 Q116.825 552.59 118.7 554.882 Q120.598 557.173 120.598 560.484 Q120.598 565.507 117.52 568.192 Q114.464 570.877 108.746 570.877 Q103.029 570.877 99.9502 568.192 Q96.8947 565.507 96.8947 560.484 Q96.8947 557.173 98.7928 554.882 Q100.691 552.59 104.071 551.803 M102.358 544.419 Q102.358 547.104 104.024 548.609 Q105.714 550.113 108.746 550.113 Q111.756 550.113 113.445 548.609 Q115.158 547.104 115.158 544.419 Q115.158 541.734 113.445 540.229 Q111.756 538.724 108.746 538.724 Q105.714 538.724 104.024 540.229 Q102.358 541.734 102.358 544.419 Z\" fill=\"#000000\" fill-rule=\"nonzero\" fill-opacity=\"1\" /><path clip-path=\"url(#clip030)\" d=\"M54.2328 358.443 L61.8717 358.443 L61.8717 332.077 L53.5616 333.744 L53.5616 329.484 L61.8254 327.818 L66.5013 327.818 L66.5013 358.443 L74.1402 358.443 L74.1402 362.378 L54.2328 362.378 L54.2328 358.443 Z\" fill=\"#000000\" fill-rule=\"nonzero\" fill-opacity=\"1\" /><path clip-path=\"url(#clip030)\" d=\"M83.5845 356.498 L88.4688 356.498 L88.4688 362.378 L83.5845 362.378 L83.5845 356.498 Z\" fill=\"#000000\" fill-rule=\"nonzero\" fill-opacity=\"1\" /><path clip-path=\"url(#clip030)\" d=\"M108.654 330.896 Q105.043 330.896 103.214 334.461 Q101.409 338.003 101.409 345.132 Q101.409 352.239 103.214 355.804 Q105.043 359.345 108.654 359.345 Q112.288 359.345 114.094 355.804 Q115.922 352.239 115.922 345.132 Q115.922 338.003 114.094 334.461 Q112.288 330.896 108.654 330.896 M108.654 327.193 Q114.464 327.193 117.52 331.799 Q120.598 336.382 120.598 345.132 Q120.598 353.859 117.52 358.466 Q114.464 363.049 108.654 363.049 Q102.844 363.049 99.765 358.466 Q96.7095 353.859 96.7095 345.132 Q96.7095 336.382 99.765 331.799 Q102.844 327.193 108.654 327.193 Z\" fill=\"#000000\" fill-rule=\"nonzero\" fill-opacity=\"1\" /><path clip-path=\"url(#clip030)\" d=\"M55.8301 150.614 L63.4689 150.614 L63.4689 124.249 L55.1588 125.915 L55.1588 121.656 L63.4226 119.99 L68.0985 119.99 L68.0985 150.614 L75.7374 150.614 L75.7374 154.55 L55.8301 154.55 L55.8301 150.614 Z\" fill=\"#000000\" fill-rule=\"nonzero\" fill-opacity=\"1\" /><path clip-path=\"url(#clip030)\" d=\"M85.1818 148.67 L90.066 148.67 L90.066 154.55 L85.1818 154.55 L85.1818 148.67 Z\" fill=\"#000000\" fill-rule=\"nonzero\" fill-opacity=\"1\" /><path clip-path=\"url(#clip030)\" d=\"M104.279 150.614 L120.598 150.614 L120.598 154.55 L98.6539 154.55 L98.6539 150.614 Q101.316 147.86 105.899 143.23 Q110.506 138.577 111.686 137.235 Q113.932 134.712 114.811 132.976 Q115.714 131.216 115.714 129.527 Q115.714 126.772 113.77 125.036 Q111.848 123.3 108.746 123.3 Q106.547 123.3 104.094 124.064 Q101.663 124.827 98.8854 126.378 L98.8854 121.656 Q101.709 120.522 104.163 119.943 Q106.617 119.365 108.654 119.365 Q114.024 119.365 117.219 122.05 Q120.413 124.735 120.413 129.226 Q120.413 131.355 119.603 133.277 Q118.816 135.175 116.709 137.767 Q116.131 138.439 113.029 141.656 Q109.927 144.851 104.279 150.614 Z\" fill=\"#000000\" fill-rule=\"nonzero\" fill-opacity=\"1\" /><polyline clip-path=\"url(#clip032)\" style=\"stroke:#009af9; stroke-linecap:round; stroke-linejoin:round; stroke-width:4; stroke-opacity:1; fill:none\" points=\"218.754,864.668 260.191,662.003 301.628,507.055 343.064,389.64 384.501,302.314 425.938,234.49 467.375,184.471 508.812,148.542 550.249,123.35 591.686,106.326 633.123,95.4645 674.56,89.2357 715.997,86.4474 757.434,86.1857 798.871,87.7733 840.308,90.6838 881.745,94.5358 923.182,99.0579 964.619,104.05 1006.06,109.376 1047.49,114.944 1088.93,120.689 1130.37,126.568 1171.8,132.546 1213.24,138.578 1254.68,144.614 1296.11,150.598 1337.55,156.466 1378.99,162.123 1420.42,167.476 1461.86,172.443 1503.3,176.95 1544.74,180.934 1586.17,184.36 1627.61,187.218 1669.05,189.518 1710.48,191.293 1751.92,192.586 1793.36,193.453 1834.79,193.95 1876.23,194.134 1917.67,194.059 1959.11,193.783 2000.54,193.356 2041.98,192.822 2083.42,192.218 2124.85,191.576 2166.29,190.925 2207.73,190.291 2249.16,189.691 2290.6,189.138 \"/>\n",
       "<polyline clip-path=\"url(#clip032)\" style=\"stroke:#e26f46; stroke-linecap:round; stroke-linejoin:round; stroke-width:4; stroke-opacity:1; fill:none\" points=\"218.754,1384.24 260.191,1061.76 301.628,834.92 343.064,681.256 384.501,582.829 425.938,526.66 467.375,502.97 508.812,503.148 550.249,520.579 591.686,550.244 633.123,588.288 674.56,631.831 715.997,678.682 757.434,727.201 798.871,776.209 840.308,824.796 881.745,872.31 923.182,918.291 964.619,962.366 1006.06,1004.26 1047.49,1043.75 1088.93,1080.68 1130.37,1114.88 1171.8,1146.22 1213.24,1174.59 1254.68,1199.9 1296.11,1222.11 1337.55,1241.21 1378.99,1257.24 1420.42,1270.31 1461.86,1280.57 1503.3,1288.23 1544.74,1293.55 1586.17,1296.81 1627.61,1298.32 1669.05,1298.37 1710.48,1297.25 1751.92,1295.23 1793.36,1292.57 1834.79,1289.48 1876.23,1286.15 1917.67,1282.73 1959.11,1279.36 2000.54,1276.14 2041.98,1273.16 2083.42,1270.46 2124.85,1268.07 2166.29,1266.01 2207.73,1264.3 2249.16,1262.92 2290.6,1261.84 \"/>\n",
       "<path clip-path=\"url(#clip030)\" d=\"M229.803 1377.32 L902.148 1377.32 L902.148 1221.8 L229.803 1221.8  Z\" fill=\"#ffffff\" fill-rule=\"evenodd\" fill-opacity=\"1\"/>\n",
       "<polyline clip-path=\"url(#clip030)\" style=\"stroke:#000000; stroke-linecap:round; stroke-linejoin:round; stroke-width:4; stroke-opacity:1; fill:none\" points=\"229.803,1377.32 902.148,1377.32 902.148,1221.8 229.803,1221.8 229.803,1377.32 \"/>\n",
       "<polyline clip-path=\"url(#clip030)\" style=\"stroke:#009af9; stroke-linecap:round; stroke-linejoin:round; stroke-width:4; stroke-opacity:1; fill:none\" points=\"254.205,1273.64 400.616,1273.64 \"/>\n",
       "<path clip-path=\"url(#clip030)\" d=\"M445.365 1269.97 Q446.962 1267.1 449.184 1265.73 Q451.406 1264.36 454.415 1264.36 Q458.466 1264.36 460.665 1267.21 Q462.865 1270.04 462.865 1275.27 L462.865 1290.92 L458.582 1290.92 L458.582 1275.41 Q458.582 1271.68 457.263 1269.87 Q455.943 1268.07 453.235 1268.07 Q449.925 1268.07 448.003 1270.27 Q446.082 1272.47 446.082 1276.26 L446.082 1290.92 L441.8 1290.92 L441.8 1275.41 Q441.8 1271.66 440.48 1269.87 Q439.161 1268.07 436.406 1268.07 Q433.142 1268.07 431.221 1270.29 Q429.3 1272.49 429.3 1276.26 L429.3 1290.92 L425.018 1290.92 L425.018 1264.99 L429.3 1264.99 L429.3 1269.02 Q430.758 1266.63 432.795 1265.5 Q434.832 1264.36 437.633 1264.36 Q440.457 1264.36 442.425 1265.8 Q444.416 1267.23 445.365 1269.97 Z\" fill=\"#000000\" fill-rule=\"nonzero\" fill-opacity=\"1\" /><path clip-path=\"url(#clip030)\" d=\"M483.142 1277.88 Q477.98 1277.88 475.989 1279.06 Q473.999 1280.24 473.999 1283.09 Q473.999 1285.36 475.48 1286.7 Q476.985 1288.02 479.554 1288.02 Q483.096 1288.02 485.226 1285.52 Q487.378 1283 487.378 1278.83 L487.378 1277.88 L483.142 1277.88 M491.638 1276.12 L491.638 1290.92 L487.378 1290.92 L487.378 1286.98 Q485.92 1289.34 483.744 1290.48 Q481.568 1291.59 478.42 1291.59 Q474.439 1291.59 472.077 1289.36 Q469.739 1287.12 469.739 1283.37 Q469.739 1278.99 472.656 1276.77 Q475.596 1274.55 481.406 1274.55 L487.378 1274.55 L487.378 1274.13 Q487.378 1271.19 485.434 1269.6 Q483.513 1267.98 480.017 1267.98 Q477.795 1267.98 475.689 1268.51 Q473.582 1269.04 471.638 1270.11 L471.638 1266.17 Q473.976 1265.27 476.175 1264.83 Q478.374 1264.36 480.457 1264.36 Q486.082 1264.36 488.86 1267.28 Q491.638 1270.2 491.638 1276.12 Z\" fill=\"#000000\" fill-rule=\"nonzero\" fill-opacity=\"1\" /><path clip-path=\"url(#clip030)\" d=\"M516.938 1265.75 L516.938 1269.78 Q515.133 1268.86 513.188 1268.39 Q511.244 1267.93 509.161 1267.93 Q505.989 1267.93 504.392 1268.9 Q502.818 1269.87 502.818 1271.82 Q502.818 1273.3 503.952 1274.16 Q505.087 1274.99 508.512 1275.75 L509.971 1276.08 Q514.508 1277.05 516.406 1278.83 Q518.327 1280.59 518.327 1283.76 Q518.327 1287.37 515.457 1289.48 Q512.61 1291.59 507.61 1291.59 Q505.526 1291.59 503.258 1291.17 Q501.012 1290.78 498.512 1289.97 L498.512 1285.57 Q500.874 1286.79 503.165 1287.42 Q505.457 1288.02 507.702 1288.02 Q510.711 1288.02 512.332 1287 Q513.952 1285.96 513.952 1284.09 Q513.952 1282.35 512.772 1281.42 Q511.614 1280.5 507.656 1279.64 L506.174 1279.3 Q502.216 1278.46 500.457 1276.75 Q498.698 1275.01 498.698 1272 Q498.698 1268.35 501.29 1266.36 Q503.883 1264.36 508.651 1264.36 Q511.012 1264.36 513.096 1264.71 Q515.179 1265.06 516.938 1265.75 Z\" fill=\"#000000\" fill-rule=\"nonzero\" fill-opacity=\"1\" /><path clip-path=\"url(#clip030)\" d=\"M541.637 1265.75 L541.637 1269.78 Q539.832 1268.86 537.887 1268.39 Q535.943 1267.93 533.86 1267.93 Q530.688 1267.93 529.091 1268.9 Q527.517 1269.87 527.517 1271.82 Q527.517 1273.3 528.651 1274.16 Q529.785 1274.99 533.211 1275.75 L534.67 1276.08 Q539.207 1277.05 541.105 1278.83 Q543.026 1280.59 543.026 1283.76 Q543.026 1287.37 540.156 1289.48 Q537.309 1291.59 532.309 1291.59 Q530.225 1291.59 527.957 1291.17 Q525.711 1290.78 523.211 1289.97 L523.211 1285.57 Q525.573 1286.79 527.864 1287.42 Q530.156 1288.02 532.401 1288.02 Q535.41 1288.02 537.031 1287 Q538.651 1285.96 538.651 1284.09 Q538.651 1282.35 537.471 1281.42 Q536.313 1280.5 532.355 1279.64 L530.873 1279.3 Q526.915 1278.46 525.156 1276.75 Q523.397 1275.01 523.397 1272 Q523.397 1268.35 525.989 1266.36 Q528.582 1264.36 533.35 1264.36 Q535.711 1264.36 537.795 1264.71 Q539.878 1265.06 541.637 1265.75 Z\" fill=\"#000000\" fill-rule=\"nonzero\" fill-opacity=\"1\" /><path clip-path=\"url(#clip030)\" d=\"M550.41 1285.04 L555.295 1285.04 L555.295 1290.92 L550.41 1290.92 L550.41 1285.04 Z\" fill=\"#000000\" fill-rule=\"nonzero\" fill-opacity=\"1\" /><path clip-path=\"url(#clip030)\" d=\"M581.406 1265.75 L581.406 1269.78 Q579.6 1268.86 577.656 1268.39 Q575.711 1267.93 573.628 1267.93 Q570.457 1267.93 568.859 1268.9 Q567.285 1269.87 567.285 1271.82 Q567.285 1273.3 568.42 1274.16 Q569.554 1274.99 572.98 1275.75 L574.438 1276.08 Q578.975 1277.05 580.873 1278.83 Q582.794 1280.59 582.794 1283.76 Q582.794 1287.37 579.924 1289.48 Q577.077 1291.59 572.077 1291.59 Q569.994 1291.59 567.725 1291.17 Q565.48 1290.78 562.98 1289.97 L562.98 1285.57 Q565.341 1286.79 567.632 1287.42 Q569.924 1288.02 572.169 1288.02 Q575.179 1288.02 576.799 1287 Q578.419 1285.96 578.419 1284.09 Q578.419 1282.35 577.239 1281.42 Q576.082 1280.5 572.123 1279.64 L570.642 1279.3 Q566.683 1278.46 564.924 1276.75 Q563.165 1275.01 563.165 1272 Q563.165 1268.35 565.757 1266.36 Q568.35 1264.36 573.119 1264.36 Q575.48 1264.36 577.563 1264.71 Q579.646 1265.06 581.406 1265.75 Z\" fill=\"#000000\" fill-rule=\"nonzero\" fill-opacity=\"1\" /><path clip-path=\"url(#clip030)\" d=\"M614.878 1254.94 Q611.776 1260.27 610.271 1265.48 Q608.767 1270.68 608.767 1276.03 Q608.767 1281.38 610.271 1286.63 Q611.799 1291.86 614.878 1297.17 L611.174 1297.17 Q607.702 1291.73 605.966 1286.47 Q604.253 1281.22 604.253 1276.03 Q604.253 1270.87 605.966 1265.64 Q607.679 1260.41 611.174 1254.94 L614.878 1254.94 Z\" fill=\"#000000\" fill-rule=\"nonzero\" fill-opacity=\"1\" /><path clip-path=\"url(#clip030)\" d=\"M637.91 1272.28 Q641.266 1273 643.141 1275.27 Q645.039 1277.54 645.039 1280.87 Q645.039 1285.98 641.521 1288.79 Q638.002 1291.59 631.521 1291.59 Q629.345 1291.59 627.03 1291.15 Q624.739 1290.73 622.285 1289.87 L622.285 1285.36 Q624.229 1286.49 626.544 1287.07 Q628.859 1287.65 631.382 1287.65 Q635.78 1287.65 638.072 1285.92 Q640.387 1284.18 640.387 1280.87 Q640.387 1277.81 638.234 1276.1 Q636.104 1274.36 632.285 1274.36 L628.257 1274.36 L628.257 1270.52 L632.47 1270.52 Q635.919 1270.52 637.748 1269.16 Q639.577 1267.77 639.577 1265.17 Q639.577 1262.51 637.678 1261.1 Q635.803 1259.67 632.285 1259.67 Q630.364 1259.67 628.165 1260.08 Q625.966 1260.5 623.327 1261.38 L623.327 1257.21 Q625.989 1256.47 628.303 1256.1 Q630.641 1255.73 632.702 1255.73 Q638.026 1255.73 641.127 1258.16 Q644.229 1260.57 644.229 1264.69 Q644.229 1267.56 642.586 1269.55 Q640.942 1271.52 637.91 1272.28 Z\" fill=\"#000000\" fill-rule=\"nonzero\" fill-opacity=\"1\" /><path clip-path=\"url(#clip030)\" d=\"M668.072 1272.28 Q671.428 1273 673.303 1275.27 Q675.201 1277.54 675.201 1280.87 Q675.201 1285.98 671.683 1288.79 Q668.164 1291.59 661.683 1291.59 Q659.507 1291.59 657.192 1291.15 Q654.901 1290.73 652.447 1289.87 L652.447 1285.36 Q654.391 1286.49 656.706 1287.07 Q659.021 1287.65 661.544 1287.65 Q665.942 1287.65 668.234 1285.92 Q670.549 1284.18 670.549 1280.87 Q670.549 1277.81 668.396 1276.1 Q666.266 1274.36 662.447 1274.36 L658.419 1274.36 L658.419 1270.52 L662.632 1270.52 Q666.081 1270.52 667.91 1269.16 Q669.738 1267.77 669.738 1265.17 Q669.738 1262.51 667.84 1261.1 Q665.965 1259.67 662.447 1259.67 Q660.526 1259.67 658.326 1260.08 Q656.127 1260.5 653.489 1261.38 L653.489 1257.21 Q656.151 1256.47 658.465 1256.1 Q660.803 1255.73 662.863 1255.73 Q668.187 1255.73 671.289 1258.16 Q674.391 1260.57 674.391 1264.69 Q674.391 1267.56 672.748 1269.55 Q671.104 1271.52 668.072 1272.28 Z\" fill=\"#000000\" fill-rule=\"nonzero\" fill-opacity=\"1\" /><path clip-path=\"url(#clip030)\" d=\"M684.113 1256.36 L702.47 1256.36 L702.47 1260.29 L688.396 1260.29 L688.396 1268.76 Q689.414 1268.42 690.433 1268.25 Q691.451 1268.07 692.47 1268.07 Q698.257 1268.07 701.636 1271.24 Q705.016 1274.41 705.016 1279.83 Q705.016 1285.41 701.544 1288.51 Q698.072 1291.59 691.752 1291.59 Q689.576 1291.59 687.308 1291.22 Q685.062 1290.85 682.655 1290.11 L682.655 1285.41 Q684.738 1286.54 686.961 1287.1 Q689.183 1287.65 691.66 1287.65 Q695.664 1287.65 698.002 1285.54 Q700.34 1283.44 700.34 1279.83 Q700.34 1276.22 698.002 1274.11 Q695.664 1272 691.66 1272 Q689.785 1272 687.91 1272.42 Q686.058 1272.84 684.113 1273.72 L684.113 1256.36 Z\" fill=\"#000000\" fill-rule=\"nonzero\" fill-opacity=\"1\" /><path clip-path=\"url(#clip030)\" d=\"M714.275 1256.36 L732.632 1256.36 L732.632 1260.29 L718.558 1260.29 L718.558 1268.76 Q719.576 1268.42 720.595 1268.25 Q721.613 1268.07 722.632 1268.07 Q728.419 1268.07 731.798 1271.24 Q735.178 1274.41 735.178 1279.83 Q735.178 1285.41 731.706 1288.51 Q728.233 1291.59 721.914 1291.59 Q719.738 1291.59 717.47 1291.22 Q715.224 1290.85 712.817 1290.11 L712.817 1285.41 Q714.9 1286.54 717.122 1287.1 Q719.345 1287.65 721.821 1287.65 Q725.826 1287.65 728.164 1285.54 Q730.502 1283.44 730.502 1279.83 Q730.502 1276.22 728.164 1274.11 Q725.826 1272 721.821 1272 Q719.946 1272 718.071 1272.42 Q716.22 1272.84 714.275 1273.72 L714.275 1256.36 Z\" fill=\"#000000\" fill-rule=\"nonzero\" fill-opacity=\"1\" /><path clip-path=\"url(#clip030)\" d=\"M757.238 1260.43 L745.432 1278.88 L757.238 1278.88 L757.238 1260.43 M756.011 1256.36 L761.891 1256.36 L761.891 1278.88 L766.821 1278.88 L766.821 1282.77 L761.891 1282.77 L761.891 1290.92 L757.238 1290.92 L757.238 1282.77 L741.636 1282.77 L741.636 1278.25 L756.011 1256.36 Z\" fill=\"#000000\" fill-rule=\"nonzero\" fill-opacity=\"1\" /><path clip-path=\"url(#clip030)\" d=\"M787.4 1260.43 L775.594 1278.88 L787.4 1278.88 L787.4 1260.43 M786.173 1256.36 L792.053 1256.36 L792.053 1278.88 L796.983 1278.88 L796.983 1282.77 L792.053 1282.77 L792.053 1290.92 L787.4 1290.92 L787.4 1282.77 L771.798 1282.77 L771.798 1278.25 L786.173 1256.36 Z\" fill=\"#000000\" fill-rule=\"nonzero\" fill-opacity=\"1\" /><path clip-path=\"url(#clip030)\" d=\"M818.881 1272.28 Q822.238 1273 824.113 1275.27 Q826.011 1277.54 826.011 1280.87 Q826.011 1285.98 822.492 1288.79 Q818.974 1291.59 812.492 1291.59 Q810.316 1291.59 808.002 1291.15 Q805.71 1290.73 803.256 1289.87 L803.256 1285.36 Q805.201 1286.49 807.515 1287.07 Q809.83 1287.65 812.353 1287.65 Q816.752 1287.65 819.043 1285.92 Q821.358 1284.18 821.358 1280.87 Q821.358 1277.81 819.205 1276.1 Q817.076 1274.36 813.256 1274.36 L809.228 1274.36 L809.228 1270.52 L813.441 1270.52 Q816.89 1270.52 818.719 1269.16 Q820.548 1267.77 820.548 1265.17 Q820.548 1262.51 818.65 1261.1 Q816.775 1259.67 813.256 1259.67 Q811.335 1259.67 809.136 1260.08 Q806.937 1260.5 804.298 1261.38 L804.298 1257.21 Q806.96 1256.47 809.275 1256.1 Q811.613 1255.73 813.673 1255.73 Q818.997 1255.73 822.099 1258.16 Q825.201 1260.57 825.201 1264.69 Q825.201 1267.56 823.557 1269.55 Q821.914 1271.52 818.881 1272.28 Z\" fill=\"#000000\" fill-rule=\"nonzero\" fill-opacity=\"1\" /><path clip-path=\"url(#clip030)\" d=\"M838.904 1286.98 L855.224 1286.98 L855.224 1290.92 L833.279 1290.92 L833.279 1286.98 Q835.941 1284.23 840.525 1279.6 Q845.131 1274.94 846.312 1273.6 Q848.557 1271.08 849.437 1269.34 Q850.339 1267.58 850.339 1265.89 Q850.339 1263.14 848.395 1261.4 Q846.474 1259.67 843.372 1259.67 Q841.173 1259.67 838.719 1260.43 Q836.288 1261.19 833.511 1262.74 L833.511 1258.02 Q836.335 1256.89 838.788 1256.31 Q841.242 1255.73 843.279 1255.73 Q848.649 1255.73 851.844 1258.42 Q855.038 1261.1 855.038 1265.59 Q855.038 1267.72 854.228 1269.64 Q853.441 1271.54 851.335 1274.13 Q850.756 1274.8 847.654 1278.02 Q844.552 1281.22 838.904 1286.98 Z\" fill=\"#000000\" fill-rule=\"nonzero\" fill-opacity=\"1\" /><path clip-path=\"url(#clip030)\" d=\"M863.765 1254.94 L867.469 1254.94 Q870.941 1260.41 872.654 1265.64 Q874.39 1270.87 874.39 1276.03 Q874.39 1281.22 872.654 1286.47 Q870.941 1291.73 867.469 1297.17 L863.765 1297.17 Q866.844 1291.86 868.348 1286.63 Q869.876 1281.38 869.876 1276.03 Q869.876 1270.68 868.348 1265.48 Q866.844 1260.27 863.765 1254.94 Z\" fill=\"#000000\" fill-rule=\"nonzero\" fill-opacity=\"1\" /><polyline clip-path=\"url(#clip030)\" style=\"stroke:#e26f46; stroke-linecap:round; stroke-linejoin:round; stroke-width:4; stroke-opacity:1; fill:none\" points=\"254.205,1325.48 400.616,1325.48 \"/>\n",
       "<path clip-path=\"url(#clip030)\" d=\"M445.365 1321.81 Q446.962 1318.94 449.184 1317.57 Q451.406 1316.2 454.415 1316.2 Q458.466 1316.2 460.665 1319.05 Q462.865 1321.88 462.865 1327.11 L462.865 1342.76 L458.582 1342.76 L458.582 1327.25 Q458.582 1323.52 457.263 1321.71 Q455.943 1319.91 453.235 1319.91 Q449.925 1319.91 448.003 1322.11 Q446.082 1324.31 446.082 1328.1 L446.082 1342.76 L441.8 1342.76 L441.8 1327.25 Q441.8 1323.5 440.48 1321.71 Q439.161 1319.91 436.406 1319.91 Q433.142 1319.91 431.221 1322.13 Q429.3 1324.33 429.3 1328.1 L429.3 1342.76 L425.018 1342.76 L425.018 1316.83 L429.3 1316.83 L429.3 1320.86 Q430.758 1318.47 432.795 1317.34 Q434.832 1316.2 437.633 1316.2 Q440.457 1316.2 442.425 1317.64 Q444.416 1319.07 445.365 1321.81 Z\" fill=\"#000000\" fill-rule=\"nonzero\" fill-opacity=\"1\" /><path clip-path=\"url(#clip030)\" d=\"M483.142 1329.72 Q477.98 1329.72 475.989 1330.9 Q473.999 1332.08 473.999 1334.93 Q473.999 1337.2 475.48 1338.54 Q476.985 1339.86 479.554 1339.86 Q483.096 1339.86 485.226 1337.36 Q487.378 1334.84 487.378 1330.67 L487.378 1329.72 L483.142 1329.72 M491.638 1327.96 L491.638 1342.76 L487.378 1342.76 L487.378 1338.82 Q485.92 1341.18 483.744 1342.32 Q481.568 1343.43 478.42 1343.43 Q474.439 1343.43 472.077 1341.2 Q469.739 1338.96 469.739 1335.21 Q469.739 1330.83 472.656 1328.61 Q475.596 1326.39 481.406 1326.39 L487.378 1326.39 L487.378 1325.97 Q487.378 1323.03 485.434 1321.44 Q483.513 1319.82 480.017 1319.82 Q477.795 1319.82 475.689 1320.35 Q473.582 1320.88 471.638 1321.95 L471.638 1318.01 Q473.976 1317.11 476.175 1316.67 Q478.374 1316.2 480.457 1316.2 Q486.082 1316.2 488.86 1319.12 Q491.638 1322.04 491.638 1327.96 Z\" fill=\"#000000\" fill-rule=\"nonzero\" fill-opacity=\"1\" /><path clip-path=\"url(#clip030)\" d=\"M516.938 1317.59 L516.938 1321.62 Q515.133 1320.7 513.188 1320.23 Q511.244 1319.77 509.161 1319.77 Q505.989 1319.77 504.392 1320.74 Q502.818 1321.71 502.818 1323.66 Q502.818 1325.14 503.952 1326 Q505.087 1326.83 508.512 1327.59 L509.971 1327.92 Q514.508 1328.89 516.406 1330.67 Q518.327 1332.43 518.327 1335.6 Q518.327 1339.21 515.457 1341.32 Q512.61 1343.43 507.61 1343.43 Q505.526 1343.43 503.258 1343.01 Q501.012 1342.62 498.512 1341.81 L498.512 1337.41 Q500.874 1338.63 503.165 1339.26 Q505.457 1339.86 507.702 1339.86 Q510.711 1339.86 512.332 1338.84 Q513.952 1337.8 513.952 1335.93 Q513.952 1334.19 512.772 1333.26 Q511.614 1332.34 507.656 1331.48 L506.174 1331.14 Q502.216 1330.3 500.457 1328.59 Q498.698 1326.85 498.698 1323.84 Q498.698 1320.19 501.29 1318.2 Q503.883 1316.2 508.651 1316.2 Q511.012 1316.2 513.096 1316.55 Q515.179 1316.9 516.938 1317.59 Z\" fill=\"#000000\" fill-rule=\"nonzero\" fill-opacity=\"1\" /><path clip-path=\"url(#clip030)\" d=\"M541.637 1317.59 L541.637 1321.62 Q539.832 1320.7 537.887 1320.23 Q535.943 1319.77 533.86 1319.77 Q530.688 1319.77 529.091 1320.74 Q527.517 1321.71 527.517 1323.66 Q527.517 1325.14 528.651 1326 Q529.785 1326.83 533.211 1327.59 L534.67 1327.92 Q539.207 1328.89 541.105 1330.67 Q543.026 1332.43 543.026 1335.6 Q543.026 1339.21 540.156 1341.32 Q537.309 1343.43 532.309 1343.43 Q530.225 1343.43 527.957 1343.01 Q525.711 1342.62 523.211 1341.81 L523.211 1337.41 Q525.573 1338.63 527.864 1339.26 Q530.156 1339.86 532.401 1339.86 Q535.41 1339.86 537.031 1338.84 Q538.651 1337.8 538.651 1335.93 Q538.651 1334.19 537.471 1333.26 Q536.313 1332.34 532.355 1331.48 L530.873 1331.14 Q526.915 1330.3 525.156 1328.59 Q523.397 1326.85 523.397 1323.84 Q523.397 1320.19 525.989 1318.2 Q528.582 1316.2 533.35 1316.2 Q535.711 1316.2 537.795 1316.55 Q539.878 1316.9 541.637 1317.59 Z\" fill=\"#000000\" fill-rule=\"nonzero\" fill-opacity=\"1\" /><path clip-path=\"url(#clip030)\" d=\"M550.41 1336.88 L555.295 1336.88 L555.295 1342.76 L550.41 1342.76 L550.41 1336.88 Z\" fill=\"#000000\" fill-rule=\"nonzero\" fill-opacity=\"1\" /><path clip-path=\"url(#clip030)\" d=\"M561.822 1316.83 L566.336 1316.83 L574.438 1338.59 L582.54 1316.83 L587.054 1316.83 L577.332 1342.76 L571.544 1342.76 L561.822 1316.83 Z\" fill=\"#000000\" fill-rule=\"nonzero\" fill-opacity=\"1\" /><path clip-path=\"url(#clip030)\" d=\"M618.234 1306.78 Q615.132 1312.11 613.628 1317.32 Q612.123 1322.52 612.123 1327.87 Q612.123 1333.22 613.628 1338.47 Q615.155 1343.7 618.234 1349.01 L614.53 1349.01 Q611.058 1343.57 609.322 1338.31 Q607.609 1333.06 607.609 1327.87 Q607.609 1322.71 609.322 1317.48 Q611.035 1312.25 614.53 1306.78 L618.234 1306.78 Z\" fill=\"#000000\" fill-rule=\"nonzero\" fill-opacity=\"1\" /><path clip-path=\"url(#clip030)\" d=\"M641.266 1324.12 Q644.623 1324.84 646.498 1327.11 Q648.396 1329.38 648.396 1332.71 Q648.396 1337.82 644.877 1340.63 Q641.359 1343.43 634.877 1343.43 Q632.702 1343.43 630.387 1342.99 Q628.095 1342.57 625.641 1341.71 L625.641 1337.2 Q627.586 1338.33 629.901 1338.91 Q632.215 1339.49 634.739 1339.49 Q639.137 1339.49 641.428 1337.76 Q643.743 1336.02 643.743 1332.71 Q643.743 1329.65 641.59 1327.94 Q639.461 1326.2 635.641 1326.2 L631.614 1326.2 L631.614 1322.36 L635.827 1322.36 Q639.276 1322.36 641.104 1321 Q642.933 1319.61 642.933 1317.01 Q642.933 1314.35 641.035 1312.94 Q639.16 1311.51 635.641 1311.51 Q633.72 1311.51 631.521 1311.92 Q629.322 1312.34 626.683 1313.22 L626.683 1309.05 Q629.345 1308.31 631.66 1307.94 Q633.998 1307.57 636.058 1307.57 Q641.382 1307.57 644.484 1310 Q647.586 1312.41 647.586 1316.53 Q647.586 1319.4 645.942 1321.39 Q644.299 1323.36 641.266 1324.12 Z\" fill=\"#000000\" fill-rule=\"nonzero\" fill-opacity=\"1\" /><path clip-path=\"url(#clip030)\" d=\"M671.428 1324.12 Q674.785 1324.84 676.66 1327.11 Q678.558 1329.38 678.558 1332.71 Q678.558 1337.82 675.039 1340.63 Q671.521 1343.43 665.039 1343.43 Q662.863 1343.43 660.549 1342.99 Q658.257 1342.57 655.803 1341.71 L655.803 1337.2 Q657.748 1338.33 660.063 1338.91 Q662.377 1339.49 664.9 1339.49 Q669.299 1339.49 671.59 1337.76 Q673.905 1336.02 673.905 1332.71 Q673.905 1329.65 671.752 1327.94 Q669.623 1326.2 665.803 1326.2 L661.775 1326.2 L661.775 1322.36 L665.988 1322.36 Q669.437 1322.36 671.266 1321 Q673.095 1319.61 673.095 1317.01 Q673.095 1314.35 671.197 1312.94 Q669.322 1311.51 665.803 1311.51 Q663.882 1311.51 661.683 1311.92 Q659.484 1312.34 656.845 1313.22 L656.845 1309.05 Q659.507 1308.31 661.822 1307.94 Q664.16 1307.57 666.22 1307.57 Q671.544 1307.57 674.646 1310 Q677.748 1312.41 677.748 1316.53 Q677.748 1319.4 676.104 1321.39 Q674.461 1323.36 671.428 1324.12 Z\" fill=\"#000000\" fill-rule=\"nonzero\" fill-opacity=\"1\" /><path clip-path=\"url(#clip030)\" d=\"M687.47 1308.2 L705.826 1308.2 L705.826 1312.13 L691.752 1312.13 L691.752 1320.6 Q692.771 1320.26 693.789 1320.09 Q694.808 1319.91 695.826 1319.91 Q701.613 1319.91 704.993 1323.08 Q708.372 1326.25 708.372 1331.67 Q708.372 1337.25 704.9 1340.35 Q701.428 1343.43 695.109 1343.43 Q692.933 1343.43 690.664 1343.06 Q688.419 1342.69 686.011 1341.95 L686.011 1337.25 Q688.095 1338.38 690.317 1338.94 Q692.539 1339.49 695.016 1339.49 Q699.021 1339.49 701.359 1337.38 Q703.697 1335.28 703.697 1331.67 Q703.697 1328.06 701.359 1325.95 Q699.021 1323.84 695.016 1323.84 Q693.141 1323.84 691.266 1324.26 Q689.414 1324.68 687.47 1325.56 L687.47 1308.2 Z\" fill=\"#000000\" fill-rule=\"nonzero\" fill-opacity=\"1\" /><path clip-path=\"url(#clip030)\" d=\"M717.632 1308.2 L735.988 1308.2 L735.988 1312.13 L721.914 1312.13 L721.914 1320.6 Q722.933 1320.26 723.951 1320.09 Q724.97 1319.91 725.988 1319.91 Q731.775 1319.91 735.155 1323.08 Q738.534 1326.25 738.534 1331.67 Q738.534 1337.25 735.062 1340.35 Q731.59 1343.43 725.271 1343.43 Q723.095 1343.43 720.826 1343.06 Q718.581 1342.69 716.173 1341.95 L716.173 1337.25 Q718.257 1338.38 720.479 1338.94 Q722.701 1339.49 725.178 1339.49 Q729.183 1339.49 731.52 1337.38 Q733.858 1335.28 733.858 1331.67 Q733.858 1328.06 731.52 1325.95 Q729.183 1323.84 725.178 1323.84 Q723.303 1323.84 721.428 1324.26 Q719.576 1324.68 717.632 1325.56 L717.632 1308.2 Z\" fill=\"#000000\" fill-rule=\"nonzero\" fill-opacity=\"1\" /><path clip-path=\"url(#clip030)\" d=\"M760.594 1312.27 L748.789 1330.72 L760.594 1330.72 L760.594 1312.27 M759.368 1308.2 L765.247 1308.2 L765.247 1330.72 L770.178 1330.72 L770.178 1334.61 L765.247 1334.61 L765.247 1342.76 L760.594 1342.76 L760.594 1334.61 L744.993 1334.61 L744.993 1330.09 L759.368 1308.2 Z\" fill=\"#000000\" fill-rule=\"nonzero\" fill-opacity=\"1\" /><path clip-path=\"url(#clip030)\" d=\"M790.756 1312.27 L778.951 1330.72 L790.756 1330.72 L790.756 1312.27 M789.529 1308.2 L795.409 1308.2 L795.409 1330.72 L800.34 1330.72 L800.34 1334.61 L795.409 1334.61 L795.409 1342.76 L790.756 1342.76 L790.756 1334.61 L775.155 1334.61 L775.155 1330.09 L789.529 1308.2 Z\" fill=\"#000000\" fill-rule=\"nonzero\" fill-opacity=\"1\" /><path clip-path=\"url(#clip030)\" d=\"M822.238 1324.12 Q825.594 1324.84 827.469 1327.11 Q829.367 1329.38 829.367 1332.71 Q829.367 1337.82 825.849 1340.63 Q822.33 1343.43 815.849 1343.43 Q813.673 1343.43 811.358 1342.99 Q809.066 1342.57 806.613 1341.71 L806.613 1337.2 Q808.557 1338.33 810.872 1338.91 Q813.187 1339.49 815.71 1339.49 Q820.108 1339.49 822.4 1337.76 Q824.714 1336.02 824.714 1332.71 Q824.714 1329.65 822.562 1327.94 Q820.432 1326.2 816.613 1326.2 L812.585 1326.2 L812.585 1322.36 L816.798 1322.36 Q820.247 1322.36 822.076 1321 Q823.904 1319.61 823.904 1317.01 Q823.904 1314.35 822.006 1312.94 Q820.131 1311.51 816.613 1311.51 Q814.691 1311.51 812.492 1311.92 Q810.293 1312.34 807.654 1313.22 L807.654 1309.05 Q810.316 1308.31 812.631 1307.94 Q814.969 1307.57 817.029 1307.57 Q822.353 1307.57 825.455 1310 Q828.557 1312.41 828.557 1316.53 Q828.557 1319.4 826.914 1321.39 Q825.27 1323.36 822.238 1324.12 Z\" fill=\"#000000\" fill-rule=\"nonzero\" fill-opacity=\"1\" /><path clip-path=\"url(#clip030)\" d=\"M852.399 1324.12 Q855.756 1324.84 857.631 1327.11 Q859.529 1329.38 859.529 1332.71 Q859.529 1337.82 856.011 1340.63 Q852.492 1343.43 846.011 1343.43 Q843.835 1343.43 841.52 1342.99 Q839.228 1342.57 836.775 1341.71 L836.775 1337.2 Q838.719 1338.33 841.034 1338.91 Q843.349 1339.49 845.872 1339.49 Q850.27 1339.49 852.562 1337.76 Q854.876 1336.02 854.876 1332.71 Q854.876 1329.65 852.724 1327.94 Q850.594 1326.2 846.775 1326.2 L842.747 1326.2 L842.747 1322.36 L846.96 1322.36 Q850.409 1322.36 852.237 1321 Q854.066 1319.61 854.066 1317.01 Q854.066 1314.35 852.168 1312.94 Q850.293 1311.51 846.775 1311.51 Q844.853 1311.51 842.654 1311.92 Q840.455 1312.34 837.816 1313.22 L837.816 1309.05 Q840.478 1308.31 842.793 1307.94 Q845.131 1307.57 847.191 1307.57 Q852.515 1307.57 855.617 1310 Q858.719 1312.41 858.719 1316.53 Q858.719 1319.4 857.075 1321.39 Q855.432 1323.36 852.399 1324.12 Z\" fill=\"#000000\" fill-rule=\"nonzero\" fill-opacity=\"1\" /><path clip-path=\"url(#clip030)\" d=\"M867.122 1306.78 L870.825 1306.78 Q874.298 1312.25 876.01 1317.48 Q877.747 1322.71 877.747 1327.87 Q877.747 1333.06 876.01 1338.31 Q874.298 1343.57 870.825 1349.01 L867.122 1349.01 Q870.2 1343.7 871.705 1338.47 Q873.233 1333.22 873.233 1327.87 Q873.233 1322.52 871.705 1317.32 Q870.2 1312.11 867.122 1306.78 Z\" fill=\"#000000\" fill-rule=\"nonzero\" fill-opacity=\"1\" /></svg>\n"
      ]
     },
     "execution_count": 18,
     "metadata": {},
     "output_type": "execute_result"
    }
   ],
   "source": [
    "solutionBefore = neuralFMU(x₀)\n",
    "fmiPlot(solutionBefore)"
   ]
  },
  {
   "attachments": {},
   "cell_type": "markdown",
   "metadata": {},
   "source": [
    "#### Training of the NeuralFMU\n",
    "\n",
    "For the training of the NeuralFMU the parameters are extracted. The known Adam optimizer for minimizing the gradient descent is used as further passing parameters. In addition, the previously defined loss and callback function, as well as the number of epochs are passed."
   ]
  },
  {
   "cell_type": "code",
   "execution_count": 19,
   "metadata": {
    "execution": {
     "iopub.execute_input": "2024-04-19T11:42:07.340000Z",
     "iopub.status.busy": "2024-04-19T11:42:07.340000Z",
     "iopub.status.idle": "2024-04-19T11:44:17.180000Z",
     "shell.execute_reply": "2024-04-19T11:44:17.180000Z"
    },
    "scrolled": false
   },
   "outputs": [
    {
     "name": "stderr",
     "output_type": "stream",
     "text": [
      "\u001b[36m\u001b[1m┌ \u001b[22m\u001b[39m\u001b[36m\u001b[1mInfo: \u001b[22m\u001b[39m  Loss [1] for horizon 5 : 0.04198\n",
      "\u001b[36m\u001b[1m└ \u001b[22m\u001b[39mAvg displacement in data: 0.20488\n"
     ]
    },
    {
     "name": "stderr",
     "output_type": "stream",
     "text": [
      "\u001b[36m\u001b[1m┌ \u001b[22m\u001b[39m\u001b[36m\u001b[1mInfo: \u001b[22m\u001b[39m  Loss [51] for horizon 5 : 0.00035\n",
      "\u001b[36m\u001b[1m└ \u001b[22m\u001b[39mAvg displacement in data: 0.01877\n"
     ]
    },
    {
     "name": "stderr",
     "output_type": "stream",
     "text": [
      "\u001b[36m\u001b[1m┌ \u001b[22m\u001b[39m\u001b[36m\u001b[1mInfo: \u001b[22m\u001b[39m  Loss [101] for horizon 7 : 9.0e-5\n",
      "\u001b[36m\u001b[1m└ \u001b[22m\u001b[39mAvg displacement in data: 0.00959\n"
     ]
    },
    {
     "name": "stderr",
     "output_type": "stream",
     "text": [
      "\u001b[36m\u001b[1m┌ \u001b[22m\u001b[39m\u001b[36m\u001b[1mInfo: \u001b[22m\u001b[39m  Loss [151] for horizon 9 : 3.0e-5\n",
      "\u001b[36m\u001b[1m└ \u001b[22m\u001b[39mAvg displacement in data: 0.00537\n"
     ]
    },
    {
     "name": "stderr",
     "output_type": "stream",
     "text": [
      "\u001b[36m\u001b[1m┌ \u001b[22m\u001b[39m\u001b[36m\u001b[1mInfo: \u001b[22m\u001b[39m  Loss [201] for horizon 11 : 0.00016\n",
      "\u001b[36m\u001b[1m└ \u001b[22m\u001b[39mAvg displacement in data: 0.01256\n"
     ]
    },
    {
     "name": "stderr",
     "output_type": "stream",
     "text": [
      "\u001b[36m\u001b[1m┌ \u001b[22m\u001b[39m\u001b[36m\u001b[1mInfo: \u001b[22m\u001b[39m  Loss [251] for horizon 13 : 0.00057\n",
      "\u001b[36m\u001b[1m└ \u001b[22m\u001b[39mAvg displacement in data: 0.02384\n"
     ]
    },
    {
     "name": "stderr",
     "output_type": "stream",
     "text": [
      "\u001b[36m\u001b[1m┌ \u001b[22m\u001b[39m\u001b[36m\u001b[1mInfo: \u001b[22m\u001b[39m  Loss [301] for horizon 15 : 0.00129\n",
      "\u001b[36m\u001b[1m└ \u001b[22m\u001b[39mAvg displacement in data: 0.03588\n"
     ]
    },
    {
     "name": "stderr",
     "output_type": "stream",
     "text": [
      "\u001b[36m\u001b[1m┌ \u001b[22m\u001b[39m\u001b[36m\u001b[1mInfo: \u001b[22m\u001b[39m  Loss [351] for horizon 17 : 0.00114\n",
      "\u001b[36m\u001b[1m└ \u001b[22m\u001b[39mAvg displacement in data: 0.03383\n"
     ]
    },
    {
     "name": "stderr",
     "output_type": "stream",
     "text": [
      "\u001b[36m\u001b[1m┌ \u001b[22m\u001b[39m\u001b[36m\u001b[1mInfo: \u001b[22m\u001b[39m  Loss [401] for horizon 19 : 5.0e-5\n",
      "\u001b[36m\u001b[1m└ \u001b[22m\u001b[39mAvg displacement in data: 0.00711\n"
     ]
    },
    {
     "name": "stderr",
     "output_type": "stream",
     "text": [
      "\u001b[36m\u001b[1m┌ \u001b[22m\u001b[39m\u001b[36m\u001b[1mInfo: \u001b[22m\u001b[39m  Loss [451] for horizon 21 : 2.0e-5\n",
      "\u001b[36m\u001b[1m└ \u001b[22m\u001b[39mAvg displacement in data: 0.0044\n"
     ]
    },
    {
     "name": "stderr",
     "output_type": "stream",
     "text": [
      "\u001b[36m\u001b[1m┌ \u001b[22m\u001b[39m\u001b[36m\u001b[1mInfo: \u001b[22m\u001b[39m  Loss [501] for horizon 23 : 3.0e-5\n",
      "\u001b[36m\u001b[1m└ \u001b[22m\u001b[39mAvg displacement in data: 0.00521\n"
     ]
    },
    {
     "name": "stderr",
     "output_type": "stream",
     "text": [
      "\u001b[36m\u001b[1m┌ \u001b[22m\u001b[39m\u001b[36m\u001b[1mInfo: \u001b[22m\u001b[39m  Loss [551] for horizon 25 : 2.0e-5\n",
      "\u001b[36m\u001b[1m└ \u001b[22m\u001b[39mAvg displacement in data: 0.0045\n"
     ]
    },
    {
     "name": "stderr",
     "output_type": "stream",
     "text": [
      "\u001b[36m\u001b[1m┌ \u001b[22m\u001b[39m\u001b[36m\u001b[1mInfo: \u001b[22m\u001b[39m  Loss [601] for horizon 27 : 4.0e-5\n",
      "\u001b[36m\u001b[1m└ \u001b[22m\u001b[39mAvg displacement in data: 0.00619\n"
     ]
    },
    {
     "name": "stderr",
     "output_type": "stream",
     "text": [
      "\u001b[36m\u001b[1m┌ \u001b[22m\u001b[39m\u001b[36m\u001b[1mInfo: \u001b[22m\u001b[39m  Loss [651] for horizon 29 : 0.0001\n",
      "\u001b[36m\u001b[1m└ \u001b[22m\u001b[39mAvg displacement in data: 0.00993\n"
     ]
    },
    {
     "name": "stderr",
     "output_type": "stream",
     "text": [
      "\u001b[36m\u001b[1m┌ \u001b[22m\u001b[39m\u001b[36m\u001b[1mInfo: \u001b[22m\u001b[39m  Loss [701] for horizon 31 : 0.00024\n",
      "\u001b[36m\u001b[1m└ \u001b[22m\u001b[39mAvg displacement in data: 0.01555\n"
     ]
    },
    {
     "name": "stderr",
     "output_type": "stream",
     "text": [
      "\u001b[36m\u001b[1m┌ \u001b[22m\u001b[39m\u001b[36m\u001b[1mInfo: \u001b[22m\u001b[39m  Loss [751] for horizon 33 : 0.00042\n",
      "\u001b[36m\u001b[1m└ \u001b[22m\u001b[39mAvg displacement in data: 0.02048\n"
     ]
    },
    {
     "name": "stderr",
     "output_type": "stream",
     "text": [
      "\u001b[36m\u001b[1m┌ \u001b[22m\u001b[39m\u001b[36m\u001b[1mInfo: \u001b[22m\u001b[39m  Loss [801] for horizon 35 : 0.00043\n",
      "\u001b[36m\u001b[1m└ \u001b[22m\u001b[39mAvg displacement in data: 0.02064\n"
     ]
    },
    {
     "name": "stderr",
     "output_type": "stream",
     "text": [
      "\u001b[36m\u001b[1m┌ \u001b[22m\u001b[39m\u001b[36m\u001b[1mInfo: \u001b[22m\u001b[39m  Loss [851] for horizon 37 : 0.00038\n",
      "\u001b[36m\u001b[1m└ \u001b[22m\u001b[39mAvg displacement in data: 0.01948\n"
     ]
    },
    {
     "name": "stderr",
     "output_type": "stream",
     "text": [
      "\u001b[36m\u001b[1m┌ \u001b[22m\u001b[39m\u001b[36m\u001b[1mInfo: \u001b[22m\u001b[39m  Loss [901] for horizon 39 : 0.00034\n",
      "\u001b[36m\u001b[1m└ \u001b[22m\u001b[39mAvg displacement in data: 0.01843\n"
     ]
    },
    {
     "name": "stderr",
     "output_type": "stream",
     "text": [
      "\u001b[36m\u001b[1m┌ \u001b[22m\u001b[39m\u001b[36m\u001b[1mInfo: \u001b[22m\u001b[39m  Loss [951] for horizon 41 : 0.00031\n",
      "\u001b[36m\u001b[1m└ \u001b[22m\u001b[39mAvg displacement in data: 0.01752\n"
     ]
    }
   ],
   "source": [
    "# train\n",
    "paramsNet = Flux.params(neuralFMU)\n",
    "\n",
    "optim = Adam()\n",
    "FMIFlux.train!(lossSum, neuralFMU, Iterators.repeated((), 1000), optim; cb=()->callb(paramsNet)) "
   ]
  },
  {
   "cell_type": "markdown",
   "metadata": {},
   "source": [
    "#### Comparison of the plots\n",
    "\n",
    "Here three plots are compared with each other and only the position of the mass is considered. The first plot represents the *simpleFMU*, the second represents the *fricFMU* (reference) and the third plot represents the result after training the NeuralFMU. "
   ]
  },
  {
   "cell_type": "code",
   "execution_count": 20,
   "metadata": {
    "execution": {
     "iopub.execute_input": "2024-04-19T11:44:17.180000Z",
     "iopub.status.busy": "2024-04-19T11:44:17.180000Z",
     "iopub.status.idle": "2024-04-19T11:44:18.540000Z",
     "shell.execute_reply": "2024-04-19T11:44:18.540000Z"
    },
    "scrolled": false
   },
   "outputs": [
    {
     "data": {
      "image/svg+xml": [
       "<?xml version=\"1.0\" encoding=\"utf-8\"?>\n",
       "<svg xmlns=\"http://www.w3.org/2000/svg\" xmlns:xlink=\"http://www.w3.org/1999/xlink\" width=\"600\" height=\"400\" viewBox=\"0 0 2400 1600\">\n",
       "<defs>\n",
       "  <clipPath id=\"clip070\">\n",
       "    <rect x=\"0\" y=\"0\" width=\"2400\" height=\"1600\"/>\n",
       "  </clipPath>\n",
       "</defs>\n",
       "<path clip-path=\"url(#clip070)\" d=\"M0 1600 L2400 1600 L2400 0 L0 0  Z\" fill=\"#ffffff\" fill-rule=\"evenodd\" fill-opacity=\"1\"/>\n",
       "<defs>\n",
       "  <clipPath id=\"clip071\">\n",
       "    <rect x=\"480\" y=\"0\" width=\"1681\" height=\"1600\"/>\n",
       "  </clipPath>\n",
       "</defs>\n",
       "<path clip-path=\"url(#clip070)\" d=\"M303.503 1401.58 L2352.76 1401.58 L2352.76 47.2441 L303.503 47.2441  Z\" fill=\"#ffffff\" fill-rule=\"evenodd\" fill-opacity=\"1\"/>\n",
       "<defs>\n",
       "  <clipPath id=\"clip072\">\n",
       "    <rect x=\"303\" y=\"47\" width=\"2050\" height=\"1355\"/>\n",
       "  </clipPath>\n",
       "</defs>\n",
       "<polyline clip-path=\"url(#clip072)\" style=\"stroke:#000000; stroke-linecap:round; stroke-linejoin:round; stroke-width:2; stroke-opacity:0.1; fill:none\" points=\"361.501,1401.58 361.501,47.2441 \"/>\n",
       "<polyline clip-path=\"url(#clip072)\" style=\"stroke:#000000; stroke-linecap:round; stroke-linejoin:round; stroke-width:2; stroke-opacity:0.1; fill:none\" points=\"748.152,1401.58 748.152,47.2441 \"/>\n",
       "<polyline clip-path=\"url(#clip072)\" style=\"stroke:#000000; stroke-linecap:round; stroke-linejoin:round; stroke-width:2; stroke-opacity:0.1; fill:none\" points=\"1134.8,1401.58 1134.8,47.2441 \"/>\n",
       "<polyline clip-path=\"url(#clip072)\" style=\"stroke:#000000; stroke-linecap:round; stroke-linejoin:round; stroke-width:2; stroke-opacity:0.1; fill:none\" points=\"1521.46,1401.58 1521.46,47.2441 \"/>\n",
       "<polyline clip-path=\"url(#clip072)\" style=\"stroke:#000000; stroke-linecap:round; stroke-linejoin:round; stroke-width:2; stroke-opacity:0.1; fill:none\" points=\"1908.11,1401.58 1908.11,47.2441 \"/>\n",
       "<polyline clip-path=\"url(#clip072)\" style=\"stroke:#000000; stroke-linecap:round; stroke-linejoin:round; stroke-width:2; stroke-opacity:0.1; fill:none\" points=\"2294.76,1401.58 2294.76,47.2441 \"/>\n",
       "<polyline clip-path=\"url(#clip070)\" style=\"stroke:#000000; stroke-linecap:round; stroke-linejoin:round; stroke-width:4; stroke-opacity:1; fill:none\" points=\"303.503,1401.58 2352.76,1401.58 \"/>\n",
       "<polyline clip-path=\"url(#clip070)\" style=\"stroke:#000000; stroke-linecap:round; stroke-linejoin:round; stroke-width:4; stroke-opacity:1; fill:none\" points=\"361.501,1401.58 361.501,1382.68 \"/>\n",
       "<polyline clip-path=\"url(#clip070)\" style=\"stroke:#000000; stroke-linecap:round; stroke-linejoin:round; stroke-width:4; stroke-opacity:1; fill:none\" points=\"748.152,1401.58 748.152,1382.68 \"/>\n",
       "<polyline clip-path=\"url(#clip070)\" style=\"stroke:#000000; stroke-linecap:round; stroke-linejoin:round; stroke-width:4; stroke-opacity:1; fill:none\" points=\"1134.8,1401.58 1134.8,1382.68 \"/>\n",
       "<polyline clip-path=\"url(#clip070)\" style=\"stroke:#000000; stroke-linecap:round; stroke-linejoin:round; stroke-width:4; stroke-opacity:1; fill:none\" points=\"1521.46,1401.58 1521.46,1382.68 \"/>\n",
       "<polyline clip-path=\"url(#clip070)\" style=\"stroke:#000000; stroke-linecap:round; stroke-linejoin:round; stroke-width:4; stroke-opacity:1; fill:none\" points=\"1908.11,1401.58 1908.11,1382.68 \"/>\n",
       "<polyline clip-path=\"url(#clip070)\" style=\"stroke:#000000; stroke-linecap:round; stroke-linejoin:round; stroke-width:4; stroke-opacity:1; fill:none\" points=\"2294.76,1401.58 2294.76,1382.68 \"/>\n",
       "<path clip-path=\"url(#clip070)\" d=\"M361.501 1438.36 Q356.084 1438.36 353.341 1443.71 Q350.633 1449.02 350.633 1459.71 Q350.633 1470.37 353.341 1475.72 Q356.084 1481.03 361.501 1481.03 Q366.952 1481.03 369.66 1475.72 Q372.403 1470.37 372.403 1459.71 Q372.403 1449.02 369.66 1443.71 Q366.952 1438.36 361.501 1438.36 M361.501 1432.8 Q370.216 1432.8 374.799 1439.71 Q379.417 1446.59 379.417 1459.71 Q379.417 1472.8 374.799 1479.71 Q370.216 1486.59 361.501 1486.59 Q352.785 1486.59 348.167 1479.71 Q343.584 1472.8 343.584 1459.71 Q343.584 1446.59 348.167 1439.71 Q352.785 1432.8 361.501 1432.8 Z\" fill=\"#000000\" fill-rule=\"nonzero\" fill-opacity=\"1\" /><path clip-path=\"url(#clip070)\" d=\"M733.725 1479.68 L745.183 1479.68 L745.183 1440.13 L732.718 1442.63 L732.718 1436.24 L745.114 1433.74 L752.128 1433.74 L752.128 1479.68 L763.586 1479.68 L763.586 1485.58 L733.725 1485.58 L733.725 1479.68 Z\" fill=\"#000000\" fill-rule=\"nonzero\" fill-opacity=\"1\" /><path clip-path=\"url(#clip070)\" d=\"M1126.78 1479.68 L1151.26 1479.68 L1151.26 1485.58 L1118.35 1485.58 L1118.35 1479.68 Q1122.34 1475.55 1129.21 1468.6 Q1136.12 1461.62 1137.89 1459.61 Q1141.26 1455.82 1142.58 1453.22 Q1143.94 1450.58 1143.94 1448.05 Q1143.94 1443.91 1141.02 1441.31 Q1138.14 1438.71 1133.48 1438.71 Q1130.19 1438.71 1126.51 1439.85 Q1122.86 1441 1118.69 1443.32 L1118.69 1436.24 Q1122.93 1434.54 1126.61 1433.67 Q1130.29 1432.8 1133.35 1432.8 Q1141.4 1432.8 1146.19 1436.83 Q1150.98 1440.86 1150.98 1447.59 Q1150.98 1450.79 1149.77 1453.67 Q1148.59 1456.52 1145.43 1460.41 Q1144.56 1461.41 1139.91 1466.24 Q1135.26 1471.03 1126.78 1479.68 Z\" fill=\"#000000\" fill-rule=\"nonzero\" fill-opacity=\"1\" /><path clip-path=\"url(#clip070)\" d=\"M1527.83 1457.63 Q1532.86 1458.7 1535.67 1462.11 Q1538.52 1465.51 1538.52 1470.51 Q1538.52 1478.18 1533.24 1482.39 Q1527.97 1486.59 1518.24 1486.59 Q1514.98 1486.59 1511.51 1485.93 Q1508.07 1485.3 1504.39 1484.02 L1504.39 1477.25 Q1507.31 1478.95 1510.78 1479.82 Q1514.25 1480.68 1518.04 1480.68 Q1524.63 1480.68 1528.07 1478.08 Q1531.54 1475.48 1531.54 1470.51 Q1531.54 1465.93 1528.31 1463.36 Q1525.12 1460.75 1519.39 1460.75 L1513.35 1460.75 L1513.35 1454.99 L1519.67 1454.99 Q1524.84 1454.99 1527.58 1452.94 Q1530.33 1450.86 1530.33 1446.97 Q1530.33 1442.98 1527.48 1440.86 Q1524.67 1438.71 1519.39 1438.71 Q1516.51 1438.71 1513.21 1439.33 Q1509.91 1439.96 1505.95 1441.27 L1505.95 1435.02 Q1509.94 1433.91 1513.42 1433.36 Q1516.92 1432.8 1520.01 1432.8 Q1528 1432.8 1532.65 1436.45 Q1537.31 1440.06 1537.31 1446.24 Q1537.31 1450.55 1534.84 1453.53 Q1532.38 1456.48 1527.83 1457.63 Z\" fill=\"#000000\" fill-rule=\"nonzero\" fill-opacity=\"1\" /><path clip-path=\"url(#clip070)\" d=\"M1912.62 1439.85 L1894.91 1467.52 L1912.62 1467.52 L1912.62 1439.85 M1910.78 1433.74 L1919.6 1433.74 L1919.6 1467.52 L1927 1467.52 L1927 1473.36 L1919.6 1473.36 L1919.6 1485.58 L1912.62 1485.58 L1912.62 1473.36 L1889.22 1473.36 L1889.22 1466.59 L1910.78 1433.74 Z\" fill=\"#000000\" fill-rule=\"nonzero\" fill-opacity=\"1\" /><path clip-path=\"url(#clip070)\" d=\"M2280.17 1433.74 L2307.71 1433.74 L2307.71 1439.64 L2286.6 1439.64 L2286.6 1452.35 Q2288.13 1451.83 2289.65 1451.59 Q2291.18 1451.31 2292.71 1451.31 Q2301.39 1451.31 2306.46 1456.07 Q2311.53 1460.82 2311.53 1468.95 Q2311.53 1477.32 2306.32 1481.97 Q2301.11 1486.59 2291.63 1486.59 Q2288.37 1486.59 2284.97 1486.03 Q2281.6 1485.48 2277.99 1484.36 L2277.99 1477.32 Q2281.11 1479.02 2284.45 1479.85 Q2287.78 1480.68 2291.49 1480.68 Q2297.5 1480.68 2301.01 1477.52 Q2304.52 1474.36 2304.52 1468.95 Q2304.52 1463.53 2301.01 1460.37 Q2297.5 1457.21 2291.49 1457.21 Q2288.68 1457.21 2285.87 1457.84 Q2283.09 1458.46 2280.17 1459.78 L2280.17 1433.74 Z\" fill=\"#000000\" fill-rule=\"nonzero\" fill-opacity=\"1\" /><path clip-path=\"url(#clip070)\" d=\"M1271.74 1527.62 L1271.74 1538.66 L1284.9 1538.66 L1284.9 1543.62 L1271.74 1543.62 L1271.74 1564.74 Q1271.74 1569.49 1273.03 1570.85 Q1274.35 1572.2 1278.34 1572.2 L1284.9 1572.2 L1284.9 1577.55 L1278.34 1577.55 Q1270.94 1577.55 1268.13 1574.8 Q1265.32 1572.03 1265.32 1564.74 L1265.32 1543.62 L1260.63 1543.62 L1260.63 1538.66 L1265.32 1538.66 L1265.32 1527.62 L1271.74 1527.62 Z\" fill=\"#000000\" fill-rule=\"nonzero\" fill-opacity=\"1\" /><path clip-path=\"url(#clip070)\" d=\"M1315.32 1523.52 L1330.04 1523.52 L1330.04 1528.49 L1321.71 1528.49 L1321.71 1581.96 L1330.04 1581.96 L1330.04 1586.92 L1315.32 1586.92 L1315.32 1523.52 Z\" fill=\"#000000\" fill-rule=\"nonzero\" fill-opacity=\"1\" /><path clip-path=\"url(#clip070)\" d=\"M1368.44 1539.8 L1368.44 1545.85 Q1365.73 1544.46 1362.82 1543.76 Q1359.9 1543.07 1356.78 1543.07 Q1352.02 1543.07 1349.62 1544.53 Q1347.26 1545.99 1347.26 1548.9 Q1347.26 1551.12 1348.96 1552.41 Q1350.66 1553.66 1355.8 1554.8 L1357.99 1555.29 Q1364.8 1556.75 1367.64 1559.42 Q1370.53 1562.06 1370.53 1566.82 Q1370.53 1572.24 1366.22 1575.4 Q1361.95 1578.55 1354.45 1578.55 Q1351.32 1578.55 1347.92 1577.93 Q1344.55 1577.34 1340.8 1576.12 L1340.8 1569.53 Q1344.34 1571.37 1347.78 1572.3 Q1351.22 1573.21 1354.59 1573.21 Q1359.1 1573.21 1361.53 1571.68 Q1363.96 1570.12 1363.96 1567.3 Q1363.96 1564.7 1362.19 1563.31 Q1360.46 1561.92 1354.52 1560.64 L1352.3 1560.12 Q1346.36 1558.87 1343.72 1556.3 Q1341.08 1553.69 1341.08 1549.18 Q1341.08 1543.69 1344.97 1540.71 Q1348.86 1537.72 1356.01 1537.72 Q1359.55 1537.72 1362.68 1538.24 Q1365.8 1538.76 1368.44 1539.8 Z\" fill=\"#000000\" fill-rule=\"nonzero\" fill-opacity=\"1\" /><path clip-path=\"url(#clip070)\" d=\"M1395.63 1523.52 L1395.63 1586.92 L1380.91 1586.92 L1380.91 1581.96 L1389.21 1581.96 L1389.21 1528.49 L1380.91 1528.49 L1380.91 1523.52 L1395.63 1523.52 Z\" fill=\"#000000\" fill-rule=\"nonzero\" fill-opacity=\"1\" /><polyline clip-path=\"url(#clip072)\" style=\"stroke:#000000; stroke-linecap:round; stroke-linejoin:round; stroke-width:2; stroke-opacity:0.1; fill:none\" points=\"303.503,1363.25 2352.76,1363.25 \"/>\n",
       "<polyline clip-path=\"url(#clip072)\" style=\"stroke:#000000; stroke-linecap:round; stroke-linejoin:round; stroke-width:2; stroke-opacity:0.1; fill:none\" points=\"303.503,1097.04 2352.76,1097.04 \"/>\n",
       "<polyline clip-path=\"url(#clip072)\" style=\"stroke:#000000; stroke-linecap:round; stroke-linejoin:round; stroke-width:2; stroke-opacity:0.1; fill:none\" points=\"303.503,830.828 2352.76,830.828 \"/>\n",
       "<polyline clip-path=\"url(#clip072)\" style=\"stroke:#000000; stroke-linecap:round; stroke-linejoin:round; stroke-width:2; stroke-opacity:0.1; fill:none\" points=\"303.503,564.617 2352.76,564.617 \"/>\n",
       "<polyline clip-path=\"url(#clip072)\" style=\"stroke:#000000; stroke-linecap:round; stroke-linejoin:round; stroke-width:2; stroke-opacity:0.1; fill:none\" points=\"303.503,298.406 2352.76,298.406 \"/>\n",
       "<polyline clip-path=\"url(#clip070)\" style=\"stroke:#000000; stroke-linecap:round; stroke-linejoin:round; stroke-width:4; stroke-opacity:1; fill:none\" points=\"303.503,1401.58 303.503,47.2441 \"/>\n",
       "<polyline clip-path=\"url(#clip070)\" style=\"stroke:#000000; stroke-linecap:round; stroke-linejoin:round; stroke-width:4; stroke-opacity:1; fill:none\" points=\"303.503,1363.25 322.401,1363.25 \"/>\n",
       "<polyline clip-path=\"url(#clip070)\" style=\"stroke:#000000; stroke-linecap:round; stroke-linejoin:round; stroke-width:4; stroke-opacity:1; fill:none\" points=\"303.503,1097.04 322.401,1097.04 \"/>\n",
       "<polyline clip-path=\"url(#clip070)\" style=\"stroke:#000000; stroke-linecap:round; stroke-linejoin:round; stroke-width:4; stroke-opacity:1; fill:none\" points=\"303.503,830.828 322.401,830.828 \"/>\n",
       "<polyline clip-path=\"url(#clip070)\" style=\"stroke:#000000; stroke-linecap:round; stroke-linejoin:round; stroke-width:4; stroke-opacity:1; fill:none\" points=\"303.503,564.617 322.401,564.617 \"/>\n",
       "<polyline clip-path=\"url(#clip070)\" style=\"stroke:#000000; stroke-linecap:round; stroke-linejoin:round; stroke-width:4; stroke-opacity:1; fill:none\" points=\"303.503,298.406 322.401,298.406 \"/>\n",
       "<path clip-path=\"url(#clip070)\" d=\"M136.497 1341.95 Q131.08 1341.95 128.337 1347.29 Q125.629 1352.61 125.629 1363.3 Q125.629 1373.96 128.337 1379.31 Q131.08 1384.62 136.497 1384.62 Q141.948 1384.62 144.656 1379.31 Q147.399 1373.96 147.399 1363.3 Q147.399 1352.61 144.656 1347.29 Q141.948 1341.95 136.497 1341.95 M136.497 1336.39 Q145.212 1336.39 149.795 1343.3 Q154.413 1350.18 154.413 1363.3 Q154.413 1376.39 149.795 1383.3 Q145.212 1390.18 136.497 1390.18 Q127.781 1390.18 123.163 1383.3 Q118.58 1376.39 118.58 1363.3 Q118.58 1350.18 123.163 1343.3 Q127.781 1336.39 136.497 1336.39 Z\" fill=\"#000000\" fill-rule=\"nonzero\" fill-opacity=\"1\" /><path clip-path=\"url(#clip070)\" d=\"M166.74 1380.35 L174.066 1380.35 L174.066 1389.17 L166.74 1389.17 L166.74 1380.35 Z\" fill=\"#000000\" fill-rule=\"nonzero\" fill-opacity=\"1\" /><path clip-path=\"url(#clip070)\" d=\"M189.413 1337.33 L216.948 1337.33 L216.948 1343.23 L195.837 1343.23 L195.837 1355.94 Q197.364 1355.42 198.892 1355.18 Q200.42 1354.9 201.948 1354.9 Q210.628 1354.9 215.698 1359.66 Q220.767 1364.41 220.767 1372.54 Q220.767 1380.91 215.559 1385.56 Q210.35 1390.18 200.871 1390.18 Q197.608 1390.18 194.205 1389.62 Q190.837 1389.07 187.226 1387.95 L187.226 1380.91 Q190.351 1382.61 193.684 1383.44 Q197.017 1384.27 200.732 1384.27 Q206.739 1384.27 210.246 1381.11 Q213.753 1377.95 213.753 1372.54 Q213.753 1367.12 210.246 1363.96 Q206.739 1360.8 200.732 1360.8 Q197.92 1360.8 195.108 1361.43 Q192.33 1362.05 189.413 1363.37 L189.413 1337.33 Z\" fill=\"#000000\" fill-rule=\"nonzero\" fill-opacity=\"1\" /><path clip-path=\"url(#clip070)\" d=\"M249.586 1341.95 Q244.17 1341.95 241.427 1347.29 Q238.718 1352.61 238.718 1363.3 Q238.718 1373.96 241.427 1379.31 Q244.17 1384.62 249.586 1384.62 Q255.038 1384.62 257.746 1379.31 Q260.489 1373.96 260.489 1363.3 Q260.489 1352.61 257.746 1347.29 Q255.038 1341.95 249.586 1341.95 M249.586 1336.39 Q258.302 1336.39 262.885 1343.3 Q267.503 1350.18 267.503 1363.3 Q267.503 1376.39 262.885 1383.3 Q258.302 1390.18 249.586 1390.18 Q240.871 1390.18 236.253 1383.3 Q231.67 1376.39 231.67 1363.3 Q231.67 1350.18 236.253 1343.3 Q240.871 1336.39 249.586 1336.39 Z\" fill=\"#000000\" fill-rule=\"nonzero\" fill-opacity=\"1\" /><path clip-path=\"url(#clip070)\" d=\"M137.99 1075.74 Q132.573 1075.74 129.83 1081.08 Q127.122 1086.4 127.122 1097.09 Q127.122 1107.75 129.83 1113.1 Q132.573 1118.41 137.99 1118.41 Q143.441 1118.41 146.149 1113.1 Q148.892 1107.75 148.892 1097.09 Q148.892 1086.4 146.149 1081.08 Q143.441 1075.74 137.99 1075.74 M137.99 1070.18 Q146.705 1070.18 151.288 1077.09 Q155.906 1083.97 155.906 1097.09 Q155.906 1110.18 151.288 1117.09 Q146.705 1123.97 137.99 1123.97 Q129.275 1123.97 124.657 1117.09 Q120.073 1110.18 120.073 1097.09 Q120.073 1083.97 124.657 1077.09 Q129.275 1070.18 137.99 1070.18 Z\" fill=\"#000000\" fill-rule=\"nonzero\" fill-opacity=\"1\" /><path clip-path=\"url(#clip070)\" d=\"M168.233 1114.14 L175.559 1114.14 L175.559 1122.96 L168.233 1122.96 L168.233 1114.14 Z\" fill=\"#000000\" fill-rule=\"nonzero\" fill-opacity=\"1\" /><path clip-path=\"url(#clip070)\" d=\"M189.066 1071.12 L222.399 1071.12 L222.399 1074.1 L203.58 1122.96 L196.253 1122.96 L213.962 1077.02 L189.066 1077.02 L189.066 1071.12 Z\" fill=\"#000000\" fill-rule=\"nonzero\" fill-opacity=\"1\" /><path clip-path=\"url(#clip070)\" d=\"M236.149 1071.12 L263.684 1071.12 L263.684 1077.02 L242.573 1077.02 L242.573 1089.73 Q244.1 1089.21 245.628 1088.97 Q247.156 1088.69 248.684 1088.69 Q257.364 1088.69 262.434 1093.45 Q267.503 1098.2 267.503 1106.33 Q267.503 1114.69 262.295 1119.35 Q257.086 1123.97 247.607 1123.97 Q244.343 1123.97 240.941 1123.41 Q237.573 1122.85 233.961 1121.74 L233.961 1114.69 Q237.086 1116.4 240.42 1117.23 Q243.753 1118.06 247.468 1118.06 Q253.475 1118.06 256.982 1114.9 Q260.489 1111.74 260.489 1106.33 Q260.489 1100.91 256.982 1097.75 Q253.475 1094.59 247.468 1094.59 Q244.656 1094.59 241.843 1095.22 Q239.066 1095.84 236.149 1097.16 L236.149 1071.12 Z\" fill=\"#000000\" fill-rule=\"nonzero\" fill-opacity=\"1\" /><path clip-path=\"url(#clip070)\" d=\"M122.712 850.845 L134.17 850.845 L134.17 811.297 L121.705 813.797 L121.705 807.408 L134.101 804.908 L141.115 804.908 L141.115 850.845 L152.573 850.845 L152.573 856.748 L122.712 856.748 L122.712 850.845 Z\" fill=\"#000000\" fill-rule=\"nonzero\" fill-opacity=\"1\" /><path clip-path=\"url(#clip070)\" d=\"M166.74 847.929 L174.066 847.929 L174.066 856.748 L166.74 856.748 L166.74 847.929 Z\" fill=\"#000000\" fill-rule=\"nonzero\" fill-opacity=\"1\" /><path clip-path=\"url(#clip070)\" d=\"M204.344 809.526 Q198.927 809.526 196.184 814.873 Q193.476 820.186 193.476 830.88 Q193.476 841.54 196.184 846.887 Q198.927 852.199 204.344 852.199 Q209.795 852.199 212.503 846.887 Q215.246 841.54 215.246 830.88 Q215.246 820.186 212.503 814.873 Q209.795 809.526 204.344 809.526 M204.344 803.97 Q213.059 803.97 217.642 810.88 Q222.26 817.755 222.26 830.88 Q222.26 843.97 217.642 850.88 Q213.059 857.755 204.344 857.755 Q195.628 857.755 191.01 850.88 Q186.427 843.97 186.427 830.88 Q186.427 817.755 191.01 810.88 Q195.628 803.97 204.344 803.97 Z\" fill=\"#000000\" fill-rule=\"nonzero\" fill-opacity=\"1\" /><path clip-path=\"url(#clip070)\" d=\"M249.586 809.526 Q244.17 809.526 241.427 814.873 Q238.718 820.186 238.718 830.88 Q238.718 841.54 241.427 846.887 Q244.17 852.199 249.586 852.199 Q255.038 852.199 257.746 846.887 Q260.489 841.54 260.489 830.88 Q260.489 820.186 257.746 814.873 Q255.038 809.526 249.586 809.526 M249.586 803.97 Q258.302 803.97 262.885 810.88 Q267.503 817.755 267.503 830.88 Q267.503 843.97 262.885 850.88 Q258.302 857.755 249.586 857.755 Q240.871 857.755 236.253 850.88 Q231.67 843.97 231.67 830.88 Q231.67 817.755 236.253 810.88 Q240.871 803.97 249.586 803.97 Z\" fill=\"#000000\" fill-rule=\"nonzero\" fill-opacity=\"1\" /><path clip-path=\"url(#clip070)\" d=\"M124.205 584.634 L135.663 584.634 L135.663 545.086 L123.198 547.586 L123.198 541.197 L135.594 538.697 L142.608 538.697 L142.608 584.634 L154.066 584.634 L154.066 590.537 L124.205 590.537 L124.205 584.634 Z\" fill=\"#000000\" fill-rule=\"nonzero\" fill-opacity=\"1\" /><path clip-path=\"url(#clip070)\" d=\"M168.233 581.718 L175.559 581.718 L175.559 590.537 L168.233 590.537 L168.233 581.718 Z\" fill=\"#000000\" fill-rule=\"nonzero\" fill-opacity=\"1\" /><path clip-path=\"url(#clip070)\" d=\"M196.878 584.634 L221.357 584.634 L221.357 590.537 L188.441 590.537 L188.441 584.634 Q192.434 580.502 199.309 573.558 Q206.219 566.579 207.989 564.565 Q211.357 560.78 212.677 558.176 Q214.031 555.537 214.031 553.003 Q214.031 548.871 211.114 546.267 Q208.232 543.662 203.58 543.662 Q200.281 543.662 196.601 544.808 Q192.955 545.954 188.788 548.28 L188.788 541.197 Q193.024 539.496 196.705 538.628 Q200.385 537.76 203.441 537.76 Q211.496 537.76 216.288 541.787 Q221.08 545.815 221.08 552.551 Q221.08 555.746 219.864 558.628 Q218.684 561.475 215.524 565.364 Q214.656 566.371 210.003 571.197 Q205.351 575.989 196.878 584.634 Z\" fill=\"#000000\" fill-rule=\"nonzero\" fill-opacity=\"1\" /><path clip-path=\"url(#clip070)\" d=\"M236.149 538.697 L263.684 538.697 L263.684 544.6 L242.573 544.6 L242.573 557.308 Q244.1 556.787 245.628 556.544 Q247.156 556.266 248.684 556.266 Q257.364 556.266 262.434 561.023 Q267.503 565.78 267.503 573.905 Q267.503 582.273 262.295 586.926 Q257.086 591.544 247.607 591.544 Q244.343 591.544 240.941 590.989 Q237.573 590.433 233.961 589.322 L233.961 582.273 Q237.086 583.975 240.42 584.808 Q243.753 585.641 247.468 585.641 Q253.475 585.641 256.982 582.482 Q260.489 579.322 260.489 573.905 Q260.489 568.489 256.982 565.329 Q253.475 562.169 247.468 562.169 Q244.656 562.169 241.843 562.794 Q239.066 563.419 236.149 564.739 L236.149 538.697 Z\" fill=\"#000000\" fill-rule=\"nonzero\" fill-opacity=\"1\" /><path clip-path=\"url(#clip070)\" d=\"M122.712 318.424 L134.17 318.424 L134.17 278.875 L121.705 281.375 L121.705 274.986 L134.101 272.486 L141.115 272.486 L141.115 318.424 L152.573 318.424 L152.573 324.326 L122.712 324.326 L122.712 318.424 Z\" fill=\"#000000\" fill-rule=\"nonzero\" fill-opacity=\"1\" /><path clip-path=\"url(#clip070)\" d=\"M166.74 315.507 L174.066 315.507 L174.066 324.326 L166.74 324.326 L166.74 315.507 Z\" fill=\"#000000\" fill-rule=\"nonzero\" fill-opacity=\"1\" /><path clip-path=\"url(#clip070)\" d=\"M189.413 272.486 L216.948 272.486 L216.948 278.389 L195.837 278.389 L195.837 291.097 Q197.364 290.577 198.892 290.333 Q200.42 290.056 201.948 290.056 Q210.628 290.056 215.698 294.813 Q220.767 299.57 220.767 307.694 Q220.767 316.062 215.559 320.715 Q210.35 325.333 200.871 325.333 Q197.608 325.333 194.205 324.778 Q190.837 324.222 187.226 323.111 L187.226 316.062 Q190.351 317.764 193.684 318.597 Q197.017 319.431 200.732 319.431 Q206.739 319.431 210.246 316.271 Q213.753 313.111 213.753 307.694 Q213.753 302.278 210.246 299.118 Q206.739 295.958 200.732 295.958 Q197.92 295.958 195.108 296.583 Q192.33 297.208 189.413 298.528 L189.413 272.486 Z\" fill=\"#000000\" fill-rule=\"nonzero\" fill-opacity=\"1\" /><path clip-path=\"url(#clip070)\" d=\"M249.586 277.104 Q244.17 277.104 241.427 282.452 Q238.718 287.764 238.718 298.458 Q238.718 309.118 241.427 314.465 Q244.17 319.778 249.586 319.778 Q255.038 319.778 257.746 314.465 Q260.489 309.118 260.489 298.458 Q260.489 287.764 257.746 282.452 Q255.038 277.104 249.586 277.104 M249.586 271.549 Q258.302 271.549 262.885 278.459 Q267.503 285.333 267.503 298.458 Q267.503 311.549 262.885 318.458 Q258.302 325.333 249.586 325.333 Q240.871 325.333 236.253 318.458 Q231.67 311.549 231.67 298.458 Q231.67 285.333 236.253 278.459 Q240.871 271.549 249.586 271.549 Z\" fill=\"#000000\" fill-rule=\"nonzero\" fill-opacity=\"1\" /><path clip-path=\"url(#clip070)\" d=\"M35.6047 1006.89 Q31.2992 1004.5 29.2506 1001.16 Q27.202 997.831 27.202 993.317 Q27.202 987.24 31.4728 983.942 Q35.7089 980.643 43.5561 980.643 L67.0282 980.643 L67.0282 987.067 L43.7644 987.067 Q38.1741 987.067 35.4658 989.046 Q32.7575 991.025 32.7575 995.088 Q32.7575 1000.05 36.0561 1002.93 Q39.3547 1005.82 45.0491 1005.82 L67.0282 1005.82 L67.0282 1012.24 L43.7644 1012.24 Q38.1394 1012.24 35.4658 1014.22 Q32.7575 1016.2 32.7575 1020.33 Q32.7575 1025.23 36.0908 1028.11 Q39.3894 1030.99 45.0491 1030.99 L67.0282 1030.99 L67.0282 1037.41 L28.1395 1037.41 L28.1395 1030.99 L34.1811 1030.99 Q30.6047 1028.8 28.9034 1025.75 Q27.202 1022.69 27.202 1018.49 Q27.202 1014.25 29.3547 1011.3 Q31.5075 1008.32 35.6047 1006.89 Z\" fill=\"#000000\" fill-rule=\"nonzero\" fill-opacity=\"1\" /><path clip-path=\"url(#clip070)\" d=\"M47.4797 950.227 Q47.4797 957.97 49.2505 960.956 Q51.0213 963.942 55.2921 963.942 Q58.6949 963.942 60.7087 961.72 Q62.6879 959.463 62.6879 955.609 Q62.6879 950.296 58.9379 947.102 Q55.1532 943.873 48.9033 943.873 L47.4797 943.873 L47.4797 950.227 M44.8408 937.484 L67.0282 937.484 L67.0282 943.873 L61.1254 943.873 Q64.6671 946.06 66.3684 949.324 Q68.0351 952.588 68.0351 957.31 Q68.0351 963.282 64.7018 966.824 Q61.3337 970.331 55.7088 970.331 Q49.1463 970.331 45.813 965.956 Q42.4797 961.546 42.4797 952.831 L42.4797 943.873 L41.8547 943.873 Q37.445 943.873 35.0492 946.789 Q32.6186 949.671 32.6186 954.914 Q32.6186 958.248 33.4172 961.407 Q34.2158 964.567 35.813 967.484 L29.9103 967.484 Q28.5561 963.977 27.8964 960.678 Q27.202 957.379 27.202 954.254 Q27.202 945.817 31.577 941.65 Q35.9519 937.484 44.8408 937.484 Z\" fill=\"#000000\" fill-rule=\"nonzero\" fill-opacity=\"1\" /><path clip-path=\"url(#clip070)\" d=\"M29.2853 899.533 L35.3269 899.533 Q33.9381 902.241 33.2436 905.158 Q32.5492 908.074 32.5492 911.199 Q32.5492 915.956 34.0075 918.352 Q35.4658 920.713 38.3825 920.713 Q40.6047 920.713 41.8894 919.012 Q43.1394 917.31 44.2852 912.171 L44.7713 909.984 Q46.2297 903.178 48.9033 900.331 Q51.5421 897.449 56.299 897.449 Q61.7157 897.449 64.8754 901.755 Q68.0351 906.026 68.0351 913.526 Q68.0351 916.651 67.4101 920.053 Q66.8198 923.421 65.6046 927.171 L59.0074 927.171 Q60.8476 923.63 61.7851 920.192 Q62.6879 916.755 62.6879 913.387 Q62.6879 908.873 61.1601 906.442 Q59.5976 904.012 56.7852 904.012 Q54.181 904.012 52.7921 905.783 Q51.4032 907.519 50.1185 913.456 L49.5977 915.678 Q48.3477 921.616 45.7783 924.255 Q43.1741 926.894 38.6603 926.894 Q33.1742 926.894 30.1881 923.005 Q27.202 919.116 27.202 911.963 Q27.202 908.421 27.7228 905.296 Q28.2436 902.171 29.2853 899.533 Z\" fill=\"#000000\" fill-rule=\"nonzero\" fill-opacity=\"1\" /><path clip-path=\"url(#clip070)\" d=\"M29.2853 862.484 L35.3269 862.484 Q33.9381 865.192 33.2436 868.109 Q32.5492 871.026 32.5492 874.151 Q32.5492 878.908 34.0075 881.303 Q35.4658 883.665 38.3825 883.665 Q40.6047 883.665 41.8894 881.963 Q43.1394 880.262 44.2852 875.123 L44.7713 872.935 Q46.2297 866.13 48.9033 863.283 Q51.5421 860.401 56.299 860.401 Q61.7157 860.401 64.8754 864.706 Q68.0351 868.977 68.0351 876.477 Q68.0351 879.602 67.4101 883.005 Q66.8198 886.373 65.6046 890.123 L59.0074 890.123 Q60.8476 886.581 61.7851 883.144 Q62.6879 879.706 62.6879 876.338 Q62.6879 871.824 61.1601 869.394 Q59.5976 866.963 56.7852 866.963 Q54.181 866.963 52.7921 868.734 Q51.4032 870.47 50.1185 876.408 L49.5977 878.63 Q48.3477 884.567 45.7783 887.206 Q43.1741 889.845 38.6603 889.845 Q33.1742 889.845 30.1881 885.956 Q27.202 882.067 27.202 874.915 Q27.202 871.373 27.7228 868.248 Q28.2436 865.123 29.2853 862.484 Z\" fill=\"#000000\" fill-rule=\"nonzero\" fill-opacity=\"1\" /><path clip-path=\"url(#clip070)\" d=\"M61.1949 821.443 L81.8197 821.443 L81.8197 827.866 L28.1395 827.866 L28.1395 821.443 L34.0422 821.443 Q30.57 819.429 28.9034 816.373 Q27.202 813.283 27.202 809.012 Q27.202 801.929 32.827 797.519 Q38.4519 793.075 47.6185 793.075 Q56.7852 793.075 62.4101 797.519 Q68.0351 801.929 68.0351 809.012 Q68.0351 813.283 66.3684 816.373 Q64.6671 819.429 61.1949 821.443 M47.6185 799.707 Q40.57 799.707 36.5769 802.623 Q32.5492 805.505 32.5492 810.575 Q32.5492 815.644 36.5769 818.561 Q40.57 821.443 47.6185 821.443 Q54.6671 821.443 58.6949 818.561 Q62.6879 815.644 62.6879 810.575 Q62.6879 805.505 58.6949 802.623 Q54.6671 799.707 47.6185 799.707 Z\" fill=\"#000000\" fill-rule=\"nonzero\" fill-opacity=\"1\" /><path clip-path=\"url(#clip070)\" d=\"M32.6186 767.415 Q32.6186 772.554 36.6464 775.54 Q40.6394 778.526 47.6185 778.526 Q54.5977 778.526 58.6254 775.575 Q62.6185 772.589 62.6185 767.415 Q62.6185 762.311 58.5907 759.325 Q54.5629 756.339 47.6185 756.339 Q40.7089 756.339 36.6811 759.325 Q32.6186 762.311 32.6186 767.415 M27.202 767.415 Q27.202 759.082 32.6186 754.325 Q38.0353 749.568 47.6185 749.568 Q57.1671 749.568 62.6185 754.325 Q68.0351 759.082 68.0351 767.415 Q68.0351 775.783 62.6185 780.54 Q57.1671 785.262 47.6185 785.262 Q38.0353 785.262 32.6186 780.54 Q27.202 775.783 27.202 767.415 Z\" fill=\"#000000\" fill-rule=\"nonzero\" fill-opacity=\"1\" /><path clip-path=\"url(#clip070)\" d=\"M29.2853 714.186 L35.3269 714.186 Q33.9381 716.895 33.2436 719.811 Q32.5492 722.728 32.5492 725.853 Q32.5492 730.61 34.0075 733.006 Q35.4658 735.367 38.3825 735.367 Q40.6047 735.367 41.8894 733.665 Q43.1394 731.964 44.2852 726.825 L44.7713 724.638 Q46.2297 717.832 48.9033 714.985 Q51.5421 712.103 56.299 712.103 Q61.7157 712.103 64.8754 716.409 Q68.0351 720.679 68.0351 728.179 Q68.0351 731.304 67.4101 734.707 Q66.8198 738.075 65.6046 741.825 L59.0074 741.825 Q60.8476 738.283 61.7851 734.846 Q62.6879 731.408 62.6879 728.04 Q62.6879 723.527 61.1601 721.096 Q59.5976 718.665 56.7852 718.665 Q54.181 718.665 52.7921 720.436 Q51.4032 722.172 50.1185 728.11 L49.5977 730.332 Q48.3477 736.27 45.7783 738.908 Q43.1741 741.547 38.6603 741.547 Q33.1742 741.547 30.1881 737.658 Q27.202 733.77 27.202 726.617 Q27.202 723.075 27.7228 719.95 Q28.2436 716.825 29.2853 714.186 Z\" fill=\"#000000\" fill-rule=\"nonzero\" fill-opacity=\"1\" /><path clip-path=\"url(#clip070)\" d=\"M28.1395 701.929 L28.1395 695.541 L67.0282 695.541 L67.0282 701.929 L28.1395 701.929 M13.0007 701.929 L13.0007 695.541 L21.0909 695.541 L21.0909 701.929 L13.0007 701.929 Z\" fill=\"#000000\" fill-rule=\"nonzero\" fill-opacity=\"1\" /><path clip-path=\"url(#clip070)\" d=\"M17.0979 675.853 L28.1395 675.853 L28.1395 662.694 L33.1047 662.694 L33.1047 675.853 L54.2157 675.853 Q58.9726 675.853 60.3268 674.568 Q61.681 673.249 61.681 669.256 L61.681 662.694 L67.0282 662.694 L67.0282 669.256 Q67.0282 676.652 64.2851 679.464 Q61.5074 682.277 54.2157 682.277 L33.1047 682.277 L33.1047 686.964 L28.1395 686.964 L28.1395 682.277 L17.0979 682.277 L17.0979 675.853 Z\" fill=\"#000000\" fill-rule=\"nonzero\" fill-opacity=\"1\" /><path clip-path=\"url(#clip070)\" d=\"M28.1395 654.291 L28.1395 647.902 L67.0282 647.902 L67.0282 654.291 L28.1395 654.291 M13.0007 654.291 L13.0007 647.902 L21.0909 647.902 L21.0909 654.291 L13.0007 654.291 Z\" fill=\"#000000\" fill-rule=\"nonzero\" fill-opacity=\"1\" /><path clip-path=\"url(#clip070)\" d=\"M32.6186 619.465 Q32.6186 624.603 36.6464 627.59 Q40.6394 630.576 47.6185 630.576 Q54.5977 630.576 58.6254 627.624 Q62.6185 624.638 62.6185 619.465 Q62.6185 614.36 58.5907 611.374 Q54.5629 608.388 47.6185 608.388 Q40.7089 608.388 36.6811 611.374 Q32.6186 614.36 32.6186 619.465 M27.202 619.465 Q27.202 611.131 32.6186 606.374 Q38.0353 601.617 47.6185 601.617 Q57.1671 601.617 62.6185 606.374 Q68.0351 611.131 68.0351 619.465 Q68.0351 627.833 62.6185 632.59 Q57.1671 637.312 47.6185 637.312 Q38.0353 637.312 32.6186 632.59 Q27.202 627.833 27.202 619.465 Z\" fill=\"#000000\" fill-rule=\"nonzero\" fill-opacity=\"1\" /><path clip-path=\"url(#clip070)\" d=\"M43.5561 558.701 L67.0282 558.701 L67.0282 565.09 L43.7644 565.09 Q38.2436 565.09 35.5005 567.243 Q32.7575 569.395 32.7575 573.701 Q32.7575 578.875 36.0561 581.861 Q39.3547 584.847 45.0491 584.847 L67.0282 584.847 L67.0282 591.27 L28.1395 591.27 L28.1395 584.847 L34.1811 584.847 Q30.6742 582.555 28.9381 579.465 Q27.202 576.34 27.202 572.277 Q27.202 565.576 31.3686 562.139 Q35.5005 558.701 43.5561 558.701 Z\" fill=\"#000000\" fill-rule=\"nonzero\" fill-opacity=\"1\" /><path clip-path=\"url(#clip070)\" d=\"M13.0007 523.944 L13.0007 509.222 L17.9659 509.222 L17.9659 517.555 L71.4379 517.555 L71.4379 509.222 L76.4031 509.222 L76.4031 523.944 L13.0007 523.944 Z\" fill=\"#000000\" fill-rule=\"nonzero\" fill-opacity=\"1\" /><path clip-path=\"url(#clip070)\" d=\"M35.6047 465.333 Q31.2992 462.938 29.2506 459.604 Q27.202 456.271 27.202 451.757 Q27.202 445.681 31.4728 442.382 Q35.7089 439.084 43.5561 439.084 L67.0282 439.084 L67.0282 445.507 L43.7644 445.507 Q38.1741 445.507 35.4658 447.486 Q32.7575 449.466 32.7575 453.528 Q32.7575 458.493 36.0561 461.375 Q39.3547 464.257 45.0491 464.257 L67.0282 464.257 L67.0282 470.681 L43.7644 470.681 Q38.1394 470.681 35.4658 472.66 Q32.7575 474.639 32.7575 478.771 Q32.7575 483.667 36.0908 486.549 Q39.3894 489.431 45.0491 489.431 L67.0282 489.431 L67.0282 495.854 L28.1395 495.854 L28.1395 489.431 L34.1811 489.431 Q30.6047 487.243 28.9034 484.188 Q27.202 481.132 27.202 476.931 Q27.202 472.695 29.3547 469.743 Q31.5075 466.757 35.6047 465.333 Z\" fill=\"#000000\" fill-rule=\"nonzero\" fill-opacity=\"1\" /><path clip-path=\"url(#clip070)\" d=\"M13.0007 411.41 L76.4031 411.41 L76.4031 426.132 L71.4379 426.132 L71.4379 417.834 L17.9659 417.834 L17.9659 426.132 L13.0007 426.132 L13.0007 411.41 Z\" fill=\"#000000\" fill-rule=\"nonzero\" fill-opacity=\"1\" /><polyline clip-path=\"url(#clip072)\" style=\"stroke:#009af9; stroke-linecap:round; stroke-linejoin:round; stroke-width:8; stroke-opacity:1; fill:none\" points=\"361.501,1363.25 400.166,1331.57 438.831,1239.67 477.496,1096.67 516.161,916.742 554.826,717.736 593.492,519.385 632.157,341.359 670.822,201.314 709.487,113.138 748.152,85.5744 786.817,121.357 825.482,216.938 864.148,362.838 902.813,544.588 941.478,744.164 980.143,941.775 1018.81,1117.82 1057.47,1254.85 1096.14,1339.27 1134.8,1362.7 1173.47,1322.83 1212.13,1223.61 1250.8,1074.88 1289.46,891.38 1328.13,691.319 1366.79,494.533 1405.46,320.537 1444.12,186.586 1482.79,105.965 1521.46,86.6675 1560.12,130.608 1598.79,233.429 1637.45,384.934 1676.12,570.098 1714.78,770.558 1753.45,966.436 1792.11,1138.3 1830.78,1269.12 1869.44,1345.91 1908.11,1361.06 1946.77,1313.07 1985.44,1206.7 2024.1,1052.48 2062.77,865.732 2101.43,664.958 2140.1,470.074 2178.76,300.405 2217.43,172.778 2256.09,99.8496 2294.76,88.8518 \"/>\n",
       "<polyline clip-path=\"url(#clip072)\" style=\"stroke:#e26f46; stroke-linecap:round; stroke-linejoin:round; stroke-width:8; stroke-opacity:1; fill:none\" points=\"361.501,1363.25 400.166,1340.21 438.831,1271.99 477.496,1164.2 516.161,1027.14 554.826,874.093 593.492,720.272 632.157,581.118 670.822,470.544 709.487,399.867 748.152,377.229 786.817,398.669 825.482,457.429 864.148,548.873 902.813,664.459 941.478,792.869 980.143,921.394 1018.81,1037.25 1057.47,1128.81 1096.14,1186.51 1134.8,1203.39 1173.47,1184.9 1212.13,1137.08 1250.8,1063.57 1289.46,971.123 1328.13,868.679 1366.79,766.274 1405.46,674.157 1444.12,601.764 1482.79,556.865 1521.46,544.974 1560.12,559.105 1598.79,593.963 1637.45,647.074 1676.12,713.784 1714.78,787.823 1753.45,861.911 1792.11,928.625 1830.78,981.052 1869.44,1013.39 1908.11,1021.45 1946.77,1013.4 1985.44,994.112 2024.1,964.773 2062.77,927.805 2101.43,886.505 2140.1,844.867 2178.76,807.088 2217.43,777.193 2256.09,758.673 2294.76,753.946 \"/>\n",
       "<polyline clip-path=\"url(#clip072)\" style=\"stroke:#3da44d; stroke-linecap:round; stroke-linejoin:round; stroke-width:8; stroke-opacity:1; fill:none\" points=\"361.501,1363.25 400.166,1334.92 438.831,1268.92 477.496,1168.87 516.161,1040.17 554.826,884.048 593.492,720.954 632.157,581.265 670.822,474.97 709.487,410.408 748.152,390.727 786.817,413.998 825.482,474.538 864.148,570.505 902.813,691.685 941.478,813.146 980.143,928.88 1018.81,1026.43 1057.47,1099.56 1096.14,1146.23 1134.8,1165.13 1173.47,1155.83 1212.13,1119.09 1250.8,1057.09 1289.46,973.3 1328.13,872.431 1366.79,762.438 1405.46,664.711 1444.12,586.821 1482.79,535.244 1521.46,513.874 1560.12,522.288 1598.79,558.448 1637.45,620.851 1676.12,704.034 1714.78,786.635 1753.45,865.902 1792.11,934.804 1830.78,986.567 1869.44,1018.71 1908.11,1030.5 1946.77,1021.93 1985.44,993.935 2024.1,948.415 2062.77,888.612 2101.43,819.916 2140.1,748.226 2178.76,682.63 2217.43,632.304 2256.09,601.565 2294.76,592.011 \"/>\n",
       "<path clip-path=\"url(#clip070)\" d=\"M1822.02 299.749 L2284.45 299.749 L2284.45 92.3886 L1822.02 92.3886  Z\" fill=\"#ffffff\" fill-rule=\"evenodd\" fill-opacity=\"1\"/>\n",
       "<polyline clip-path=\"url(#clip070)\" style=\"stroke:#000000; stroke-linecap:round; stroke-linejoin:round; stroke-width:4; stroke-opacity:1; fill:none\" points=\"1822.02,299.749 2284.45,299.749 2284.45,92.3886 1822.02,92.3886 1822.02,299.749 \"/>\n",
       "<polyline clip-path=\"url(#clip070)\" style=\"stroke:#009af9; stroke-linecap:round; stroke-linejoin:round; stroke-width:8; stroke-opacity:1; fill:none\" points=\"1844.79,144.229 1981.41,144.229 \"/>\n",
       "<path clip-path=\"url(#clip070)\" d=\"M2026.42 128.083 L2026.42 132.643 Q2023.76 131.37 2021.4 130.745 Q2019.04 130.12 2016.84 130.12 Q2013.02 130.12 2010.94 131.601 Q2008.88 133.083 2008.88 135.814 Q2008.88 138.106 2010.24 139.287 Q2011.63 140.444 2015.48 141.162 L2018.3 141.74 Q2023.53 142.736 2026.01 145.259 Q2028.51 147.759 2028.51 151.972 Q2028.51 156.995 2025.13 159.587 Q2021.77 162.18 2015.27 162.18 Q2012.81 162.18 2010.04 161.624 Q2007.28 161.069 2004.32 159.981 L2004.32 155.166 Q2007.17 156.763 2009.9 157.573 Q2012.63 158.384 2015.27 158.384 Q2019.27 158.384 2021.45 156.81 Q2023.62 155.236 2023.62 152.319 Q2023.62 149.773 2022.05 148.337 Q2020.5 146.902 2016.93 146.185 L2014.09 145.629 Q2008.86 144.587 2006.52 142.365 Q2004.18 140.143 2004.18 136.185 Q2004.18 131.601 2007.4 128.962 Q2010.64 126.324 2016.31 126.324 Q2018.74 126.324 2021.26 126.763 Q2023.79 127.203 2026.42 128.083 Z\" fill=\"#000000\" fill-rule=\"nonzero\" fill-opacity=\"1\" /><path clip-path=\"url(#clip070)\" d=\"M2035.61 135.583 L2039.87 135.583 L2039.87 161.509 L2035.61 161.509 L2035.61 135.583 M2035.61 125.49 L2039.87 125.49 L2039.87 130.884 L2035.61 130.884 L2035.61 125.49 Z\" fill=\"#000000\" fill-rule=\"nonzero\" fill-opacity=\"1\" /><path clip-path=\"url(#clip070)\" d=\"M2068.97 140.56 Q2070.57 137.689 2072.79 136.324 Q2075.01 134.958 2078.02 134.958 Q2082.07 134.958 2084.27 137.805 Q2086.47 140.629 2086.47 145.861 L2086.47 161.509 L2082.19 161.509 L2082.19 145.999 Q2082.19 142.273 2080.87 140.467 Q2079.55 138.662 2076.84 138.662 Q2073.53 138.662 2071.61 140.861 Q2069.69 143.06 2069.69 146.856 L2069.69 161.509 L2065.41 161.509 L2065.41 145.999 Q2065.41 142.249 2064.09 140.467 Q2062.77 138.662 2060.01 138.662 Q2056.75 138.662 2054.83 140.884 Q2052.91 143.083 2052.91 146.856 L2052.91 161.509 L2048.62 161.509 L2048.62 135.583 L2052.91 135.583 L2052.91 139.611 Q2054.36 137.226 2056.4 136.092 Q2058.44 134.958 2061.24 134.958 Q2064.06 134.958 2066.03 136.393 Q2068.02 137.828 2068.97 140.56 Z\" fill=\"#000000\" fill-rule=\"nonzero\" fill-opacity=\"1\" /><path clip-path=\"url(#clip070)\" d=\"M2099.09 157.62 L2099.09 171.37 L2094.8 171.37 L2094.8 135.583 L2099.09 135.583 L2099.09 139.518 Q2100.43 137.203 2102.47 136.092 Q2104.53 134.958 2107.37 134.958 Q2112.1 134.958 2115.04 138.708 Q2118 142.458 2118 148.569 Q2118 154.68 2115.04 158.43 Q2112.1 162.18 2107.37 162.18 Q2104.53 162.18 2102.47 161.069 Q2100.43 159.935 2099.09 157.62 M2113.58 148.569 Q2113.58 143.87 2111.63 141.208 Q2109.71 138.523 2106.33 138.523 Q2102.95 138.523 2101.01 141.208 Q2099.09 143.87 2099.09 148.569 Q2099.09 153.268 2101.01 155.953 Q2102.95 158.615 2106.33 158.615 Q2109.71 158.615 2111.63 155.953 Q2113.58 153.268 2113.58 148.569 Z\" fill=\"#000000\" fill-rule=\"nonzero\" fill-opacity=\"1\" /><path clip-path=\"url(#clip070)\" d=\"M2125.06 125.49 L2129.32 125.49 L2129.32 161.509 L2125.06 161.509 L2125.06 125.49 Z\" fill=\"#000000\" fill-rule=\"nonzero\" fill-opacity=\"1\" /><path clip-path=\"url(#clip070)\" d=\"M2160.41 147.481 L2160.41 149.564 L2140.82 149.564 Q2141.1 153.962 2143.46 156.277 Q2145.85 158.569 2150.08 158.569 Q2152.54 158.569 2154.83 157.967 Q2157.14 157.365 2159.41 156.161 L2159.41 160.189 Q2157.12 161.161 2154.71 161.671 Q2152.3 162.18 2149.83 162.18 Q2143.62 162.18 2139.99 158.569 Q2136.38 154.958 2136.38 148.8 Q2136.38 142.435 2139.8 138.708 Q2143.25 134.958 2149.09 134.958 Q2154.32 134.958 2157.35 138.337 Q2160.41 141.694 2160.41 147.481 M2156.15 146.231 Q2156.1 142.736 2154.18 140.652 Q2152.28 138.569 2149.13 138.569 Q2145.57 138.569 2143.41 140.583 Q2141.29 142.597 2140.96 146.254 L2156.15 146.231 Z\" fill=\"#000000\" fill-rule=\"nonzero\" fill-opacity=\"1\" /><path clip-path=\"url(#clip070)\" d=\"M2167.58 126.949 L2187.44 126.949 L2187.44 130.884 L2172.26 130.884 L2172.26 141.069 L2185.96 141.069 L2185.96 145.004 L2172.26 145.004 L2172.26 161.509 L2167.58 161.509 L2167.58 126.949 Z\" fill=\"#000000\" fill-rule=\"nonzero\" fill-opacity=\"1\" /><path clip-path=\"url(#clip070)\" d=\"M2194.85 126.949 L2201.82 126.949 L2210.64 150.467 L2219.5 126.949 L2226.47 126.949 L2226.47 161.509 L2221.91 161.509 L2221.91 131.162 L2213 154.865 L2208.3 154.865 L2199.39 131.162 L2199.39 161.509 L2194.85 161.509 L2194.85 126.949 Z\" fill=\"#000000\" fill-rule=\"nonzero\" fill-opacity=\"1\" /><path clip-path=\"url(#clip070)\" d=\"M2235.22 126.949 L2239.92 126.949 L2239.92 147.944 Q2239.92 153.499 2241.93 155.953 Q2243.95 158.384 2248.46 158.384 Q2252.95 158.384 2254.97 155.953 Q2256.98 153.499 2256.98 147.944 L2256.98 126.949 L2261.68 126.949 L2261.68 148.523 Q2261.68 155.282 2258.32 158.731 Q2254.99 162.18 2248.46 162.18 Q2241.91 162.18 2238.55 158.731 Q2235.22 155.282 2235.22 148.523 L2235.22 126.949 Z\" fill=\"#000000\" fill-rule=\"nonzero\" fill-opacity=\"1\" /><polyline clip-path=\"url(#clip070)\" style=\"stroke:#e26f46; stroke-linecap:round; stroke-linejoin:round; stroke-width:8; stroke-opacity:1; fill:none\" points=\"1844.79,196.069 1981.41,196.069 \"/>\n",
       "<path clip-path=\"url(#clip070)\" d=\"M2004.18 178.789 L2024.04 178.789 L2024.04 182.724 L2008.86 182.724 L2008.86 192.909 L2022.56 192.909 L2022.56 196.844 L2008.86 196.844 L2008.86 213.349 L2004.18 213.349 L2004.18 178.789 Z\" fill=\"#000000\" fill-rule=\"nonzero\" fill-opacity=\"1\" /><path clip-path=\"url(#clip070)\" d=\"M2042.84 191.404 Q2042.12 190.988 2041.26 190.802 Q2040.43 190.594 2039.41 190.594 Q2035.8 190.594 2033.86 192.955 Q2031.93 195.293 2031.93 199.691 L2031.93 213.349 L2027.65 213.349 L2027.65 187.423 L2031.93 187.423 L2031.93 191.451 Q2033.28 189.089 2035.43 187.955 Q2037.58 186.798 2040.66 186.798 Q2041.1 186.798 2041.63 186.867 Q2042.17 186.914 2042.81 187.029 L2042.84 191.404 Z\" fill=\"#000000\" fill-rule=\"nonzero\" fill-opacity=\"1\" /><path clip-path=\"url(#clip070)\" d=\"M2047.3 187.423 L2051.56 187.423 L2051.56 213.349 L2047.3 213.349 L2047.3 187.423 M2047.3 177.33 L2051.56 177.33 L2051.56 182.724 L2047.3 182.724 L2047.3 177.33 Z\" fill=\"#000000\" fill-rule=\"nonzero\" fill-opacity=\"1\" /><path clip-path=\"url(#clip070)\" d=\"M2079.13 188.418 L2079.13 192.4 Q2077.33 191.404 2075.5 190.918 Q2073.69 190.409 2071.84 190.409 Q2067.7 190.409 2065.41 193.048 Q2063.11 195.664 2063.11 200.409 Q2063.11 205.154 2065.41 207.793 Q2067.7 210.409 2071.84 210.409 Q2073.69 210.409 2075.5 209.923 Q2077.33 209.413 2079.13 208.418 L2079.13 212.353 Q2077.35 213.187 2075.43 213.603 Q2073.53 214.02 2071.38 214.02 Q2065.52 214.02 2062.07 210.339 Q2058.62 206.659 2058.62 200.409 Q2058.62 194.066 2062.1 190.432 Q2065.59 186.798 2071.66 186.798 Q2073.62 186.798 2075.5 187.215 Q2077.37 187.608 2079.13 188.418 Z\" fill=\"#000000\" fill-rule=\"nonzero\" fill-opacity=\"1\" /><path clip-path=\"url(#clip070)\" d=\"M2086.73 178.789 L2106.59 178.789 L2106.59 182.724 L2091.4 182.724 L2091.4 192.909 L2105.1 192.909 L2105.1 196.844 L2091.4 196.844 L2091.4 213.349 L2086.73 213.349 L2086.73 178.789 Z\" fill=\"#000000\" fill-rule=\"nonzero\" fill-opacity=\"1\" /><path clip-path=\"url(#clip070)\" d=\"M2113.99 178.789 L2120.96 178.789 L2129.78 202.307 L2138.65 178.789 L2145.61 178.789 L2145.61 213.349 L2141.05 213.349 L2141.05 183.002 L2132.14 206.705 L2127.44 206.705 L2118.53 183.002 L2118.53 213.349 L2113.99 213.349 L2113.99 178.789 Z\" fill=\"#000000\" fill-rule=\"nonzero\" fill-opacity=\"1\" /><path clip-path=\"url(#clip070)\" d=\"M2154.36 178.789 L2159.06 178.789 L2159.06 199.784 Q2159.06 205.339 2161.08 207.793 Q2163.09 210.224 2167.6 210.224 Q2172.1 210.224 2174.11 207.793 Q2176.12 205.339 2176.12 199.784 L2176.12 178.789 L2180.82 178.789 L2180.82 200.363 Q2180.82 207.122 2177.47 210.571 Q2174.13 214.02 2167.6 214.02 Q2161.05 214.02 2157.7 210.571 Q2154.36 207.122 2154.36 200.363 L2154.36 178.789 Z\" fill=\"#000000\" fill-rule=\"nonzero\" fill-opacity=\"1\" /><polyline clip-path=\"url(#clip070)\" style=\"stroke:#3da44d; stroke-linecap:round; stroke-linejoin:round; stroke-width:8; stroke-opacity:1; fill:none\" points=\"1844.79,247.909 1981.41,247.909 \"/>\n",
       "<path clip-path=\"url(#clip070)\" d=\"M2004.18 230.629 L2010.48 230.629 L2025.8 259.541 L2025.8 230.629 L2030.34 230.629 L2030.34 265.189 L2024.04 265.189 L2008.72 236.277 L2008.72 265.189 L2004.18 265.189 L2004.18 230.629 Z\" fill=\"#000000\" fill-rule=\"nonzero\" fill-opacity=\"1\" /><path clip-path=\"url(#clip070)\" d=\"M2061.63 251.161 L2061.63 253.244 L2042.05 253.244 Q2042.33 257.642 2044.69 259.957 Q2047.07 262.249 2051.31 262.249 Q2053.76 262.249 2056.05 261.647 Q2058.37 261.045 2060.64 259.841 L2060.64 263.869 Q2058.35 264.841 2055.94 265.351 Q2053.53 265.86 2051.05 265.86 Q2044.85 265.86 2041.22 262.249 Q2037.61 258.638 2037.61 252.48 Q2037.61 246.115 2041.03 242.388 Q2044.48 238.638 2050.31 238.638 Q2055.54 238.638 2058.58 242.017 Q2061.63 245.374 2061.63 251.161 M2057.37 249.911 Q2057.33 246.416 2055.41 244.332 Q2053.51 242.249 2050.36 242.249 Q2046.79 242.249 2044.64 244.263 Q2042.51 246.277 2042.19 249.934 L2057.37 249.911 Z\" fill=\"#000000\" fill-rule=\"nonzero\" fill-opacity=\"1\" /><path clip-path=\"url(#clip070)\" d=\"M2068.18 254.957 L2068.18 239.263 L2072.44 239.263 L2072.44 254.795 Q2072.44 258.476 2073.88 260.328 Q2075.31 262.156 2078.18 262.156 Q2081.63 262.156 2083.62 259.957 Q2085.64 257.758 2085.64 253.962 L2085.64 239.263 L2089.9 239.263 L2089.9 265.189 L2085.64 265.189 L2085.64 261.207 Q2084.09 263.568 2082.03 264.726 Q2079.99 265.86 2077.28 265.86 Q2072.81 265.86 2070.5 263.082 Q2068.18 260.304 2068.18 254.957 M2078.9 238.638 L2078.9 238.638 Z\" fill=\"#000000\" fill-rule=\"nonzero\" fill-opacity=\"1\" /><path clip-path=\"url(#clip070)\" d=\"M2113.69 243.244 Q2112.98 242.828 2112.12 242.642 Q2111.29 242.434 2110.27 242.434 Q2106.66 242.434 2104.71 244.795 Q2102.79 247.133 2102.79 251.531 L2102.79 265.189 L2098.51 265.189 L2098.51 239.263 L2102.79 239.263 L2102.79 243.291 Q2104.13 240.929 2106.29 239.795 Q2108.44 238.638 2111.52 238.638 Q2111.96 238.638 2112.49 238.707 Q2113.02 238.754 2113.67 238.869 L2113.69 243.244 Z\" fill=\"#000000\" fill-rule=\"nonzero\" fill-opacity=\"1\" /><path clip-path=\"url(#clip070)\" d=\"M2129.94 252.156 Q2124.78 252.156 2122.79 253.337 Q2120.8 254.517 2120.8 257.365 Q2120.8 259.633 2122.28 260.976 Q2123.79 262.295 2126.35 262.295 Q2129.9 262.295 2132.03 259.795 Q2134.18 257.272 2134.18 253.105 L2134.18 252.156 L2129.94 252.156 M2138.44 250.397 L2138.44 265.189 L2134.18 265.189 L2134.18 261.253 Q2132.72 263.615 2130.54 264.749 Q2128.37 265.86 2125.22 265.86 Q2121.24 265.86 2118.88 263.638 Q2116.54 261.392 2116.54 257.642 Q2116.54 253.267 2119.46 251.045 Q2122.4 248.823 2128.21 248.823 L2134.18 248.823 L2134.18 248.406 Q2134.18 245.467 2132.23 243.869 Q2130.31 242.249 2126.82 242.249 Q2124.6 242.249 2122.49 242.781 Q2120.38 243.314 2118.44 244.379 L2118.44 240.443 Q2120.78 239.541 2122.98 239.101 Q2125.17 238.638 2127.26 238.638 Q2132.88 238.638 2135.66 241.554 Q2138.44 244.471 2138.44 250.397 Z\" fill=\"#000000\" fill-rule=\"nonzero\" fill-opacity=\"1\" /><path clip-path=\"url(#clip070)\" d=\"M2147.21 229.17 L2151.47 229.17 L2151.47 265.189 L2147.21 265.189 L2147.21 229.17 Z\" fill=\"#000000\" fill-rule=\"nonzero\" fill-opacity=\"1\" /><path clip-path=\"url(#clip070)\" d=\"M2160.57 230.629 L2180.43 230.629 L2180.43 234.564 L2165.24 234.564 L2165.24 244.749 L2178.95 244.749 L2178.95 248.684 L2165.24 248.684 L2165.24 265.189 L2160.57 265.189 L2160.57 230.629 Z\" fill=\"#000000\" fill-rule=\"nonzero\" fill-opacity=\"1\" /><path clip-path=\"url(#clip070)\" d=\"M2187.84 230.629 L2194.8 230.629 L2203.62 254.147 L2212.49 230.629 L2219.46 230.629 L2219.46 265.189 L2214.9 265.189 L2214.9 234.842 L2205.98 258.545 L2201.28 258.545 L2192.37 234.842 L2192.37 265.189 L2187.84 265.189 L2187.84 230.629 Z\" fill=\"#000000\" fill-rule=\"nonzero\" fill-opacity=\"1\" /><path clip-path=\"url(#clip070)\" d=\"M2228.21 230.629 L2232.91 230.629 L2232.91 251.624 Q2232.91 257.179 2234.92 259.633 Q2236.93 262.064 2241.45 262.064 Q2245.94 262.064 2247.95 259.633 Q2249.97 257.179 2249.97 251.624 L2249.97 230.629 L2254.66 230.629 L2254.66 252.203 Q2254.66 258.962 2251.31 262.411 Q2247.97 265.86 2241.45 265.86 Q2234.9 265.86 2231.54 262.411 Q2228.21 258.962 2228.21 252.203 L2228.21 230.629 Z\" fill=\"#000000\" fill-rule=\"nonzero\" fill-opacity=\"1\" /></svg>\n"
      ]
     },
     "execution_count": 20,
     "metadata": {},
     "output_type": "execute_result"
    }
   ],
   "source": [
    "# plot results mass.s\n",
    "plotResults()"
   ]
  },
  {
   "cell_type": "markdown",
   "metadata": {},
   "source": [
    "Finally, the FMU is cleaned-up."
   ]
  },
  {
   "cell_type": "code",
   "execution_count": 21,
   "metadata": {
    "execution": {
     "iopub.execute_input": "2024-04-19T11:44:18.540000Z",
     "iopub.status.busy": "2024-04-19T11:44:18.540000Z",
     "iopub.status.idle": "2024-04-19T11:44:18.587000Z",
     "shell.execute_reply": "2024-04-19T11:44:18.587000Z"
    },
    "scrolled": false
   },
   "outputs": [],
   "source": [
    "fmiUnload(simpleFMU)"
   ]
  },
  {
   "attachments": {},
   "cell_type": "markdown",
   "metadata": {},
   "source": [
    "### Summary\n",
    "\n",
    "Based on the plots, it can be seen that the NeuralFMU is able to adapt the friction model of the *fricFMU*. After 1000 training steps, the curves already overlap quite well, but this can be further improved by longer training or a better initialization."
   ]
  },
  {
   "cell_type": "markdown",
   "metadata": {},
   "source": [
    "### Source\n",
    "\n",
    "[1] Tobias Thummerer, Lars Mikelsons and Josef Kircher. 2021. **NeuralFMU: towards structural integration of FMUs into neural networks.** Martin Sjölund, Lena Buffoni, Adrian Pop and Lennart Ochel (Ed.). Proceedings of 14th Modelica Conference 2021, Linköping, Sweden, September 20-24, 2021. Linköping University Electronic Press, Linköping (Linköping Electronic Conference Proceedings ; 181), 297-306. [DOI: 10.3384/ecp21181297](https://doi.org/10.3384/ecp21181297)\n"
   ]
  }
 ],
 "metadata": {
  "interpreter": {
   "hash": "037537ff7419c497b9325f7d495147943224d408cf5d5ed915294a5b960167b0"
  },
  "jupytext": {
   "cell_metadata_filter": "-all",
   "comment_magics": "false",
   "notebook_metadata_filter": "-all"
  },
  "kernelspec": {
   "display_name": "Julia 1.8.5",
   "language": "julia",
   "name": "julia-1.8"
  },
  "language_info": {
   "file_extension": ".jl",
   "mimetype": "application/julia",
   "name": "julia",
   "version": "1.8.5"
  }
 },
 "nbformat": 4,
 "nbformat_minor": 2
}
